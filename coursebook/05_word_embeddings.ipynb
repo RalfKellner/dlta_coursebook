{
 "cells": [
  {
   "cell_type": "markdown",
   "metadata": {},
   "source": [
    "# Word embeddings with Word2Vec\n",
    "\n",
    "Frequency as well as dictionary based approaches from the previous chapters ignore semantic relationships between the words in the document. Just recording word frequencies will not allow us to understand the context of textual information. In addition, we also mentioned that these models may also be negatively impacted by numerical issues arising from high dimensionality and sparsity of word vectors.\n",
    "\n",
    "Due to these limitations we are going to take a look at statistical language models which aim to learn embeddings for words and documents that capture semantic meaning. An embedding is a collection of numerical values that represent a word or document, i.e., usually a real-valued vector. The useful characteristic of these models is that words or documents with similar semantic meaning will have a similar numerical representation. If you hear about this concept for the first time, you may wonder why one should represent words by vectors and how it makes sense that words with similar meaning have similar vectors. Thus, let us take a look at a meaningful example. The scatter plot below visualizes different dog breeds w.r.t. their weight and size. Assuming, we only use these two metrics to characterize different dog breeds, the breed \"Airedale Terrier\" is represented by the vector \n",
    "\n",
    "$$\n",
    "\\boldsymbol{x}^{(\\text{Airedale})} = \n",
    "\\begin{pmatrix}\n",
    "22.5 \\\\\n",
    "58.5 \\\\\n",
    "\\end{pmatrix}\n",
    "$$\n",
    "\n",
    "so this is how you may picture how a word is transformed into a vector. Furthermore, if you scroll over the points in the scatter plot, you may observe that breeds with similar characteristics have similar vectors (vectors that are close to each other), so this is how you may picture how words with similar meaning may have similar vectors. Furhtermore, by transforming dog breeds into vectors, we could use vector calculus to derive new insights. For instance, we can calculate the average vector of certain dog breeds to determine a representative embedding for this group of breeds. "
   ]
  },
  {
   "cell_type": "code",
   "execution_count": 1,
   "metadata": {},
   "outputs": [
    {
     "data": {
      "text/html": [
       "<div>\n",
       "<style scoped>\n",
       "    .dataframe tbody tr th:only-of-type {\n",
       "        vertical-align: middle;\n",
       "    }\n",
       "\n",
       "    .dataframe tbody tr th {\n",
       "        vertical-align: top;\n",
       "    }\n",
       "\n",
       "    .dataframe thead th {\n",
       "        text-align: right;\n",
       "    }\n",
       "</style>\n",
       "<table border=\"1\" class=\"dataframe\">\n",
       "  <thead>\n",
       "    <tr style=\"text-align: right;\">\n",
       "      <th></th>\n",
       "      <th>weight</th>\n",
       "      <th>size</th>\n",
       "    </tr>\n",
       "    <tr>\n",
       "      <th>breed</th>\n",
       "      <th></th>\n",
       "      <th></th>\n",
       "    </tr>\n",
       "  </thead>\n",
       "  <tbody>\n",
       "    <tr>\n",
       "      <th>Afghan hound</th>\n",
       "      <td>25.0</td>\n",
       "      <td>68.5</td>\n",
       "    </tr>\n",
       "    <tr>\n",
       "      <th>Airedale Terrier</th>\n",
       "      <td>22.5</td>\n",
       "      <td>58.5</td>\n",
       "    </tr>\n",
       "    <tr>\n",
       "      <th>American Staffordshire Terrier</th>\n",
       "      <td>16.0</td>\n",
       "      <td>45.5</td>\n",
       "    </tr>\n",
       "    <tr>\n",
       "      <th>Australian Shepherd</th>\n",
       "      <td>24.0</td>\n",
       "      <td>52.0</td>\n",
       "    </tr>\n",
       "    <tr>\n",
       "      <th>Borzoi</th>\n",
       "      <td>36.0</td>\n",
       "      <td>76.5</td>\n",
       "    </tr>\n",
       "  </tbody>\n",
       "</table>\n",
       "</div>"
      ],
      "text/plain": [
       "                                weight  size\n",
       "breed                                       \n",
       "Afghan hound                      25.0  68.5\n",
       "Airedale Terrier                  22.5  58.5\n",
       "American Staffordshire Terrier    16.0  45.5\n",
       "Australian Shepherd               24.0  52.0\n",
       "Borzoi                            36.0  76.5"
      ]
     },
     "execution_count": 1,
     "metadata": {},
     "output_type": "execute_result"
    }
   ],
   "source": [
    "import numpy as np\n",
    "import pandas as pd\n",
    "import plotly.express as px\n",
    "\n",
    "# https://tarigs.com/size-table-dog/\n",
    "dog_breeds_2d = pd.read_csv(\"../data/dog_breeds.csv\")\n",
    "dog_breeds_2d.set_index(\"breed\", inplace = True, drop = True)\n",
    "dog_breeds_2d.dropna(inplace = True)\n",
    "dog_breeds_2d.head()"
   ]
  },
  {
   "cell_type": "code",
   "execution_count": 2,
   "metadata": {},
   "outputs": [
    {
     "data": {
      "application/vnd.plotly.v1+json": {
       "config": {
        "plotlyServerURL": "https://plot.ly"
       },
       "data": [
        {
         "hovertemplate": "<b>%{hovertext}</b><br><br>weight=%{x}<br>size=%{y}<extra></extra>",
         "hovertext": [
          "Afghan hound",
          "Airedale Terrier",
          "American Staffordshire Terrier",
          "Australian Shepherd",
          "Borzoi",
          "Basset",
          "Beagle",
          "Bearded Collie",
          "Berger de Brie (Briard)",
          "Saint Bernard",
          "Bobtail",
          "Border Collie",
          "Boxer",
          "Bull terrier",
          "Chow-Chow",
          "Collie",
          "Dalmatian",
          "Great Dane",
          "German shepherd dog",
          "Doberman pinscher",
          "French bulldog",
          "Golden Retriever",
          "Greyhound",
          "Havanese",
          "Hovawart",
          "Irish Red Setter",
          "Leonberger",
          "Lhasa Apso",
          "Maltese",
          "Pug",
          "Small Münsterländer",
          "Large Münsterländer",
          "Newfoundland",
          "Parson Russel Terrier",
          "Rhodesian Ridgeback",
          "Rottweiler",
          "Standard Schnauzers",
          "Shih Tzu",
          "Siberian Husky",
          "Sheltie (Shetland Sheepdog)",
          "Staffordshire Bullterrier",
          "Keeshond",
          "Miniature Pinscher",
          "Toy poodle",
          "Miniature Schnauzer"
         ],
         "legendgroup": "",
         "marker": {
          "color": "#636efa",
          "symbol": "circle"
         },
         "mode": "markers",
         "name": "",
         "orientation": "v",
         "showlegend": false,
         "type": "scatter",
         "x": [
          25,
          22.5,
          16,
          24,
          36,
          24,
          14,
          24,
          25,
          77.5,
          32.5,
          16,
          27.5,
          25,
          24,
          24,
          28,
          67.5,
          35,
          36,
          11,
          32,
          39.5,
          5.5,
          32.5,
          27.5,
          60,
          6,
          3.5,
          7.5,
          22.5,
          27,
          57.5,
          7,
          39.5,
          50,
          16,
          6.5,
          22,
          9,
          14,
          23,
          6.5,
          5,
          6.5
         ],
         "xaxis": "x",
         "y": [
          68.5,
          58.5,
          45.5,
          52,
          76.5,
          33,
          37,
          53.5,
          62,
          75,
          60,
          51,
          58,
          47.5,
          47.5,
          56,
          57,
          76,
          60,
          66.5,
          29.5,
          56,
          73.5,
          25,
          64,
          64.5,
          72.5,
          26,
          22.5,
          27.5,
          55,
          61.5,
          68.5,
          35,
          65,
          61.5,
          47.5,
          26,
          55.5,
          37,
          35,
          50,
          31.5,
          31.5,
          32.5
         ],
         "yaxis": "y"
        }
       ],
       "layout": {
        "height": 600,
        "legend": {
         "tracegroupgap": 0
        },
        "template": {
         "data": {
          "bar": [
           {
            "error_x": {
             "color": "#2a3f5f"
            },
            "error_y": {
             "color": "#2a3f5f"
            },
            "marker": {
             "line": {
              "color": "#E5ECF6",
              "width": 0.5
             },
             "pattern": {
              "fillmode": "overlay",
              "size": 10,
              "solidity": 0.2
             }
            },
            "type": "bar"
           }
          ],
          "barpolar": [
           {
            "marker": {
             "line": {
              "color": "#E5ECF6",
              "width": 0.5
             },
             "pattern": {
              "fillmode": "overlay",
              "size": 10,
              "solidity": 0.2
             }
            },
            "type": "barpolar"
           }
          ],
          "carpet": [
           {
            "aaxis": {
             "endlinecolor": "#2a3f5f",
             "gridcolor": "white",
             "linecolor": "white",
             "minorgridcolor": "white",
             "startlinecolor": "#2a3f5f"
            },
            "baxis": {
             "endlinecolor": "#2a3f5f",
             "gridcolor": "white",
             "linecolor": "white",
             "minorgridcolor": "white",
             "startlinecolor": "#2a3f5f"
            },
            "type": "carpet"
           }
          ],
          "choropleth": [
           {
            "colorbar": {
             "outlinewidth": 0,
             "ticks": ""
            },
            "type": "choropleth"
           }
          ],
          "contour": [
           {
            "colorbar": {
             "outlinewidth": 0,
             "ticks": ""
            },
            "colorscale": [
             [
              0,
              "#0d0887"
             ],
             [
              0.1111111111111111,
              "#46039f"
             ],
             [
              0.2222222222222222,
              "#7201a8"
             ],
             [
              0.3333333333333333,
              "#9c179e"
             ],
             [
              0.4444444444444444,
              "#bd3786"
             ],
             [
              0.5555555555555556,
              "#d8576b"
             ],
             [
              0.6666666666666666,
              "#ed7953"
             ],
             [
              0.7777777777777778,
              "#fb9f3a"
             ],
             [
              0.8888888888888888,
              "#fdca26"
             ],
             [
              1,
              "#f0f921"
             ]
            ],
            "type": "contour"
           }
          ],
          "contourcarpet": [
           {
            "colorbar": {
             "outlinewidth": 0,
             "ticks": ""
            },
            "type": "contourcarpet"
           }
          ],
          "heatmap": [
           {
            "colorbar": {
             "outlinewidth": 0,
             "ticks": ""
            },
            "colorscale": [
             [
              0,
              "#0d0887"
             ],
             [
              0.1111111111111111,
              "#46039f"
             ],
             [
              0.2222222222222222,
              "#7201a8"
             ],
             [
              0.3333333333333333,
              "#9c179e"
             ],
             [
              0.4444444444444444,
              "#bd3786"
             ],
             [
              0.5555555555555556,
              "#d8576b"
             ],
             [
              0.6666666666666666,
              "#ed7953"
             ],
             [
              0.7777777777777778,
              "#fb9f3a"
             ],
             [
              0.8888888888888888,
              "#fdca26"
             ],
             [
              1,
              "#f0f921"
             ]
            ],
            "type": "heatmap"
           }
          ],
          "heatmapgl": [
           {
            "colorbar": {
             "outlinewidth": 0,
             "ticks": ""
            },
            "colorscale": [
             [
              0,
              "#0d0887"
             ],
             [
              0.1111111111111111,
              "#46039f"
             ],
             [
              0.2222222222222222,
              "#7201a8"
             ],
             [
              0.3333333333333333,
              "#9c179e"
             ],
             [
              0.4444444444444444,
              "#bd3786"
             ],
             [
              0.5555555555555556,
              "#d8576b"
             ],
             [
              0.6666666666666666,
              "#ed7953"
             ],
             [
              0.7777777777777778,
              "#fb9f3a"
             ],
             [
              0.8888888888888888,
              "#fdca26"
             ],
             [
              1,
              "#f0f921"
             ]
            ],
            "type": "heatmapgl"
           }
          ],
          "histogram": [
           {
            "marker": {
             "pattern": {
              "fillmode": "overlay",
              "size": 10,
              "solidity": 0.2
             }
            },
            "type": "histogram"
           }
          ],
          "histogram2d": [
           {
            "colorbar": {
             "outlinewidth": 0,
             "ticks": ""
            },
            "colorscale": [
             [
              0,
              "#0d0887"
             ],
             [
              0.1111111111111111,
              "#46039f"
             ],
             [
              0.2222222222222222,
              "#7201a8"
             ],
             [
              0.3333333333333333,
              "#9c179e"
             ],
             [
              0.4444444444444444,
              "#bd3786"
             ],
             [
              0.5555555555555556,
              "#d8576b"
             ],
             [
              0.6666666666666666,
              "#ed7953"
             ],
             [
              0.7777777777777778,
              "#fb9f3a"
             ],
             [
              0.8888888888888888,
              "#fdca26"
             ],
             [
              1,
              "#f0f921"
             ]
            ],
            "type": "histogram2d"
           }
          ],
          "histogram2dcontour": [
           {
            "colorbar": {
             "outlinewidth": 0,
             "ticks": ""
            },
            "colorscale": [
             [
              0,
              "#0d0887"
             ],
             [
              0.1111111111111111,
              "#46039f"
             ],
             [
              0.2222222222222222,
              "#7201a8"
             ],
             [
              0.3333333333333333,
              "#9c179e"
             ],
             [
              0.4444444444444444,
              "#bd3786"
             ],
             [
              0.5555555555555556,
              "#d8576b"
             ],
             [
              0.6666666666666666,
              "#ed7953"
             ],
             [
              0.7777777777777778,
              "#fb9f3a"
             ],
             [
              0.8888888888888888,
              "#fdca26"
             ],
             [
              1,
              "#f0f921"
             ]
            ],
            "type": "histogram2dcontour"
           }
          ],
          "mesh3d": [
           {
            "colorbar": {
             "outlinewidth": 0,
             "ticks": ""
            },
            "type": "mesh3d"
           }
          ],
          "parcoords": [
           {
            "line": {
             "colorbar": {
              "outlinewidth": 0,
              "ticks": ""
             }
            },
            "type": "parcoords"
           }
          ],
          "pie": [
           {
            "automargin": true,
            "type": "pie"
           }
          ],
          "scatter": [
           {
            "fillpattern": {
             "fillmode": "overlay",
             "size": 10,
             "solidity": 0.2
            },
            "type": "scatter"
           }
          ],
          "scatter3d": [
           {
            "line": {
             "colorbar": {
              "outlinewidth": 0,
              "ticks": ""
             }
            },
            "marker": {
             "colorbar": {
              "outlinewidth": 0,
              "ticks": ""
             }
            },
            "type": "scatter3d"
           }
          ],
          "scattercarpet": [
           {
            "marker": {
             "colorbar": {
              "outlinewidth": 0,
              "ticks": ""
             }
            },
            "type": "scattercarpet"
           }
          ],
          "scattergeo": [
           {
            "marker": {
             "colorbar": {
              "outlinewidth": 0,
              "ticks": ""
             }
            },
            "type": "scattergeo"
           }
          ],
          "scattergl": [
           {
            "marker": {
             "colorbar": {
              "outlinewidth": 0,
              "ticks": ""
             }
            },
            "type": "scattergl"
           }
          ],
          "scattermapbox": [
           {
            "marker": {
             "colorbar": {
              "outlinewidth": 0,
              "ticks": ""
             }
            },
            "type": "scattermapbox"
           }
          ],
          "scatterpolar": [
           {
            "marker": {
             "colorbar": {
              "outlinewidth": 0,
              "ticks": ""
             }
            },
            "type": "scatterpolar"
           }
          ],
          "scatterpolargl": [
           {
            "marker": {
             "colorbar": {
              "outlinewidth": 0,
              "ticks": ""
             }
            },
            "type": "scatterpolargl"
           }
          ],
          "scatterternary": [
           {
            "marker": {
             "colorbar": {
              "outlinewidth": 0,
              "ticks": ""
             }
            },
            "type": "scatterternary"
           }
          ],
          "surface": [
           {
            "colorbar": {
             "outlinewidth": 0,
             "ticks": ""
            },
            "colorscale": [
             [
              0,
              "#0d0887"
             ],
             [
              0.1111111111111111,
              "#46039f"
             ],
             [
              0.2222222222222222,
              "#7201a8"
             ],
             [
              0.3333333333333333,
              "#9c179e"
             ],
             [
              0.4444444444444444,
              "#bd3786"
             ],
             [
              0.5555555555555556,
              "#d8576b"
             ],
             [
              0.6666666666666666,
              "#ed7953"
             ],
             [
              0.7777777777777778,
              "#fb9f3a"
             ],
             [
              0.8888888888888888,
              "#fdca26"
             ],
             [
              1,
              "#f0f921"
             ]
            ],
            "type": "surface"
           }
          ],
          "table": [
           {
            "cells": {
             "fill": {
              "color": "#EBF0F8"
             },
             "line": {
              "color": "white"
             }
            },
            "header": {
             "fill": {
              "color": "#C8D4E3"
             },
             "line": {
              "color": "white"
             }
            },
            "type": "table"
           }
          ]
         },
         "layout": {
          "annotationdefaults": {
           "arrowcolor": "#2a3f5f",
           "arrowhead": 0,
           "arrowwidth": 1
          },
          "autotypenumbers": "strict",
          "coloraxis": {
           "colorbar": {
            "outlinewidth": 0,
            "ticks": ""
           }
          },
          "colorscale": {
           "diverging": [
            [
             0,
             "#8e0152"
            ],
            [
             0.1,
             "#c51b7d"
            ],
            [
             0.2,
             "#de77ae"
            ],
            [
             0.3,
             "#f1b6da"
            ],
            [
             0.4,
             "#fde0ef"
            ],
            [
             0.5,
             "#f7f7f7"
            ],
            [
             0.6,
             "#e6f5d0"
            ],
            [
             0.7,
             "#b8e186"
            ],
            [
             0.8,
             "#7fbc41"
            ],
            [
             0.9,
             "#4d9221"
            ],
            [
             1,
             "#276419"
            ]
           ],
           "sequential": [
            [
             0,
             "#0d0887"
            ],
            [
             0.1111111111111111,
             "#46039f"
            ],
            [
             0.2222222222222222,
             "#7201a8"
            ],
            [
             0.3333333333333333,
             "#9c179e"
            ],
            [
             0.4444444444444444,
             "#bd3786"
            ],
            [
             0.5555555555555556,
             "#d8576b"
            ],
            [
             0.6666666666666666,
             "#ed7953"
            ],
            [
             0.7777777777777778,
             "#fb9f3a"
            ],
            [
             0.8888888888888888,
             "#fdca26"
            ],
            [
             1,
             "#f0f921"
            ]
           ],
           "sequentialminus": [
            [
             0,
             "#0d0887"
            ],
            [
             0.1111111111111111,
             "#46039f"
            ],
            [
             0.2222222222222222,
             "#7201a8"
            ],
            [
             0.3333333333333333,
             "#9c179e"
            ],
            [
             0.4444444444444444,
             "#bd3786"
            ],
            [
             0.5555555555555556,
             "#d8576b"
            ],
            [
             0.6666666666666666,
             "#ed7953"
            ],
            [
             0.7777777777777778,
             "#fb9f3a"
            ],
            [
             0.8888888888888888,
             "#fdca26"
            ],
            [
             1,
             "#f0f921"
            ]
           ]
          },
          "colorway": [
           "#636efa",
           "#EF553B",
           "#00cc96",
           "#ab63fa",
           "#FFA15A",
           "#19d3f3",
           "#FF6692",
           "#B6E880",
           "#FF97FF",
           "#FECB52"
          ],
          "font": {
           "color": "#2a3f5f"
          },
          "geo": {
           "bgcolor": "white",
           "lakecolor": "white",
           "landcolor": "#E5ECF6",
           "showlakes": true,
           "showland": true,
           "subunitcolor": "white"
          },
          "hoverlabel": {
           "align": "left"
          },
          "hovermode": "closest",
          "mapbox": {
           "style": "light"
          },
          "paper_bgcolor": "white",
          "plot_bgcolor": "#E5ECF6",
          "polar": {
           "angularaxis": {
            "gridcolor": "white",
            "linecolor": "white",
            "ticks": ""
           },
           "bgcolor": "#E5ECF6",
           "radialaxis": {
            "gridcolor": "white",
            "linecolor": "white",
            "ticks": ""
           }
          },
          "scene": {
           "xaxis": {
            "backgroundcolor": "#E5ECF6",
            "gridcolor": "white",
            "gridwidth": 2,
            "linecolor": "white",
            "showbackground": true,
            "ticks": "",
            "zerolinecolor": "white"
           },
           "yaxis": {
            "backgroundcolor": "#E5ECF6",
            "gridcolor": "white",
            "gridwidth": 2,
            "linecolor": "white",
            "showbackground": true,
            "ticks": "",
            "zerolinecolor": "white"
           },
           "zaxis": {
            "backgroundcolor": "#E5ECF6",
            "gridcolor": "white",
            "gridwidth": 2,
            "linecolor": "white",
            "showbackground": true,
            "ticks": "",
            "zerolinecolor": "white"
           }
          },
          "shapedefaults": {
           "line": {
            "color": "#2a3f5f"
           }
          },
          "ternary": {
           "aaxis": {
            "gridcolor": "white",
            "linecolor": "white",
            "ticks": ""
           },
           "baxis": {
            "gridcolor": "white",
            "linecolor": "white",
            "ticks": ""
           },
           "bgcolor": "#E5ECF6",
           "caxis": {
            "gridcolor": "white",
            "linecolor": "white",
            "ticks": ""
           }
          },
          "title": {
           "x": 0.05
          },
          "xaxis": {
           "automargin": true,
           "gridcolor": "white",
           "linecolor": "white",
           "ticks": "",
           "title": {
            "standoff": 15
           },
           "zerolinecolor": "white",
           "zerolinewidth": 2
          },
          "yaxis": {
           "automargin": true,
           "gridcolor": "white",
           "linecolor": "white",
           "ticks": "",
           "title": {
            "standoff": 15
           },
           "zerolinecolor": "white",
           "zerolinewidth": 2
          }
         }
        },
        "title": {
         "text": "Dog breed vectorization"
        },
        "width": 800,
        "xaxis": {
         "anchor": "y",
         "domain": [
          0,
          1
         ],
         "title": {
          "text": "weight"
         }
        },
        "yaxis": {
         "anchor": "x",
         "domain": [
          0,
          1
         ],
         "title": {
          "text": "size"
         }
        }
       }
      }
     },
     "metadata": {},
     "output_type": "display_data"
    }
   ],
   "source": [
    "# hover over each point to examine the dog breed\n",
    "fig = px.scatter(dog_breeds_2d, x = \"weight\", y = \"size\", hover_name = dog_breeds_2d.index, width = 800, height = 600, title = \"Dog breed vectorization\")\n",
    "fig.show()"
   ]
  },
  {
   "cell_type": "code",
   "execution_count": 3,
   "metadata": {},
   "outputs": [
    {
     "data": {
      "text/html": [
       "<div>\n",
       "<style scoped>\n",
       "    .dataframe tbody tr th:only-of-type {\n",
       "        vertical-align: middle;\n",
       "    }\n",
       "\n",
       "    .dataframe tbody tr th {\n",
       "        vertical-align: top;\n",
       "    }\n",
       "\n",
       "    .dataframe thead th {\n",
       "        text-align: right;\n",
       "    }\n",
       "</style>\n",
       "<table border=\"1\" class=\"dataframe\">\n",
       "  <thead>\n",
       "    <tr style=\"text-align: right;\">\n",
       "      <th>breed</th>\n",
       "      <th>Afghan hound</th>\n",
       "      <th>Airedale Terrier</th>\n",
       "      <th>American Staffordshire Terrier</th>\n",
       "      <th>Australian Shepherd</th>\n",
       "      <th>Borzoi</th>\n",
       "    </tr>\n",
       "    <tr>\n",
       "      <th>breed</th>\n",
       "      <th></th>\n",
       "      <th></th>\n",
       "      <th></th>\n",
       "      <th></th>\n",
       "      <th></th>\n",
       "    </tr>\n",
       "  </thead>\n",
       "  <tbody>\n",
       "    <tr>\n",
       "      <th>Afghan hound</th>\n",
       "      <td>0.000000</td>\n",
       "      <td>10.307764</td>\n",
       "      <td>24.698178</td>\n",
       "      <td>16.530275</td>\n",
       "      <td>13.601471</td>\n",
       "    </tr>\n",
       "    <tr>\n",
       "      <th>Airedale Terrier</th>\n",
       "      <td>10.307764</td>\n",
       "      <td>0.000000</td>\n",
       "      <td>14.534442</td>\n",
       "      <td>6.670832</td>\n",
       "      <td>22.500000</td>\n",
       "    </tr>\n",
       "    <tr>\n",
       "      <th>American Staffordshire Terrier</th>\n",
       "      <td>24.698178</td>\n",
       "      <td>14.534442</td>\n",
       "      <td>0.000000</td>\n",
       "      <td>10.307764</td>\n",
       "      <td>36.891733</td>\n",
       "    </tr>\n",
       "    <tr>\n",
       "      <th>Australian Shepherd</th>\n",
       "      <td>16.530275</td>\n",
       "      <td>6.670832</td>\n",
       "      <td>10.307764</td>\n",
       "      <td>0.000000</td>\n",
       "      <td>27.280946</td>\n",
       "    </tr>\n",
       "    <tr>\n",
       "      <th>Borzoi</th>\n",
       "      <td>13.601471</td>\n",
       "      <td>22.500000</td>\n",
       "      <td>36.891733</td>\n",
       "      <td>27.280946</td>\n",
       "      <td>0.000000</td>\n",
       "    </tr>\n",
       "  </tbody>\n",
       "</table>\n",
       "</div>"
      ],
      "text/plain": [
       "breed                           Afghan hound  Airedale Terrier  \\\n",
       "breed                                                            \n",
       "Afghan hound                        0.000000         10.307764   \n",
       "Airedale Terrier                   10.307764          0.000000   \n",
       "American Staffordshire Terrier     24.698178         14.534442   \n",
       "Australian Shepherd                16.530275          6.670832   \n",
       "Borzoi                             13.601471         22.500000   \n",
       "\n",
       "breed                           American Staffordshire Terrier  \\\n",
       "breed                                                            \n",
       "Afghan hound                                         24.698178   \n",
       "Airedale Terrier                                     14.534442   \n",
       "American Staffordshire Terrier                        0.000000   \n",
       "Australian Shepherd                                  10.307764   \n",
       "Borzoi                                               36.891733   \n",
       "\n",
       "breed                           Australian Shepherd     Borzoi  \n",
       "breed                                                           \n",
       "Afghan hound                              16.530275  13.601471  \n",
       "Airedale Terrier                           6.670832  22.500000  \n",
       "American Staffordshire Terrier            10.307764  36.891733  \n",
       "Australian Shepherd                        0.000000  27.280946  \n",
       "Borzoi                                    27.280946   0.000000  "
      ]
     },
     "execution_count": 3,
     "metadata": {},
     "output_type": "execute_result"
    }
   ],
   "source": [
    "from sklearn.metrics.pairwise import euclidean_distances\n",
    "\n",
    "# determine all pairwise euclidean distances\n",
    "pairwise_distances = pd.DataFrame(euclidean_distances(dog_breeds_2d), index = dog_breeds_2d.index, columns = dog_breeds_2d.index)\n",
    "pairwise_distances.iloc[:5, :5]"
   ]
  },
  {
   "cell_type": "code",
   "execution_count": 4,
   "metadata": {},
   "outputs": [
    {
     "data": {
      "text/plain": [
       "'Standard Schnauzers'"
      ]
     },
     "execution_count": 4,
     "metadata": {},
     "output_type": "execute_result"
    }
   ],
   "source": [
    "# for instance, which is the most similar breed to the American Staffordshire Terrier if we identify it the closest euclidean distance\n",
    "breed_name = \"American Staffordshire Terrier\"\n",
    "pairwise_distances.columns[np.argsort(pairwise_distances.loc[breed_name].values)[1]]"
   ]
  },
  {
   "cell_type": "code",
   "execution_count": 5,
   "metadata": {},
   "outputs": [
    {
     "data": {
      "text/plain": [
       "'American Staffordshire Terrier'"
      ]
     },
     "execution_count": 5,
     "metadata": {},
     "output_type": "execute_result"
    }
   ],
   "source": [
    "# we can determine the average of two breed vectors and look for the most similar dog breed to this vector\n",
    "bullterier_vector = (dog_breeds_2d.loc[\"Staffordshire Bullterrier\"] + dog_breeds_2d.loc[\"Bull terrier\"]).divide(2)\n",
    "pairwise_distances.columns[np.argsort(euclidean_distances(bullterier_vector.values.reshape(1, -1), dog_breeds_2d.values))[0][0]]"
   ]
  },
  {
   "cell_type": "markdown",
   "metadata": {},
   "source": [
    "This example is only meant to give you an idea that vector representations of words may not be as abstract is it may sound in the first place. However, if we want to extend this idea to a more general scenario, we are going to make use of other numbers than attributes of the word. In our example this has been the size and the weight of a dog breed, obviously, not every word is associated with object that have meaningful size and weight characteristics, e.g., the word elegant. Furthermore, we may need more than just two numbers to capture semantic meaning. "
   ]
  },
  {
   "cell_type": "markdown",
   "metadata": {},
   "source": [
    "## Word2Vec\n",
    "\n",
    "A popular model which is build upon a neural network architecture is called Word2Vec and has been presented by [Mikolov et al. (2013)](https://arxiv.org/abs/1301.3781) and [Mikolov et al. (2013)](https://arxiv.org/abs/1310.4546). The model represents every word by a $p$-dimensional vector. In comparison to our example, each real-valued number in a word vector does not have a specific meaning. However, after the model is trained, the vectors will be similar to each other if the words have similar meaning. Two versions of the Word2Vec model exist: (1) the continuous bag of words approach (CBOW), and, (2) the skip-gram (SG) model. For both approaches, we take a look at the context around a center word. Let us denote $w_j$ as the center word. Context is defined by the window size whose length $2 \\cdot t$ needs to be chosen by the user. The context words are $t$ words to the left and $t$ words to the right of the context word: $w_{j-t}, w_{j-t+1}, ..., w_{j-1}, w_{j+1}, w_{j + t -1}, w_{j + t}$. For instance, given the sentence, \"the dog would like a piece of the sandwich\", setting the center word \"like\" and a window size of $4$, the context words are: \"dog, would, a, piece\". The CBOW model tries to predict the center word by the context words, the SG model tries to predict context words, given the center word. \n",
    "\n",
    "The easiest way to understand the model is to take a look at a minimal example. So, let's go: First, everything starts with a corpus. Ours consists of three sentences:\n"
   ]
  },
  {
   "cell_type": "code",
   "execution_count": 6,
   "metadata": {},
   "outputs": [
    {
     "data": {
      "text/plain": [
       "[['the', 'dog', 'would', 'like', 'a', 'piece', 'of', 'the', 'sandwich'],\n",
       " ['i', 'like', 'to', 'eat', 'ice', 'cream'],\n",
       " ['a', 'dog', 'is', 'a', 'good', 'friend']]"
      ]
     },
     "execution_count": 6,
     "metadata": {},
     "output_type": "execute_result"
    }
   ],
   "source": [
    "from gensim.utils import simple_preprocess\n",
    "\n",
    "raw_corpus = [\n",
    "    \"The dog would like a piece of the sandwich\",\n",
    "    \"I like to eat ice-cream\",\n",
    "    \"A dog is a good friend\"\n",
    "]\n",
    "\n",
    "corpus = [simple_preprocess(doc, min_len = 1) for doc in raw_corpus]\n",
    "corpus"
   ]
  },
  {
   "cell_type": "markdown",
   "metadata": {},
   "source": [
    "Next, we build a vocabulary in which each word is mapped to an index."
   ]
  },
  {
   "cell_type": "code",
   "execution_count": 7,
   "metadata": {},
   "outputs": [
    {
     "data": {
      "text/plain": [
       "{'the': 0,\n",
       " 'dog': 1,\n",
       " 'would': 2,\n",
       " 'like': 3,\n",
       " 'a': 4,\n",
       " 'piece': 5,\n",
       " 'of': 6,\n",
       " 'sandwich': 7,\n",
       " 'i': 8,\n",
       " 'to': 9,\n",
       " 'eat': 10,\n",
       " 'ice': 11,\n",
       " 'cream': 12,\n",
       " 'is': 13,\n",
       " 'good': 14,\n",
       " 'friend': 15}"
      ]
     },
     "execution_count": 7,
     "metadata": {},
     "output_type": "execute_result"
    }
   ],
   "source": [
    "word2index = dict()\n",
    "idx = 0\n",
    "for doc in corpus:\n",
    "    for word in doc:\n",
    "        if word in word2index.keys():\n",
    "            continue\n",
    "        else:\n",
    "            word2index[word] = idx\n",
    "            idx += 1\n",
    "\n",
    "word2index"
   ]
  },
  {
   "cell_type": "markdown",
   "metadata": {},
   "source": [
    "### CBOW\n",
    "\n",
    "The CBOW model is build upon a multi-class classification task. One predicts the probabilities for the center word, given the context: $P \\left( w_i | w_{i-t}, w_{i-t+1}, ..., w_{i-1}, w_{i+1}, w_{i + t -1}, w_{i + t} \\right) $. Let us denote $\\boldsymbol{x}_{j}$ as the one-hot encoded vector for word $j$ where $j$ is the number of the index in the dictionary. The number of categories is equal to the number of words, e.g., $d = 16$. To generate probability predictions, we make use of two matrices $\\boldsymbol{W}, \\boldsymbol{V}$ whose elements are parameters which need to be trained. We start with a sequence of context words and their one-hot encoded vectors, e.g., \"the\", \"would\" is represented by $\\boldsymbol{x}_{0}, \\boldsymbol{x}_{2}$ which can be subsumed in a matrix:\n",
    "\n",
    "$$\\boldsymbol{C}^{(0, 2)} = \\begin{pmatrix} \\boldsymbol{x}_{0} \\\\ \\boldsymbol{x}_{2} \\end{pmatrix}$$\n",
    "\n",
    "See in the cell below how this looks like for our example:"
   ]
  },
  {
   "cell_type": "code",
   "execution_count": 8,
   "metadata": {},
   "outputs": [
    {
     "data": {
      "text/plain": [
       "tensor([[1, 0, 0, 0, 0, 0, 0, 0, 0, 0, 0, 0, 0, 0, 0, 0],\n",
       "        [0, 0, 1, 0, 0, 0, 0, 0, 0, 0, 0, 0, 0, 0, 0, 0]])"
      ]
     },
     "execution_count": 8,
     "metadata": {},
     "output_type": "execute_result"
    }
   ],
   "source": [
    "from torch.nn.functional import one_hot\n",
    "import torch\n",
    "\n",
    "# define the number of terms in the lexicon\n",
    "d = len(word2index.keys())\n",
    "\n",
    "C_02 = one_hot(torch.LongTensor([0, 2]), num_classes=d)\n",
    "C_02"
   ]
  },
  {
   "cell_type": "markdown",
   "metadata": {},
   "source": [
    "Next, we multiply this matrix with the context word embedding matrix $\\boldsymbol{W}$, its first dimension must be equal to $d$, its second dimension $p$ can be set by the user and will define the dimension of word embeddings. Let us set $p=3$ for our example and take a look at an example below whose parameters have been randomly initialized."
   ]
  },
  {
   "cell_type": "code",
   "execution_count": 9,
   "metadata": {},
   "outputs": [
    {
     "data": {
      "text/plain": [
       "Parameter containing:\n",
       "tensor([[ 0.3976,  1.8370, -0.7467],\n",
       "        [-0.2357,  0.1192, -1.4524],\n",
       "        [-0.4676, -0.1528, -0.1549],\n",
       "        [-0.0523,  0.3392,  0.1652],\n",
       "        [-0.1388,  0.4070,  1.5852],\n",
       "        [ 1.1340,  1.1303, -0.1362],\n",
       "        [-0.7280, -0.1015, -0.4547],\n",
       "        [ 0.7729,  0.2718, -1.0115],\n",
       "        [ 0.2859,  0.2294, -0.6681],\n",
       "        [ 0.2799, -0.7635,  0.8796],\n",
       "        [ 0.9279,  0.7366, -0.7126],\n",
       "        [-1.4260,  0.2416,  0.2993],\n",
       "        [-0.7399,  0.4237,  0.6338],\n",
       "        [-1.0680, -1.1065, -1.2660],\n",
       "        [ 1.4752,  0.4261, -0.2605],\n",
       "        [ 0.3493, -1.1180, -0.2333]], requires_grad=True)"
      ]
     },
     "execution_count": 9,
     "metadata": {},
     "output_type": "execute_result"
    }
   ],
   "source": [
    "# embedding dimension\n",
    "p = 3\n",
    "\n",
    "W = torch.nn.Embedding(num_embeddings=d, embedding_dim=p)\n",
    "W.weight"
   ]
  },
  {
   "cell_type": "markdown",
   "metadata": {},
   "source": [
    "This can be seen as the weights from the first layer in a neural network whose input are the one-hot context word vectors with dimension $2t \\times d$. Each row of this matrix relates to the word embedding for one word if it is used in the context of a center word. Multiplying the one-hot vector input with this matrix basically transforms the one-hot encoded input into numerical representations of the context words. Let us continue the example below:"
   ]
  },
  {
   "cell_type": "code",
   "execution_count": 10,
   "metadata": {},
   "outputs": [
    {
     "data": {
      "text/plain": [
       "tensor([[ 0.3976,  1.8370, -0.7467],\n",
       "        [-0.4676, -0.1528, -0.1549]], grad_fn=<EmbeddingBackward0>)"
      ]
     },
     "execution_count": 10,
     "metadata": {},
     "output_type": "execute_result"
    }
   ],
   "source": [
    "c = W(torch.LongTensor([0, 2]))\n",
    "c"
   ]
  },
  {
   "cell_type": "markdown",
   "metadata": {},
   "source": [
    "Note that we observe row vectors with index numbers $0,2$ because these are the index numbers for our example \"the\", \"would\". In order to condense the information of the context words into one vector, one can average or sum these vectors row-wise. Let us build the average and continue with this vector that we denote as the context vector $\\boldsymbol{c}$."
   ]
  },
  {
   "cell_type": "code",
   "execution_count": 11,
   "metadata": {},
   "outputs": [
    {
     "data": {
      "text/plain": [
       "tensor([-0.0350,  0.8421, -0.4508], grad_fn=<MeanBackward1>)"
      ]
     },
     "execution_count": 11,
     "metadata": {},
     "output_type": "execute_result"
    }
   ],
   "source": [
    "c = c.mean(axis = 0)\n",
    "c"
   ]
  },
  {
   "cell_type": "markdown",
   "metadata": {},
   "source": [
    "To determine the probabilities for the center words, we multiply this vector with the matrix $\\boldsymbol{V}$ which must have dimensionality $p \\times d$ and ..."
   ]
  },
  {
   "cell_type": "code",
   "execution_count": 12,
   "metadata": {},
   "outputs": [
    {
     "data": {
      "text/plain": [
       "tensor([ 0.2101, -0.5024,  0.3354,  0.0228,  0.1365, -0.0040, -0.0462, -0.0395,\n",
       "         0.2993, -0.1681,  0.3779, -0.2352,  0.4813,  0.1923,  0.2424,  0.1358],\n",
       "       grad_fn=<SqueezeBackward4>)"
      ]
     },
     "execution_count": 12,
     "metadata": {},
     "output_type": "execute_result"
    }
   ],
   "source": [
    "V = torch.nn.Linear(in_features=p, out_features=d, bias = False)\n",
    "z = V(c)\n",
    "z"
   ]
  },
  {
   "cell_type": "markdown",
   "metadata": {},
   "source": [
    "...use the softmax function."
   ]
  },
  {
   "cell_type": "code",
   "execution_count": 13,
   "metadata": {},
   "outputs": [
    {
     "data": {
      "text/plain": [
       "tensor([0.0685, 0.0336, 0.0776, 0.0568, 0.0636, 0.0553, 0.0530, 0.0534, 0.0749,\n",
       "        0.0469, 0.0810, 0.0439, 0.0898, 0.0673, 0.0707, 0.0636],\n",
       "       grad_fn=<SoftmaxBackward0>)"
      ]
     },
     "execution_count": 13,
     "metadata": {},
     "output_type": "execute_result"
    }
   ],
   "source": [
    "prob_w = torch.nn.functional.softmax(z, dim = 0)\n",
    "prob_w"
   ]
  },
  {
   "cell_type": "markdown",
   "metadata": {},
   "source": [
    "In our example, the true category would be the word \"dog\" which is represented by the one-hot encoded vector $\\boldsymbol{w}_1$ with index $1$. Thus, in order to determine the value of the crossentropy loss function, we calculate the dot product and determine the negative log of this value. "
   ]
  },
  {
   "cell_type": "code",
   "execution_count": 14,
   "metadata": {},
   "outputs": [
    {
     "data": {
      "text/plain": [
       "array([3.393486], dtype=float32)"
      ]
     },
     "execution_count": 14,
     "metadata": {},
     "output_type": "execute_result"
    }
   ],
   "source": [
    "-np.log((prob_w @ one_hot(torch.LongTensor([1]), num_classes=d).reshape(d, 1).float()).detach().numpy())"
   ]
  },
  {
   "cell_type": "markdown",
   "metadata": {},
   "source": [
    "Let us go through these steps formally:\n",
    "\n",
    "1. Generate a one-hot encoded context input, given a context length $2t$, $\\boldsymbol{C} \\in [0, 1]^{2t \\times d}$\n",
    "2. Multiply this with the context word vector matrix, $\\boldsymbol{W} \\in \\mathbb{R}^{d \\times p}$ and aggregate the outcome to a single vector with dimension $p$\n",
    "3. Multiply this vector with the center word vector matrix $\\boldsymbol{V} \\in \\mathbb{R}^{p \\times d}$ and transform the output with the softmax function to probabilities\n",
    "4. Multiply the probability prediction with the one-hot vector of the center word to determine the loss\n",
    "\n",
    "This is done for all possible center word context word combinations and gradient descent can be used to update the parameters of $\\boldsymbol{W}$ and $\\boldsymbol{V}$. After training is finished one usually uses the columns of $\\boldsymbol{V}$ as word embeddings where word with index $0$ is represented by the first column, word with index $1$ is represented by the second column and so on. Let us take a look how we could do this by hand using tensorflow for our example.\n",
    "\n",
    "First we generate the samples. Note that sample indices are used to derive the one-hot information for the center words. "
   ]
  },
  {
   "cell_type": "code",
   "execution_count": 15,
   "metadata": {},
   "outputs": [
    {
     "name": "stdout",
     "output_type": "stream",
     "text": [
      "This is how the training samples look like:\n",
      "[(['the', 'dog', 'like', 'a'], 'would'), (['dog', 'would', 'a', 'piece'], 'like'), (['would', 'like', 'piece', 'of'], 'a'), (['like', 'a', 'of', 'the'], 'piece'), (['a', 'piece', 'the', 'sandwich'], 'of'), (['i', 'like', 'eat', 'ice'], 'to'), (['like', 'to', 'ice', 'cream'], 'eat'), (['a', 'dog', 'a', 'good'], 'is'), (['dog', 'is', 'good', 'friend'], 'a')]\n",
      "\n",
      "This is how the training samples information is provided:\n",
      "[([0, 1, 3, 4], 2), ([1, 2, 4, 5], 3), ([2, 3, 5, 6], 4), ([3, 4, 6, 0], 5), ([4, 5, 0, 7], 6), ([8, 3, 10, 11], 9), ([3, 9, 11, 12], 10), ([4, 1, 4, 14], 13), ([1, 13, 14, 15], 4)]\n"
     ]
    }
   ],
   "source": [
    "# context length\n",
    "k = 2\n",
    "context_indices = [j for j in range(-k, k+1) if j != 0]\n",
    "\n",
    "# generate training samples\n",
    "sample_words = []\n",
    "samples = []\n",
    "for doc in corpus:\n",
    "    for i in range(k, len(doc) - k):\n",
    "        center_word = doc[i]\n",
    "        center_word_idx = word2index[doc[i]]\n",
    "        context_words = [doc[i + idx] for idx in context_indices]\n",
    "        context_word_idx = [word2index[doc[i + idx]] for idx in context_indices]\n",
    "        sample_words.append((context_words, center_word))\n",
    "        samples.append((context_word_idx, center_word_idx))\n",
    "\n",
    "print(\"This is how the training samples look like:\")\n",
    "print(sample_words)\n",
    "print(\"\")\n",
    "print(\"This is how the training samples information is provided:\")\n",
    "print(samples)"
   ]
  },
  {
   "cell_type": "markdown",
   "metadata": {},
   "source": [
    "Next, we prepare these training samples such they can be inserted into a neural network."
   ]
  },
  {
   "cell_type": "code",
   "execution_count": 16,
   "metadata": {},
   "outputs": [
    {
     "name": "stdout",
     "output_type": "stream",
     "text": [
      "Input word index labels for the neural network:\n",
      "[[0, 1, 3, 4], [1, 2, 4, 5], [2, 3, 5, 6], [3, 4, 6, 0], [4, 5, 0, 7], [8, 3, 10, 11], [3, 9, 11, 12], [4, 1, 4, 14], [1, 13, 14, 15]]\n",
      "\n",
      "Target word labels for the neural network:\n",
      "[2, 3, 4, 5, 6, 9, 10, 13, 4]\n"
     ]
    }
   ],
   "source": [
    "# prepare training examples for a neural network\n",
    "X = [sample[0] for sample in samples]\n",
    "y = [sample[1] for sample in samples]\n",
    "\n",
    "print(\"Input word index labels for the neural network:\")\n",
    "print(X)\n",
    "print(\"\")\n",
    "print(\"Target word labels for the neural network:\")\n",
    "print(y)"
   ]
  },
  {
   "cell_type": "markdown",
   "metadata": {},
   "source": [
    "Below you see how we could train a CBOW model for our example using pytorch. The embedding layer includes word vectors for word embedding matrix $\\boldsymbol{W}$ and the linear layer includes word embeddings for center words which is matrix $\\boldsymbol{V}$. The model processes every sample as described in detail above and uses gradient descent for the crossentropy loss function. Basically this is a multi-class prediction problem if we define the model as below."
   ]
  },
  {
   "cell_type": "code",
   "execution_count": 17,
   "metadata": {},
   "outputs": [
    {
     "data": {
      "image/png": "[encoded data removed]",
      "text/plain": [
       "<Figure size 640x480 with 1 Axes>"
      ]
     },
     "metadata": {},
     "output_type": "display_data"
    }
   ],
   "source": [
    "import matplotlib.pylab as plt\n",
    "\n",
    "# define the neural network architecture\n",
    "class W2WCBow(torch.nn.Module):\n",
    "    def __init__(self):\n",
    "        super().__init__()\n",
    "        self.embedding = torch.nn.Embedding(num_embeddings=d, embedding_dim=p)\n",
    "        self.linear = torch.nn.Linear(in_features=p, out_features=d, bias = False)\n",
    "\n",
    "    def forward(self, x):\n",
    "        e = self.embedding(x)\n",
    "        e = e.mean(axis = 1)\n",
    "        z = self.linear(e)\n",
    "        return z\n",
    "    \n",
    "# define an instande of the model class\n",
    "w2w_cbow = W2WCBow()\n",
    "w2w_cbow(torch.LongTensor(X))\n",
    "\n",
    "# define an optimizer and loss\n",
    "optimizer = torch.optim.Adam(lr = 0.015, params = w2w_cbow.parameters())\n",
    "loss_fn = torch.nn.CrossEntropyLoss()\n",
    "\n",
    "losses = []\n",
    "epochs = 300\n",
    "for epoch in range(epochs):\n",
    "    w2w_cbow.train()\n",
    "    scores = w2w_cbow(torch.tensor(X))\n",
    "    batch_loss = loss_fn(scores, torch.tensor(y))\n",
    "    optimizer.zero_grad()\n",
    "    batch_loss.backward()\n",
    "    optimizer.step()\n",
    "\n",
    "    losses.append(batch_loss.detach().numpy())\n",
    "\n",
    "# visualize the training loss  \n",
    "plt.plot(losses)\n",
    "plt.title(\"Training loss\")\n",
    "plt.show()"
   ]
  },
  {
   "cell_type": "markdown",
   "metadata": {},
   "source": [
    "What does happen during training? In the beginning word embeddings for context words $\\boldsymbol{W}$ and center words $\\boldsymbol{V}$ are randomly initialized. Word embeddings of words which are close to each other need to produces high dot product values in order to come along with high probabilities. This is what we want if words are used in the same context (are close to each other in documents). A high dot product results if vectors have very similar elements. Thus, during training parameters for each word vector are updated such that words which are close to each other have similar vectors. In addition, words serve as anchors to recognize similarities between words that do not appear next to each other in documents but are used in similar contexts. One training is finished, it makes sense to use center word vectors $\\boldsymbol{V}$ as embeddings for our words. However, one may also experiment and can use context word vectors $\\boldsymbol{W}$ or the average vectors of both matrices. Our example is too small to produce high quality embeddings. However if you take a look at the cosine similarity matrix below, you can observe that, e.g., the model learned \"sandwich\" has a similar meaning to \"dog\" which makes sense, given our corpus information."
   ]
  },
  {
   "cell_type": "code",
   "execution_count": 18,
   "metadata": {},
   "outputs": [
    {
     "data": {
      "text/html": [
       "<div>\n",
       "<style scoped>\n",
       "    .dataframe tbody tr th:only-of-type {\n",
       "        vertical-align: middle;\n",
       "    }\n",
       "\n",
       "    .dataframe tbody tr th {\n",
       "        vertical-align: top;\n",
       "    }\n",
       "\n",
       "    .dataframe thead th {\n",
       "        text-align: right;\n",
       "    }\n",
       "</style>\n",
       "<table border=\"1\" class=\"dataframe\">\n",
       "  <thead>\n",
       "    <tr style=\"text-align: right;\">\n",
       "      <th></th>\n",
       "      <th>the</th>\n",
       "      <th>dog</th>\n",
       "      <th>would</th>\n",
       "      <th>like</th>\n",
       "      <th>a</th>\n",
       "      <th>piece</th>\n",
       "      <th>of</th>\n",
       "      <th>sandwich</th>\n",
       "      <th>i</th>\n",
       "      <th>to</th>\n",
       "      <th>eat</th>\n",
       "      <th>ice</th>\n",
       "      <th>cream</th>\n",
       "      <th>is</th>\n",
       "      <th>good</th>\n",
       "      <th>friend</th>\n",
       "    </tr>\n",
       "  </thead>\n",
       "  <tbody>\n",
       "    <tr>\n",
       "      <th>the</th>\n",
       "      <td>1.000000</td>\n",
       "      <td>0.970650</td>\n",
       "      <td>-0.921416</td>\n",
       "      <td>0.342322</td>\n",
       "      <td>-0.638373</td>\n",
       "      <td>-0.065339</td>\n",
       "      <td>0.778343</td>\n",
       "      <td>0.996475</td>\n",
       "      <td>0.916812</td>\n",
       "      <td>0.231462</td>\n",
       "      <td>-0.254245</td>\n",
       "      <td>0.997168</td>\n",
       "      <td>0.981551</td>\n",
       "      <td>0.875947</td>\n",
       "      <td>0.946661</td>\n",
       "      <td>0.957215</td>\n",
       "    </tr>\n",
       "    <tr>\n",
       "      <th>dog</th>\n",
       "      <td>0.970650</td>\n",
       "      <td>1.000000</td>\n",
       "      <td>-0.907166</td>\n",
       "      <td>0.428567</td>\n",
       "      <td>-0.652956</td>\n",
       "      <td>-0.279145</td>\n",
       "      <td>0.607125</td>\n",
       "      <td>0.986498</td>\n",
       "      <td>0.940176</td>\n",
       "      <td>0.281700</td>\n",
       "      <td>-0.032110</td>\n",
       "      <td>0.965214</td>\n",
       "      <td>0.938424</td>\n",
       "      <td>0.966047</td>\n",
       "      <td>0.949847</td>\n",
       "      <td>0.969105</td>\n",
       "    </tr>\n",
       "    <tr>\n",
       "      <th>would</th>\n",
       "      <td>-0.921416</td>\n",
       "      <td>-0.907166</td>\n",
       "      <td>1.000000</td>\n",
       "      <td>-0.663902</td>\n",
       "      <td>0.304134</td>\n",
       "      <td>0.276198</td>\n",
       "      <td>-0.639546</td>\n",
       "      <td>-0.912863</td>\n",
       "      <td>-0.724923</td>\n",
       "      <td>0.137283</td>\n",
       "      <td>0.330066</td>\n",
       "      <td>-0.889587</td>\n",
       "      <td>-0.971188</td>\n",
       "      <td>-0.821615</td>\n",
       "      <td>-0.765422</td>\n",
       "      <td>-0.799669</td>\n",
       "    </tr>\n",
       "    <tr>\n",
       "      <th>like</th>\n",
       "      <td>0.342322</td>\n",
       "      <td>0.428567</td>\n",
       "      <td>-0.663902</td>\n",
       "      <td>1.000000</td>\n",
       "      <td>0.369584</td>\n",
       "      <td>-0.753115</td>\n",
       "      <td>-0.079534</td>\n",
       "      <td>0.352068</td>\n",
       "      <td>0.108342</td>\n",
       "      <td>-0.627790</td>\n",
       "      <td>-0.046044</td>\n",
       "      <td>0.273666</td>\n",
       "      <td>0.466611</td>\n",
       "      <td>0.468122</td>\n",
       "      <td>0.124549</td>\n",
       "      <td>0.192920</td>\n",
       "    </tr>\n",
       "    <tr>\n",
       "      <th>a</th>\n",
       "      <td>-0.638373</td>\n",
       "      <td>-0.652956</td>\n",
       "      <td>0.304134</td>\n",
       "      <td>0.369584</td>\n",
       "      <td>1.000000</td>\n",
       "      <td>-0.165024</td>\n",
       "      <td>-0.499547</td>\n",
       "      <td>-0.666043</td>\n",
       "      <td>-0.871839</td>\n",
       "      <td>-0.894989</td>\n",
       "      <td>-0.243214</td>\n",
       "      <td>-0.691325</td>\n",
       "      <td>-0.480775</td>\n",
       "      <td>-0.647754</td>\n",
       "      <td>-0.845813</td>\n",
       "      <td>-0.813427</td>\n",
       "    </tr>\n",
       "    <tr>\n",
       "      <th>piece</th>\n",
       "      <td>-0.065339</td>\n",
       "      <td>-0.279145</td>\n",
       "      <td>0.276198</td>\n",
       "      <td>-0.753115</td>\n",
       "      <td>-0.165024</td>\n",
       "      <td>1.000000</td>\n",
       "      <td>0.553445</td>\n",
       "      <td>-0.126111</td>\n",
       "      <td>-0.098670</td>\n",
       "      <td>0.184629</td>\n",
       "      <td>-0.621343</td>\n",
       "      <td>-0.022619</td>\n",
       "      <td>-0.090162</td>\n",
       "      <td>-0.476557</td>\n",
       "      <td>-0.048231</td>\n",
       "      <td>-0.108132</td>\n",
       "    </tr>\n",
       "    <tr>\n",
       "      <th>of</th>\n",
       "      <td>0.778343</td>\n",
       "      <td>0.607125</td>\n",
       "      <td>-0.639546</td>\n",
       "      <td>-0.079534</td>\n",
       "      <td>-0.499547</td>\n",
       "      <td>0.553445</td>\n",
       "      <td>1.000000</td>\n",
       "      <td>0.729062</td>\n",
       "      <td>0.624237</td>\n",
       "      <td>0.143692</td>\n",
       "      <td>-0.705263</td>\n",
       "      <td>0.791691</td>\n",
       "      <td>0.779561</td>\n",
       "      <td>0.388059</td>\n",
       "      <td>0.691768</td>\n",
       "      <td>0.670043</td>\n",
       "    </tr>\n",
       "    <tr>\n",
       "      <th>sandwich</th>\n",
       "      <td>0.996475</td>\n",
       "      <td>0.986498</td>\n",
       "      <td>-0.912863</td>\n",
       "      <td>0.352068</td>\n",
       "      <td>-0.666043</td>\n",
       "      <td>-0.126111</td>\n",
       "      <td>0.729062</td>\n",
       "      <td>1.000000</td>\n",
       "      <td>0.938785</td>\n",
       "      <td>0.273096</td>\n",
       "      <td>-0.172579</td>\n",
       "      <td>0.994606</td>\n",
       "      <td>0.968805</td>\n",
       "      <td>0.912158</td>\n",
       "      <td>0.960984</td>\n",
       "      <td>0.973048</td>\n",
       "    </tr>\n",
       "    <tr>\n",
       "      <th>i</th>\n",
       "      <td>0.916812</td>\n",
       "      <td>0.940176</td>\n",
       "      <td>-0.724923</td>\n",
       "      <td>0.108342</td>\n",
       "      <td>-0.871839</td>\n",
       "      <td>-0.098670</td>\n",
       "      <td>0.624237</td>\n",
       "      <td>0.938785</td>\n",
       "      <td>1.000000</td>\n",
       "      <td>0.582789</td>\n",
       "      <td>0.080151</td>\n",
       "      <td>0.937182</td>\n",
       "      <td>0.825633</td>\n",
       "      <td>0.913562</td>\n",
       "      <td>0.995327</td>\n",
       "      <td>0.992925</td>\n",
       "    </tr>\n",
       "    <tr>\n",
       "      <th>to</th>\n",
       "      <td>0.231462</td>\n",
       "      <td>0.281700</td>\n",
       "      <td>0.137283</td>\n",
       "      <td>-0.627790</td>\n",
       "      <td>-0.894989</td>\n",
       "      <td>0.184629</td>\n",
       "      <td>0.143692</td>\n",
       "      <td>0.273096</td>\n",
       "      <td>0.582789</td>\n",
       "      <td>1.000000</td>\n",
       "      <td>0.504049</td>\n",
       "      <td>0.298321</td>\n",
       "      <td>0.041643</td>\n",
       "      <td>0.344182</td>\n",
       "      <td>0.528344</td>\n",
       "      <td>0.484454</td>\n",
       "    </tr>\n",
       "    <tr>\n",
       "      <th>eat</th>\n",
       "      <td>-0.254245</td>\n",
       "      <td>-0.032110</td>\n",
       "      <td>0.330066</td>\n",
       "      <td>-0.046044</td>\n",
       "      <td>-0.243214</td>\n",
       "      <td>-0.621343</td>\n",
       "      <td>-0.705263</td>\n",
       "      <td>-0.172579</td>\n",
       "      <td>0.080151</td>\n",
       "      <td>0.504049</td>\n",
       "      <td>1.000000</td>\n",
       "      <td>-0.235817</td>\n",
       "      <td>-0.370334</td>\n",
       "      <td>0.217883</td>\n",
       "      <td>-0.015782</td>\n",
       "      <td>-0.006794</td>\n",
       "    </tr>\n",
       "    <tr>\n",
       "      <th>ice</th>\n",
       "      <td>0.997168</td>\n",
       "      <td>0.965214</td>\n",
       "      <td>-0.889587</td>\n",
       "      <td>0.273666</td>\n",
       "      <td>-0.691325</td>\n",
       "      <td>-0.022619</td>\n",
       "      <td>0.791691</td>\n",
       "      <td>0.994606</td>\n",
       "      <td>0.937182</td>\n",
       "      <td>0.298321</td>\n",
       "      <td>-0.235817</td>\n",
       "      <td>1.000000</td>\n",
       "      <td>0.965924</td>\n",
       "      <td>0.870232</td>\n",
       "      <td>0.964508</td>\n",
       "      <td>0.970260</td>\n",
       "    </tr>\n",
       "    <tr>\n",
       "      <th>cream</th>\n",
       "      <td>0.981551</td>\n",
       "      <td>0.938424</td>\n",
       "      <td>-0.971188</td>\n",
       "      <td>0.466611</td>\n",
       "      <td>-0.480775</td>\n",
       "      <td>-0.090162</td>\n",
       "      <td>0.779561</td>\n",
       "      <td>0.968805</td>\n",
       "      <td>0.825633</td>\n",
       "      <td>0.041643</td>\n",
       "      <td>-0.370334</td>\n",
       "      <td>0.965924</td>\n",
       "      <td>1.000000</td>\n",
       "      <td>0.825871</td>\n",
       "      <td>0.867860</td>\n",
       "      <td>0.886622</td>\n",
       "    </tr>\n",
       "    <tr>\n",
       "      <th>is</th>\n",
       "      <td>0.875947</td>\n",
       "      <td>0.966047</td>\n",
       "      <td>-0.821615</td>\n",
       "      <td>0.468122</td>\n",
       "      <td>-0.647754</td>\n",
       "      <td>-0.476557</td>\n",
       "      <td>0.388059</td>\n",
       "      <td>0.912158</td>\n",
       "      <td>0.913562</td>\n",
       "      <td>0.344182</td>\n",
       "      <td>0.217883</td>\n",
       "      <td>0.870232</td>\n",
       "      <td>0.825871</td>\n",
       "      <td>1.000000</td>\n",
       "      <td>0.899762</td>\n",
       "      <td>0.925367</td>\n",
       "    </tr>\n",
       "    <tr>\n",
       "      <th>good</th>\n",
       "      <td>0.946661</td>\n",
       "      <td>0.949847</td>\n",
       "      <td>-0.765422</td>\n",
       "      <td>0.124549</td>\n",
       "      <td>-0.845813</td>\n",
       "      <td>-0.048231</td>\n",
       "      <td>0.691768</td>\n",
       "      <td>0.960984</td>\n",
       "      <td>0.995327</td>\n",
       "      <td>0.528344</td>\n",
       "      <td>-0.015782</td>\n",
       "      <td>0.964508</td>\n",
       "      <td>0.867860</td>\n",
       "      <td>0.899762</td>\n",
       "      <td>1.000000</td>\n",
       "      <td>0.997529</td>\n",
       "    </tr>\n",
       "    <tr>\n",
       "      <th>friend</th>\n",
       "      <td>0.957215</td>\n",
       "      <td>0.969105</td>\n",
       "      <td>-0.799669</td>\n",
       "      <td>0.192920</td>\n",
       "      <td>-0.813427</td>\n",
       "      <td>-0.108132</td>\n",
       "      <td>0.670043</td>\n",
       "      <td>0.973048</td>\n",
       "      <td>0.992925</td>\n",
       "      <td>0.484454</td>\n",
       "      <td>-0.006794</td>\n",
       "      <td>0.970260</td>\n",
       "      <td>0.886622</td>\n",
       "      <td>0.925367</td>\n",
       "      <td>0.997529</td>\n",
       "      <td>1.000000</td>\n",
       "    </tr>\n",
       "  </tbody>\n",
       "</table>\n",
       "</div>"
      ],
      "text/plain": [
       "               the       dog     would      like         a     piece  \\\n",
       "the       1.000000  0.970650 -0.921416  0.342322 -0.638373 -0.065339   \n",
       "dog       0.970650  1.000000 -0.907166  0.428567 -0.652956 -0.279145   \n",
       "would    -0.921416 -0.907166  1.000000 -0.663902  0.304134  0.276198   \n",
       "like      0.342322  0.428567 -0.663902  1.000000  0.369584 -0.753115   \n",
       "a        -0.638373 -0.652956  0.304134  0.369584  1.000000 -0.165024   \n",
       "piece    -0.065339 -0.279145  0.276198 -0.753115 -0.165024  1.000000   \n",
       "of        0.778343  0.607125 -0.639546 -0.079534 -0.499547  0.553445   \n",
       "sandwich  0.996475  0.986498 -0.912863  0.352068 -0.666043 -0.126111   \n",
       "i         0.916812  0.940176 -0.724923  0.108342 -0.871839 -0.098670   \n",
       "to        0.231462  0.281700  0.137283 -0.627790 -0.894989  0.184629   \n",
       "eat      -0.254245 -0.032110  0.330066 -0.046044 -0.243214 -0.621343   \n",
       "ice       0.997168  0.965214 -0.889587  0.273666 -0.691325 -0.022619   \n",
       "cream     0.981551  0.938424 -0.971188  0.466611 -0.480775 -0.090162   \n",
       "is        0.875947  0.966047 -0.821615  0.468122 -0.647754 -0.476557   \n",
       "good      0.946661  0.949847 -0.765422  0.124549 -0.845813 -0.048231   \n",
       "friend    0.957215  0.969105 -0.799669  0.192920 -0.813427 -0.108132   \n",
       "\n",
       "                of  sandwich         i        to       eat       ice  \\\n",
       "the       0.778343  0.996475  0.916812  0.231462 -0.254245  0.997168   \n",
       "dog       0.607125  0.986498  0.940176  0.281700 -0.032110  0.965214   \n",
       "would    -0.639546 -0.912863 -0.724923  0.137283  0.330066 -0.889587   \n",
       "like     -0.079534  0.352068  0.108342 -0.627790 -0.046044  0.273666   \n",
       "a        -0.499547 -0.666043 -0.871839 -0.894989 -0.243214 -0.691325   \n",
       "piece     0.553445 -0.126111 -0.098670  0.184629 -0.621343 -0.022619   \n",
       "of        1.000000  0.729062  0.624237  0.143692 -0.705263  0.791691   \n",
       "sandwich  0.729062  1.000000  0.938785  0.273096 -0.172579  0.994606   \n",
       "i         0.624237  0.938785  1.000000  0.582789  0.080151  0.937182   \n",
       "to        0.143692  0.273096  0.582789  1.000000  0.504049  0.298321   \n",
       "eat      -0.705263 -0.172579  0.080151  0.504049  1.000000 -0.235817   \n",
       "ice       0.791691  0.994606  0.937182  0.298321 -0.235817  1.000000   \n",
       "cream     0.779561  0.968805  0.825633  0.041643 -0.370334  0.965924   \n",
       "is        0.388059  0.912158  0.913562  0.344182  0.217883  0.870232   \n",
       "good      0.691768  0.960984  0.995327  0.528344 -0.015782  0.964508   \n",
       "friend    0.670043  0.973048  0.992925  0.484454 -0.006794  0.970260   \n",
       "\n",
       "             cream        is      good    friend  \n",
       "the       0.981551  0.875947  0.946661  0.957215  \n",
       "dog       0.938424  0.966047  0.949847  0.969105  \n",
       "would    -0.971188 -0.821615 -0.765422 -0.799669  \n",
       "like      0.466611  0.468122  0.124549  0.192920  \n",
       "a        -0.480775 -0.647754 -0.845813 -0.813427  \n",
       "piece    -0.090162 -0.476557 -0.048231 -0.108132  \n",
       "of        0.779561  0.388059  0.691768  0.670043  \n",
       "sandwich  0.968805  0.912158  0.960984  0.973048  \n",
       "i         0.825633  0.913562  0.995327  0.992925  \n",
       "to        0.041643  0.344182  0.528344  0.484454  \n",
       "eat      -0.370334  0.217883 -0.015782 -0.006794  \n",
       "ice       0.965924  0.870232  0.964508  0.970260  \n",
       "cream     1.000000  0.825871  0.867860  0.886622  \n",
       "is        0.825871  1.000000  0.899762  0.925367  \n",
       "good      0.867860  0.899762  1.000000  0.997529  \n",
       "friend    0.886622  0.925367  0.997529  1.000000  "
      ]
     },
     "execution_count": 18,
     "metadata": {},
     "output_type": "execute_result"
    }
   ],
   "source": [
    "from sklearn.metrics.pairwise import cosine_similarity\n",
    "\n",
    "word_embeddings = w2w_cbow.linear.weight.detach().numpy() #w2v_cbow.get_layer(\"center_vectors\").get_weights()[0].transpose()\n",
    "word_embeddings_df = pd.DataFrame(cosine_similarity(word_embeddings), columns = list(word2index.keys()), index = list(word2index.keys()))\n",
    "word_embeddings_df"
   ]
  },
  {
   "cell_type": "markdown",
   "metadata": {},
   "source": [
    "Note that words in the beginning and end of the sentences are ignored in our example which causes problems for such a small corpus but usually is not problematic for a large corpus. Given a large collection of documents, common embedding dimension $p$ are rather in the hundreds as in comparison to our example.\n",
    "\n",
    "### SG\n",
    "The figure below visualizes the CBOW and the SG model. While CBOW uses context words to predict the center word, SG uses the center word to predict context words. Thus, the prediction simplifies to $P \\left( w_l | w_i \\right)$ for any conext word $w_l \\in \\lbrace w_{i-t}, w_{i-t+1}, ..., w_{i-1}, w_{i+1}, w_{i + t -1}, w_{i + t}  \\rbrace$. As before, we use train two parameter matrices $\\boldsymbol{W}, \\boldsymbol{V}$, however, this time $\\boldsymbol{W}$ represents word embeddings for center words and $\\boldsymbol{V}$ word embeddings for context words."
   ]
  },
  {
   "cell_type": "code",
   "execution_count": 19,
   "metadata": {},
   "outputs": [
    {
     "data": {
      "image/png": "[encoded data removed]",
      "text/plain": [
       "<IPython.core.display.Image object>"
      ]
     },
     "execution_count": 19,
     "metadata": {},
     "output_type": "execute_result"
    }
   ],
   "source": [
    "from IPython.display import Image\n",
    "Image(filename='cbow_sg.png') "
   ]
  },
  {
   "cell_type": "markdown",
   "metadata": {},
   "source": [
    "Furthermore, training samples are reduced to one center word and one context word at a time (note this could also be transformed to a multi-label classifiction which should lead to the same or very similar results). Besides these differences, the training process is rather similar. First, we build training samples:"
   ]
  },
  {
   "cell_type": "code",
   "execution_count": 20,
   "metadata": {},
   "outputs": [
    {
     "name": "stdout",
     "output_type": "stream",
     "text": [
      "This is how the training samples look like:\n",
      "[('would', 'the'), ('would', 'dog'), ('would', 'like'), ('would', 'a'), ('like', 'dog'), ('like', 'would'), ('like', 'a'), ('like', 'piece'), ('a', 'would'), ('a', 'like'), ('a', 'piece'), ('a', 'of'), ('piece', 'like'), ('piece', 'a'), ('piece', 'of'), ('piece', 'the'), ('of', 'a'), ('of', 'piece'), ('of', 'the'), ('of', 'sandwich'), ('to', 'i'), ('to', 'like'), ('to', 'eat'), ('to', 'ice'), ('eat', 'like'), ('eat', 'to'), ('eat', 'ice'), ('eat', 'cream'), ('is', 'a'), ('is', 'dog'), ('is', 'a'), ('is', 'good'), ('a', 'dog'), ('a', 'is'), ('a', 'good'), ('a', 'friend')]\n",
      "\n",
      "This is how the training samples information is provided:\n",
      "[(2, 0), (2, 1), (2, 3), (2, 4), (3, 1), (3, 2), (3, 4), (3, 5), (4, 2), (4, 3), (4, 5), (4, 6), (5, 3), (5, 4), (5, 6), (5, 0), (6, 4), (6, 5), (6, 0), (6, 7), (9, 8), (9, 3), (9, 10), (9, 11), (10, 3), (10, 9), (10, 11), (10, 12), (13, 4), (13, 1), (13, 4), (13, 14), (4, 1), (4, 13), (4, 14), (4, 15)]\n"
     ]
    }
   ],
   "source": [
    "# number of terms in the lexicon\n",
    "d = len(word2index.keys())\n",
    "# embedding dimension\n",
    "p = 3\n",
    "\n",
    "# context length\n",
    "k = 2\n",
    "context_indices = [j for j in range(-k, k+1) if j != 0]\n",
    "\n",
    "# generate training samples\n",
    "sample_words = []\n",
    "samples = []\n",
    "for doc in corpus:\n",
    "    for i in range(k, len(doc) - k):\n",
    "        center_word = doc[i]\n",
    "        center_word_idx = word2index[doc[i]]\n",
    "        context_words = [doc[i + idx] for idx in context_indices]\n",
    "        context_word_idx = [word2index[doc[i + idx]] for idx in context_indices]\n",
    "        for context, context_word in zip(context_word_idx, context_words):\n",
    "            sample_words.append((center_word, context_word))\n",
    "            samples.append((center_word_idx, context))\n",
    "\n",
    "print(\"This is how the training samples look like:\")\n",
    "print(sample_words)\n",
    "print(\"\")\n",
    "print(\"This is how the training samples information is provided:\")\n",
    "print(samples)"
   ]
  },
  {
   "cell_type": "markdown",
   "metadata": {},
   "source": [
    "Next, we prepare the target labels and input features:"
   ]
  },
  {
   "cell_type": "code",
   "execution_count": 21,
   "metadata": {},
   "outputs": [
    {
     "name": "stdout",
     "output_type": "stream",
     "text": [
      "Input for the neural network:\n",
      "[2, 2, 2, 2, 3, 3, 3, 3, 4, 4, 4, 4, 5, 5, 5, 5, 6, 6, 6, 6, 9, 9, 9, 9, 10, 10, 10, 10, 13, 13, 13, 13, 4, 4, 4, 4]\n",
      "\n",
      "Target values for the neural network:\n",
      "[0, 1, 3, 4, 1, 2, 4, 5, 2, 3, 5, 6, 3, 4, 6, 0, 4, 5, 0, 7, 8, 3, 10, 11, 3, 9, 11, 12, 4, 1, 4, 14, 1, 13, 14, 15]\n"
     ]
    }
   ],
   "source": [
    "# prepare training examples for a neural network\n",
    "X = [sample[0] for sample in samples]\n",
    "y = [sample[1] for sample in samples]\n",
    "#y_one_hot = tf.keras.utils.to_categorical(y, num_classes = d)\n",
    "\n",
    "print(\"Input for the neural network:\")\n",
    "print(X)\n",
    "print(\"\")\n",
    "print(\"Target values for the neural network:\")\n",
    "print(y)"
   ]
  },
  {
   "cell_type": "markdown",
   "metadata": {},
   "source": [
    "Define and train the neural network."
   ]
  },
  {
   "cell_type": "code",
   "execution_count": 22,
   "metadata": {},
   "outputs": [
    {
     "data": {
      "image/png": "[encoded data removed]",
      "text/plain": [
       "<Figure size 640x480 with 1 Axes>"
      ]
     },
     "metadata": {},
     "output_type": "display_data"
    }
   ],
   "source": [
    "# define the neural network architecture\n",
    "class W2WSG(torch.nn.Module):\n",
    "    def __init__(self):\n",
    "        super().__init__()\n",
    "        self.embedding = torch.nn.Embedding(num_embeddings=d, embedding_dim=p)\n",
    "        self.linear = torch.nn.Linear(in_features=p, out_features=d, bias = False)\n",
    "\n",
    "    def forward(self, x):\n",
    "        e = self.embedding(x)\n",
    "        z = self.linear(e)\n",
    "        return z\n",
    "    \n",
    "# define an instande of the model class\n",
    "w2w_sg = W2WSG()\n",
    "\n",
    "# define an optimizer and loss\n",
    "optimizer = torch.optim.Adam(lr = 0.02, params = w2w_sg.parameters())\n",
    "loss_fn = torch.nn.CrossEntropyLoss()\n",
    "\n",
    "losses = []\n",
    "epochs = 300\n",
    "for epoch in range(epochs):\n",
    "    w2w_sg.train()\n",
    "    scores = w2w_sg(torch.tensor(X))\n",
    "    batch_loss = loss_fn(scores, torch.tensor(y))\n",
    "    optimizer.zero_grad()\n",
    "    batch_loss.backward()\n",
    "    optimizer.step()\n",
    "\n",
    "    losses.append(batch_loss.detach().numpy())\n",
    "\n",
    "# visualize the training loss  \n",
    "plt.plot(losses)\n",
    "plt.title(\"Training loss\")\n",
    "plt.show()"
   ]
  },
  {
   "cell_type": "code",
   "execution_count": 23,
   "metadata": {},
   "outputs": [
    {
     "data": {
      "text/html": [
       "<div>\n",
       "<style scoped>\n",
       "    .dataframe tbody tr th:only-of-type {\n",
       "        vertical-align: middle;\n",
       "    }\n",
       "\n",
       "    .dataframe tbody tr th {\n",
       "        vertical-align: top;\n",
       "    }\n",
       "\n",
       "    .dataframe thead th {\n",
       "        text-align: right;\n",
       "    }\n",
       "</style>\n",
       "<table border=\"1\" class=\"dataframe\">\n",
       "  <thead>\n",
       "    <tr style=\"text-align: right;\">\n",
       "      <th></th>\n",
       "      <th>the</th>\n",
       "      <th>dog</th>\n",
       "      <th>would</th>\n",
       "      <th>like</th>\n",
       "      <th>a</th>\n",
       "      <th>piece</th>\n",
       "      <th>of</th>\n",
       "      <th>sandwich</th>\n",
       "      <th>i</th>\n",
       "      <th>to</th>\n",
       "      <th>eat</th>\n",
       "      <th>ice</th>\n",
       "      <th>cream</th>\n",
       "      <th>is</th>\n",
       "      <th>good</th>\n",
       "      <th>friend</th>\n",
       "    </tr>\n",
       "  </thead>\n",
       "  <tbody>\n",
       "    <tr>\n",
       "      <th>the</th>\n",
       "      <td>1.000000</td>\n",
       "      <td>-0.004728</td>\n",
       "      <td>-0.410720</td>\n",
       "      <td>-0.165900</td>\n",
       "      <td>0.735380</td>\n",
       "      <td>-0.599328</td>\n",
       "      <td>-0.156866</td>\n",
       "      <td>0.198813</td>\n",
       "      <td>0.425639</td>\n",
       "      <td>-0.527254</td>\n",
       "      <td>0.422726</td>\n",
       "      <td>-0.086234</td>\n",
       "      <td>-0.559244</td>\n",
       "      <td>-0.961414</td>\n",
       "      <td>-0.066353</td>\n",
       "      <td>-0.949136</td>\n",
       "    </tr>\n",
       "    <tr>\n",
       "      <th>dog</th>\n",
       "      <td>-0.004728</td>\n",
       "      <td>1.000000</td>\n",
       "      <td>0.745592</td>\n",
       "      <td>-0.195155</td>\n",
       "      <td>0.656198</td>\n",
       "      <td>0.159656</td>\n",
       "      <td>0.071291</td>\n",
       "      <td>-0.559763</td>\n",
       "      <td>-0.898839</td>\n",
       "      <td>-0.793715</td>\n",
       "      <td>-0.896871</td>\n",
       "      <td>-0.995629</td>\n",
       "      <td>-0.821203</td>\n",
       "      <td>0.236553</td>\n",
       "      <td>0.979299</td>\n",
       "      <td>0.210970</td>\n",
       "    </tr>\n",
       "    <tr>\n",
       "      <th>would</th>\n",
       "      <td>-0.410720</td>\n",
       "      <td>0.745592</td>\n",
       "      <td>1.000000</td>\n",
       "      <td>-0.587416</td>\n",
       "      <td>0.270328</td>\n",
       "      <td>0.776881</td>\n",
       "      <td>-0.402769</td>\n",
       "      <td>-0.072526</td>\n",
       "      <td>-0.905314</td>\n",
       "      <td>-0.219032</td>\n",
       "      <td>-0.914616</td>\n",
       "      <td>-0.716516</td>\n",
       "      <td>-0.334322</td>\n",
       "      <td>0.645394</td>\n",
       "      <td>0.653596</td>\n",
       "      <td>0.668779</td>\n",
       "    </tr>\n",
       "    <tr>\n",
       "      <th>like</th>\n",
       "      <td>-0.165900</td>\n",
       "      <td>-0.195155</td>\n",
       "      <td>-0.587416</td>\n",
       "      <td>1.000000</td>\n",
       "      <td>-0.401097</td>\n",
       "      <td>-0.689979</td>\n",
       "      <td>0.964277</td>\n",
       "      <td>-0.701597</td>\n",
       "      <td>0.221553</td>\n",
       "      <td>-0.043291</td>\n",
       "      <td>0.243550</td>\n",
       "      <td>0.230019</td>\n",
       "      <td>0.165068</td>\n",
       "      <td>-0.028841</td>\n",
       "      <td>0.005500</td>\n",
       "      <td>-0.112737</td>\n",
       "    </tr>\n",
       "    <tr>\n",
       "      <th>a</th>\n",
       "      <td>0.735380</td>\n",
       "      <td>0.656198</td>\n",
       "      <td>0.270328</td>\n",
       "      <td>-0.401097</td>\n",
       "      <td>1.000000</td>\n",
       "      <td>-0.215579</td>\n",
       "      <td>-0.221540</td>\n",
       "      <td>-0.097628</td>\n",
       "      <td>-0.297299</td>\n",
       "      <td>-0.866979</td>\n",
       "      <td>-0.301664</td>\n",
       "      <td>-0.723785</td>\n",
       "      <td>-0.940441</td>\n",
       "      <td>-0.531032</td>\n",
       "      <td>0.567144</td>\n",
       "      <td>-0.524908</td>\n",
       "    </tr>\n",
       "    <tr>\n",
       "      <th>piece</th>\n",
       "      <td>-0.599328</td>\n",
       "      <td>0.159656</td>\n",
       "      <td>0.776881</td>\n",
       "      <td>-0.689979</td>\n",
       "      <td>-0.215579</td>\n",
       "      <td>1.000000</td>\n",
       "      <td>-0.668215</td>\n",
       "      <td>0.425204</td>\n",
       "      <td>-0.490317</td>\n",
       "      <td>0.424056</td>\n",
       "      <td>-0.506050</td>\n",
       "      <td>-0.121209</td>\n",
       "      <td>0.278370</td>\n",
       "      <td>0.728636</td>\n",
       "      <td>0.041967</td>\n",
       "      <td>0.787824</td>\n",
       "    </tr>\n",
       "    <tr>\n",
       "      <th>of</th>\n",
       "      <td>-0.156866</td>\n",
       "      <td>0.071291</td>\n",
       "      <td>-0.402769</td>\n",
       "      <td>0.964277</td>\n",
       "      <td>-0.221540</td>\n",
       "      <td>-0.668215</td>\n",
       "      <td>1.000000</td>\n",
       "      <td>-0.863713</td>\n",
       "      <td>-0.011358</td>\n",
       "      <td>-0.265764</td>\n",
       "      <td>0.011555</td>\n",
       "      <td>-0.035803</td>\n",
       "      <td>-0.061252</td>\n",
       "      <td>0.021550</td>\n",
       "      <td>0.269384</td>\n",
       "      <td>-0.070711</td>\n",
       "    </tr>\n",
       "    <tr>\n",
       "      <th>sandwich</th>\n",
       "      <td>0.198813</td>\n",
       "      <td>-0.559763</td>\n",
       "      <td>-0.072526</td>\n",
       "      <td>-0.701597</td>\n",
       "      <td>-0.097628</td>\n",
       "      <td>0.425204</td>\n",
       "      <td>-0.863713</td>\n",
       "      <td>1.000000</td>\n",
       "      <td>0.488805</td>\n",
       "      <td>0.579013</td>\n",
       "      <td>0.468893</td>\n",
       "      <td>0.522361</td>\n",
       "      <td>0.423464</td>\n",
       "      <td>-0.201774</td>\n",
       "      <td>-0.715490</td>\n",
       "      <td>-0.112712</td>\n",
       "    </tr>\n",
       "    <tr>\n",
       "      <th>i</th>\n",
       "      <td>0.425639</td>\n",
       "      <td>-0.898839</td>\n",
       "      <td>-0.905314</td>\n",
       "      <td>0.221553</td>\n",
       "      <td>-0.297299</td>\n",
       "      <td>-0.490317</td>\n",
       "      <td>-0.011358</td>\n",
       "      <td>0.488805</td>\n",
       "      <td>1.000000</td>\n",
       "      <td>0.453908</td>\n",
       "      <td>0.999737</td>\n",
       "      <td>0.859149</td>\n",
       "      <td>0.489717</td>\n",
       "      <td>-0.635101</td>\n",
       "      <td>-0.883017</td>\n",
       "      <td>-0.617811</td>\n",
       "    </tr>\n",
       "    <tr>\n",
       "      <th>to</th>\n",
       "      <td>-0.527254</td>\n",
       "      <td>-0.793715</td>\n",
       "      <td>-0.219032</td>\n",
       "      <td>-0.043291</td>\n",
       "      <td>-0.866979</td>\n",
       "      <td>0.424056</td>\n",
       "      <td>-0.265764</td>\n",
       "      <td>0.579013</td>\n",
       "      <td>0.453908</td>\n",
       "      <td>1.000000</td>\n",
       "      <td>0.447165</td>\n",
       "      <td>0.832229</td>\n",
       "      <td>0.978198</td>\n",
       "      <td>0.366045</td>\n",
       "      <td>-0.801709</td>\n",
       "      <td>0.406562</td>\n",
       "    </tr>\n",
       "    <tr>\n",
       "      <th>eat</th>\n",
       "      <td>0.422726</td>\n",
       "      <td>-0.896871</td>\n",
       "      <td>-0.914616</td>\n",
       "      <td>0.243550</td>\n",
       "      <td>-0.301664</td>\n",
       "      <td>-0.506050</td>\n",
       "      <td>0.011555</td>\n",
       "      <td>0.468893</td>\n",
       "      <td>0.999737</td>\n",
       "      <td>0.447165</td>\n",
       "      <td>1.000000</td>\n",
       "      <td>0.857936</td>\n",
       "      <td>0.487647</td>\n",
       "      <td>-0.635197</td>\n",
       "      <td>-0.876543</td>\n",
       "      <td>-0.620029</td>\n",
       "    </tr>\n",
       "    <tr>\n",
       "      <th>ice</th>\n",
       "      <td>-0.086234</td>\n",
       "      <td>-0.995629</td>\n",
       "      <td>-0.716516</td>\n",
       "      <td>0.230019</td>\n",
       "      <td>-0.723785</td>\n",
       "      <td>-0.121209</td>\n",
       "      <td>-0.035803</td>\n",
       "      <td>0.522361</td>\n",
       "      <td>0.859149</td>\n",
       "      <td>0.832229</td>\n",
       "      <td>0.857936</td>\n",
       "      <td>1.000000</td>\n",
       "      <td>0.866866</td>\n",
       "      <td>-0.151330</td>\n",
       "      <td>-0.965307</td>\n",
       "      <td>-0.128874</td>\n",
       "    </tr>\n",
       "    <tr>\n",
       "      <th>cream</th>\n",
       "      <td>-0.559244</td>\n",
       "      <td>-0.821203</td>\n",
       "      <td>-0.334322</td>\n",
       "      <td>0.165068</td>\n",
       "      <td>-0.940441</td>\n",
       "      <td>0.278370</td>\n",
       "      <td>-0.061252</td>\n",
       "      <td>0.423464</td>\n",
       "      <td>0.489717</td>\n",
       "      <td>0.978198</td>\n",
       "      <td>0.487647</td>\n",
       "      <td>0.866866</td>\n",
       "      <td>1.000000</td>\n",
       "      <td>0.360156</td>\n",
       "      <td>-0.787225</td>\n",
       "      <td>0.382609</td>\n",
       "    </tr>\n",
       "    <tr>\n",
       "      <th>is</th>\n",
       "      <td>-0.961414</td>\n",
       "      <td>0.236553</td>\n",
       "      <td>0.645394</td>\n",
       "      <td>-0.028841</td>\n",
       "      <td>-0.531032</td>\n",
       "      <td>0.728636</td>\n",
       "      <td>0.021550</td>\n",
       "      <td>-0.201774</td>\n",
       "      <td>-0.635101</td>\n",
       "      <td>0.366045</td>\n",
       "      <td>-0.635197</td>\n",
       "      <td>-0.151330</td>\n",
       "      <td>0.360156</td>\n",
       "      <td>1.000000</td>\n",
       "      <td>0.262430</td>\n",
       "      <td>0.995560</td>\n",
       "    </tr>\n",
       "    <tr>\n",
       "      <th>good</th>\n",
       "      <td>-0.066353</td>\n",
       "      <td>0.979299</td>\n",
       "      <td>0.653596</td>\n",
       "      <td>0.005500</td>\n",
       "      <td>0.567144</td>\n",
       "      <td>0.041967</td>\n",
       "      <td>0.269384</td>\n",
       "      <td>-0.715490</td>\n",
       "      <td>-0.883017</td>\n",
       "      <td>-0.801709</td>\n",
       "      <td>-0.876543</td>\n",
       "      <td>-0.965307</td>\n",
       "      <td>-0.787225</td>\n",
       "      <td>0.262430</td>\n",
       "      <td>1.000000</td>\n",
       "      <td>0.219301</td>\n",
       "    </tr>\n",
       "    <tr>\n",
       "      <th>friend</th>\n",
       "      <td>-0.949136</td>\n",
       "      <td>0.210970</td>\n",
       "      <td>0.668779</td>\n",
       "      <td>-0.112737</td>\n",
       "      <td>-0.524908</td>\n",
       "      <td>0.787824</td>\n",
       "      <td>-0.070711</td>\n",
       "      <td>-0.112712</td>\n",
       "      <td>-0.617811</td>\n",
       "      <td>0.406562</td>\n",
       "      <td>-0.620029</td>\n",
       "      <td>-0.128874</td>\n",
       "      <td>0.382609</td>\n",
       "      <td>0.995560</td>\n",
       "      <td>0.219301</td>\n",
       "      <td>1.000000</td>\n",
       "    </tr>\n",
       "  </tbody>\n",
       "</table>\n",
       "</div>"
      ],
      "text/plain": [
       "               the       dog     would      like         a     piece  \\\n",
       "the       1.000000 -0.004728 -0.410720 -0.165900  0.735380 -0.599328   \n",
       "dog      -0.004728  1.000000  0.745592 -0.195155  0.656198  0.159656   \n",
       "would    -0.410720  0.745592  1.000000 -0.587416  0.270328  0.776881   \n",
       "like     -0.165900 -0.195155 -0.587416  1.000000 -0.401097 -0.689979   \n",
       "a         0.735380  0.656198  0.270328 -0.401097  1.000000 -0.215579   \n",
       "piece    -0.599328  0.159656  0.776881 -0.689979 -0.215579  1.000000   \n",
       "of       -0.156866  0.071291 -0.402769  0.964277 -0.221540 -0.668215   \n",
       "sandwich  0.198813 -0.559763 -0.072526 -0.701597 -0.097628  0.425204   \n",
       "i         0.425639 -0.898839 -0.905314  0.221553 -0.297299 -0.490317   \n",
       "to       -0.527254 -0.793715 -0.219032 -0.043291 -0.866979  0.424056   \n",
       "eat       0.422726 -0.896871 -0.914616  0.243550 -0.301664 -0.506050   \n",
       "ice      -0.086234 -0.995629 -0.716516  0.230019 -0.723785 -0.121209   \n",
       "cream    -0.559244 -0.821203 -0.334322  0.165068 -0.940441  0.278370   \n",
       "is       -0.961414  0.236553  0.645394 -0.028841 -0.531032  0.728636   \n",
       "good     -0.066353  0.979299  0.653596  0.005500  0.567144  0.041967   \n",
       "friend   -0.949136  0.210970  0.668779 -0.112737 -0.524908  0.787824   \n",
       "\n",
       "                of  sandwich         i        to       eat       ice  \\\n",
       "the      -0.156866  0.198813  0.425639 -0.527254  0.422726 -0.086234   \n",
       "dog       0.071291 -0.559763 -0.898839 -0.793715 -0.896871 -0.995629   \n",
       "would    -0.402769 -0.072526 -0.905314 -0.219032 -0.914616 -0.716516   \n",
       "like      0.964277 -0.701597  0.221553 -0.043291  0.243550  0.230019   \n",
       "a        -0.221540 -0.097628 -0.297299 -0.866979 -0.301664 -0.723785   \n",
       "piece    -0.668215  0.425204 -0.490317  0.424056 -0.506050 -0.121209   \n",
       "of        1.000000 -0.863713 -0.011358 -0.265764  0.011555 -0.035803   \n",
       "sandwich -0.863713  1.000000  0.488805  0.579013  0.468893  0.522361   \n",
       "i        -0.011358  0.488805  1.000000  0.453908  0.999737  0.859149   \n",
       "to       -0.265764  0.579013  0.453908  1.000000  0.447165  0.832229   \n",
       "eat       0.011555  0.468893  0.999737  0.447165  1.000000  0.857936   \n",
       "ice      -0.035803  0.522361  0.859149  0.832229  0.857936  1.000000   \n",
       "cream    -0.061252  0.423464  0.489717  0.978198  0.487647  0.866866   \n",
       "is        0.021550 -0.201774 -0.635101  0.366045 -0.635197 -0.151330   \n",
       "good      0.269384 -0.715490 -0.883017 -0.801709 -0.876543 -0.965307   \n",
       "friend   -0.070711 -0.112712 -0.617811  0.406562 -0.620029 -0.128874   \n",
       "\n",
       "             cream        is      good    friend  \n",
       "the      -0.559244 -0.961414 -0.066353 -0.949136  \n",
       "dog      -0.821203  0.236553  0.979299  0.210970  \n",
       "would    -0.334322  0.645394  0.653596  0.668779  \n",
       "like      0.165068 -0.028841  0.005500 -0.112737  \n",
       "a        -0.940441 -0.531032  0.567144 -0.524908  \n",
       "piece     0.278370  0.728636  0.041967  0.787824  \n",
       "of       -0.061252  0.021550  0.269384 -0.070711  \n",
       "sandwich  0.423464 -0.201774 -0.715490 -0.112712  \n",
       "i         0.489717 -0.635101 -0.883017 -0.617811  \n",
       "to        0.978198  0.366045 -0.801709  0.406562  \n",
       "eat       0.487647 -0.635197 -0.876543 -0.620029  \n",
       "ice       0.866866 -0.151330 -0.965307 -0.128874  \n",
       "cream     1.000000  0.360156 -0.787225  0.382609  \n",
       "is        0.360156  1.000000  0.262430  0.995560  \n",
       "good     -0.787225  0.262430  1.000000  0.219301  \n",
       "friend    0.382609  0.995560  0.219301  1.000000  "
      ]
     },
     "execution_count": 23,
     "metadata": {},
     "output_type": "execute_result"
    }
   ],
   "source": [
    "word_embeddings = w2w_sg.linear.weight.detach().numpy()\n",
    "word_embeddings_df = pd.DataFrame(cosine_similarity(word_embeddings), columns = list(word2index.keys()), index = list(word2index.keys()))\n",
    "word_embeddings_df"
   ]
  },
  {
   "cell_type": "markdown",
   "metadata": {},
   "source": [
    "### Practical considerations\n",
    "\n",
    "CBOW aggregates context by summing or averaging context word vectors. This has a smoothing effect which it may be helpful for smaller data sets. On the other side, it does not take full advantage of granular context information. As a consequence, it can be beneficial to use CBOW for smaller corpora and SG for larger ones. The embedding dimension is an important hyperparameter for the model. Choosing higher values may improve the understanding of context similarity, while, at the same time, more data is needed to learn this. Common choices for larger and pre-trained models are in the range $[100, 300]$, however, sometimes embedding sizes go even higher. Another hyperparameter is the window size of the context. Common choices are between $5$ and $10$. Very frequent words can dominate the training of word embeddings. A common technique is to down-sample these words or even completely ignore them. At the same time words which appear very rarely may also be ignored because general relationships are hard to identify."
   ]
  },
  {
   "cell_type": "markdown",
   "metadata": {},
   "source": [
    "## Working with word vectors\n",
    "\n",
    "Once a Word2Vec model has been trained, we can generate numerical representations of words. An important side note is that a corpus usually is preprocessed before the model is trained. One central aspect of preprocessing is tokenization, i.e., the way each text is split into tokens which build the basis for creating a lexicon. Finally, each token in the lexicon will be mapped to a word embedding during the training process. This means, if we use, e.g., lower cases only, the word \"Germany\" will have no embedding because it is represented by the token \"germany\" after preprocessing. Consequently, if we process text in a different way than it has been done before training the model, we will receive many unknown token errors when we want to generate word embeddings. If we train our own model, this should be no problem because we can use the same tokenizer for handling text data after model training. However, if we use a pre-trained model and its embeddings, this may become a ciritical issue.\n",
    "\n",
    "### Common usage\n",
    "\n",
    "Nevertheless, let us start with a popular pre-trained model and its word embeddings: the [Google News embeddings](https://code.google.com/archive/p/word2vec/). They have been trained using the Google News dataset which includes about 100 billion words. The resulting model comes along with 300 dimensional vectors for 3 million words and phrases. What can we do with these vectors? The following common things come into mind:\n",
    "\n",
    "* examine word similarities\n",
    "* examine word analogies\n",
    "* determine document embeddings\n",
    "* visualize word \n",
    "\n",
    "To determine word similarities, we compute a vector based similarity measure. The most popular choice in the natural language processing domain is the cosine similarity which has been presented in an earlier chapter of this book. For instance, the cell below shows the top ten similar words to the word "
   ]
  },
  {
   "cell_type": "code",
   "execution_count": 24,
   "metadata": {},
   "outputs": [
    {
     "data": {
      "text/plain": [
       "[('crises', 0.7838959693908691),\n",
       " ('turmoil', 0.6912833452224731),\n",
       " ('meltdown', 0.6789990067481995),\n",
       " ('credit_crunch', 0.6228187084197998),\n",
       " ('crisis.The', 0.6024228930473328),\n",
       " ('recession', 0.5982968211174011),\n",
       " ('downturn', 0.5976395010948181),\n",
       " ('subprime_mortgage_crisis', 0.5934383869171143),\n",
       " ('economic_downturn', 0.5829673409461975),\n",
       " ('liquidity_crunch', 0.5580255389213562)]"
      ]
     },
     "execution_count": 24,
     "metadata": {},
     "output_type": "execute_result"
    }
   ],
   "source": [
    "from gensim.models import KeyedVectors\n",
    "\n",
    "google_word_vectors = KeyedVectors.load_word2vec_format(\"../language_models/GoogleNews-vectors-negative300.bin.gz\", binary = True)\n",
    "google_word_vectors.most_similar(positive = \"crisis\")"
   ]
  },
  {
   "cell_type": "markdown",
   "metadata": {},
   "source": [
    "We observe cosine similarities in the range between $0.53$ and $0.63$. This brings up the question about the actual range of cosine similarities for all word embeddings. Due to the immense amount of words, we sample 10,000 words from the lexicon and determine their pairwise cosine similarities. The histogram below demonstrates that similarities seem to be roughly in the range $[-0.25, 0.80]$, even though values in the interval $[-1, 1]$ would be possible. This gives us a better understanding of common similarity levels for word pairs are. "
   ]
  },
  {
   "cell_type": "code",
   "execution_count": 25,
   "metadata": {},
   "outputs": [
    {
     "data": {
      "image/png": "[encoded data removed]",
      "text/plain": [
       "<Figure size 640x480 with 1 Axes>"
      ]
     },
     "metadata": {},
     "output_type": "display_data"
    }
   ],
   "source": [
    "import numpy as np\n",
    "from numpy.random import default_rng\n",
    "import matplotlib.pylab as plt\n",
    "from sklearn.metrics.pairwise import cosine_similarity\n",
    "\n",
    "# draw 10000 random vectors and determine their pairwise similarities to get an idea about the similarity range\n",
    "rng = default_rng(seed = 42)\n",
    "rnd_idx = rng.choice(len(google_word_vectors), size=10000, replace=False)\n",
    "pairwise_similarities = cosine_similarity(google_word_vectors[rnd_idx]) \n",
    "pairwise_similarities_flat = pairwise_similarities[np.tril_indices(pairwise_similarities.shape[0], k = -1)]\n",
    "plt.hist(pairwise_similarities_flat)\n",
    "plt.show()"
   ]
  },
  {
   "cell_type": "markdown",
   "metadata": {},
   "source": [
    "The next impressive aspect of word embeddings is that we can use vector calculus to examine similarities and dissimilarities between words. The most popular example is the word analogy of \"woman\" to \"man\" which should be similar to \"queen\" and \"king\". Given the vectors $\\boldsymbol{w}^{(woman)}, \\boldsymbol{w}^{(man)}, \\boldsymbol{w}^{(queen)}, \\boldsymbol{w}^{(king)}$, we can calculate the differences $\\boldsymbol{w}^{(woman)} - \\boldsymbol{w}^{(man)}$ and $\\boldsymbol{w}^{(queen)} - \\boldsymbol{w}^{(king)}$. If the relation of woman to man is similar as the relation of queen to king, we should get:\n",
    "\n",
    "$$\n",
    "\\boldsymbol{w}^{(woman)} - \\boldsymbol{w}^{(man)} \\approx \\boldsymbol{w}^{(queen)} - \\boldsymbol{w}^{(king)} \n",
    "$$\n",
    "\n",
    "thus, \n",
    "\n",
    "$$\n",
    "\\boldsymbol{w}^{(woman)} - \\boldsymbol{w}^{(man)} + \\boldsymbol{w}^{(king)} \n",
    "$$\n",
    "\n",
    "should be most similar to \n",
    "\n",
    "$$\n",
    "\\boldsymbol{w}^{(queen)}\n",
    "$$\n",
    "\n",
    "Let us find out:"
   ]
  },
  {
   "cell_type": "code",
   "execution_count": 26,
   "metadata": {},
   "outputs": [
    {
     "data": {
      "text/plain": [
       "[('king', 0.8449392318725586),\n",
       " ('queen', 0.7300516366958618),\n",
       " ('monarch', 0.6454660296440125),\n",
       " ('princess', 0.6156251430511475),\n",
       " ('crown_prince', 0.5818676948547363),\n",
       " ('prince', 0.5777117609977722),\n",
       " ('kings', 0.5613663792610168),\n",
       " ('sultan', 0.5376776456832886),\n",
       " ('Queen_Consort', 0.5344247817993164),\n",
       " ('queens', 0.5289887189865112)]"
      ]
     },
     "execution_count": 26,
     "metadata": {},
     "output_type": "execute_result"
    }
   ],
   "source": [
    "google_word_vectors.similar_by_vector(google_word_vectors[\"woman\"] - google_word_vectors[\"man\"] + google_word_vectors[\"king\"])"
   ]
  },
  {
   "cell_type": "markdown",
   "metadata": {},
   "source": [
    "Tadaa! This seems to work pretty good. Note, the calculation can also be done by the most_similar method, positive are the vectors with a positive sign, negative the ones with a negative sign:"
   ]
  },
  {
   "cell_type": "code",
   "execution_count": 27,
   "metadata": {},
   "outputs": [
    {
     "data": {
      "text/plain": [
       "[('queen', 0.7118192911148071),\n",
       " ('monarch', 0.6189674735069275),\n",
       " ('princess', 0.5902431011199951),\n",
       " ('crown_prince', 0.5499460697174072),\n",
       " ('prince', 0.5377321243286133),\n",
       " ('kings', 0.5236844420433044),\n",
       " ('Queen_Consort', 0.5235945582389832),\n",
       " ('queens', 0.5181134343147278),\n",
       " ('sultan', 0.5098593235015869),\n",
       " ('monarchy', 0.5087411403656006)]"
      ]
     },
     "execution_count": 27,
     "metadata": {},
     "output_type": "execute_result"
    }
   ],
   "source": [
    "google_word_vectors.most_similar(positive=['woman', 'king'], negative=['man'])"
   ]
  },
  {
   "cell_type": "markdown",
   "metadata": {},
   "source": [
    "If we can calculate with words, we can also average and sum word vectors. For instance, we can split a sentence into words and sum or average its word vectors to derive a sentence embedding. "
   ]
  },
  {
   "cell_type": "code",
   "execution_count": 28,
   "metadata": {},
   "outputs": [
    {
     "name": "stdout",
     "output_type": "stream",
     "text": [
      "Tokenized sentences:\n",
      "[['the', 'dog', 'would', 'like', 'a', 'piece', 'of', 'the', 'sandwich'], ['i', 'like', 'to', 'eat', 'ice', 'cream'], ['a', 'dog', 'is', 'a', 'good', 'friend']] \n",
      "\n",
      "Pairwise cosine similarities:\n"
     ]
    },
    {
     "data": {
      "text/html": [
       "<div>\n",
       "<style scoped>\n",
       "    .dataframe tbody tr th:only-of-type {\n",
       "        vertical-align: middle;\n",
       "    }\n",
       "\n",
       "    .dataframe tbody tr th {\n",
       "        vertical-align: top;\n",
       "    }\n",
       "\n",
       "    .dataframe thead th {\n",
       "        text-align: right;\n",
       "    }\n",
       "</style>\n",
       "<table border=\"1\" class=\"dataframe\">\n",
       "  <thead>\n",
       "    <tr style=\"text-align: right;\">\n",
       "      <th></th>\n",
       "      <th>s1</th>\n",
       "      <th>s2</th>\n",
       "      <th>s3</th>\n",
       "    </tr>\n",
       "  </thead>\n",
       "  <tbody>\n",
       "    <tr>\n",
       "      <th>s1</th>\n",
       "      <td>1.0000</td>\n",
       "      <td>0.5117</td>\n",
       "      <td>0.5692</td>\n",
       "    </tr>\n",
       "    <tr>\n",
       "      <th>s2</th>\n",
       "      <td>0.5117</td>\n",
       "      <td>1.0000</td>\n",
       "      <td>0.3753</td>\n",
       "    </tr>\n",
       "    <tr>\n",
       "      <th>s3</th>\n",
       "      <td>0.5692</td>\n",
       "      <td>0.3753</td>\n",
       "      <td>1.0000</td>\n",
       "    </tr>\n",
       "  </tbody>\n",
       "</table>\n",
       "</div>"
      ],
      "text/plain": [
       "        s1      s2      s3\n",
       "s1  1.0000  0.5117  0.5692\n",
       "s2  0.5117  1.0000  0.3753\n",
       "s3  0.5692  0.3753  1.0000"
      ]
     },
     "execution_count": 28,
     "metadata": {},
     "output_type": "execute_result"
    }
   ],
   "source": [
    "print(\"Tokenized sentences:\")\n",
    "print(f\"{corpus} \\n\")\n",
    "sentence_embeddings = [google_word_vectors.get_mean_vector(sentence) for sentence in corpus]\n",
    "cosine_similarity_matrix = np.round(cosine_similarity(np.array(sentence_embeddings)), 4)\n",
    "print(\"Pairwise cosine similarities:\")\n",
    "pd.DataFrame(cosine_similarity_matrix, index = [f\"s{i+1}\" for i in range(3)], columns = [f\"s{i+1}\" for i in range(3)])"
   ]
  },
  {
   "cell_type": "markdown",
   "metadata": {},
   "source": [
    "Furthermore, we can build topic vectors which are calculated as the average of individual word vectors which represent a similar content. "
   ]
  },
  {
   "cell_type": "code",
   "execution_count": 29,
   "metadata": {},
   "outputs": [
    {
     "data": {
      "text/plain": [
       "[('social', 0.7614427804946899),\n",
       " ('environmental', 0.7357089519500732),\n",
       " ('governance', 0.6950607895851135),\n",
       " ('ecological', 0.6291204690933228),\n",
       " ('corporate_governance_ESG', 0.6060682535171509),\n",
       " ('governance_ESG_issues', 0.6004064679145813),\n",
       " ('sustainablity', 0.5869180560112),\n",
       " ('environmental_sustainability', 0.5842981338500977),\n",
       " ('governance_ESG_factors', 0.5816299319267273),\n",
       " ('governance_ESG', 0.57416170835495)]"
      ]
     },
     "execution_count": 29,
     "metadata": {},
     "output_type": "execute_result"
    }
   ],
   "source": [
    "topic_words = [\"environmental\", \"social\", \"governance\"]\n",
    "google_word_vectors.similar_by_vector(google_word_vectors.get_mean_vector(topic_words))"
   ]
  },
  {
   "cell_type": "markdown",
   "metadata": {},
   "source": [
    "The only thing which is a little unfortunate is that we are not able to visualize how close certain word vectors are to others. This can be overcome by combining dimensionality reduction techniques with word embeddings. Different models can be used for dimensionality reduction. In general, dimensionality reduction tries to find lower dimensional representations of the original word vectors which keep as much of the original behavior as possible. Below, we train the umap reduction model to a sample of 100,000 word vectors. "
   ]
  },
  {
   "cell_type": "code",
   "execution_count": 30,
   "metadata": {},
   "outputs": [
    {
     "name": "stderr",
     "output_type": "stream",
     "text": [
      "/Users/ralf/Library/Mobile Documents/com~apple~CloudDocs/Kurse/DLTA/.venv/lib/python3.11/site-packages/tqdm/auto.py:21: TqdmWarning:\n",
      "\n",
      "IProgress not found. Please update jupyter and ipywidgets. See https://ipywidgets.readthedocs.io/en/stable/user_install.html\n",
      "\n"
     ]
    }
   ],
   "source": [
    "import umap\n",
    "import pickle\n",
    "\n",
    "try:\n",
    "    with open(\"../language_models/w2v_10K/dim_reducer_google.pkl\", \"rb\") as handle:\n",
    "        dim_reducer = pickle.load(handle)\n",
    "except:\n",
    "    print(\"Train dimensionality reducer first...\")\n",
    "    dim_reducer = umap.UMAP(n_components=2, metric = \"cosine\")\n",
    "    rnd_idx = rng.choice(len(google_word_vectors), size=100000, replace=False)\n",
    "    dim_reducer.fit(google_word_vectors[rnd_idx])\n",
    "    with open(\"../language_models/w2v_10K/dim_reducer_google.pkl\", 'wb') as handle:\n",
    "        pickle.dump(dim_reducer, handle, protocol=pickle.HIGHEST_PROTOCOL)"
   ]
  },
  {
   "cell_type": "markdown",
   "metadata": {},
   "source": [
    "Now, we combine these techniques and plot two dimensional representations for similar and random words. In the example below, we look for the $20$ most similar words of the word \"crisis\". We generate two dimensional representations for the corresponding word vectors by transforming the original $300$ dimensional vectors with the umap dimensionality reduction model. The same thing is done for $100$ randomly selected words. The resulting vectors can be viszalized in the scatter plot below. "
   ]
  },
  {
   "cell_type": "code",
   "execution_count": 31,
   "metadata": {},
   "outputs": [
    {
     "name": "stderr",
     "output_type": "stream",
     "text": [
      "/Users/ralf/Library/Mobile Documents/com~apple~CloudDocs/Kurse/DLTA/.venv/lib/python3.11/site-packages/plotly/express/_core.py:2065: FutureWarning:\n",
      "\n",
      "When grouping with a length-1 list-like, you will need to pass a length-1 tuple to get_group in a future version of pandas. Pass `(name,)` instead of `name` to silence this warning.\n",
      "\n"
     ]
    },
    {
     "data": {
      "application/vnd.plotly.v1+json": {
       "config": {
        "plotlyServerURL": "https://plot.ly"
       },
       "data": [
        {
         "hovertemplate": "<b>%{hovertext}</b><br><br>category=positive<br>u1=%{x}<br>u2=%{y}<extra></extra>",
         "hovertext": [
          "crises",
          "turmoil",
          "meltdown",
          "credit_crunch",
          "crisis.The",
          "recession",
          "downturn",
          "subprime_mortgage_crisis",
          "economic_downturn",
          "liquidity_crunch",
          "crisi",
          "upheaval",
          "turmoil_engulfing",
          "crunch",
          "calamity",
          "contagion",
          "malaise_gripping",
          "upheavals",
          "subprime_mortgage_meltdown",
          "recesssion"
         ],
         "legendgroup": "positive",
         "marker": {
          "color": "#636efa",
          "symbol": "circle"
         },
         "mode": "markers",
         "name": "positive",
         "orientation": "v",
         "showlegend": true,
         "type": "scatter",
         "x": [
          -1.5261181592941284,
          -1.663982629776001,
          1.9784373044967651,
          2.0855917930603027,
          2.4684135913848877,
          2.134253978729248,
          2.189274787902832,
          2.1539418697357178,
          1.9765241146087646,
          2.5051746368408203,
          -3.3110644817352295,
          -1.7494916915893555,
          1.5424082279205322,
          -0.3903975486755371,
          -0.4031836688518524,
          2.368609666824341,
          1.846648931503296,
          -2.1019351482391357,
          2.113964557647705,
          2.2630162239074707
         ],
         "xaxis": "x",
         "y": [
          -0.6327296495437622,
          -0.6118609309196472,
          -1.679596185684204,
          -1.6953210830688477,
          -1.6936784982681274,
          -1.701174020767212,
          -1.7466390132904053,
          -1.6909602880477905,
          -1.7364963293075562,
          -1.5511001348495483,
          1.11251699924469,
          -0.5663620829582214,
          -1.2406450510025024,
          -0.7364689707756042,
          -1.0124000310897827,
          -1.6357781887054443,
          -1.67051100730896,
          -0.6020960211753845,
          -1.835066318511963,
          -1.7245362997055054
         ],
         "yaxis": "y"
        },
        {
         "hovertemplate": "<b>%{hovertext}</b><br><br>category=negative<br>u1=%{x}<br>u2=%{y}<extra></extra>",
         "hovertext": [
          "Fertittas",
          "Susannah_Meadows",
          "General_Yoshio_Utsumi",
          "Kyonggi_Province",
          "Mansheim",
          "Macedonia_Nordonia",
          "operator_Angkasa_Pura",
          "Krambach",
          "Outright_secular",
          "Cook_Yourself_Thin",
          "Ganira_Pashayeva",
          "Peter_Whittall",
          "BFGoodrich_Baja",
          "Guernica_Picasso",
          "Gumtree",
          "striker_Stuart_Beavon",
          "Daughter_Remembers",
          "overbooked_flights",
          "Tito_Massoud",
          "Yong_Pyong",
          "Phebra",
          "Titlow",
          "Info_www.tops.org",
          "granola",
          "Vladimir_Obradovic",
          "Djang",
          "----------_-----------------------------------------------_unaudited",
          "ImageStation",
          "Cerro_Grande",
          "Auggie_Tantillo_executive",
          "ROLL_OUT_THE",
          "Combat_Infantryman_Badges",
          "Thousand_Cranes",
          "GREEN_PARTY",
          "##M####",
          "Toaff",
          "Clake",
          "Girbaud",
          "Solotomo",
          "Le_Cirque",
          "Sven_Bruss",
          "http://www.avanquest.com",
          "LI",
          "Zeta_Ophiuchi",
          "Patient_Monitoring_Market",
          "Rekong_Peo",
          "atopic_asthma",
          "Ocitti",
          "Zomi_Students_Federation",
          "Cyngor",
          "Alisha_Filmore",
          "heat_exchanger_ruptured",
          "Golden_Pin_Lanes",
          "Jillie",
          "Ti_Logistics_Briefing",
          "Noor_Azam",
          "BIAM_auditorium",
          "Drapers_features",
          "Anastazia_Kuzmina",
          "Throne_Holst",
          "Laura_Grevas_Worthington",
          "mantling",
          "WE_Thu",
          "Steve_Chealander",
          "TT_X_TRADER",
          "Be_Exhumed",
          "Picardi",
          "Daejeon",
          "Deluxe_Rooms",
          "Franco_Prussian_War",
          "ClearBlack_display",
          "shampoo_contraceptives",
          "Bukit_Payong",
          "Deborah_Jeon",
          "Raj_Thackerey",
          "Sub_Swara",
          "Quartermaster_Corps",
          "Dichello_Distributors",
          "Irawati",
          "MCF####",
          "Oquaye",
          "SFA_disciplinary",
          "GameZnFlix",
          "Rube_Waddell",
          "Sholom_Aleichem",
          "Engagement_Rumors",
          "wakame",
          "LVDS_transmitter",
          "director_Jesus_Puc",
          "Athletic_Bilbao_Atletico_Madrid",
          "Vijay_Kannan",
          "Group_JSE_NED",
          "Wellesley_Wenham_West",
          "Don_DeFord",
          "MAp_airports",
          "fecal_coli",
          "King_Athelstan",
          "Jorge_Mario_Bergoglio",
          "Tirumalasetti",
          "Airbus_A###/A###_aircraft"
         ],
         "legendgroup": "negative",
         "marker": {
          "color": "#EF553B",
          "symbol": "circle"
         },
         "mode": "markers",
         "name": "negative",
         "orientation": "v",
         "showlegend": true,
         "type": "scatter",
         "x": [
          -2.2219583988189697,
          -2.089980125427246,
          2.3575026988983154,
          4.121443271636963,
          -1.654356598854065,
          -2.1620538234710693,
          0.07645439356565475,
          1.447812557220459,
          -0.05055435374379158,
          -2.991544246673584,
          2.1886329650878906,
          2.471181631088257,
          2.1129086017608643,
          -2.9026074409484863,
          1.2467727661132812,
          1.2285726070404053,
          -3.2646729946136475,
          0.8708135485649109,
          1.6958128213882446,
          -1.0871366262435913,
          2.3024284839630127,
          -1.336079716682434,
          -0.547576904296875,
          -2.583953380584717,
          -1.826640009880066,
          -0.7555539011955261,
          -3.53873610496521,
          1.3707492351531982,
          -0.9925858378410339,
          1.5025460720062256,
          -5.3787617683410645,
          0.786064624786377,
          -3.6792609691619873,
          -5.194493293762207,
          1.9556769132614136,
          1.3008875846862793,
          -0.3250075876712799,
          -2.8553292751312256,
          4.278125762939453,
          -2.8918683528900146,
          -3.238752603530884,
          0.21290986239910126,
          -1.607755422592163,
          0.25712209939956665,
          0.8275949954986572,
          4.0409040451049805,
          -0.6593166589736938,
          3.707432746887207,
          3.652881145477295,
          -3.6790666580200195,
          -2.721569061279297,
          0.08364679664373398,
          -1.9747538566589355,
          0.1306418627500534,
          -0.41325902938842773,
          3.505995750427246,
          3.536588430404663,
          -0.17851701378822327,
          -1.106176733970642,
          -0.60484379529953,
          -0.2707669734954834,
          4.351306438446045,
          -0.6761494874954224,
          0.9787965416908264,
          1.6057569980621338,
          -1.0871158838272095,
          -1.627057671546936,
          4.11754846572876,
          -1.7173446416854858,
          -2.3898963928222656,
          1.5577929019927979,
          -0.20938794314861298,
          3.57137131690979,
          0.683563768863678,
          3.7163801193237305,
          -4.554481506347656,
          0.8916401863098145,
          -1.8084473609924316,
          3.481818675994873,
          1.935585618019104,
          4.04140043258667,
          1.21253502368927,
          1.4860923290252686,
          -3.875488519668579,
          -3.800852060317993,
          -3.0850915908813477,
          -2.654879570007324,
          1.8591920137405396,
          0.4406467378139496,
          0.8378067016601562,
          -0.1859285980463028,
          -0.07011497020721436,
          -3.6571221351623535,
          -0.13030463457107544,
          2.0111186504364014,
          -0.7511452436447144,
          1.0097938776016235,
          -0.6758529543876648,
          3.521854877471924,
          2.325322151184082
         ],
         "xaxis": "x",
         "y": [
          0.8386194109916687,
          -3.820509910583496,
          0.28706538677215576,
          -0.4481837749481201,
          3.5488040447235107,
          4.646239280700684,
          1.9004663228988647,
          3.2913706302642822,
          -3.3186490535736084,
          -2.257774591445923,
          0.38439682126045227,
          -0.8879769444465637,
          -5.1142802238464355,
          -1.1487276554107666,
          -2.8842830657958984,
          5.136720180511475,
          -1.305330753326416,
          -1.2442243099212646,
          1.0505688190460205,
          5.481593132019043,
          -3.6368257999420166,
          3.5894110202789307,
          -3.510794162750244,
          -2.8911972045898438,
          5.104649543762207,
          3.6153693199157715,
          -5.945518970489502,
          -5.410996437072754,
          -0.3657902777194977,
          -1.2095087766647339,
          -3.859412908554077,
          0.01221597008407116,
          -0.24700742959976196,
          -3.9432287216186523,
          -5.043464183807373,
          1.4773436784744263,
          4.0442328453063965,
          -2.0296900272369385,
          -2.906642198562622,
          -2.1732277870178223,
          2.696943521499634,
          -3.3405425548553467,
          1.3798906803131104,
          -3.982044219970703,
          -2.921879768371582,
          2.129828691482544,
          -5.193192958831787,
          1.2741755247116089,
          2.1567397117614746,
          1.0055012702941895,
          5.138393402099609,
          -4.478349208831787,
          1.0758428573608398,
          3.562885046005249,
          -2.7806644439697266,
          0.6219151616096497,
          2.286109685897827,
          -2.0450611114501953,
          5.529017448425293,
          1.866851806640625,
          -2.089376449584961,
          -3.0990166664123535,
          -2.3608133792877197,
          -0.6163558959960938,
          -4.423406600952148,
          -1.2029085159301758,
          3.0608742237091064,
          -0.4458536207675934,
          0.16790683567523956,
          -0.0522179901599884,
          -5.627045154571533,
          -4.85346794128418,
          0.5071914196014404,
          0.6781048774719238,
          2.460448741912842,
          -0.3171996474266052,
          -0.001922312192618847,
          -0.5459680557250977,
          2.9091718196868896,
          -5.058109283447266,
          1.1261003017425537,
          5.1890153884887695,
          -3.495718479156494,
          5.539917469024658,
          -0.5437673926353455,
          -1.6215667724609375,
          -2.8655662536621094,
          -5.235184669494629,
          0.16908052563667297,
          5.630690097808838,
          5.7049479484558105,
          -1.9701931476593018,
          -4.117440700531006,
          1.486340045928955,
          -1.32571280002594,
          -4.441736698150635,
          2.8208279609680176,
          -0.08852915465831757,
          2.935403823852539,
          -4.370110988616943
         ],
         "yaxis": "y"
        }
       ],
       "layout": {
        "height": 600,
        "legend": {
         "title": {
          "text": "category"
         },
         "tracegroupgap": 0
        },
        "template": {
         "data": {
          "bar": [
           {
            "error_x": {
             "color": "#2a3f5f"
            },
            "error_y": {
             "color": "#2a3f5f"
            },
            "marker": {
             "line": {
              "color": "#E5ECF6",
              "width": 0.5
             },
             "pattern": {
              "fillmode": "overlay",
              "size": 10,
              "solidity": 0.2
             }
            },
            "type": "bar"
           }
          ],
          "barpolar": [
           {
            "marker": {
             "line": {
              "color": "#E5ECF6",
              "width": 0.5
             },
             "pattern": {
              "fillmode": "overlay",
              "size": 10,
              "solidity": 0.2
             }
            },
            "type": "barpolar"
           }
          ],
          "carpet": [
           {
            "aaxis": {
             "endlinecolor": "#2a3f5f",
             "gridcolor": "white",
             "linecolor": "white",
             "minorgridcolor": "white",
             "startlinecolor": "#2a3f5f"
            },
            "baxis": {
             "endlinecolor": "#2a3f5f",
             "gridcolor": "white",
             "linecolor": "white",
             "minorgridcolor": "white",
             "startlinecolor": "#2a3f5f"
            },
            "type": "carpet"
           }
          ],
          "choropleth": [
           {
            "colorbar": {
             "outlinewidth": 0,
             "ticks": ""
            },
            "type": "choropleth"
           }
          ],
          "contour": [
           {
            "colorbar": {
             "outlinewidth": 0,
             "ticks": ""
            },
            "colorscale": [
             [
              0,
              "#0d0887"
             ],
             [
              0.1111111111111111,
              "#46039f"
             ],
             [
              0.2222222222222222,
              "#7201a8"
             ],
             [
              0.3333333333333333,
              "#9c179e"
             ],
             [
              0.4444444444444444,
              "#bd3786"
             ],
             [
              0.5555555555555556,
              "#d8576b"
             ],
             [
              0.6666666666666666,
              "#ed7953"
             ],
             [
              0.7777777777777778,
              "#fb9f3a"
             ],
             [
              0.8888888888888888,
              "#fdca26"
             ],
             [
              1,
              "#f0f921"
             ]
            ],
            "type": "contour"
           }
          ],
          "contourcarpet": [
           {
            "colorbar": {
             "outlinewidth": 0,
             "ticks": ""
            },
            "type": "contourcarpet"
           }
          ],
          "heatmap": [
           {
            "colorbar": {
             "outlinewidth": 0,
             "ticks": ""
            },
            "colorscale": [
             [
              0,
              "#0d0887"
             ],
             [
              0.1111111111111111,
              "#46039f"
             ],
             [
              0.2222222222222222,
              "#7201a8"
             ],
             [
              0.3333333333333333,
              "#9c179e"
             ],
             [
              0.4444444444444444,
              "#bd3786"
             ],
             [
              0.5555555555555556,
              "#d8576b"
             ],
             [
              0.6666666666666666,
              "#ed7953"
             ],
             [
              0.7777777777777778,
              "#fb9f3a"
             ],
             [
              0.8888888888888888,
              "#fdca26"
             ],
             [
              1,
              "#f0f921"
             ]
            ],
            "type": "heatmap"
           }
          ],
          "heatmapgl": [
           {
            "colorbar": {
             "outlinewidth": 0,
             "ticks": ""
            },
            "colorscale": [
             [
              0,
              "#0d0887"
             ],
             [
              0.1111111111111111,
              "#46039f"
             ],
             [
              0.2222222222222222,
              "#7201a8"
             ],
             [
              0.3333333333333333,
              "#9c179e"
             ],
             [
              0.4444444444444444,
              "#bd3786"
             ],
             [
              0.5555555555555556,
              "#d8576b"
             ],
             [
              0.6666666666666666,
              "#ed7953"
             ],
             [
              0.7777777777777778,
              "#fb9f3a"
             ],
             [
              0.8888888888888888,
              "#fdca26"
             ],
             [
              1,
              "#f0f921"
             ]
            ],
            "type": "heatmapgl"
           }
          ],
          "histogram": [
           {
            "marker": {
             "pattern": {
              "fillmode": "overlay",
              "size": 10,
              "solidity": 0.2
             }
            },
            "type": "histogram"
           }
          ],
          "histogram2d": [
           {
            "colorbar": {
             "outlinewidth": 0,
             "ticks": ""
            },
            "colorscale": [
             [
              0,
              "#0d0887"
             ],
             [
              0.1111111111111111,
              "#46039f"
             ],
             [
              0.2222222222222222,
              "#7201a8"
             ],
             [
              0.3333333333333333,
              "#9c179e"
             ],
             [
              0.4444444444444444,
              "#bd3786"
             ],
             [
              0.5555555555555556,
              "#d8576b"
             ],
             [
              0.6666666666666666,
              "#ed7953"
             ],
             [
              0.7777777777777778,
              "#fb9f3a"
             ],
             [
              0.8888888888888888,
              "#fdca26"
             ],
             [
              1,
              "#f0f921"
             ]
            ],
            "type": "histogram2d"
           }
          ],
          "histogram2dcontour": [
           {
            "colorbar": {
             "outlinewidth": 0,
             "ticks": ""
            },
            "colorscale": [
             [
              0,
              "#0d0887"
             ],
             [
              0.1111111111111111,
              "#46039f"
             ],
             [
              0.2222222222222222,
              "#7201a8"
             ],
             [
              0.3333333333333333,
              "#9c179e"
             ],
             [
              0.4444444444444444,
              "#bd3786"
             ],
             [
              0.5555555555555556,
              "#d8576b"
             ],
             [
              0.6666666666666666,
              "#ed7953"
             ],
             [
              0.7777777777777778,
              "#fb9f3a"
             ],
             [
              0.8888888888888888,
              "#fdca26"
             ],
             [
              1,
              "#f0f921"
             ]
            ],
            "type": "histogram2dcontour"
           }
          ],
          "mesh3d": [
           {
            "colorbar": {
             "outlinewidth": 0,
             "ticks": ""
            },
            "type": "mesh3d"
           }
          ],
          "parcoords": [
           {
            "line": {
             "colorbar": {
              "outlinewidth": 0,
              "ticks": ""
             }
            },
            "type": "parcoords"
           }
          ],
          "pie": [
           {
            "automargin": true,
            "type": "pie"
           }
          ],
          "scatter": [
           {
            "fillpattern": {
             "fillmode": "overlay",
             "size": 10,
             "solidity": 0.2
            },
            "type": "scatter"
           }
          ],
          "scatter3d": [
           {
            "line": {
             "colorbar": {
              "outlinewidth": 0,
              "ticks": ""
             }
            },
            "marker": {
             "colorbar": {
              "outlinewidth": 0,
              "ticks": ""
             }
            },
            "type": "scatter3d"
           }
          ],
          "scattercarpet": [
           {
            "marker": {
             "colorbar": {
              "outlinewidth": 0,
              "ticks": ""
             }
            },
            "type": "scattercarpet"
           }
          ],
          "scattergeo": [
           {
            "marker": {
             "colorbar": {
              "outlinewidth": 0,
              "ticks": ""
             }
            },
            "type": "scattergeo"
           }
          ],
          "scattergl": [
           {
            "marker": {
             "colorbar": {
              "outlinewidth": 0,
              "ticks": ""
             }
            },
            "type": "scattergl"
           }
          ],
          "scattermapbox": [
           {
            "marker": {
             "colorbar": {
              "outlinewidth": 0,
              "ticks": ""
             }
            },
            "type": "scattermapbox"
           }
          ],
          "scatterpolar": [
           {
            "marker": {
             "colorbar": {
              "outlinewidth": 0,
              "ticks": ""
             }
            },
            "type": "scatterpolar"
           }
          ],
          "scatterpolargl": [
           {
            "marker": {
             "colorbar": {
              "outlinewidth": 0,
              "ticks": ""
             }
            },
            "type": "scatterpolargl"
           }
          ],
          "scatterternary": [
           {
            "marker": {
             "colorbar": {
              "outlinewidth": 0,
              "ticks": ""
             }
            },
            "type": "scatterternary"
           }
          ],
          "surface": [
           {
            "colorbar": {
             "outlinewidth": 0,
             "ticks": ""
            },
            "colorscale": [
             [
              0,
              "#0d0887"
             ],
             [
              0.1111111111111111,
              "#46039f"
             ],
             [
              0.2222222222222222,
              "#7201a8"
             ],
             [
              0.3333333333333333,
              "#9c179e"
             ],
             [
              0.4444444444444444,
              "#bd3786"
             ],
             [
              0.5555555555555556,
              "#d8576b"
             ],
             [
              0.6666666666666666,
              "#ed7953"
             ],
             [
              0.7777777777777778,
              "#fb9f3a"
             ],
             [
              0.8888888888888888,
              "#fdca26"
             ],
             [
              1,
              "#f0f921"
             ]
            ],
            "type": "surface"
           }
          ],
          "table": [
           {
            "cells": {
             "fill": {
              "color": "#EBF0F8"
             },
             "line": {
              "color": "white"
             }
            },
            "header": {
             "fill": {
              "color": "#C8D4E3"
             },
             "line": {
              "color": "white"
             }
            },
            "type": "table"
           }
          ]
         },
         "layout": {
          "annotationdefaults": {
           "arrowcolor": "#2a3f5f",
           "arrowhead": 0,
           "arrowwidth": 1
          },
          "autotypenumbers": "strict",
          "coloraxis": {
           "colorbar": {
            "outlinewidth": 0,
            "ticks": ""
           }
          },
          "colorscale": {
           "diverging": [
            [
             0,
             "#8e0152"
            ],
            [
             0.1,
             "#c51b7d"
            ],
            [
             0.2,
             "#de77ae"
            ],
            [
             0.3,
             "#f1b6da"
            ],
            [
             0.4,
             "#fde0ef"
            ],
            [
             0.5,
             "#f7f7f7"
            ],
            [
             0.6,
             "#e6f5d0"
            ],
            [
             0.7,
             "#b8e186"
            ],
            [
             0.8,
             "#7fbc41"
            ],
            [
             0.9,
             "#4d9221"
            ],
            [
             1,
             "#276419"
            ]
           ],
           "sequential": [
            [
             0,
             "#0d0887"
            ],
            [
             0.1111111111111111,
             "#46039f"
            ],
            [
             0.2222222222222222,
             "#7201a8"
            ],
            [
             0.3333333333333333,
             "#9c179e"
            ],
            [
             0.4444444444444444,
             "#bd3786"
            ],
            [
             0.5555555555555556,
             "#d8576b"
            ],
            [
             0.6666666666666666,
             "#ed7953"
            ],
            [
             0.7777777777777778,
             "#fb9f3a"
            ],
            [
             0.8888888888888888,
             "#fdca26"
            ],
            [
             1,
             "#f0f921"
            ]
           ],
           "sequentialminus": [
            [
             0,
             "#0d0887"
            ],
            [
             0.1111111111111111,
             "#46039f"
            ],
            [
             0.2222222222222222,
             "#7201a8"
            ],
            [
             0.3333333333333333,
             "#9c179e"
            ],
            [
             0.4444444444444444,
             "#bd3786"
            ],
            [
             0.5555555555555556,
             "#d8576b"
            ],
            [
             0.6666666666666666,
             "#ed7953"
            ],
            [
             0.7777777777777778,
             "#fb9f3a"
            ],
            [
             0.8888888888888888,
             "#fdca26"
            ],
            [
             1,
             "#f0f921"
            ]
           ]
          },
          "colorway": [
           "#636efa",
           "#EF553B",
           "#00cc96",
           "#ab63fa",
           "#FFA15A",
           "#19d3f3",
           "#FF6692",
           "#B6E880",
           "#FF97FF",
           "#FECB52"
          ],
          "font": {
           "color": "#2a3f5f"
          },
          "geo": {
           "bgcolor": "white",
           "lakecolor": "white",
           "landcolor": "#E5ECF6",
           "showlakes": true,
           "showland": true,
           "subunitcolor": "white"
          },
          "hoverlabel": {
           "align": "left"
          },
          "hovermode": "closest",
          "mapbox": {
           "style": "light"
          },
          "paper_bgcolor": "white",
          "plot_bgcolor": "#E5ECF6",
          "polar": {
           "angularaxis": {
            "gridcolor": "white",
            "linecolor": "white",
            "ticks": ""
           },
           "bgcolor": "#E5ECF6",
           "radialaxis": {
            "gridcolor": "white",
            "linecolor": "white",
            "ticks": ""
           }
          },
          "scene": {
           "xaxis": {
            "backgroundcolor": "#E5ECF6",
            "gridcolor": "white",
            "gridwidth": 2,
            "linecolor": "white",
            "showbackground": true,
            "ticks": "",
            "zerolinecolor": "white"
           },
           "yaxis": {
            "backgroundcolor": "#E5ECF6",
            "gridcolor": "white",
            "gridwidth": 2,
            "linecolor": "white",
            "showbackground": true,
            "ticks": "",
            "zerolinecolor": "white"
           },
           "zaxis": {
            "backgroundcolor": "#E5ECF6",
            "gridcolor": "white",
            "gridwidth": 2,
            "linecolor": "white",
            "showbackground": true,
            "ticks": "",
            "zerolinecolor": "white"
           }
          },
          "shapedefaults": {
           "line": {
            "color": "#2a3f5f"
           }
          },
          "ternary": {
           "aaxis": {
            "gridcolor": "white",
            "linecolor": "white",
            "ticks": ""
           },
           "baxis": {
            "gridcolor": "white",
            "linecolor": "white",
            "ticks": ""
           },
           "bgcolor": "#E5ECF6",
           "caxis": {
            "gridcolor": "white",
            "linecolor": "white",
            "ticks": ""
           }
          },
          "title": {
           "x": 0.05
          },
          "xaxis": {
           "automargin": true,
           "gridcolor": "white",
           "linecolor": "white",
           "ticks": "",
           "title": {
            "standoff": 15
           },
           "zerolinecolor": "white",
           "zerolinewidth": 2
          },
          "yaxis": {
           "automargin": true,
           "gridcolor": "white",
           "linecolor": "white",
           "ticks": "",
           "title": {
            "standoff": 15
           },
           "zerolinecolor": "white",
           "zerolinewidth": 2
          }
         }
        },
        "title": {
         "text": "Similar and random words for the word: crisis in 2D"
        },
        "width": 800,
        "xaxis": {
         "anchor": "y",
         "domain": [
          0,
          1
         ],
         "title": {
          "text": "u1"
         }
        },
        "yaxis": {
         "anchor": "x",
         "domain": [
          0,
          1
         ],
         "title": {
          "text": "u2"
         }
        }
       }
      }
     },
     "metadata": {},
     "output_type": "display_data"
    }
   ],
   "source": [
    "import plotly.express as px\n",
    "\n",
    "def plot_similar_words_2d(word, n_words, word_vectors, reducer, rnd_state = 42):\n",
    "    most_sim_words = word_vectors.most_similar(word, topn = n_words)\n",
    "    positive_words = [element[0] for element in most_sim_words]\n",
    "    positive_words_2d = reducer.transform(word_vectors[positive_words])\n",
    "    positive_words_2d_df = pd.DataFrame(positive_words_2d, index = positive_words, columns = [\"u1\", \"u2\"])\n",
    "    positive_words_2d_df.loc[:, \"category\"] = \"positive\"\n",
    "\n",
    "    positive_indices = [word_vectors.key_to_index[positive_word] for positive_word in positive_words]\n",
    "    negative_indices = [i for i in range(len(word_vectors)) if not(i in positive_indices)]\n",
    "    np.random.seed(rnd_state)\n",
    "    negative_words_indices = np.random.choice(negative_indices, 5 * n_words, replace = False).tolist()\n",
    "    negative_words = [word_vectors.index_to_key[negative_words_index] for negative_words_index in negative_words_indices]\n",
    "    negative_words_2d = reducer.transform(word_vectors[negative_words_indices])\n",
    "    negative_words_2d_df = pd.DataFrame(negative_words_2d, index = negative_words, columns = [\"u1\", \"u2\"])\n",
    "    negative_words_2d_df.loc[:, \"category\"] = \"negative\"\n",
    "\n",
    "    words_2d = pd.concat((positive_words_2d_df, negative_words_2d_df))\n",
    "\n",
    "    fig = px.scatter(words_2d, x = \"u1\", y = \"u2\", color = \"category\", hover_name = words_2d.index, width = 800, height = 600, title = f\"Similar and random words for the word: {word} in 2D\")\n",
    "    return fig\n",
    "\n",
    "fig = plot_similar_words_2d(\"crisis\", 20, google_word_vectors, dim_reducer)\n",
    "fig.show()"
   ]
  },
  {
   "cell_type": "markdown",
   "metadata": {},
   "source": [
    "### Performance evaluation for Word2Vec models\n",
    "\n",
    "Two popular choices for evaluating the quality of word vectors are predefined analogy tasks as well as similarity tasks. The latter compute the correlation of pairwise word similarities made by humans and the ones derived by word embeddings. See below some examples for these tasks. In addition, another way to examine the quality of word embeddings is to use them for common natural language processing tasks and quantify the outcome. One of the most common sets of tasks is provided by the [General Language Understanding Evaluation (GLUE)](https://gluebenchmark.com/). However, if we are interested in domain specific performance, these considerations may not be most important to us. Given we train our word vectors mostly on, e.g., financial documents, it may be not surprising that these word embeddings may lack in their usage for general language understanding. However, they might be better in the representation of domain specific content. "
   ]
  },
  {
   "cell_type": "code",
   "execution_count": 32,
   "metadata": {},
   "outputs": [
    {
     "name": "stdout",
     "output_type": "stream",
     "text": [
      "--------------------------------------------------\n",
      "Examples for word analogy tasks:\n",
      "--------------------------------------------------\n",
      "Chisinau Moldova Ljubljana Slovenia\n",
      "\n",
      "father mother son daughter\n",
      "\n",
      "he she father mother\n",
      "\n",
      "smart smartest quick quickest\n",
      "\n",
      "Korea Korean Netherlands Dutch\n",
      "\n",
      "--------------------------------------------------\n",
      "Examples for human similarity:\n",
      "--------------------------------------------------\n",
      "unhappy\tmad\t5.95\n",
      "\n",
      "whiskey\tchampagne\t5.33\n",
      "\n",
      "liquor\tcentury\t0.4\n",
      "\n",
      "gun\tfur\t0.3\n",
      "\n",
      "attach\tjoin\t7.75\n",
      "\n"
     ]
    }
   ],
   "source": [
    "from gensim.test.utils import datapath\n",
    "\n",
    "with open(datapath(\"questions-words.txt\"), \"r\") as file:\n",
    "    lines = file.readlines()\n",
    "\n",
    "print(\"-\"*50)\n",
    "print(\"Examples for word analogy tasks:\")\n",
    "print(\"-\"*50)\n",
    "\n",
    "rng = default_rng(seed = 42)\n",
    "rnd_idx = rng.choice(len(lines), size=5, replace=False)\n",
    "for i, line in enumerate(lines):\n",
    "    if i in rnd_idx:\n",
    "        print(line)\n",
    "\n",
    "with open(datapath(\"simlex999.txt\"), \"r\") as file:\n",
    "    lines = file.readlines()\n",
    "\n",
    "print(\"-\"*50)\n",
    "print(\"Examples for human similarity:\")\n",
    "print(\"-\"*50)\n",
    "rnd_idx = rng.choice(len(lines), size=5, replace=False)\n",
    "for i, line in enumerate(lines):\n",
    "    if i in rnd_idx:\n",
    "        print(line)"
   ]
  },
  {
   "cell_type": "markdown",
   "metadata": {},
   "source": [
    "### Domain specific word embeddings\n",
    "\n",
    "If we are in need of domain specific word embeddings, we need to train a model by ourselves. Usually, this comes along with certain shortcomings. First, domain specific corpora usually are smaller which can have a negative impact on embedding quality as the vectors are trained on a lower number of samples. Second, the training of language models can come along with high computational needs. While this usually is no problem for Word2Vec, it certainly is for today's state of the art language models.\n",
    "\n",
    "For demonstrational purposes, let us compare the embeddings from the Google News corpus with embeddings that I trained. Our model has been trained on a corpus which includes around 115,000 annual 10-K form reports from US stock market companies between the years of 2002 until today. Each of the $49,434$ tokens in our lexicon is represented by a  $256$ dimensional vector."
   ]
  },
  {
   "cell_type": "code",
   "execution_count": 33,
   "metadata": {},
   "outputs": [
    {
     "data": {
      "text/plain": [
       "[('turmoil', 0.7795572280883789),\n",
       " ('recession', 0.7387425303459167),\n",
       " ('crises', 0.7312794327735901),\n",
       " ('downturn', 0.6833765506744385),\n",
       " ('pandemic', 0.6487988829612732),\n",
       " ('covid', 0.6147671341896057),\n",
       " ('slowdown', 0.6107375621795654),\n",
       " ('unprecedented', 0.6062895059585571),\n",
       " ('tightening', 0.6005370616912842),\n",
       " ('outbreak', 0.599168062210083)]"
      ]
     },
     "execution_count": 33,
     "metadata": {},
     "output_type": "execute_result"
    }
   ],
   "source": [
    "from gensim.models import KeyedVectors\n",
    "\n",
    "word_vectors = KeyedVectors.load(\"../language_models/w2v_10K/w2v_10K.kv\")\n",
    "word_vectors.most_similar(positive = \"crisis\")"
   ]
  },
  {
   "cell_type": "markdown",
   "metadata": {},
   "source": [
    "Even though the text data spans over a longer history which also includes the subprime mortgage crisis, the word embedding seems to be closely connected to the covid crisis. However, the first words seem to make perfect sense in a more general understanding of a crisis period. "
   ]
  },
  {
   "cell_type": "code",
   "execution_count": 34,
   "metadata": {},
   "outputs": [
    {
     "data": {
      "image/png": "[encoded data removed]",
      "text/plain": [
       "<Figure size 640x480 with 1 Axes>"
      ]
     },
     "metadata": {},
     "output_type": "display_data"
    }
   ],
   "source": [
    "from numpy.random import default_rng\n",
    "import matplotlib.pylab as plt\n",
    "from sklearn.metrics.pairwise import cosine_similarity\n",
    "\n",
    "# draw 10000 random vectors and determine their pairwise similarities to get an idea about the similarity range\n",
    "rng = default_rng(seed = 42)\n",
    "rnd_idx = rng.choice(len(word_vectors), size=10000, replace=False)\n",
    "pairwise_similarities = cosine_similarity(word_vectors[rnd_idx]) \n",
    "pairwise_similarities_flat = pairwise_similarities[np.tril_indices(pairwise_similarities.shape[0], k = -1)]\n",
    "plt.hist(pairwise_similarities_flat)\n",
    "plt.show()"
   ]
  },
  {
   "cell_type": "markdown",
   "metadata": {},
   "source": [
    "The range of similarities if very different to the Google News embeddings. This may be impacted by the similar dimensionality of embeddings. "
   ]
  },
  {
   "cell_type": "code",
   "execution_count": 35,
   "metadata": {},
   "outputs": [
    {
     "data": {
      "text/plain": [
       "[('women', 0.5575689673423767),\n",
       " ('babies', 0.5239009261131287),\n",
       " ('riding', 0.49364688992500305),\n",
       " ('walking', 0.48965153098106384),\n",
       " ('female', 0.48954012989997864),\n",
       " ('men', 0.48718249797821045),\n",
       " ('clothes', 0.48452329635620117),\n",
       " ('girls', 0.4834292232990265),\n",
       " ('pregnant', 0.48110231757164),\n",
       " ('kids', 0.47963348031044006)]"
      ]
     },
     "execution_count": 35,
     "metadata": {},
     "output_type": "execute_result"
    }
   ],
   "source": [
    "word_vectors.most_similar(positive=['woman', 'king'], negative=['man'])"
   ]
  },
  {
   "cell_type": "markdown",
   "metadata": {},
   "source": [
    "The domain specific vectors fail w.r.t. to this task. This is no big surprise, because it seems very unlikely that royal relationships are often discussed in financial reports. "
   ]
  },
  {
   "cell_type": "code",
   "execution_count": 36,
   "metadata": {},
   "outputs": [
    {
     "name": "stdout",
     "output_type": "stream",
     "text": [
      "Tokenized sentences:\n",
      "[['the', 'dog', 'would', 'like', 'a', 'piece', 'of', 'the', 'sandwich'], ['i', 'like', 'to', 'eat', 'ice', 'cream'], ['a', 'dog', 'is', 'a', 'good', 'friend']] \n",
      "\n",
      "Pairwise cosine similarities:\n"
     ]
    },
    {
     "data": {
      "text/html": [
       "<div>\n",
       "<style scoped>\n",
       "    .dataframe tbody tr th:only-of-type {\n",
       "        vertical-align: middle;\n",
       "    }\n",
       "\n",
       "    .dataframe tbody tr th {\n",
       "        vertical-align: top;\n",
       "    }\n",
       "\n",
       "    .dataframe thead th {\n",
       "        text-align: right;\n",
       "    }\n",
       "</style>\n",
       "<table border=\"1\" class=\"dataframe\">\n",
       "  <thead>\n",
       "    <tr style=\"text-align: right;\">\n",
       "      <th></th>\n",
       "      <th>s1</th>\n",
       "      <th>s2</th>\n",
       "      <th>s3</th>\n",
       "    </tr>\n",
       "  </thead>\n",
       "  <tbody>\n",
       "    <tr>\n",
       "      <th>s1</th>\n",
       "      <td>1.0000</td>\n",
       "      <td>0.7398</td>\n",
       "      <td>0.7805</td>\n",
       "    </tr>\n",
       "    <tr>\n",
       "      <th>s2</th>\n",
       "      <td>0.7398</td>\n",
       "      <td>1.0000</td>\n",
       "      <td>0.5976</td>\n",
       "    </tr>\n",
       "    <tr>\n",
       "      <th>s3</th>\n",
       "      <td>0.7805</td>\n",
       "      <td>0.5976</td>\n",
       "      <td>1.0000</td>\n",
       "    </tr>\n",
       "  </tbody>\n",
       "</table>\n",
       "</div>"
      ],
      "text/plain": [
       "        s1      s2      s3\n",
       "s1  1.0000  0.7398  0.7805\n",
       "s2  0.7398  1.0000  0.5976\n",
       "s3  0.7805  0.5976  1.0000"
      ]
     },
     "execution_count": 36,
     "metadata": {},
     "output_type": "execute_result"
    }
   ],
   "source": [
    "print(\"Tokenized sentences:\")\n",
    "print(f\"{corpus} \\n\")\n",
    "sentence_embeddings = [word_vectors.get_mean_vector(sentence) for sentence in corpus]\n",
    "cosine_similarity_matrix = np.round(cosine_similarity(np.array(sentence_embeddings)), 4)\n",
    "print(\"Pairwise cosine similarities:\")\n",
    "pd.DataFrame(cosine_similarity_matrix, index = [f\"s{i+1}\" for i in range(3)], columns = [f\"s{i+1}\" for i in range(3)])"
   ]
  },
  {
   "cell_type": "markdown",
   "metadata": {},
   "source": [
    "Nevertheless, as before the sentence embedding similarities seem to make sense. However, the distinction with Google News embeddings seems to be better. "
   ]
  },
  {
   "cell_type": "code",
   "execution_count": 37,
   "metadata": {},
   "outputs": [
    {
     "data": {
      "text/plain": [
       "[('governance', 0.7420051097869873),\n",
       " ('environmental', 0.7306384444236755),\n",
       " ('social', 0.729841411113739),\n",
       " ('esg', 0.5995034575462341),\n",
       " ('sustainability', 0.5876127481460571),\n",
       " ('workplace', 0.5621027946472168),\n",
       " ('cybersecurity', 0.5460812449455261),\n",
       " ('worker', 0.5370159149169922),\n",
       " ('health', 0.510663628578186),\n",
       " ('stewardship', 0.5101289749145508)]"
      ]
     },
     "execution_count": 37,
     "metadata": {},
     "output_type": "execute_result"
    }
   ],
   "source": [
    "topic_words = [\"environmental\", \"social\", \"governance\"]\n",
    "word_vectors.similar_by_vector(word_vectors.get_mean_vector(topic_words))"
   ]
  },
  {
   "cell_type": "markdown",
   "metadata": {},
   "source": [
    "Similar words to the environmental, social and governance topic make perfect sense. "
   ]
  },
  {
   "cell_type": "code",
   "execution_count": 38,
   "metadata": {},
   "outputs": [
    {
     "name": "stderr",
     "output_type": "stream",
     "text": [
      "/Users/ralf/Library/Mobile Documents/com~apple~CloudDocs/Kurse/DLTA/.venv/lib/python3.11/site-packages/plotly/express/_core.py:2065: FutureWarning:\n",
      "\n",
      "When grouping with a length-1 list-like, you will need to pass a length-1 tuple to get_group in a future version of pandas. Pass `(name,)` instead of `name` to silence this warning.\n",
      "\n"
     ]
    },
    {
     "data": {
      "application/vnd.plotly.v1+json": {
       "config": {
        "plotlyServerURL": "https://plot.ly"
       },
       "data": [
        {
         "hovertemplate": "<b>%{hovertext}</b><br><br>category=positive<br>u1=%{x}<br>u2=%{y}<extra></extra>",
         "hovertext": [
          "turmoil",
          "recession",
          "crises",
          "downturn",
          "pandemic",
          "covid",
          "slowdown",
          "unprecedented",
          "tightening",
          "outbreak",
          "economy",
          "recessionary",
          "lingering",
          "macroeconomic",
          "deteriorating",
          "instability",
          "worsening",
          "coronavirus",
          "dislocation",
          "dislocations"
         ],
         "legendgroup": "positive",
         "marker": {
          "color": "#636efa",
          "symbol": "circle"
         },
         "mode": "markers",
         "name": "positive",
         "orientation": "v",
         "showlegend": true,
         "type": "scatter",
         "x": [
          10.834447860717773,
          10.841479301452637,
          10.831466674804688,
          10.800086975097656,
          10.896051406860352,
          10.880353927612305,
          10.8595552444458,
          10.842304229736328,
          10.85953426361084,
          10.916085243225098,
          10.771465301513672,
          10.794687271118164,
          10.842037200927734,
          10.80237865447998,
          10.851277351379395,
          10.748062133789062,
          10.882928848266602,
          10.95638656616211,
          10.913310050964355,
          10.864989280700684
         ],
         "xaxis": "x",
         "y": [
          10.574776649475098,
          10.389683723449707,
          10.815980911254883,
          10.404903411865234,
          10.687996864318848,
          10.710597038269043,
          10.364219665527344,
          10.404230117797852,
          10.388279914855957,
          10.759927749633789,
          10.425944328308105,
          10.414043426513672,
          10.361897468566895,
          10.398040771484375,
          10.387252807617188,
          10.866390228271484,
          10.354597091674805,
          10.745732307434082,
          10.46910285949707,
          10.456976890563965
         ],
         "yaxis": "y"
        },
        {
         "hovertemplate": "<b>%{hovertext}</b><br><br>category=negative<br>u1=%{x}<br>u2=%{y}<extra></extra>",
         "hovertext": [
          "sched",
          "ugas",
          "collectibles",
          "salle",
          "plers",
          "disagreed",
          "biod",
          "dpler",
          "recruitment",
          "ldr",
          "umber",
          "nys",
          "reinsurers",
          "finisar",
          "amune",
          "golub",
          "adata",
          "galileo",
          "originators",
          "maidstone",
          "slee",
          "partners",
          "brazing",
          "usgovernmentsponsoredenterprises",
          "constric",
          "omniab",
          "shortfalls",
          "starting",
          "serviceable",
          "beings",
          "hur",
          "verastem",
          "shenandoah",
          "rox",
          "ndc",
          "trapped",
          "dissol",
          "gassegmentmember",
          "sior",
          "vpc",
          "constructionandlanddevelopment",
          "kog",
          "arena",
          "lihood",
          "cyx",
          "lomb",
          "lucer",
          "insec",
          "coalmember",
          "oncor",
          "resolved",
          "eco",
          "nuo",
          "pressur",
          "lloy",
          "docsis",
          "filippo",
          "acbb",
          "unlocking",
          "endow",
          "certiorari",
          "apu",
          "abatements",
          "stranded",
          "administrator",
          "strath",
          "ogen",
          "seriesofindividuallyimmaterial",
          "risperidone",
          "tv",
          "hne",
          "eafe",
          "talis",
          "vontier",
          "verint",
          "pwc",
          "oradur",
          "majo",
          "rated",
          "classb",
          "mccrea",
          "bux",
          "lf",
          "correction",
          "resem",
          "ameh",
          "albu",
          "wich",
          "confirmations",
          "part",
          "graduate",
          "adversaries",
          "foss",
          "championships",
          "occi",
          "gmac",
          "sellers",
          "behavi",
          "veneers",
          "asct"
         ],
         "legendgroup": "negative",
         "marker": {
          "color": "#EF553B",
          "symbol": "circle"
         },
         "mode": "markers",
         "name": "negative",
         "orientation": "v",
         "showlegend": true,
         "type": "scatter",
         "x": [
          10.446914672851562,
          6.9026994705200195,
          10.070089340209961,
          8.685428619384766,
          12.323673248291016,
          8.891382217407227,
          14.710134506225586,
          8.387279510498047,
          9.738414764404297,
          13.34976863861084,
          9.19415283203125,
          7.441026210784912,
          7.324672222137451,
          10.005620956420898,
          14.658127784729004,
          8.152556419372559,
          10.265399932861328,
          10.626275062561035,
          7.4524030685424805,
          9.100336074829102,
          11.619888305664062,
          8.451027870178223,
          12.570648193359375,
          3.0588831901550293,
          10.925783157348633,
          9.114916801452637,
          10.376410484313965,
          8.984640121459961,
          10.986091613769531,
          12.942766189575195,
          10.45483684539795,
          9.033103942871094,
          8.635125160217285,
          11.607604026794434,
          9.60628604888916,
          12.729510307312012,
          13.183745384216309,
          3.479167938232422,
          9.658690452575684,
          10.975971221923828,
          2.70914363861084,
          11.065048217773438,
          10.130729675292969,
          10.729872703552246,
          5.838622093200684,
          9.574898719787598,
          5.497326374053955,
          6.200100898742676,
          3.1216213703155518,
          8.264887809753418,
          8.937531471252441,
          10.902959823608398,
          12.378617286682129,
          12.539141654968262,
          1.4906097650527954,
          10.629448890686035,
          9.645648956298828,
          2.4511559009552,
          10.667258262634277,
          12.88892650604248,
          8.701845169067383,
          11.070025444030762,
          8.311516761779785,
          13.645150184631348,
          7.9262895584106445,
          9.280305862426758,
          13.00762939453125,
          2.7885332107543945,
          14.546248435974121,
          9.930231094360352,
          10.511474609375,
          6.986767292022705,
          10.72067928314209,
          9.111458778381348,
          10.142666816711426,
          11.519217491149902,
          14.581485748291016,
          9.720917701721191,
          6.825760364532471,
          1.7611989974975586,
          10.265708923339844,
          10.25763988494873,
          10.909363746643066,
          12.657478332519531,
          12.203831672668457,
          1.9379398822784424,
          14.397649765014648,
          9.010810852050781,
          9.288175582885742,
          7.683381080627441,
          9.352266311645508,
          10.206768989562988,
          10.654388427734375,
          10.1115083694458,
          7.62955904006958,
          7.436384677886963,
          8.328058242797852,
          10.91320514678955,
          12.664854049682617,
          14.750718116760254
         ],
         "xaxis": "x",
         "y": [
          7.363860130310059,
          6.961389541625977,
          6.805381774902344,
          2.288116216659546,
          7.477370262145996,
          11.038344383239746,
          7.238739967346191,
          5.86095666885376,
          8.435650825500488,
          7.488898754119873,
          1.7884941101074219,
          7.382142066955566,
          6.869707107543945,
          4.578463554382324,
          7.597329139709473,
          4.9181928634643555,
          5.441533088684082,
          5.192626953125,
          7.935250282287598,
          1.0884108543395996,
          7.3501296043396,
          8.39532470703125,
          6.410930633544922,
          5.783599376678467,
          10.24517822265625,
          4.469147682189941,
          10.365022659301758,
          10.026476860046387,
          7.670683860778809,
          8.593137741088867,
          1.186996579170227,
          3.9819228649139404,
          1.880354881286621,
          3.542600393295288,
          5.330485820770264,
          7.393463134765625,
          6.766669750213623,
          4.75425386428833,
          0.3458104133605957,
          5.653195381164551,
          6.428471088409424,
          1.2764250040054321,
          8.72374153137207,
          8.534109115600586,
          4.27960205078125,
          3.830069065093994,
          3.5682132244110107,
          4.133265018463135,
          4.571407794952393,
          5.910588264465332,
          11.089224815368652,
          4.716348171234131,
          2.221092939376831,
          6.999558448791504,
          4.9434590339660645,
          6.425085544586182,
          0.28277087211608887,
          6.064664840698242,
          8.929302215576172,
          7.336622714996338,
          11.13299560546875,
          5.706120491027832,
          8.460173606872559,
          8.191686630249023,
          7.954417705535889,
          1.5833810567855835,
          6.6310224533081055,
          4.6281208992004395,
          7.364319324493408,
          6.406635284423828,
          0.82841557264328,
          7.162278652191162,
          4.748918056488037,
          4.747939586639404,
          5.248906135559082,
          0.5283502340316772,
          7.195435523986816,
          2.80391263961792,
          7.229870796203613,
          4.99765682220459,
          0.5197780132293701,
          0.8364863395690918,
          4.26115608215332,
          8.212862968444824,
          8.450835227966309,
          4.256879806518555,
          7.361591815948486,
          1.8370604515075684,
          8.66763973236084,
          10.130126953125,
          7.305539131164551,
          11.186196327209473,
          1.4448879957199097,
          6.3522796630859375,
          3.438424825668335,
          5.328176975250244,
          8.070995330810547,
          8.789620399475098,
          6.067934036254883,
          8.171451568603516
         ],
         "yaxis": "y"
        }
       ],
       "layout": {
        "height": 600,
        "legend": {
         "title": {
          "text": "category"
         },
         "tracegroupgap": 0
        },
        "template": {
         "data": {
          "bar": [
           {
            "error_x": {
             "color": "#2a3f5f"
            },
            "error_y": {
             "color": "#2a3f5f"
            },
            "marker": {
             "line": {
              "color": "#E5ECF6",
              "width": 0.5
             },
             "pattern": {
              "fillmode": "overlay",
              "size": 10,
              "solidity": 0.2
             }
            },
            "type": "bar"
           }
          ],
          "barpolar": [
           {
            "marker": {
             "line": {
              "color": "#E5ECF6",
              "width": 0.5
             },
             "pattern": {
              "fillmode": "overlay",
              "size": 10,
              "solidity": 0.2
             }
            },
            "type": "barpolar"
           }
          ],
          "carpet": [
           {
            "aaxis": {
             "endlinecolor": "#2a3f5f",
             "gridcolor": "white",
             "linecolor": "white",
             "minorgridcolor": "white",
             "startlinecolor": "#2a3f5f"
            },
            "baxis": {
             "endlinecolor": "#2a3f5f",
             "gridcolor": "white",
             "linecolor": "white",
             "minorgridcolor": "white",
             "startlinecolor": "#2a3f5f"
            },
            "type": "carpet"
           }
          ],
          "choropleth": [
           {
            "colorbar": {
             "outlinewidth": 0,
             "ticks": ""
            },
            "type": "choropleth"
           }
          ],
          "contour": [
           {
            "colorbar": {
             "outlinewidth": 0,
             "ticks": ""
            },
            "colorscale": [
             [
              0,
              "#0d0887"
             ],
             [
              0.1111111111111111,
              "#46039f"
             ],
             [
              0.2222222222222222,
              "#7201a8"
             ],
             [
              0.3333333333333333,
              "#9c179e"
             ],
             [
              0.4444444444444444,
              "#bd3786"
             ],
             [
              0.5555555555555556,
              "#d8576b"
             ],
             [
              0.6666666666666666,
              "#ed7953"
             ],
             [
              0.7777777777777778,
              "#fb9f3a"
             ],
             [
              0.8888888888888888,
              "#fdca26"
             ],
             [
              1,
              "#f0f921"
             ]
            ],
            "type": "contour"
           }
          ],
          "contourcarpet": [
           {
            "colorbar": {
             "outlinewidth": 0,
             "ticks": ""
            },
            "type": "contourcarpet"
           }
          ],
          "heatmap": [
           {
            "colorbar": {
             "outlinewidth": 0,
             "ticks": ""
            },
            "colorscale": [
             [
              0,
              "#0d0887"
             ],
             [
              0.1111111111111111,
              "#46039f"
             ],
             [
              0.2222222222222222,
              "#7201a8"
             ],
             [
              0.3333333333333333,
              "#9c179e"
             ],
             [
              0.4444444444444444,
              "#bd3786"
             ],
             [
              0.5555555555555556,
              "#d8576b"
             ],
             [
              0.6666666666666666,
              "#ed7953"
             ],
             [
              0.7777777777777778,
              "#fb9f3a"
             ],
             [
              0.8888888888888888,
              "#fdca26"
             ],
             [
              1,
              "#f0f921"
             ]
            ],
            "type": "heatmap"
           }
          ],
          "heatmapgl": [
           {
            "colorbar": {
             "outlinewidth": 0,
             "ticks": ""
            },
            "colorscale": [
             [
              0,
              "#0d0887"
             ],
             [
              0.1111111111111111,
              "#46039f"
             ],
             [
              0.2222222222222222,
              "#7201a8"
             ],
             [
              0.3333333333333333,
              "#9c179e"
             ],
             [
              0.4444444444444444,
              "#bd3786"
             ],
             [
              0.5555555555555556,
              "#d8576b"
             ],
             [
              0.6666666666666666,
              "#ed7953"
             ],
             [
              0.7777777777777778,
              "#fb9f3a"
             ],
             [
              0.8888888888888888,
              "#fdca26"
             ],
             [
              1,
              "#f0f921"
             ]
            ],
            "type": "heatmapgl"
           }
          ],
          "histogram": [
           {
            "marker": {
             "pattern": {
              "fillmode": "overlay",
              "size": 10,
              "solidity": 0.2
             }
            },
            "type": "histogram"
           }
          ],
          "histogram2d": [
           {
            "colorbar": {
             "outlinewidth": 0,
             "ticks": ""
            },
            "colorscale": [
             [
              0,
              "#0d0887"
             ],
             [
              0.1111111111111111,
              "#46039f"
             ],
             [
              0.2222222222222222,
              "#7201a8"
             ],
             [
              0.3333333333333333,
              "#9c179e"
             ],
             [
              0.4444444444444444,
              "#bd3786"
             ],
             [
              0.5555555555555556,
              "#d8576b"
             ],
             [
              0.6666666666666666,
              "#ed7953"
             ],
             [
              0.7777777777777778,
              "#fb9f3a"
             ],
             [
              0.8888888888888888,
              "#fdca26"
             ],
             [
              1,
              "#f0f921"
             ]
            ],
            "type": "histogram2d"
           }
          ],
          "histogram2dcontour": [
           {
            "colorbar": {
             "outlinewidth": 0,
             "ticks": ""
            },
            "colorscale": [
             [
              0,
              "#0d0887"
             ],
             [
              0.1111111111111111,
              "#46039f"
             ],
             [
              0.2222222222222222,
              "#7201a8"
             ],
             [
              0.3333333333333333,
              "#9c179e"
             ],
             [
              0.4444444444444444,
              "#bd3786"
             ],
             [
              0.5555555555555556,
              "#d8576b"
             ],
             [
              0.6666666666666666,
              "#ed7953"
             ],
             [
              0.7777777777777778,
              "#fb9f3a"
             ],
             [
              0.8888888888888888,
              "#fdca26"
             ],
             [
              1,
              "#f0f921"
             ]
            ],
            "type": "histogram2dcontour"
           }
          ],
          "mesh3d": [
           {
            "colorbar": {
             "outlinewidth": 0,
             "ticks": ""
            },
            "type": "mesh3d"
           }
          ],
          "parcoords": [
           {
            "line": {
             "colorbar": {
              "outlinewidth": 0,
              "ticks": ""
             }
            },
            "type": "parcoords"
           }
          ],
          "pie": [
           {
            "automargin": true,
            "type": "pie"
           }
          ],
          "scatter": [
           {
            "fillpattern": {
             "fillmode": "overlay",
             "size": 10,
             "solidity": 0.2
            },
            "type": "scatter"
           }
          ],
          "scatter3d": [
           {
            "line": {
             "colorbar": {
              "outlinewidth": 0,
              "ticks": ""
             }
            },
            "marker": {
             "colorbar": {
              "outlinewidth": 0,
              "ticks": ""
             }
            },
            "type": "scatter3d"
           }
          ],
          "scattercarpet": [
           {
            "marker": {
             "colorbar": {
              "outlinewidth": 0,
              "ticks": ""
             }
            },
            "type": "scattercarpet"
           }
          ],
          "scattergeo": [
           {
            "marker": {
             "colorbar": {
              "outlinewidth": 0,
              "ticks": ""
             }
            },
            "type": "scattergeo"
           }
          ],
          "scattergl": [
           {
            "marker": {
             "colorbar": {
              "outlinewidth": 0,
              "ticks": ""
             }
            },
            "type": "scattergl"
           }
          ],
          "scattermapbox": [
           {
            "marker": {
             "colorbar": {
              "outlinewidth": 0,
              "ticks": ""
             }
            },
            "type": "scattermapbox"
           }
          ],
          "scatterpolar": [
           {
            "marker": {
             "colorbar": {
              "outlinewidth": 0,
              "ticks": ""
             }
            },
            "type": "scatterpolar"
           }
          ],
          "scatterpolargl": [
           {
            "marker": {
             "colorbar": {
              "outlinewidth": 0,
              "ticks": ""
             }
            },
            "type": "scatterpolargl"
           }
          ],
          "scatterternary": [
           {
            "marker": {
             "colorbar": {
              "outlinewidth": 0,
              "ticks": ""
             }
            },
            "type": "scatterternary"
           }
          ],
          "surface": [
           {
            "colorbar": {
             "outlinewidth": 0,
             "ticks": ""
            },
            "colorscale": [
             [
              0,
              "#0d0887"
             ],
             [
              0.1111111111111111,
              "#46039f"
             ],
             [
              0.2222222222222222,
              "#7201a8"
             ],
             [
              0.3333333333333333,
              "#9c179e"
             ],
             [
              0.4444444444444444,
              "#bd3786"
             ],
             [
              0.5555555555555556,
              "#d8576b"
             ],
             [
              0.6666666666666666,
              "#ed7953"
             ],
             [
              0.7777777777777778,
              "#fb9f3a"
             ],
             [
              0.8888888888888888,
              "#fdca26"
             ],
             [
              1,
              "#f0f921"
             ]
            ],
            "type": "surface"
           }
          ],
          "table": [
           {
            "cells": {
             "fill": {
              "color": "#EBF0F8"
             },
             "line": {
              "color": "white"
             }
            },
            "header": {
             "fill": {
              "color": "#C8D4E3"
             },
             "line": {
              "color": "white"
             }
            },
            "type": "table"
           }
          ]
         },
         "layout": {
          "annotationdefaults": {
           "arrowcolor": "#2a3f5f",
           "arrowhead": 0,
           "arrowwidth": 1
          },
          "autotypenumbers": "strict",
          "coloraxis": {
           "colorbar": {
            "outlinewidth": 0,
            "ticks": ""
           }
          },
          "colorscale": {
           "diverging": [
            [
             0,
             "#8e0152"
            ],
            [
             0.1,
             "#c51b7d"
            ],
            [
             0.2,
             "#de77ae"
            ],
            [
             0.3,
             "#f1b6da"
            ],
            [
             0.4,
             "#fde0ef"
            ],
            [
             0.5,
             "#f7f7f7"
            ],
            [
             0.6,
             "#e6f5d0"
            ],
            [
             0.7,
             "#b8e186"
            ],
            [
             0.8,
             "#7fbc41"
            ],
            [
             0.9,
             "#4d9221"
            ],
            [
             1,
             "#276419"
            ]
           ],
           "sequential": [
            [
             0,
             "#0d0887"
            ],
            [
             0.1111111111111111,
             "#46039f"
            ],
            [
             0.2222222222222222,
             "#7201a8"
            ],
            [
             0.3333333333333333,
             "#9c179e"
            ],
            [
             0.4444444444444444,
             "#bd3786"
            ],
            [
             0.5555555555555556,
             "#d8576b"
            ],
            [
             0.6666666666666666,
             "#ed7953"
            ],
            [
             0.7777777777777778,
             "#fb9f3a"
            ],
            [
             0.8888888888888888,
             "#fdca26"
            ],
            [
             1,
             "#f0f921"
            ]
           ],
           "sequentialminus": [
            [
             0,
             "#0d0887"
            ],
            [
             0.1111111111111111,
             "#46039f"
            ],
            [
             0.2222222222222222,
             "#7201a8"
            ],
            [
             0.3333333333333333,
             "#9c179e"
            ],
            [
             0.4444444444444444,
             "#bd3786"
            ],
            [
             0.5555555555555556,
             "#d8576b"
            ],
            [
             0.6666666666666666,
             "#ed7953"
            ],
            [
             0.7777777777777778,
             "#fb9f3a"
            ],
            [
             0.8888888888888888,
             "#fdca26"
            ],
            [
             1,
             "#f0f921"
            ]
           ]
          },
          "colorway": [
           "#636efa",
           "#EF553B",
           "#00cc96",
           "#ab63fa",
           "#FFA15A",
           "#19d3f3",
           "#FF6692",
           "#B6E880",
           "#FF97FF",
           "#FECB52"
          ],
          "font": {
           "color": "#2a3f5f"
          },
          "geo": {
           "bgcolor": "white",
           "lakecolor": "white",
           "landcolor": "#E5ECF6",
           "showlakes": true,
           "showland": true,
           "subunitcolor": "white"
          },
          "hoverlabel": {
           "align": "left"
          },
          "hovermode": "closest",
          "mapbox": {
           "style": "light"
          },
          "paper_bgcolor": "white",
          "plot_bgcolor": "#E5ECF6",
          "polar": {
           "angularaxis": {
            "gridcolor": "white",
            "linecolor": "white",
            "ticks": ""
           },
           "bgcolor": "#E5ECF6",
           "radialaxis": {
            "gridcolor": "white",
            "linecolor": "white",
            "ticks": ""
           }
          },
          "scene": {
           "xaxis": {
            "backgroundcolor": "#E5ECF6",
            "gridcolor": "white",
            "gridwidth": 2,
            "linecolor": "white",
            "showbackground": true,
            "ticks": "",
            "zerolinecolor": "white"
           },
           "yaxis": {
            "backgroundcolor": "#E5ECF6",
            "gridcolor": "white",
            "gridwidth": 2,
            "linecolor": "white",
            "showbackground": true,
            "ticks": "",
            "zerolinecolor": "white"
           },
           "zaxis": {
            "backgroundcolor": "#E5ECF6",
            "gridcolor": "white",
            "gridwidth": 2,
            "linecolor": "white",
            "showbackground": true,
            "ticks": "",
            "zerolinecolor": "white"
           }
          },
          "shapedefaults": {
           "line": {
            "color": "#2a3f5f"
           }
          },
          "ternary": {
           "aaxis": {
            "gridcolor": "white",
            "linecolor": "white",
            "ticks": ""
           },
           "baxis": {
            "gridcolor": "white",
            "linecolor": "white",
            "ticks": ""
           },
           "bgcolor": "#E5ECF6",
           "caxis": {
            "gridcolor": "white",
            "linecolor": "white",
            "ticks": ""
           }
          },
          "title": {
           "x": 0.05
          },
          "xaxis": {
           "automargin": true,
           "gridcolor": "white",
           "linecolor": "white",
           "ticks": "",
           "title": {
            "standoff": 15
           },
           "zerolinecolor": "white",
           "zerolinewidth": 2
          },
          "yaxis": {
           "automargin": true,
           "gridcolor": "white",
           "linecolor": "white",
           "ticks": "",
           "title": {
            "standoff": 15
           },
           "zerolinecolor": "white",
           "zerolinewidth": 2
          }
         }
        },
        "title": {
         "text": "Similar and random words for the word: crisis in 2D"
        },
        "width": 800,
        "xaxis": {
         "anchor": "y",
         "domain": [
          0,
          1
         ],
         "title": {
          "text": "u1"
         }
        },
        "yaxis": {
         "anchor": "x",
         "domain": [
          0,
          1
         ],
         "title": {
          "text": "u2"
         }
        }
       }
      }
     },
     "metadata": {},
     "output_type": "display_data"
    }
   ],
   "source": [
    "import umap\n",
    "import pickle\n",
    "\n",
    "try:\n",
    "    with open(\"../language_models/w2v_10K/dim_reducer_10K.pkl\", \"rb\") as handle:\n",
    "        dim_reducer = pickle.load(handle)\n",
    "except:\n",
    "    print(\"Train dimensionality reducer first...\")\n",
    "    dim_reducer = umap.UMAP(n_components=2, metric = \"cosine\")\n",
    "    dim_reducer.fit(word_vectors.get_normed_vectors())\n",
    "    with open(\"../language_models/w2v_10K/dim_reducer_10K.pkl\", 'wb') as handle:\n",
    "        pickle.dump(dim_reducer, handle, protocol=pickle.HIGHEST_PROTOCOL)\n",
    "\n",
    "fig = plot_similar_words_2d(\"crisis\", 20, word_vectors, dim_reducer)\n",
    "fig.show()"
   ]
  },
  {
   "cell_type": "markdown",
   "metadata": {},
   "source": [
    "This can also be a coinsidence, however, the similar words are closer to each other than in comparison to the Google News model. "
   ]
  },
  {
   "cell_type": "markdown",
   "metadata": {},
   "source": [
    "## Outlook \n",
    "\n",
    "In this chapter, we learned how meaningful word representations can be trained. For many applications, we are in need of meaningful representations for full documents or at least parts of them. For instance, a numerical representation of a financial news headline may be used to analyze stock market reactions to financial news. We have seen in this chapter that such representation can be derived by summing or averaging numerical representations for each word in a document. However, this approach may be not granular enough, especially for longer documents with different contents. Furthermore, it gives identical weights to each part of the document. Both shortcomings are tackled by other approaches. The first is how to derive more granular embeddings for documents and will be discussed in the next section. Afterwards, we head towards the self-attention mechanism of modern language models which deals among others with the challenge to focus on the important parts of documents."
   ]
  }
 ],
 "metadata": {
  "kernelspec": {
   "display_name": ".venv",
   "language": "python",
   "name": "python3"
  },
  "language_info": {
   "codemirror_mode": {
    "name": "ipython",
    "version": 3
   },
   "file_extension": ".py",
   "mimetype": "text/x-python",
   "name": "python",
   "nbconvert_exporter": "python",
   "pygments_lexer": "ipython3",
   "version": "3.11.7"
  }
 },
 "nbformat": 4,
 "nbformat_minor": 2
}
