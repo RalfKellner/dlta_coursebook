{
 "cells": [
  {
   "cell_type": "markdown",
   "metadata": {},
   "source": [
    "# Word embeddings with Word2Vec\n",
    "\n",
    "Frequency as well as dictionary based approaches from the previous chapters ignore semantic relationships between the words in the document. Just recording word frequencies will not allow us to understand the meaning of textual information. In addition, we also mentioned that these models may also be negatively impacted by numerical issues arising from high dimensionality and sparsity of word vectors.\n",
    "\n",
    "Due to these limitations we are going to take a look at statistical language models which aim to learn embeddings for words and documents that capture semantic meaning. An embedding is a collection of numerical values that represent a word or document, i.e., usually a real-valued vector. The useful characteristic of these models is that words or documents with similar semantic meaning will have a similar numerical representation. If you hear about this concept for the first time, you may wonder why one should represent words by vectors and how it makes sense that words with similar meaning have similar vectors. Thus, let us take a look at a meaningful example. The scatter plot below visualizes different dog breeds w.r.t. their weight and size. Assuming, we only use these two metrics to characterize different dog breeds, the breed \"Airedale Terrier\" is represented by the vector \n",
    "\n",
    "$$\n",
    "\\boldsymbol{x}^{(\\text{Airedale})} = \n",
    "\\begin{pmatrix}\n",
    "22.5 \\\\\n",
    "58.5 \\\\\n",
    "\\end{pmatrix}\n",
    "$$\n",
    "\n",
    "so this is how you may picture how a word is transformed into a vector. Furthermore, if you scroll over the points in the scatter plot, you may observe that breeds with similar characteristics have similar vectors (vectors that are close to each other), so this is how you may picture how words with similar meaning may have similar vectors. Furthermore, by transforming dog breeds into vectors, we could use vector calculus to derive new insights. For instance, we can calculate the average vector of certain dog breeds to determine a representative embedding for this group of breeds. "
   ]
  },
  {
   "cell_type": "code",
   "execution_count": 2,
   "metadata": {},
   "outputs": [
    {
     "data": {
      "text/html": [
       "<div>\n",
       "<style scoped>\n",
       "    .dataframe tbody tr th:only-of-type {\n",
       "        vertical-align: middle;\n",
       "    }\n",
       "\n",
       "    .dataframe tbody tr th {\n",
       "        vertical-align: top;\n",
       "    }\n",
       "\n",
       "    .dataframe thead th {\n",
       "        text-align: right;\n",
       "    }\n",
       "</style>\n",
       "<table border=\"1\" class=\"dataframe\">\n",
       "  <thead>\n",
       "    <tr style=\"text-align: right;\">\n",
       "      <th></th>\n",
       "      <th>weight</th>\n",
       "      <th>size</th>\n",
       "    </tr>\n",
       "    <tr>\n",
       "      <th>breed</th>\n",
       "      <th></th>\n",
       "      <th></th>\n",
       "    </tr>\n",
       "  </thead>\n",
       "  <tbody>\n",
       "    <tr>\n",
       "      <th>Afghan hound</th>\n",
       "      <td>25.0</td>\n",
       "      <td>68.5</td>\n",
       "    </tr>\n",
       "    <tr>\n",
       "      <th>Airedale Terrier</th>\n",
       "      <td>22.5</td>\n",
       "      <td>58.5</td>\n",
       "    </tr>\n",
       "    <tr>\n",
       "      <th>American Staffordshire Terrier</th>\n",
       "      <td>16.0</td>\n",
       "      <td>45.5</td>\n",
       "    </tr>\n",
       "    <tr>\n",
       "      <th>Australian Shepherd</th>\n",
       "      <td>24.0</td>\n",
       "      <td>52.0</td>\n",
       "    </tr>\n",
       "    <tr>\n",
       "      <th>Borzoi</th>\n",
       "      <td>36.0</td>\n",
       "      <td>76.5</td>\n",
       "    </tr>\n",
       "  </tbody>\n",
       "</table>\n",
       "</div>"
      ],
      "text/plain": [
       "                                weight  size\n",
       "breed                                       \n",
       "Afghan hound                      25.0  68.5\n",
       "Airedale Terrier                  22.5  58.5\n",
       "American Staffordshire Terrier    16.0  45.5\n",
       "Australian Shepherd               24.0  52.0\n",
       "Borzoi                            36.0  76.5"
      ]
     },
     "execution_count": 2,
     "metadata": {},
     "output_type": "execute_result"
    }
   ],
   "source": [
    "import numpy as np\n",
    "import pandas as pd\n",
    "import plotly.express as px\n",
    "\n",
    "# https://tarigs.com/size-table-dog/\n",
    "dog_breeds_2d = pd.read_csv(\"../data/dog_breeds.csv\")\n",
    "dog_breeds_2d.set_index(\"breed\", inplace = True, drop = True)\n",
    "dog_breeds_2d.dropna(inplace = True)\n",
    "dog_breeds_2d.head()"
   ]
  },
  {
   "cell_type": "code",
   "execution_count": 3,
   "metadata": {},
   "outputs": [
    {
     "data": {
      "application/vnd.plotly.v1+json": {
       "config": {
        "plotlyServerURL": "https://plot.ly"
       },
       "data": [
        {
         "hovertemplate": "<b>%{hovertext}</b><br><br>weight=%{x}<br>size=%{y}<extra></extra>",
         "hovertext": [
          "Afghan hound",
          "Airedale Terrier",
          "American Staffordshire Terrier",
          "Australian Shepherd",
          "Borzoi",
          "Basset",
          "Beagle",
          "Bearded Collie",
          "Berger de Brie (Briard)",
          "Saint Bernard",
          "Bobtail",
          "Border Collie",
          "Boxer",
          "Bull terrier",
          "Chow-Chow",
          "Collie",
          "Dalmatian",
          "Great Dane",
          "German shepherd dog",
          "Doberman pinscher",
          "French bulldog",
          "Golden Retriever",
          "Greyhound",
          "Havanese",
          "Hovawart",
          "Irish Red Setter",
          "Leonberger",
          "Lhasa Apso",
          "Maltese",
          "Pug",
          "Small Münsterländer",
          "Large Münsterländer",
          "Newfoundland",
          "Parson Russel Terrier",
          "Rhodesian Ridgeback",
          "Rottweiler",
          "Standard Schnauzers",
          "Shih Tzu",
          "Siberian Husky",
          "Sheltie (Shetland Sheepdog)",
          "Staffordshire Bullterrier",
          "Keeshond",
          "Miniature Pinscher",
          "Toy poodle",
          "Miniature Schnauzer"
         ],
         "legendgroup": "",
         "marker": {
          "color": "#636efa",
          "symbol": "circle"
         },
         "mode": "markers",
         "name": "",
         "orientation": "v",
         "showlegend": false,
         "type": "scatter",
         "x": [
          25,
          22.5,
          16,
          24,
          36,
          24,
          14,
          24,
          25,
          77.5,
          32.5,
          16,
          27.5,
          25,
          24,
          24,
          28,
          67.5,
          35,
          36,
          11,
          32,
          39.5,
          5.5,
          32.5,
          27.5,
          60,
          6,
          3.5,
          7.5,
          22.5,
          27,
          57.5,
          7,
          39.5,
          50,
          16,
          6.5,
          22,
          9,
          14,
          23,
          6.5,
          5,
          6.5
         ],
         "xaxis": "x",
         "y": [
          68.5,
          58.5,
          45.5,
          52,
          76.5,
          33,
          37,
          53.5,
          62,
          75,
          60,
          51,
          58,
          47.5,
          47.5,
          56,
          57,
          76,
          60,
          66.5,
          29.5,
          56,
          73.5,
          25,
          64,
          64.5,
          72.5,
          26,
          22.5,
          27.5,
          55,
          61.5,
          68.5,
          35,
          65,
          61.5,
          47.5,
          26,
          55.5,
          37,
          35,
          50,
          31.5,
          31.5,
          32.5
         ],
         "yaxis": "y"
        }
       ],
       "layout": {
        "height": 600,
        "legend": {
         "tracegroupgap": 0
        },
        "template": {
         "data": {
          "bar": [
           {
            "error_x": {
             "color": "#2a3f5f"
            },
            "error_y": {
             "color": "#2a3f5f"
            },
            "marker": {
             "line": {
              "color": "#E5ECF6",
              "width": 0.5
             },
             "pattern": {
              "fillmode": "overlay",
              "size": 10,
              "solidity": 0.2
             }
            },
            "type": "bar"
           }
          ],
          "barpolar": [
           {
            "marker": {
             "line": {
              "color": "#E5ECF6",
              "width": 0.5
             },
             "pattern": {
              "fillmode": "overlay",
              "size": 10,
              "solidity": 0.2
             }
            },
            "type": "barpolar"
           }
          ],
          "carpet": [
           {
            "aaxis": {
             "endlinecolor": "#2a3f5f",
             "gridcolor": "white",
             "linecolor": "white",
             "minorgridcolor": "white",
             "startlinecolor": "#2a3f5f"
            },
            "baxis": {
             "endlinecolor": "#2a3f5f",
             "gridcolor": "white",
             "linecolor": "white",
             "minorgridcolor": "white",
             "startlinecolor": "#2a3f5f"
            },
            "type": "carpet"
           }
          ],
          "choropleth": [
           {
            "colorbar": {
             "outlinewidth": 0,
             "ticks": ""
            },
            "type": "choropleth"
           }
          ],
          "contour": [
           {
            "colorbar": {
             "outlinewidth": 0,
             "ticks": ""
            },
            "colorscale": [
             [
              0,
              "#0d0887"
             ],
             [
              0.1111111111111111,
              "#46039f"
             ],
             [
              0.2222222222222222,
              "#7201a8"
             ],
             [
              0.3333333333333333,
              "#9c179e"
             ],
             [
              0.4444444444444444,
              "#bd3786"
             ],
             [
              0.5555555555555556,
              "#d8576b"
             ],
             [
              0.6666666666666666,
              "#ed7953"
             ],
             [
              0.7777777777777778,
              "#fb9f3a"
             ],
             [
              0.8888888888888888,
              "#fdca26"
             ],
             [
              1,
              "#f0f921"
             ]
            ],
            "type": "contour"
           }
          ],
          "contourcarpet": [
           {
            "colorbar": {
             "outlinewidth": 0,
             "ticks": ""
            },
            "type": "contourcarpet"
           }
          ],
          "heatmap": [
           {
            "colorbar": {
             "outlinewidth": 0,
             "ticks": ""
            },
            "colorscale": [
             [
              0,
              "#0d0887"
             ],
             [
              0.1111111111111111,
              "#46039f"
             ],
             [
              0.2222222222222222,
              "#7201a8"
             ],
             [
              0.3333333333333333,
              "#9c179e"
             ],
             [
              0.4444444444444444,
              "#bd3786"
             ],
             [
              0.5555555555555556,
              "#d8576b"
             ],
             [
              0.6666666666666666,
              "#ed7953"
             ],
             [
              0.7777777777777778,
              "#fb9f3a"
             ],
             [
              0.8888888888888888,
              "#fdca26"
             ],
             [
              1,
              "#f0f921"
             ]
            ],
            "type": "heatmap"
           }
          ],
          "heatmapgl": [
           {
            "colorbar": {
             "outlinewidth": 0,
             "ticks": ""
            },
            "colorscale": [
             [
              0,
              "#0d0887"
             ],
             [
              0.1111111111111111,
              "#46039f"
             ],
             [
              0.2222222222222222,
              "#7201a8"
             ],
             [
              0.3333333333333333,
              "#9c179e"
             ],
             [
              0.4444444444444444,
              "#bd3786"
             ],
             [
              0.5555555555555556,
              "#d8576b"
             ],
             [
              0.6666666666666666,
              "#ed7953"
             ],
             [
              0.7777777777777778,
              "#fb9f3a"
             ],
             [
              0.8888888888888888,
              "#fdca26"
             ],
             [
              1,
              "#f0f921"
             ]
            ],
            "type": "heatmapgl"
           }
          ],
          "histogram": [
           {
            "marker": {
             "pattern": {
              "fillmode": "overlay",
              "size": 10,
              "solidity": 0.2
             }
            },
            "type": "histogram"
           }
          ],
          "histogram2d": [
           {
            "colorbar": {
             "outlinewidth": 0,
             "ticks": ""
            },
            "colorscale": [
             [
              0,
              "#0d0887"
             ],
             [
              0.1111111111111111,
              "#46039f"
             ],
             [
              0.2222222222222222,
              "#7201a8"
             ],
             [
              0.3333333333333333,
              "#9c179e"
             ],
             [
              0.4444444444444444,
              "#bd3786"
             ],
             [
              0.5555555555555556,
              "#d8576b"
             ],
             [
              0.6666666666666666,
              "#ed7953"
             ],
             [
              0.7777777777777778,
              "#fb9f3a"
             ],
             [
              0.8888888888888888,
              "#fdca26"
             ],
             [
              1,
              "#f0f921"
             ]
            ],
            "type": "histogram2d"
           }
          ],
          "histogram2dcontour": [
           {
            "colorbar": {
             "outlinewidth": 0,
             "ticks": ""
            },
            "colorscale": [
             [
              0,
              "#0d0887"
             ],
             [
              0.1111111111111111,
              "#46039f"
             ],
             [
              0.2222222222222222,
              "#7201a8"
             ],
             [
              0.3333333333333333,
              "#9c179e"
             ],
             [
              0.4444444444444444,
              "#bd3786"
             ],
             [
              0.5555555555555556,
              "#d8576b"
             ],
             [
              0.6666666666666666,
              "#ed7953"
             ],
             [
              0.7777777777777778,
              "#fb9f3a"
             ],
             [
              0.8888888888888888,
              "#fdca26"
             ],
             [
              1,
              "#f0f921"
             ]
            ],
            "type": "histogram2dcontour"
           }
          ],
          "mesh3d": [
           {
            "colorbar": {
             "outlinewidth": 0,
             "ticks": ""
            },
            "type": "mesh3d"
           }
          ],
          "parcoords": [
           {
            "line": {
             "colorbar": {
              "outlinewidth": 0,
              "ticks": ""
             }
            },
            "type": "parcoords"
           }
          ],
          "pie": [
           {
            "automargin": true,
            "type": "pie"
           }
          ],
          "scatter": [
           {
            "fillpattern": {
             "fillmode": "overlay",
             "size": 10,
             "solidity": 0.2
            },
            "type": "scatter"
           }
          ],
          "scatter3d": [
           {
            "line": {
             "colorbar": {
              "outlinewidth": 0,
              "ticks": ""
             }
            },
            "marker": {
             "colorbar": {
              "outlinewidth": 0,
              "ticks": ""
             }
            },
            "type": "scatter3d"
           }
          ],
          "scattercarpet": [
           {
            "marker": {
             "colorbar": {
              "outlinewidth": 0,
              "ticks": ""
             }
            },
            "type": "scattercarpet"
           }
          ],
          "scattergeo": [
           {
            "marker": {
             "colorbar": {
              "outlinewidth": 0,
              "ticks": ""
             }
            },
            "type": "scattergeo"
           }
          ],
          "scattergl": [
           {
            "marker": {
             "colorbar": {
              "outlinewidth": 0,
              "ticks": ""
             }
            },
            "type": "scattergl"
           }
          ],
          "scattermapbox": [
           {
            "marker": {
             "colorbar": {
              "outlinewidth": 0,
              "ticks": ""
             }
            },
            "type": "scattermapbox"
           }
          ],
          "scatterpolar": [
           {
            "marker": {
             "colorbar": {
              "outlinewidth": 0,
              "ticks": ""
             }
            },
            "type": "scatterpolar"
           }
          ],
          "scatterpolargl": [
           {
            "marker": {
             "colorbar": {
              "outlinewidth": 0,
              "ticks": ""
             }
            },
            "type": "scatterpolargl"
           }
          ],
          "scatterternary": [
           {
            "marker": {
             "colorbar": {
              "outlinewidth": 0,
              "ticks": ""
             }
            },
            "type": "scatterternary"
           }
          ],
          "surface": [
           {
            "colorbar": {
             "outlinewidth": 0,
             "ticks": ""
            },
            "colorscale": [
             [
              0,
              "#0d0887"
             ],
             [
              0.1111111111111111,
              "#46039f"
             ],
             [
              0.2222222222222222,
              "#7201a8"
             ],
             [
              0.3333333333333333,
              "#9c179e"
             ],
             [
              0.4444444444444444,
              "#bd3786"
             ],
             [
              0.5555555555555556,
              "#d8576b"
             ],
             [
              0.6666666666666666,
              "#ed7953"
             ],
             [
              0.7777777777777778,
              "#fb9f3a"
             ],
             [
              0.8888888888888888,
              "#fdca26"
             ],
             [
              1,
              "#f0f921"
             ]
            ],
            "type": "surface"
           }
          ],
          "table": [
           {
            "cells": {
             "fill": {
              "color": "#EBF0F8"
             },
             "line": {
              "color": "white"
             }
            },
            "header": {
             "fill": {
              "color": "#C8D4E3"
             },
             "line": {
              "color": "white"
             }
            },
            "type": "table"
           }
          ]
         },
         "layout": {
          "annotationdefaults": {
           "arrowcolor": "#2a3f5f",
           "arrowhead": 0,
           "arrowwidth": 1
          },
          "autotypenumbers": "strict",
          "coloraxis": {
           "colorbar": {
            "outlinewidth": 0,
            "ticks": ""
           }
          },
          "colorscale": {
           "diverging": [
            [
             0,
             "#8e0152"
            ],
            [
             0.1,
             "#c51b7d"
            ],
            [
             0.2,
             "#de77ae"
            ],
            [
             0.3,
             "#f1b6da"
            ],
            [
             0.4,
             "#fde0ef"
            ],
            [
             0.5,
             "#f7f7f7"
            ],
            [
             0.6,
             "#e6f5d0"
            ],
            [
             0.7,
             "#b8e186"
            ],
            [
             0.8,
             "#7fbc41"
            ],
            [
             0.9,
             "#4d9221"
            ],
            [
             1,
             "#276419"
            ]
           ],
           "sequential": [
            [
             0,
             "#0d0887"
            ],
            [
             0.1111111111111111,
             "#46039f"
            ],
            [
             0.2222222222222222,
             "#7201a8"
            ],
            [
             0.3333333333333333,
             "#9c179e"
            ],
            [
             0.4444444444444444,
             "#bd3786"
            ],
            [
             0.5555555555555556,
             "#d8576b"
            ],
            [
             0.6666666666666666,
             "#ed7953"
            ],
            [
             0.7777777777777778,
             "#fb9f3a"
            ],
            [
             0.8888888888888888,
             "#fdca26"
            ],
            [
             1,
             "#f0f921"
            ]
           ],
           "sequentialminus": [
            [
             0,
             "#0d0887"
            ],
            [
             0.1111111111111111,
             "#46039f"
            ],
            [
             0.2222222222222222,
             "#7201a8"
            ],
            [
             0.3333333333333333,
             "#9c179e"
            ],
            [
             0.4444444444444444,
             "#bd3786"
            ],
            [
             0.5555555555555556,
             "#d8576b"
            ],
            [
             0.6666666666666666,
             "#ed7953"
            ],
            [
             0.7777777777777778,
             "#fb9f3a"
            ],
            [
             0.8888888888888888,
             "#fdca26"
            ],
            [
             1,
             "#f0f921"
            ]
           ]
          },
          "colorway": [
           "#636efa",
           "#EF553B",
           "#00cc96",
           "#ab63fa",
           "#FFA15A",
           "#19d3f3",
           "#FF6692",
           "#B6E880",
           "#FF97FF",
           "#FECB52"
          ],
          "font": {
           "color": "#2a3f5f"
          },
          "geo": {
           "bgcolor": "white",
           "lakecolor": "white",
           "landcolor": "#E5ECF6",
           "showlakes": true,
           "showland": true,
           "subunitcolor": "white"
          },
          "hoverlabel": {
           "align": "left"
          },
          "hovermode": "closest",
          "mapbox": {
           "style": "light"
          },
          "paper_bgcolor": "white",
          "plot_bgcolor": "#E5ECF6",
          "polar": {
           "angularaxis": {
            "gridcolor": "white",
            "linecolor": "white",
            "ticks": ""
           },
           "bgcolor": "#E5ECF6",
           "radialaxis": {
            "gridcolor": "white",
            "linecolor": "white",
            "ticks": ""
           }
          },
          "scene": {
           "xaxis": {
            "backgroundcolor": "#E5ECF6",
            "gridcolor": "white",
            "gridwidth": 2,
            "linecolor": "white",
            "showbackground": true,
            "ticks": "",
            "zerolinecolor": "white"
           },
           "yaxis": {
            "backgroundcolor": "#E5ECF6",
            "gridcolor": "white",
            "gridwidth": 2,
            "linecolor": "white",
            "showbackground": true,
            "ticks": "",
            "zerolinecolor": "white"
           },
           "zaxis": {
            "backgroundcolor": "#E5ECF6",
            "gridcolor": "white",
            "gridwidth": 2,
            "linecolor": "white",
            "showbackground": true,
            "ticks": "",
            "zerolinecolor": "white"
           }
          },
          "shapedefaults": {
           "line": {
            "color": "#2a3f5f"
           }
          },
          "ternary": {
           "aaxis": {
            "gridcolor": "white",
            "linecolor": "white",
            "ticks": ""
           },
           "baxis": {
            "gridcolor": "white",
            "linecolor": "white",
            "ticks": ""
           },
           "bgcolor": "#E5ECF6",
           "caxis": {
            "gridcolor": "white",
            "linecolor": "white",
            "ticks": ""
           }
          },
          "title": {
           "x": 0.05
          },
          "xaxis": {
           "automargin": true,
           "gridcolor": "white",
           "linecolor": "white",
           "ticks": "",
           "title": {
            "standoff": 15
           },
           "zerolinecolor": "white",
           "zerolinewidth": 2
          },
          "yaxis": {
           "automargin": true,
           "gridcolor": "white",
           "linecolor": "white",
           "ticks": "",
           "title": {
            "standoff": 15
           },
           "zerolinecolor": "white",
           "zerolinewidth": 2
          }
         }
        },
        "title": {
         "text": "Dog breed vectorization"
        },
        "width": 800,
        "xaxis": {
         "anchor": "y",
         "domain": [
          0,
          1
         ],
         "title": {
          "text": "weight"
         }
        },
        "yaxis": {
         "anchor": "x",
         "domain": [
          0,
          1
         ],
         "title": {
          "text": "size"
         }
        }
       }
      }
     },
     "metadata": {},
     "output_type": "display_data"
    }
   ],
   "source": [
    "# hover over each point to examine the dog breed\n",
    "fig = px.scatter(dog_breeds_2d, x = \"weight\", y = \"size\", hover_name = dog_breeds_2d.index, width = 800, height = 600, title = \"Dog breed vectorization\")\n",
    "fig.show()"
   ]
  },
  {
   "cell_type": "markdown",
   "metadata": {},
   "source": [
    "As the dog breeds are represented by vectors now we can, e.g., quantify their similarity be euclidean distance."
   ]
  },
  {
   "cell_type": "code",
   "execution_count": 4,
   "metadata": {},
   "outputs": [
    {
     "data": {
      "text/html": [
       "<div>\n",
       "<style scoped>\n",
       "    .dataframe tbody tr th:only-of-type {\n",
       "        vertical-align: middle;\n",
       "    }\n",
       "\n",
       "    .dataframe tbody tr th {\n",
       "        vertical-align: top;\n",
       "    }\n",
       "\n",
       "    .dataframe thead th {\n",
       "        text-align: right;\n",
       "    }\n",
       "</style>\n",
       "<table border=\"1\" class=\"dataframe\">\n",
       "  <thead>\n",
       "    <tr style=\"text-align: right;\">\n",
       "      <th>breed</th>\n",
       "      <th>Afghan hound</th>\n",
       "      <th>Airedale Terrier</th>\n",
       "      <th>American Staffordshire Terrier</th>\n",
       "      <th>Australian Shepherd</th>\n",
       "      <th>Borzoi</th>\n",
       "    </tr>\n",
       "    <tr>\n",
       "      <th>breed</th>\n",
       "      <th></th>\n",
       "      <th></th>\n",
       "      <th></th>\n",
       "      <th></th>\n",
       "      <th></th>\n",
       "    </tr>\n",
       "  </thead>\n",
       "  <tbody>\n",
       "    <tr>\n",
       "      <th>Afghan hound</th>\n",
       "      <td>0.000000</td>\n",
       "      <td>10.307764</td>\n",
       "      <td>24.698178</td>\n",
       "      <td>16.530275</td>\n",
       "      <td>13.601471</td>\n",
       "    </tr>\n",
       "    <tr>\n",
       "      <th>Airedale Terrier</th>\n",
       "      <td>10.307764</td>\n",
       "      <td>0.000000</td>\n",
       "      <td>14.534442</td>\n",
       "      <td>6.670832</td>\n",
       "      <td>22.500000</td>\n",
       "    </tr>\n",
       "    <tr>\n",
       "      <th>American Staffordshire Terrier</th>\n",
       "      <td>24.698178</td>\n",
       "      <td>14.534442</td>\n",
       "      <td>0.000000</td>\n",
       "      <td>10.307764</td>\n",
       "      <td>36.891733</td>\n",
       "    </tr>\n",
       "    <tr>\n",
       "      <th>Australian Shepherd</th>\n",
       "      <td>16.530275</td>\n",
       "      <td>6.670832</td>\n",
       "      <td>10.307764</td>\n",
       "      <td>0.000000</td>\n",
       "      <td>27.280946</td>\n",
       "    </tr>\n",
       "    <tr>\n",
       "      <th>Borzoi</th>\n",
       "      <td>13.601471</td>\n",
       "      <td>22.500000</td>\n",
       "      <td>36.891733</td>\n",
       "      <td>27.280946</td>\n",
       "      <td>0.000000</td>\n",
       "    </tr>\n",
       "  </tbody>\n",
       "</table>\n",
       "</div>"
      ],
      "text/plain": [
       "breed                           Afghan hound  Airedale Terrier  \\\n",
       "breed                                                            \n",
       "Afghan hound                        0.000000         10.307764   \n",
       "Airedale Terrier                   10.307764          0.000000   \n",
       "American Staffordshire Terrier     24.698178         14.534442   \n",
       "Australian Shepherd                16.530275          6.670832   \n",
       "Borzoi                             13.601471         22.500000   \n",
       "\n",
       "breed                           American Staffordshire Terrier  \\\n",
       "breed                                                            \n",
       "Afghan hound                                         24.698178   \n",
       "Airedale Terrier                                     14.534442   \n",
       "American Staffordshire Terrier                        0.000000   \n",
       "Australian Shepherd                                  10.307764   \n",
       "Borzoi                                               36.891733   \n",
       "\n",
       "breed                           Australian Shepherd     Borzoi  \n",
       "breed                                                           \n",
       "Afghan hound                              16.530275  13.601471  \n",
       "Airedale Terrier                           6.670832  22.500000  \n",
       "American Staffordshire Terrier            10.307764  36.891733  \n",
       "Australian Shepherd                        0.000000  27.280946  \n",
       "Borzoi                                    27.280946   0.000000  "
      ]
     },
     "execution_count": 4,
     "metadata": {},
     "output_type": "execute_result"
    }
   ],
   "source": [
    "from sklearn.metrics.pairwise import euclidean_distances\n",
    "\n",
    "# determine all pairwise euclidean distances\n",
    "pairwise_distances = pd.DataFrame(euclidean_distances(dog_breeds_2d), index = dog_breeds_2d.index, columns = dog_breeds_2d.index)\n",
    "pairwise_distances.iloc[:5, :5]"
   ]
  },
  {
   "cell_type": "markdown",
   "metadata": {},
   "source": [
    "For instance, which is the most similar breed to the American Staffordshire Terrier if we identify it the closest euclidean distance"
   ]
  },
  {
   "cell_type": "code",
   "execution_count": 5,
   "metadata": {},
   "outputs": [
    {
     "data": {
      "text/plain": [
       "'Standard Schnauzers'"
      ]
     },
     "execution_count": 5,
     "metadata": {},
     "output_type": "execute_result"
    }
   ],
   "source": [
    "breed_name = \"American Staffordshire Terrier\"\n",
    "pairwise_distances.columns[np.argsort(pairwise_distances.loc[breed_name].values)[1]]"
   ]
  },
  {
   "cell_type": "markdown",
   "metadata": {},
   "source": [
    "We can determine the average of two breed vectors and look for the most similar dog breed to this vector."
   ]
  },
  {
   "cell_type": "code",
   "execution_count": 6,
   "metadata": {},
   "outputs": [
    {
     "data": {
      "text/plain": [
       "'American Staffordshire Terrier'"
      ]
     },
     "execution_count": 6,
     "metadata": {},
     "output_type": "execute_result"
    }
   ],
   "source": [
    "bullterier_vector = (dog_breeds_2d.loc[\"Staffordshire Bullterrier\"] + dog_breeds_2d.loc[\"Bull terrier\"]).divide(2)\n",
    "pairwise_distances.columns[np.argsort(euclidean_distances(bullterier_vector.values.reshape(1, -1), dog_breeds_2d.values))[0][0]]"
   ]
  },
  {
   "cell_type": "markdown",
   "metadata": {},
   "source": [
    "This example is only meant to give you an idea that vector representations of words may not be as abstract is it may sound in the first place. However, if we want to extend this idea to a more general scenario, we are going to make use of other numbers than attributes of the word. In our example this has been the size and the weight of a dog breed, obviously, not every word is associated with object that have meaningful size and weight characteristics, e.g., the word elegant. Furthermore, we may need more than just two numbers to capture semantic meaning. "
   ]
  },
  {
   "cell_type": "markdown",
   "metadata": {},
   "source": [
    "## Word2Vec\n",
    "\n",
    "A popular model which is able to learn word vectors (also called word embeddings) which capture semantic and syntactic meaning is Word2Vec. It is build upon a neural network architecture and has been presented by [Mikolov et al. (2013)](https://arxiv.org/abs/1301.3781) and [Mikolov et al. (2013)](https://arxiv.org/abs/1310.4546). The model represents every word by a $p$-dimensional vector. In comparison to our example, each real-valued number in a word vector does not have a specific meaning. However, after the model is trained, the vectors will be similar to each other if the words have similar meaning. Two versions of the Word2Vec model exist: (1) the continuous bag of words approach (CBOW), and, (2) the skip-gram (SG) model. For both approaches, we take a look at the surrounding words around a center word. Let us denote $w_j$ as the center word. The surrounding words, we may also call then feature words, are defined by the window size whose length $2 \\cdot t$ needs to be chosen by the user. The feature words are up to $t$ words to the left and up to $t$ words to the right of the center word: $w_{j-t}, w_{j-t+1}, ..., w_{j-1}, w_{j+1}, w_{j + t -1}, w_{j + t}$. For instance, given the sentence, \"the dog would like a piece of the sandwich\", setting the center word \"like\" and a window size of $4$, the context words are: \"dog, would, a, piece\". The CBOW model tries to predict the center word by the feature words, the SG model tries to predict feature words, given the center word. \n",
    "\n",
    "The easiest way to understand the model is to take a look at a minimal example. So, let's go: First, everything starts with a corpus. Ours consists of three sentences:\n"
   ]
  },
  {
   "cell_type": "code",
   "execution_count": 38,
   "metadata": {},
   "outputs": [
    {
     "data": {
      "text/plain": [
       "[['i', 'love', 'vanilla', 'ice', 'cream'],\n",
       " ['i', 'love', 'strawberry', 'ice', 'cream'],\n",
       " ['the', 'main', 'capital', 'of', 'germany', 'is', 'berlin'],\n",
       " ['the', 'main', 'capitol', 'of', 'france', 'is', 'paris']]"
      ]
     },
     "execution_count": 38,
     "metadata": {},
     "output_type": "execute_result"
    }
   ],
   "source": [
    "from gensim.utils import simple_preprocess\n",
    "\n",
    "raw_corpus = [\n",
    "    \"I love vanilla ice cream\",\n",
    "    \"I love strawberry ice cream\",\n",
    "    \"The main capital of Germany is Berlin\",\n",
    "    \"The main capitol of France is Paris\"\n",
    "]\n",
    "\n",
    "corpus = [simple_preprocess(doc, min_len = 1) for doc in raw_corpus]\n",
    "corpus"
   ]
  },
  {
   "cell_type": "markdown",
   "metadata": {},
   "source": [
    "Next, we build a vocabulary in which each word is mapped to an index."
   ]
  },
  {
   "cell_type": "code",
   "execution_count": 39,
   "metadata": {},
   "outputs": [
    {
     "data": {
      "text/plain": [
       "{'i': 0,\n",
       " 'love': 1,\n",
       " 'vanilla': 2,\n",
       " 'ice': 3,\n",
       " 'cream': 4,\n",
       " 'strawberry': 5,\n",
       " 'the': 6,\n",
       " 'main': 7,\n",
       " 'capital': 8,\n",
       " 'of': 9,\n",
       " 'germany': 10,\n",
       " 'is': 11,\n",
       " 'berlin': 12,\n",
       " 'capitol': 13,\n",
       " 'france': 14,\n",
       " 'paris': 15}"
      ]
     },
     "execution_count": 39,
     "metadata": {},
     "output_type": "execute_result"
    }
   ],
   "source": [
    "word2index = dict()\n",
    "idx = 0\n",
    "for doc in corpus:\n",
    "    for word in doc:\n",
    "        if word in word2index.keys():\n",
    "            continue\n",
    "        else:\n",
    "            word2index[word] = idx\n",
    "            idx += 1\n",
    "\n",
    "word2index"
   ]
  },
  {
   "cell_type": "markdown",
   "metadata": {},
   "source": [
    "### CBOW\n",
    "\n",
    "The CBOW model is build around a multi-class classification task. One predicts the probabilities for the center word, given the words within the window size: $P \\left( w_i | w_{i-t}, w_{i-t+1}, ..., w_{i-1}, w_{i+1}, w_{i + t -1}, w_{i + t} \\right) $. Let us denote $\\boldsymbol{x}_{j}$ as the one-hot encoded vector for word $j$ where $j$ is the number of the index in the dictionary. The number of categories is equal to the number of words, e.g., $d = 16$. To generate probability predictions, we make use of two matrices $\\boldsymbol{W}, \\boldsymbol{V}$ whose elements are parameters which need to be trained. Assume a window size of $2$ (so one word to the left and one word to the right) and we start with the sequence \"I love vanilla\". The feature words and their one-hot encoded vectors, e.g., \"I\", \"vanilla\" is represented by $\\boldsymbol{x}_{0}, \\boldsymbol{x}_{2}$ which can be subsumed in a matrix:\n",
    "\n",
    "$$\\boldsymbol{C}^{(0, 2)} = \\begin{pmatrix} \\boldsymbol{x}_{0} \\\\ \\boldsymbol{x}_{2} \\end{pmatrix}$$\n",
    "\n",
    "See in the cell below how this looks like for our example:"
   ]
  },
  {
   "cell_type": "code",
   "execution_count": 40,
   "metadata": {},
   "outputs": [
    {
     "data": {
      "text/plain": [
       "tensor([[1, 0, 0, 0, 0, 0, 0, 0, 0, 0, 0, 0, 0, 0, 0, 0],\n",
       "        [0, 0, 1, 0, 0, 0, 0, 0, 0, 0, 0, 0, 0, 0, 0, 0]])"
      ]
     },
     "execution_count": 40,
     "metadata": {},
     "output_type": "execute_result"
    }
   ],
   "source": [
    "from torch.nn.functional import one_hot\n",
    "import torch\n",
    "\n",
    "# define the number of terms in the lexicon\n",
    "d = len(word2index.keys())\n",
    "\n",
    "C_02 = one_hot(torch.LongTensor([0, 2]), num_classes=d)\n",
    "C_02"
   ]
  },
  {
   "cell_type": "markdown",
   "metadata": {},
   "source": [
    "Next, we multiply this matrix with the context word embedding matrix $\\boldsymbol{W}$, its first dimension must be equal to $d$, its second dimension $p$ can be set by the user and will define the dimension of word embeddings. Let us set $p=3$ for our example and take a look at an example below whose parameters have been randomly initialized."
   ]
  },
  {
   "cell_type": "code",
   "execution_count": 41,
   "metadata": {},
   "outputs": [
    {
     "data": {
      "text/plain": [
       "Parameter containing:\n",
       "tensor([[-0.7960, -1.4061,  1.8355],\n",
       "        [-1.5206, -0.7127, -0.0744],\n",
       "        [ 0.5473, -1.1336,  0.4874],\n",
       "        [ 1.1330,  0.9936,  1.7171],\n",
       "        [-1.5269,  2.4089,  0.4537],\n",
       "        [-0.6563, -0.0302,  0.4684],\n",
       "        [ 1.1775,  1.3451, -0.4057],\n",
       "        [ 1.0349,  0.8054,  0.8207],\n",
       "        [ 1.1404,  0.9209, -1.8579],\n",
       "        [-0.1924, -0.6196,  0.1362],\n",
       "        [ 1.0742,  1.1447, -0.9283],\n",
       "        [-1.8720,  0.0689, -1.5008],\n",
       "        [ 1.2242, -0.1517,  1.0446],\n",
       "        [-0.6718,  0.8597,  0.0499],\n",
       "        [ 0.0403,  0.7571,  0.2452],\n",
       "        [-0.0738,  0.8360, -0.7616]], requires_grad=True)"
      ]
     },
     "execution_count": 41,
     "metadata": {},
     "output_type": "execute_result"
    }
   ],
   "source": [
    "# embedding dimension\n",
    "p = 3\n",
    "\n",
    "W = torch.nn.Embedding(num_embeddings=d, embedding_dim=p)\n",
    "W.weight"
   ]
  },
  {
   "cell_type": "markdown",
   "metadata": {},
   "source": [
    "This can be seen as the weights from the first layer in a neural network whose input are the one-hot context word vectors with dimension $2t \\times d$. Each row of this matrix relates to the word embedding for one word if it is used in the window of a center word. Multiplying the one-hot vector input with this matrix basically transforms the one-hot encoded input into numerical representations of the feature words. Let us continue the example below:"
   ]
  },
  {
   "cell_type": "code",
   "execution_count": 42,
   "metadata": {},
   "outputs": [
    {
     "data": {
      "text/plain": [
       "tensor([[-0.7960, -1.4061,  1.8355],\n",
       "        [ 0.5473, -1.1336,  0.4874]], grad_fn=<EmbeddingBackward0>)"
      ]
     },
     "execution_count": 42,
     "metadata": {},
     "output_type": "execute_result"
    }
   ],
   "source": [
    "c = W(torch.LongTensor([0, 2]))\n",
    "c"
   ]
  },
  {
   "cell_type": "markdown",
   "metadata": {},
   "source": [
    "Note that we observe row vectors with index numbers $0,2$ because these are the index numbers for our example \"I\", \"vanilla\". In order to condense the information of the context words into one vector, one can average or sum these vectors row-wise. Let us build the average and continue with this vector that we denote as the context vector $\\boldsymbol{c}$."
   ]
  },
  {
   "cell_type": "code",
   "execution_count": 43,
   "metadata": {},
   "outputs": [
    {
     "data": {
      "text/plain": [
       "tensor([-0.1244, -1.2698,  1.1614], grad_fn=<MeanBackward1>)"
      ]
     },
     "execution_count": 43,
     "metadata": {},
     "output_type": "execute_result"
    }
   ],
   "source": [
    "c = c.mean(axis = 0)\n",
    "c"
   ]
  },
  {
   "cell_type": "markdown",
   "metadata": {},
   "source": [
    "To determine the probabilities for the center words, we multiply this vector with the matrix $\\boldsymbol{V}$ which must have dimensionality $p \\times d$ and ..."
   ]
  },
  {
   "cell_type": "code",
   "execution_count": 44,
   "metadata": {},
   "outputs": [
    {
     "data": {
      "text/plain": [
       "tensor([-0.2578,  0.0105, -1.1646, -1.2694, -0.4346,  1.2154,  0.3479, -0.3902,\n",
       "         1.0439, -0.1664,  0.1696, -0.8432, -0.5592, -0.8692,  1.0263, -0.3077],\n",
       "       grad_fn=<SqueezeBackward4>)"
      ]
     },
     "execution_count": 44,
     "metadata": {},
     "output_type": "execute_result"
    }
   ],
   "source": [
    "V = torch.nn.Linear(in_features=p, out_features=d, bias = False)\n",
    "z = V(c)\n",
    "z"
   ]
  },
  {
   "cell_type": "markdown",
   "metadata": {},
   "source": [
    "...use the softmax function."
   ]
  },
  {
   "cell_type": "code",
   "execution_count": 45,
   "metadata": {},
   "outputs": [
    {
     "data": {
      "text/plain": [
       "tensor([0.0422, 0.0552, 0.0170, 0.0153, 0.0354, 0.1842, 0.0774, 0.0370, 0.1551,\n",
       "        0.0462, 0.0647, 0.0235, 0.0312, 0.0229, 0.1524, 0.0402],\n",
       "       grad_fn=<SoftmaxBackward0>)"
      ]
     },
     "execution_count": 45,
     "metadata": {},
     "output_type": "execute_result"
    }
   ],
   "source": [
    "prob_w = torch.nn.functional.softmax(z, dim = 0)\n",
    "prob_w"
   ]
  },
  {
   "cell_type": "markdown",
   "metadata": {},
   "source": [
    "In our example, the true category would be the word \"love\" which is represented by the one-hot encoded vector $\\boldsymbol{w}_1$ with index $1$. Thus, in order to determine the value of the crossentropy loss function, we calculate the dot product and determine the negative log of this value. "
   ]
  },
  {
   "cell_type": "code",
   "execution_count": 46,
   "metadata": {},
   "outputs": [
    {
     "data": {
      "text/plain": [
       "array([2.8967946], dtype=float32)"
      ]
     },
     "execution_count": 46,
     "metadata": {},
     "output_type": "execute_result"
    }
   ],
   "source": [
    "-np.log((prob_w @ one_hot(torch.LongTensor([1]), num_classes=d).reshape(d, 1).float()).detach().numpy())"
   ]
  },
  {
   "cell_type": "markdown",
   "metadata": {},
   "source": [
    "Let us go through these steps formally:\n",
    "\n",
    "1. Generate a one-hot encoded context input, given a window length $2t$, $\\boldsymbol{C} \\in [0, 1]^{2t \\times d}$\n",
    "2. Multiply this with the feature word vector matrix, $\\boldsymbol{W} \\in \\mathbb{R}^{d \\times p}$ and aggregate the outcome to a single vector with dimension $p$\n",
    "3. Multiply this vector with the center word vector matrix $\\boldsymbol{V} \\in \\mathbb{R}^{p \\times d}$ and transform the output with the softmax function to probabilities\n",
    "4. Multiply the probability prediction with the one-hot vector of the center word to determine the loss\n",
    "\n",
    "This is done for all possible center word context word combinations and gradient descent can be used to update the parameters of $\\boldsymbol{W}$ and $\\boldsymbol{V}$. After training is finished one usually uses the columns of $\\boldsymbol{V}$ as word embeddings where word with index $0$ is represented by the first column, word with index $1$ is represented by the second column and so on. Let us take a look how we could do this by hand using pytorch for our example.\n",
    "\n",
    "First we generate the samples. Note that sample indices are used to derive the one-hot information for the center words. "
   ]
  },
  {
   "cell_type": "code",
   "execution_count": 47,
   "metadata": {},
   "outputs": [
    {
     "name": "stdout",
     "output_type": "stream",
     "text": [
      "This is how the training samples look like:\n",
      "[(['i', 'love', 'ice', 'cream'], 'vanilla'), (['i', 'love', 'ice', 'cream'], 'strawberry'), (['the', 'main', 'of', 'germany'], 'capital'), (['main', 'capital', 'germany', 'is'], 'of'), (['capital', 'of', 'is', 'berlin'], 'germany'), (['the', 'main', 'of', 'france'], 'capitol'), (['main', 'capitol', 'france', 'is'], 'of'), (['capitol', 'of', 'is', 'paris'], 'france')]\n",
      "\n",
      "This is how the training samples information is provided:\n",
      "[([0, 1, 3, 4], 2), ([0, 1, 3, 4], 5), ([6, 7, 9, 10], 8), ([7, 8, 10, 11], 9), ([8, 9, 11, 12], 10), ([6, 7, 9, 14], 13), ([7, 13, 14, 11], 9), ([13, 9, 11, 15], 14)]\n"
     ]
    }
   ],
   "source": [
    "# context length\n",
    "k = 2\n",
    "context_indices = [j for j in range(-k, k+1) if j != 0] # \n",
    "\n",
    "# generate training samples\n",
    "sample_words = []\n",
    "samples = []\n",
    "for doc in corpus:\n",
    "    for i in range(k, len(doc) - k):\n",
    "        center_word = doc[i]\n",
    "        center_word_idx = word2index[doc[i]]\n",
    "        context_words = [doc[i + idx] for idx in context_indices]\n",
    "        context_word_idx = [word2index[doc[i + idx]] for idx in context_indices]\n",
    "        sample_words.append((context_words, center_word))\n",
    "        samples.append((context_word_idx, center_word_idx))\n",
    "\n",
    "print(\"This is how the training samples look like:\")\n",
    "print(sample_words)\n",
    "print(\"\")\n",
    "print(\"This is how the training samples information is provided:\")\n",
    "print(samples)"
   ]
  },
  {
   "cell_type": "markdown",
   "metadata": {},
   "source": [
    "Next, we prepare these training samples such they can be inserted into a neural network."
   ]
  },
  {
   "cell_type": "code",
   "execution_count": 48,
   "metadata": {},
   "outputs": [
    {
     "name": "stdout",
     "output_type": "stream",
     "text": [
      "Input word index labels for the neural network:\n",
      "[[0, 1, 3, 4], [0, 1, 3, 4], [6, 7, 9, 10], [7, 8, 10, 11], [8, 9, 11, 12], [6, 7, 9, 14], [7, 13, 14, 11], [13, 9, 11, 15]]\n",
      "\n",
      "Target word labels for the neural network:\n",
      "[2, 5, 8, 9, 10, 13, 9, 14]\n"
     ]
    }
   ],
   "source": [
    "# prepare training examples for a neural network\n",
    "X = [sample[0] for sample in samples]\n",
    "y = [sample[1] for sample in samples]\n",
    "\n",
    "print(\"Input word index labels for the neural network:\")\n",
    "print(X)\n",
    "print(\"\")\n",
    "print(\"Target word labels for the neural network:\")\n",
    "print(y)"
   ]
  },
  {
   "cell_type": "markdown",
   "metadata": {},
   "source": [
    "Below we train the model. The embedding layer includes word vectors for the feature word embedding matrix $\\boldsymbol{W}$ and the linear layer includes word embeddings for center words which is matrix $\\boldsymbol{V}$. The model processes every sample as described in detail above and uses gradient descent for the crossentropy loss function. Basically this is a multi-class prediction problem if we define the model as below."
   ]
  },
  {
   "cell_type": "code",
   "execution_count": 49,
   "metadata": {},
   "outputs": [
    {
     "data": {
      "image/png": "[encoded data removed]",
      "text/plain": [
       "<Figure size 640x480 with 1 Axes>"
      ]
     },
     "metadata": {},
     "output_type": "display_data"
    }
   ],
   "source": [
    "import matplotlib.pylab as plt\n",
    "\n",
    "# define the neural network architecture\n",
    "class W2WCBow(torch.nn.Module):\n",
    "    def __init__(self):\n",
    "        super().__init__()\n",
    "        self.embedding = torch.nn.Embedding(num_embeddings=d, embedding_dim=p)\n",
    "        self.linear = torch.nn.Linear(in_features=p, out_features=d, bias = False)\n",
    "\n",
    "    def forward(self, x):\n",
    "        e = self.embedding(x)\n",
    "        e = e.mean(axis = 1)\n",
    "        z = self.linear(e)\n",
    "        return z\n",
    "    \n",
    "# define an instande of the model class\n",
    "w2w_cbow = W2WCBow()\n",
    "w2w_cbow(torch.LongTensor(X))\n",
    "\n",
    "# define an optimizer and loss\n",
    "optimizer = torch.optim.Adam(lr = 0.015, params = w2w_cbow.parameters())\n",
    "loss_fn = torch.nn.CrossEntropyLoss()\n",
    "\n",
    "losses = []\n",
    "epochs = 300\n",
    "for epoch in range(epochs):\n",
    "    w2w_cbow.train()\n",
    "    scores = w2w_cbow(torch.tensor(X))\n",
    "    batch_loss = loss_fn(scores, torch.tensor(y))\n",
    "    optimizer.zero_grad()\n",
    "    batch_loss.backward()\n",
    "    optimizer.step()\n",
    "\n",
    "    losses.append(batch_loss.detach().numpy())\n",
    "\n",
    "# visualize the training loss  \n",
    "plt.plot(losses)\n",
    "plt.title(\"Training loss\")\n",
    "plt.show()"
   ]
  },
  {
   "cell_type": "markdown",
   "metadata": {},
   "source": [
    "Once training is finished, it makes sense to use center word vectors $\\boldsymbol{V}$ as embeddings for our words. However, one may also experiment and can use feature word vectors $\\boldsymbol{W}$ or the average vectors of both matrices. Our example is too small to produce high quality embeddings. However if you take a look at the cosine similarity matrix below, you can observe that, e.g., the model learned \"vanilla\" has a similar meaning to \"strawberry\" or \"berlin\" is similar to \"paris\" which makes sense, given our corpus information."
   ]
  },
  {
   "cell_type": "code",
   "execution_count": 50,
   "metadata": {},
   "outputs": [
    {
     "data": {
      "text/html": [
       "<div>\n",
       "<style scoped>\n",
       "    .dataframe tbody tr th:only-of-type {\n",
       "        vertical-align: middle;\n",
       "    }\n",
       "\n",
       "    .dataframe tbody tr th {\n",
       "        vertical-align: top;\n",
       "    }\n",
       "\n",
       "    .dataframe thead th {\n",
       "        text-align: right;\n",
       "    }\n",
       "</style>\n",
       "<table border=\"1\" class=\"dataframe\">\n",
       "  <thead>\n",
       "    <tr style=\"text-align: right;\">\n",
       "      <th></th>\n",
       "      <th>i</th>\n",
       "      <th>love</th>\n",
       "      <th>vanilla</th>\n",
       "      <th>ice</th>\n",
       "      <th>cream</th>\n",
       "      <th>strawberry</th>\n",
       "      <th>the</th>\n",
       "      <th>main</th>\n",
       "      <th>capital</th>\n",
       "      <th>of</th>\n",
       "      <th>germany</th>\n",
       "      <th>is</th>\n",
       "      <th>berlin</th>\n",
       "      <th>capitol</th>\n",
       "      <th>france</th>\n",
       "      <th>paris</th>\n",
       "    </tr>\n",
       "  </thead>\n",
       "  <tbody>\n",
       "    <tr>\n",
       "      <th>i</th>\n",
       "      <td>1.000000</td>\n",
       "      <td>0.945286</td>\n",
       "      <td>-0.123785</td>\n",
       "      <td>0.984577</td>\n",
       "      <td>0.996791</td>\n",
       "      <td>-0.104024</td>\n",
       "      <td>0.946015</td>\n",
       "      <td>0.991485</td>\n",
       "      <td>-0.331332</td>\n",
       "      <td>-0.285100</td>\n",
       "      <td>0.466496</td>\n",
       "      <td>0.985313</td>\n",
       "      <td>0.957270</td>\n",
       "      <td>-0.024044</td>\n",
       "      <td>-0.917748</td>\n",
       "      <td>0.918655</td>\n",
       "    </tr>\n",
       "    <tr>\n",
       "      <th>love</th>\n",
       "      <td>0.945286</td>\n",
       "      <td>1.000000</td>\n",
       "      <td>-0.093767</td>\n",
       "      <td>0.955302</td>\n",
       "      <td>0.967461</td>\n",
       "      <td>-0.055976</td>\n",
       "      <td>0.999994</td>\n",
       "      <td>0.955922</td>\n",
       "      <td>-0.577900</td>\n",
       "      <td>0.022235</td>\n",
       "      <td>0.350377</td>\n",
       "      <td>0.877505</td>\n",
       "      <td>0.817712</td>\n",
       "      <td>-0.327575</td>\n",
       "      <td>-0.964921</td>\n",
       "      <td>0.945346</td>\n",
       "    </tr>\n",
       "    <tr>\n",
       "      <th>vanilla</th>\n",
       "      <td>-0.123785</td>\n",
       "      <td>-0.093767</td>\n",
       "      <td>1.000000</td>\n",
       "      <td>-0.272762</td>\n",
       "      <td>-0.138587</td>\n",
       "      <td>0.998082</td>\n",
       "      <td>-0.091473</td>\n",
       "      <td>-0.234401</td>\n",
       "      <td>-0.493448</td>\n",
       "      <td>-0.242516</td>\n",
       "      <td>-0.908723</td>\n",
       "      <td>-0.090999</td>\n",
       "      <td>-0.246948</td>\n",
       "      <td>0.288120</td>\n",
       "      <td>0.351623</td>\n",
       "      <td>-0.410574</td>\n",
       "    </tr>\n",
       "    <tr>\n",
       "      <th>ice</th>\n",
       "      <td>0.984577</td>\n",
       "      <td>0.955302</td>\n",
       "      <td>-0.272762</td>\n",
       "      <td>1.000000</td>\n",
       "      <td>0.990545</td>\n",
       "      <td>-0.248309</td>\n",
       "      <td>0.955454</td>\n",
       "      <td>0.998975</td>\n",
       "      <td>-0.311356</td>\n",
       "      <td>-0.158812</td>\n",
       "      <td>0.570952</td>\n",
       "      <td>0.950844</td>\n",
       "      <td>0.939813</td>\n",
       "      <td>-0.150221</td>\n",
       "      <td>-0.967457</td>\n",
       "      <td>0.972302</td>\n",
       "    </tr>\n",
       "    <tr>\n",
       "      <th>cream</th>\n",
       "      <td>0.996791</td>\n",
       "      <td>0.967461</td>\n",
       "      <td>-0.138587</td>\n",
       "      <td>0.990545</td>\n",
       "      <td>1.000000</td>\n",
       "      <td>-0.114287</td>\n",
       "      <td>0.967969</td>\n",
       "      <td>0.995175</td>\n",
       "      <td>-0.382886</td>\n",
       "      <td>-0.207870</td>\n",
       "      <td>0.461110</td>\n",
       "      <td>0.968482</td>\n",
       "      <td>0.935862</td>\n",
       "      <td>-0.103603</td>\n",
       "      <td>-0.943349</td>\n",
       "      <td>0.940562</td>\n",
       "    </tr>\n",
       "    <tr>\n",
       "      <th>strawberry</th>\n",
       "      <td>-0.104024</td>\n",
       "      <td>-0.055976</td>\n",
       "      <td>0.998082</td>\n",
       "      <td>-0.248309</td>\n",
       "      <td>-0.114287</td>\n",
       "      <td>1.000000</td>\n",
       "      <td>-0.053802</td>\n",
       "      <td>-0.211023</td>\n",
       "      <td>-0.545751</td>\n",
       "      <td>-0.194493</td>\n",
       "      <td>-0.912679</td>\n",
       "      <td>-0.081366</td>\n",
       "      <td>-0.243280</td>\n",
       "      <td>0.231596</td>\n",
       "      <td>0.315036</td>\n",
       "      <td>-0.377435</td>\n",
       "    </tr>\n",
       "    <tr>\n",
       "      <th>the</th>\n",
       "      <td>0.946015</td>\n",
       "      <td>0.999994</td>\n",
       "      <td>-0.091473</td>\n",
       "      <td>0.955454</td>\n",
       "      <td>0.967969</td>\n",
       "      <td>-0.053802</td>\n",
       "      <td>1.000000</td>\n",
       "      <td>0.956223</td>\n",
       "      <td>-0.577648</td>\n",
       "      <td>0.019240</td>\n",
       "      <td>0.349156</td>\n",
       "      <td>0.878685</td>\n",
       "      <td>0.818695</td>\n",
       "      <td>-0.324693</td>\n",
       "      <td>-0.964283</td>\n",
       "      <td>0.944701</td>\n",
       "    </tr>\n",
       "    <tr>\n",
       "      <th>main</th>\n",
       "      <td>0.991485</td>\n",
       "      <td>0.955922</td>\n",
       "      <td>-0.234401</td>\n",
       "      <td>0.998975</td>\n",
       "      <td>0.995175</td>\n",
       "      <td>-0.211023</td>\n",
       "      <td>0.956223</td>\n",
       "      <td>1.000000</td>\n",
       "      <td>-0.318657</td>\n",
       "      <td>-0.191102</td>\n",
       "      <td>0.544834</td>\n",
       "      <td>0.962411</td>\n",
       "      <td>0.946742</td>\n",
       "      <td>-0.118917</td>\n",
       "      <td>-0.957668</td>\n",
       "      <td>0.961405</td>\n",
       "    </tr>\n",
       "    <tr>\n",
       "      <th>capital</th>\n",
       "      <td>-0.331332</td>\n",
       "      <td>-0.577900</td>\n",
       "      <td>-0.493448</td>\n",
       "      <td>-0.311356</td>\n",
       "      <td>-0.382886</td>\n",
       "      <td>-0.545751</td>\n",
       "      <td>-0.577648</td>\n",
       "      <td>-0.318657</td>\n",
       "      <td>1.000000</td>\n",
       "      <td>-0.464897</td>\n",
       "      <td>0.475183</td>\n",
       "      <td>-0.213219</td>\n",
       "      <td>-0.047117</td>\n",
       "      <td>0.594968</td>\n",
       "      <td>0.420110</td>\n",
       "      <td>-0.343138</td>\n",
       "    </tr>\n",
       "    <tr>\n",
       "      <th>of</th>\n",
       "      <td>-0.285100</td>\n",
       "      <td>0.022235</td>\n",
       "      <td>-0.242516</td>\n",
       "      <td>-0.158812</td>\n",
       "      <td>-0.207870</td>\n",
       "      <td>-0.194493</td>\n",
       "      <td>0.019240</td>\n",
       "      <td>-0.191102</td>\n",
       "      <td>-0.464897</td>\n",
       "      <td>1.000000</td>\n",
       "      <td>-0.091540</td>\n",
       "      <td>-0.443548</td>\n",
       "      <td>-0.473741</td>\n",
       "      <td>-0.951354</td>\n",
       "      <td>-0.095683</td>\n",
       "      <td>0.058377</td>\n",
       "    </tr>\n",
       "    <tr>\n",
       "      <th>germany</th>\n",
       "      <td>0.466496</td>\n",
       "      <td>0.350377</td>\n",
       "      <td>-0.908723</td>\n",
       "      <td>0.570952</td>\n",
       "      <td>0.461110</td>\n",
       "      <td>-0.912679</td>\n",
       "      <td>0.349156</td>\n",
       "      <td>0.544834</td>\n",
       "      <td>0.475183</td>\n",
       "      <td>-0.091540</td>\n",
       "      <td>1.000000</td>\n",
       "      <td>0.469258</td>\n",
       "      <td>0.613609</td>\n",
       "      <td>-0.050169</td>\n",
       "      <td>-0.565238</td>\n",
       "      <td>0.629191</td>\n",
       "    </tr>\n",
       "    <tr>\n",
       "      <th>is</th>\n",
       "      <td>0.985313</td>\n",
       "      <td>0.877505</td>\n",
       "      <td>-0.090999</td>\n",
       "      <td>0.950844</td>\n",
       "      <td>0.968482</td>\n",
       "      <td>-0.081366</td>\n",
       "      <td>0.878685</td>\n",
       "      <td>0.962411</td>\n",
       "      <td>-0.213219</td>\n",
       "      <td>-0.443548</td>\n",
       "      <td>0.469258</td>\n",
       "      <td>1.000000</td>\n",
       "      <td>0.982586</td>\n",
       "      <td>0.146028</td>\n",
       "      <td>-0.843641</td>\n",
       "      <td>0.852508</td>\n",
       "    </tr>\n",
       "    <tr>\n",
       "      <th>berlin</th>\n",
       "      <td>0.957270</td>\n",
       "      <td>0.817712</td>\n",
       "      <td>-0.246948</td>\n",
       "      <td>0.939813</td>\n",
       "      <td>0.935862</td>\n",
       "      <td>-0.243280</td>\n",
       "      <td>0.818695</td>\n",
       "      <td>0.946742</td>\n",
       "      <td>-0.047117</td>\n",
       "      <td>-0.473741</td>\n",
       "      <td>0.613609</td>\n",
       "      <td>0.982586</td>\n",
       "      <td>1.000000</td>\n",
       "      <td>0.187406</td>\n",
       "      <td>-0.827722</td>\n",
       "      <td>0.851399</td>\n",
       "    </tr>\n",
       "    <tr>\n",
       "      <th>capitol</th>\n",
       "      <td>-0.024044</td>\n",
       "      <td>-0.327575</td>\n",
       "      <td>0.288120</td>\n",
       "      <td>-0.150221</td>\n",
       "      <td>-0.103603</td>\n",
       "      <td>0.231596</td>\n",
       "      <td>-0.324693</td>\n",
       "      <td>-0.118917</td>\n",
       "      <td>0.594968</td>\n",
       "      <td>-0.951354</td>\n",
       "      <td>-0.050169</td>\n",
       "      <td>0.146028</td>\n",
       "      <td>0.187406</td>\n",
       "      <td>1.000000</td>\n",
       "      <td>0.394095</td>\n",
       "      <td>-0.355119</td>\n",
       "    </tr>\n",
       "    <tr>\n",
       "      <th>france</th>\n",
       "      <td>-0.917748</td>\n",
       "      <td>-0.964921</td>\n",
       "      <td>0.351623</td>\n",
       "      <td>-0.967457</td>\n",
       "      <td>-0.943349</td>\n",
       "      <td>0.315036</td>\n",
       "      <td>-0.964283</td>\n",
       "      <td>-0.957668</td>\n",
       "      <td>0.420110</td>\n",
       "      <td>-0.095683</td>\n",
       "      <td>-0.565238</td>\n",
       "      <td>-0.843641</td>\n",
       "      <td>-0.827722</td>\n",
       "      <td>0.394095</td>\n",
       "      <td>1.000000</td>\n",
       "      <td>-0.996529</td>\n",
       "    </tr>\n",
       "    <tr>\n",
       "      <th>paris</th>\n",
       "      <td>0.918655</td>\n",
       "      <td>0.945346</td>\n",
       "      <td>-0.410574</td>\n",
       "      <td>0.972302</td>\n",
       "      <td>0.940562</td>\n",
       "      <td>-0.377435</td>\n",
       "      <td>0.944701</td>\n",
       "      <td>0.961405</td>\n",
       "      <td>-0.343138</td>\n",
       "      <td>0.058377</td>\n",
       "      <td>0.629191</td>\n",
       "      <td>0.852508</td>\n",
       "      <td>0.851399</td>\n",
       "      <td>-0.355119</td>\n",
       "      <td>-0.996529</td>\n",
       "      <td>1.000000</td>\n",
       "    </tr>\n",
       "  </tbody>\n",
       "</table>\n",
       "</div>"
      ],
      "text/plain": [
       "                   i      love   vanilla       ice     cream  strawberry  \\\n",
       "i           1.000000  0.945286 -0.123785  0.984577  0.996791   -0.104024   \n",
       "love        0.945286  1.000000 -0.093767  0.955302  0.967461   -0.055976   \n",
       "vanilla    -0.123785 -0.093767  1.000000 -0.272762 -0.138587    0.998082   \n",
       "ice         0.984577  0.955302 -0.272762  1.000000  0.990545   -0.248309   \n",
       "cream       0.996791  0.967461 -0.138587  0.990545  1.000000   -0.114287   \n",
       "strawberry -0.104024 -0.055976  0.998082 -0.248309 -0.114287    1.000000   \n",
       "the         0.946015  0.999994 -0.091473  0.955454  0.967969   -0.053802   \n",
       "main        0.991485  0.955922 -0.234401  0.998975  0.995175   -0.211023   \n",
       "capital    -0.331332 -0.577900 -0.493448 -0.311356 -0.382886   -0.545751   \n",
       "of         -0.285100  0.022235 -0.242516 -0.158812 -0.207870   -0.194493   \n",
       "germany     0.466496  0.350377 -0.908723  0.570952  0.461110   -0.912679   \n",
       "is          0.985313  0.877505 -0.090999  0.950844  0.968482   -0.081366   \n",
       "berlin      0.957270  0.817712 -0.246948  0.939813  0.935862   -0.243280   \n",
       "capitol    -0.024044 -0.327575  0.288120 -0.150221 -0.103603    0.231596   \n",
       "france     -0.917748 -0.964921  0.351623 -0.967457 -0.943349    0.315036   \n",
       "paris       0.918655  0.945346 -0.410574  0.972302  0.940562   -0.377435   \n",
       "\n",
       "                 the      main   capital        of   germany        is  \\\n",
       "i           0.946015  0.991485 -0.331332 -0.285100  0.466496  0.985313   \n",
       "love        0.999994  0.955922 -0.577900  0.022235  0.350377  0.877505   \n",
       "vanilla    -0.091473 -0.234401 -0.493448 -0.242516 -0.908723 -0.090999   \n",
       "ice         0.955454  0.998975 -0.311356 -0.158812  0.570952  0.950844   \n",
       "cream       0.967969  0.995175 -0.382886 -0.207870  0.461110  0.968482   \n",
       "strawberry -0.053802 -0.211023 -0.545751 -0.194493 -0.912679 -0.081366   \n",
       "the         1.000000  0.956223 -0.577648  0.019240  0.349156  0.878685   \n",
       "main        0.956223  1.000000 -0.318657 -0.191102  0.544834  0.962411   \n",
       "capital    -0.577648 -0.318657  1.000000 -0.464897  0.475183 -0.213219   \n",
       "of          0.019240 -0.191102 -0.464897  1.000000 -0.091540 -0.443548   \n",
       "germany     0.349156  0.544834  0.475183 -0.091540  1.000000  0.469258   \n",
       "is          0.878685  0.962411 -0.213219 -0.443548  0.469258  1.000000   \n",
       "berlin      0.818695  0.946742 -0.047117 -0.473741  0.613609  0.982586   \n",
       "capitol    -0.324693 -0.118917  0.594968 -0.951354 -0.050169  0.146028   \n",
       "france     -0.964283 -0.957668  0.420110 -0.095683 -0.565238 -0.843641   \n",
       "paris       0.944701  0.961405 -0.343138  0.058377  0.629191  0.852508   \n",
       "\n",
       "              berlin   capitol    france     paris  \n",
       "i           0.957270 -0.024044 -0.917748  0.918655  \n",
       "love        0.817712 -0.327575 -0.964921  0.945346  \n",
       "vanilla    -0.246948  0.288120  0.351623 -0.410574  \n",
       "ice         0.939813 -0.150221 -0.967457  0.972302  \n",
       "cream       0.935862 -0.103603 -0.943349  0.940562  \n",
       "strawberry -0.243280  0.231596  0.315036 -0.377435  \n",
       "the         0.818695 -0.324693 -0.964283  0.944701  \n",
       "main        0.946742 -0.118917 -0.957668  0.961405  \n",
       "capital    -0.047117  0.594968  0.420110 -0.343138  \n",
       "of         -0.473741 -0.951354 -0.095683  0.058377  \n",
       "germany     0.613609 -0.050169 -0.565238  0.629191  \n",
       "is          0.982586  0.146028 -0.843641  0.852508  \n",
       "berlin      1.000000  0.187406 -0.827722  0.851399  \n",
       "capitol     0.187406  1.000000  0.394095 -0.355119  \n",
       "france     -0.827722  0.394095  1.000000 -0.996529  \n",
       "paris       0.851399 -0.355119 -0.996529  1.000000  "
      ]
     },
     "execution_count": 50,
     "metadata": {},
     "output_type": "execute_result"
    }
   ],
   "source": [
    "from sklearn.metrics.pairwise import cosine_similarity\n",
    "\n",
    "word_embeddings = w2w_cbow.linear.weight.detach().numpy() #w2v_cbow.get_layer(\"center_vectors\").get_weights()[0].transpose()\n",
    "word_embeddings_df = pd.DataFrame(cosine_similarity(word_embeddings), columns = list(word2index.keys()), index = list(word2index.keys()))\n",
    "word_embeddings_df"
   ]
  },
  {
   "cell_type": "markdown",
   "metadata": {},
   "source": [
    "Note that words in the beginning and end of the sentences are ignored in our example which causes problems for such a small corpus but usually is not problematic for a large corpus. Given a large collection of documents, common embedding dimension $p$ are rather in the hundreds as in comparison to our example.\n",
    "\n",
    "**How does the model learn similar meaning?**\n",
    "\n",
    "The description from above explains the technical process, however, to understand how words with similar meaning get similar word vectors it may help to explain this in a more intuitive (and slightly technical) way. \n",
    "\n",
    "Let us take a look at the two sentences:\n",
    "\n",
    "* I love vanilla ice cream\n",
    "* I love strawberry ice cream\n",
    "\n",
    "Using two words to the left and to the right, we would generate a vector which represents the surrounding \"I, love\" and \"ice cream\". Let us denote this vector by $\\mathbf{w}$. This vector is going to be multiplied with every possible word vector $\\mathbf{v}^{(I)}, \\mathbf{v}^{(love)}, \\mathbf{v}^{(vanilla)}, \\mathbf{v}^{(strawberry)}, \\mathbf{v}^{(ice)}, \\mathbf{v}^{(cream)}$. Each multiplication is the dot product of $\\mathbf{w}$ and one of the word vectors. The result is a real-valued number, if it helps denote it as a score. The higher the score the higher the probability prediction for the word. In our example the true categories are \"vanilla\" and \"strawberry\". This means after some training, the vectors for the corresponding words create high values for their dot products: $\\mathbf{w}^T \\mathbf{v}^{(vanilla)}$ and $\\mathbf{w}^T \\mathbf{v}^{(strawberry)}$. As the vector from the words in the window around the center words $\\mathbf{w}$ is the same for both calculations. High values for both dot products can only be generated if $\\mathbf{v}^{(vanilla)}$ and $\\mathbf{v}^{(strawberry)}$ are similar...and this is how the magic happens.\n",
    "\n",
    "Take a look below. For our trained model the aggregated vector for the window \"I love --- ice cream\", is given by:"
   ]
  },
  {
   "cell_type": "code",
   "execution_count": 72,
   "metadata": {},
   "outputs": [
    {
     "data": {
      "text/plain": [
       "array([-2.2003639,  1.369019 ,  1.8103397], dtype=float32)"
      ]
     },
     "execution_count": 72,
     "metadata": {},
     "output_type": "execute_result"
    }
   ],
   "source": [
    "feature_vector = w2w_cbow.embedding(torch.tensor(X[:1])).mean(axis = 1).detach().numpy()[0]\n",
    "feature_vector"
   ]
  },
  {
   "cell_type": "markdown",
   "metadata": {},
   "source": [
    "The trained vanilla vector (from the center word matrix) is:"
   ]
  },
  {
   "cell_type": "code",
   "execution_count": 74,
   "metadata": {},
   "outputs": [
    {
     "data": {
      "text/plain": [
       "array([-1.7520486,  1.444959 ,  1.0890005], dtype=float32)"
      ]
     },
     "execution_count": 74,
     "metadata": {},
     "output_type": "execute_result"
    }
   ],
   "source": [
    "vanilla_vector = w2w_cbow.linear.weight[2].detach().numpy()\n",
    "vanilla_vector"
   ]
  },
  {
   "cell_type": "markdown",
   "metadata": {},
   "source": [
    "The one for strawberry is:"
   ]
  },
  {
   "cell_type": "code",
   "execution_count": 75,
   "metadata": {},
   "outputs": [
    {
     "data": {
      "text/plain": [
       "array([-1.7823485,  1.3057214,  1.1554995], dtype=float32)"
      ]
     },
     "execution_count": 75,
     "metadata": {},
     "output_type": "execute_result"
    }
   ],
   "source": [
    "strawberry_vector = w2w_cbow.linear.weight[5].detach().numpy()\n",
    "strawberry_vector"
   ]
  },
  {
   "cell_type": "markdown",
   "metadata": {},
   "source": [
    "All three vectors share similarity in sign and value. The scores (dot products) are:\n"
   ]
  },
  {
   "cell_type": "code",
   "execution_count": 76,
   "metadata": {},
   "outputs": [
    {
     "data": {
      "text/plain": [
       "7.804782"
      ]
     },
     "execution_count": 76,
     "metadata": {},
     "output_type": "execute_result"
    }
   ],
   "source": [
    "feature_vector @ vanilla_vector"
   ]
  },
  {
   "cell_type": "code",
   "execution_count": 77,
   "metadata": {},
   "outputs": [
    {
     "data": {
      "text/plain": [
       "7.8012195"
      ]
     },
     "execution_count": 77,
     "metadata": {},
     "output_type": "execute_result"
    }
   ],
   "source": [
    "feature_vector @ strawberry_vector"
   ]
  },
  {
   "cell_type": "markdown",
   "metadata": {},
   "source": [
    "If we change the similarity between the \"vanilla\" and \"strawberry\" representation by, e.g., changing the sign for the last number of the strawberry vector."
   ]
  },
  {
   "cell_type": "code",
   "execution_count": 78,
   "metadata": {},
   "outputs": [
    {
     "data": {
      "text/plain": [
       "array([-1.7823485,  1.3057214, -1.1554995], dtype=float32)"
      ]
     },
     "execution_count": 78,
     "metadata": {},
     "output_type": "execute_result"
    }
   ],
   "source": [
    "strawberry_vector[2] = -strawberry_vector[2]\n",
    "strawberry_vector"
   ]
  },
  {
   "cell_type": "markdown",
   "metadata": {},
   "source": [
    "The score for it is decreased which would reduce the probability prediction for seeing the word \"strawberry\", given the window \"I love --- ice cream\"."
   ]
  },
  {
   "cell_type": "code",
   "execution_count": 79,
   "metadata": {},
   "outputs": [
    {
     "data": {
      "text/plain": [
       "3.6175265"
      ]
     },
     "execution_count": 79,
     "metadata": {},
     "output_type": "execute_result"
    }
   ],
   "source": [
    "feature_vector @ strawberry_vector"
   ]
  },
  {
   "cell_type": "markdown",
   "metadata": {},
   "source": [
    "This does not make sense as \"vanilla\" and \"strawberry\" are equally likely in our example. Thus, the more similar vector after training is more reasonable and more in line with the observed corpus."
   ]
  },
  {
   "cell_type": "markdown",
   "metadata": {},
   "source": [
    "### SG\n",
    "The figure below visualizes the CBOW and the SG model. While CBOW uses words in the window arount the center word to predict the center word, SG uses the center word to predict words within the window size. Thus, the prediction simplifies to $P \\left( w_l | w_i \\right)$ for any feature word $w_l \\in \\lbrace w_{i-t}, w_{i-t+1}, ..., w_{i-1}, w_{i+1}, w_{i + t -1}, w_{i + t}  \\rbrace$. As before, we use train two parameter matrices $\\boldsymbol{W}, \\boldsymbol{V}$, however, this time $\\boldsymbol{W}$ represents word embeddings for center words and $\\boldsymbol{V}$ word embeddings for context words."
   ]
  },
  {
   "cell_type": "code",
   "execution_count": 19,
   "metadata": {},
   "outputs": [
    {
     "data": {
      "image/png": "[encoded data removed]",
      "text/plain": [
       "<IPython.core.display.Image object>"
      ]
     },
     "execution_count": 19,
     "metadata": {},
     "output_type": "execute_result"
    }
   ],
   "source": [
    "from IPython.display import Image\n",
    "Image(filename='cbow_sg.png') "
   ]
  },
  {
   "cell_type": "markdown",
   "metadata": {},
   "source": [
    "Furthermore, training samples are reduced to one center word and one context word at a time (note this could also be transformed to a multi-label classifiction which should lead to the same or very similar results). Besides these differences, the training process is rather similar. First, we build training samples:"
   ]
  },
  {
   "cell_type": "code",
   "execution_count": 80,
   "metadata": {},
   "outputs": [
    {
     "name": "stdout",
     "output_type": "stream",
     "text": [
      "This is how the training samples look like:\n",
      "[('vanilla', 'i'), ('vanilla', 'love'), ('vanilla', 'ice'), ('vanilla', 'cream'), ('strawberry', 'i'), ('strawberry', 'love'), ('strawberry', 'ice'), ('strawberry', 'cream'), ('capital', 'the'), ('capital', 'main'), ('capital', 'of'), ('capital', 'germany'), ('of', 'main'), ('of', 'capital'), ('of', 'germany'), ('of', 'is'), ('germany', 'capital'), ('germany', 'of'), ('germany', 'is'), ('germany', 'berlin'), ('capitol', 'the'), ('capitol', 'main'), ('capitol', 'of'), ('capitol', 'france'), ('of', 'main'), ('of', 'capitol'), ('of', 'france'), ('of', 'is'), ('france', 'capitol'), ('france', 'of'), ('france', 'is'), ('france', 'paris')]\n",
      "\n",
      "This is how the training samples information is provided:\n",
      "[(2, 0), (2, 1), (2, 3), (2, 4), (5, 0), (5, 1), (5, 3), (5, 4), (8, 6), (8, 7), (8, 9), (8, 10), (9, 7), (9, 8), (9, 10), (9, 11), (10, 8), (10, 9), (10, 11), (10, 12), (13, 6), (13, 7), (13, 9), (13, 14), (9, 7), (9, 13), (9, 14), (9, 11), (14, 13), (14, 9), (14, 11), (14, 15)]\n"
     ]
    }
   ],
   "source": [
    "# number of terms in the lexicon\n",
    "d = len(word2index.keys())\n",
    "# embedding dimension\n",
    "p = 3\n",
    "\n",
    "# context length\n",
    "k = 2\n",
    "context_indices = [j for j in range(-k, k+1) if j != 0]\n",
    "\n",
    "# generate training samples\n",
    "sample_words = []\n",
    "samples = []\n",
    "for doc in corpus:\n",
    "    for i in range(k, len(doc) - k):\n",
    "        center_word = doc[i]\n",
    "        center_word_idx = word2index[doc[i]]\n",
    "        context_words = [doc[i + idx] for idx in context_indices]\n",
    "        context_word_idx = [word2index[doc[i + idx]] for idx in context_indices]\n",
    "        for context, context_word in zip(context_word_idx, context_words):\n",
    "            sample_words.append((center_word, context_word))\n",
    "            samples.append((center_word_idx, context))\n",
    "\n",
    "print(\"This is how the training samples look like:\")\n",
    "print(sample_words)\n",
    "print(\"\")\n",
    "print(\"This is how the training samples information is provided:\")\n",
    "print(samples)"
   ]
  },
  {
   "cell_type": "markdown",
   "metadata": {},
   "source": [
    "Next, we prepare the target labels and input features:"
   ]
  },
  {
   "cell_type": "code",
   "execution_count": 81,
   "metadata": {},
   "outputs": [
    {
     "name": "stdout",
     "output_type": "stream",
     "text": [
      "Input for the neural network:\n",
      "[2, 2, 2, 2, 5, 5, 5, 5, 8, 8, 8, 8, 9, 9, 9, 9, 10, 10, 10, 10, 13, 13, 13, 13, 9, 9, 9, 9, 14, 14, 14, 14]\n",
      "\n",
      "Target values for the neural network:\n",
      "[0, 1, 3, 4, 0, 1, 3, 4, 6, 7, 9, 10, 7, 8, 10, 11, 8, 9, 11, 12, 6, 7, 9, 14, 7, 13, 14, 11, 13, 9, 11, 15]\n"
     ]
    }
   ],
   "source": [
    "# prepare training examples for a neural network\n",
    "X = [sample[0] for sample in samples]\n",
    "y = [sample[1] for sample in samples]\n",
    "#y_one_hot = tf.keras.utils.to_categorical(y, num_classes = d)\n",
    "\n",
    "print(\"Input for the neural network:\")\n",
    "print(X)\n",
    "print(\"\")\n",
    "print(\"Target values for the neural network:\")\n",
    "print(y)"
   ]
  },
  {
   "cell_type": "markdown",
   "metadata": {},
   "source": [
    "Define and train the neural network."
   ]
  },
  {
   "cell_type": "code",
   "execution_count": 82,
   "metadata": {},
   "outputs": [
    {
     "data": {
      "image/png": "[encoded data removed]",
      "text/plain": [
       "<Figure size 640x480 with 1 Axes>"
      ]
     },
     "metadata": {},
     "output_type": "display_data"
    }
   ],
   "source": [
    "# define the neural network architecture\n",
    "class W2WSG(torch.nn.Module):\n",
    "    def __init__(self):\n",
    "        super().__init__()\n",
    "        self.embedding = torch.nn.Embedding(num_embeddings=d, embedding_dim=p)\n",
    "        self.linear = torch.nn.Linear(in_features=p, out_features=d, bias = False)\n",
    "\n",
    "    def forward(self, x):\n",
    "        e = self.embedding(x)\n",
    "        z = self.linear(e)\n",
    "        return z\n",
    "    \n",
    "# define an instande of the model class\n",
    "w2w_sg = W2WSG()\n",
    "\n",
    "# define an optimizer and loss\n",
    "optimizer = torch.optim.Adam(lr = 0.02, params = w2w_sg.parameters())\n",
    "loss_fn = torch.nn.CrossEntropyLoss()\n",
    "\n",
    "losses = []\n",
    "epochs = 300\n",
    "for epoch in range(epochs):\n",
    "    w2w_sg.train()\n",
    "    scores = w2w_sg(torch.tensor(X))\n",
    "    batch_loss = loss_fn(scores, torch.tensor(y))\n",
    "    optimizer.zero_grad()\n",
    "    batch_loss.backward()\n",
    "    optimizer.step()\n",
    "\n",
    "    losses.append(batch_loss.detach().numpy())\n",
    "\n",
    "# visualize the training loss  \n",
    "plt.plot(losses)\n",
    "plt.title(\"Training loss\")\n",
    "plt.show()"
   ]
  },
  {
   "cell_type": "code",
   "execution_count": 83,
   "metadata": {},
   "outputs": [
    {
     "data": {
      "text/html": [
       "<div>\n",
       "<style scoped>\n",
       "    .dataframe tbody tr th:only-of-type {\n",
       "        vertical-align: middle;\n",
       "    }\n",
       "\n",
       "    .dataframe tbody tr th {\n",
       "        vertical-align: top;\n",
       "    }\n",
       "\n",
       "    .dataframe thead th {\n",
       "        text-align: right;\n",
       "    }\n",
       "</style>\n",
       "<table border=\"1\" class=\"dataframe\">\n",
       "  <thead>\n",
       "    <tr style=\"text-align: right;\">\n",
       "      <th></th>\n",
       "      <th>i</th>\n",
       "      <th>love</th>\n",
       "      <th>vanilla</th>\n",
       "      <th>ice</th>\n",
       "      <th>cream</th>\n",
       "      <th>strawberry</th>\n",
       "      <th>the</th>\n",
       "      <th>main</th>\n",
       "      <th>capital</th>\n",
       "      <th>of</th>\n",
       "      <th>germany</th>\n",
       "      <th>is</th>\n",
       "      <th>berlin</th>\n",
       "      <th>capitol</th>\n",
       "      <th>france</th>\n",
       "      <th>paris</th>\n",
       "    </tr>\n",
       "  </thead>\n",
       "  <tbody>\n",
       "    <tr>\n",
       "      <th>i</th>\n",
       "      <td>1.000000</td>\n",
       "      <td>0.935079</td>\n",
       "      <td>0.365734</td>\n",
       "      <td>0.993180</td>\n",
       "      <td>0.984401</td>\n",
       "      <td>0.424989</td>\n",
       "      <td>-0.067454</td>\n",
       "      <td>-0.748130</td>\n",
       "      <td>-0.970317</td>\n",
       "      <td>-0.970804</td>\n",
       "      <td>-0.911190</td>\n",
       "      <td>-0.880418</td>\n",
       "      <td>-0.166338</td>\n",
       "      <td>0.014191</td>\n",
       "      <td>-0.041772</td>\n",
       "      <td>0.221630</td>\n",
       "    </tr>\n",
       "    <tr>\n",
       "      <th>love</th>\n",
       "      <td>0.935079</td>\n",
       "      <td>1.000000</td>\n",
       "      <td>0.436434</td>\n",
       "      <td>0.970027</td>\n",
       "      <td>0.858142</td>\n",
       "      <td>0.482261</td>\n",
       "      <td>0.262205</td>\n",
       "      <td>-0.602104</td>\n",
       "      <td>-0.975875</td>\n",
       "      <td>-0.822944</td>\n",
       "      <td>-0.791232</td>\n",
       "      <td>-0.980430</td>\n",
       "      <td>-0.062474</td>\n",
       "      <td>-0.340855</td>\n",
       "      <td>0.130399</td>\n",
       "      <td>-0.115564</td>\n",
       "    </tr>\n",
       "    <tr>\n",
       "      <th>vanilla</th>\n",
       "      <td>0.365734</td>\n",
       "      <td>0.436434</td>\n",
       "      <td>1.000000</td>\n",
       "      <td>0.394156</td>\n",
       "      <td>0.315659</td>\n",
       "      <td>0.997702</td>\n",
       "      <td>0.568926</td>\n",
       "      <td>-0.738887</td>\n",
       "      <td>-0.535881</td>\n",
       "      <td>-0.277154</td>\n",
       "      <td>-0.621570</td>\n",
       "      <td>-0.589995</td>\n",
       "      <td>0.856719</td>\n",
       "      <td>-0.225678</td>\n",
       "      <td>-0.670229</td>\n",
       "      <td>0.149100</td>\n",
       "    </tr>\n",
       "    <tr>\n",
       "      <th>ice</th>\n",
       "      <td>0.993180</td>\n",
       "      <td>0.970027</td>\n",
       "      <td>0.394156</td>\n",
       "      <td>1.000000</td>\n",
       "      <td>0.957177</td>\n",
       "      <td>0.449859</td>\n",
       "      <td>0.039940</td>\n",
       "      <td>-0.710868</td>\n",
       "      <td>-0.986225</td>\n",
       "      <td>-0.936280</td>\n",
       "      <td>-0.884912</td>\n",
       "      <td>-0.926085</td>\n",
       "      <td>-0.134750</td>\n",
       "      <td>-0.102401</td>\n",
       "      <td>0.014403</td>\n",
       "      <td>0.113874</td>\n",
       "    </tr>\n",
       "    <tr>\n",
       "      <th>cream</th>\n",
       "      <td>0.984401</td>\n",
       "      <td>0.858142</td>\n",
       "      <td>0.315659</td>\n",
       "      <td>0.957177</td>\n",
       "      <td>1.000000</td>\n",
       "      <td>0.378693</td>\n",
       "      <td>-0.226747</td>\n",
       "      <td>-0.786526</td>\n",
       "      <td>-0.921565</td>\n",
       "      <td>-0.997722</td>\n",
       "      <td>-0.928207</td>\n",
       "      <td>-0.789150</td>\n",
       "      <td>-0.207264</td>\n",
       "      <td>0.189841</td>\n",
       "      <td>-0.127692</td>\n",
       "      <td>0.379368</td>\n",
       "    </tr>\n",
       "    <tr>\n",
       "      <th>strawberry</th>\n",
       "      <td>0.424989</td>\n",
       "      <td>0.482261</td>\n",
       "      <td>0.997702</td>\n",
       "      <td>0.449859</td>\n",
       "      <td>0.378693</td>\n",
       "      <td>1.000000</td>\n",
       "      <td>0.532762</td>\n",
       "      <td>-0.779296</td>\n",
       "      <td>-0.585420</td>\n",
       "      <td>-0.341448</td>\n",
       "      <td>-0.673158</td>\n",
       "      <td>-0.627019</td>\n",
       "      <td>0.821894</td>\n",
       "      <td>-0.198575</td>\n",
       "      <td>-0.669133</td>\n",
       "      <td>0.180301</td>\n",
       "    </tr>\n",
       "    <tr>\n",
       "      <th>the</th>\n",
       "      <td>-0.067454</td>\n",
       "      <td>0.262205</td>\n",
       "      <td>0.568926</td>\n",
       "      <td>0.039940</td>\n",
       "      <td>-0.226747</td>\n",
       "      <td>0.532762</td>\n",
       "      <td>1.000000</td>\n",
       "      <td>0.066424</td>\n",
       "      <td>-0.168875</td>\n",
       "      <td>0.291345</td>\n",
       "      <td>0.072283</td>\n",
       "      <td>-0.413334</td>\n",
       "      <td>0.624228</td>\n",
       "      <td>-0.902359</td>\n",
       "      <td>0.098196</td>\n",
       "      <td>-0.714394</td>\n",
       "    </tr>\n",
       "    <tr>\n",
       "      <th>main</th>\n",
       "      <td>-0.748130</td>\n",
       "      <td>-0.602104</td>\n",
       "      <td>-0.738887</td>\n",
       "      <td>-0.710868</td>\n",
       "      <td>-0.786526</td>\n",
       "      <td>-0.779296</td>\n",
       "      <td>0.066424</td>\n",
       "      <td>1.000000</td>\n",
       "      <td>0.760419</td>\n",
       "      <td>0.782534</td>\n",
       "      <td>0.955062</td>\n",
       "      <td>0.638212</td>\n",
       "      <td>-0.377350</td>\n",
       "      <td>-0.309276</td>\n",
       "      <td>0.692520</td>\n",
       "      <td>-0.626651</td>\n",
       "    </tr>\n",
       "    <tr>\n",
       "      <th>capital</th>\n",
       "      <td>-0.970317</td>\n",
       "      <td>-0.975875</td>\n",
       "      <td>-0.535881</td>\n",
       "      <td>-0.986225</td>\n",
       "      <td>-0.921565</td>\n",
       "      <td>-0.585420</td>\n",
       "      <td>-0.168875</td>\n",
       "      <td>0.760419</td>\n",
       "      <td>1.000000</td>\n",
       "      <td>0.893395</td>\n",
       "      <td>0.905346</td>\n",
       "      <td>0.964443</td>\n",
       "      <td>-0.027374</td>\n",
       "      <td>0.173713</td>\n",
       "      <td>0.075431</td>\n",
       "      <td>-0.089490</td>\n",
       "    </tr>\n",
       "    <tr>\n",
       "      <th>of</th>\n",
       "      <td>-0.970804</td>\n",
       "      <td>-0.822944</td>\n",
       "      <td>-0.277154</td>\n",
       "      <td>-0.936280</td>\n",
       "      <td>-0.997722</td>\n",
       "      <td>-0.341448</td>\n",
       "      <td>0.291345</td>\n",
       "      <td>0.782534</td>\n",
       "      <td>0.893395</td>\n",
       "      <td>1.000000</td>\n",
       "      <td>0.919715</td>\n",
       "      <td>0.745916</td>\n",
       "      <td>0.239382</td>\n",
       "      <td>-0.252287</td>\n",
       "      <td>0.141093</td>\n",
       "      <td>-0.427630</td>\n",
       "    </tr>\n",
       "    <tr>\n",
       "      <th>germany</th>\n",
       "      <td>-0.911190</td>\n",
       "      <td>-0.791232</td>\n",
       "      <td>-0.621570</td>\n",
       "      <td>-0.884912</td>\n",
       "      <td>-0.928207</td>\n",
       "      <td>-0.673158</td>\n",
       "      <td>0.072283</td>\n",
       "      <td>0.955062</td>\n",
       "      <td>0.905346</td>\n",
       "      <td>0.919715</td>\n",
       "      <td>1.000000</td>\n",
       "      <td>0.789097</td>\n",
       "      <td>-0.159408</td>\n",
       "      <td>-0.199176</td>\n",
       "      <td>0.448695</td>\n",
       "      <td>-0.488699</td>\n",
       "    </tr>\n",
       "    <tr>\n",
       "      <th>is</th>\n",
       "      <td>-0.880418</td>\n",
       "      <td>-0.980430</td>\n",
       "      <td>-0.589995</td>\n",
       "      <td>-0.926085</td>\n",
       "      <td>-0.789150</td>\n",
       "      <td>-0.627019</td>\n",
       "      <td>-0.413334</td>\n",
       "      <td>0.638212</td>\n",
       "      <td>0.964443</td>\n",
       "      <td>0.745916</td>\n",
       "      <td>0.789097</td>\n",
       "      <td>1.000000</td>\n",
       "      <td>-0.129690</td>\n",
       "      <td>0.423883</td>\n",
       "      <td>-0.027820</td>\n",
       "      <td>0.150183</td>\n",
       "    </tr>\n",
       "    <tr>\n",
       "      <th>berlin</th>\n",
       "      <td>-0.166338</td>\n",
       "      <td>-0.062474</td>\n",
       "      <td>0.856719</td>\n",
       "      <td>-0.134750</td>\n",
       "      <td>-0.207264</td>\n",
       "      <td>0.821894</td>\n",
       "      <td>0.624228</td>\n",
       "      <td>-0.377350</td>\n",
       "      <td>-0.027374</td>\n",
       "      <td>0.239382</td>\n",
       "      <td>-0.159408</td>\n",
       "      <td>-0.129690</td>\n",
       "      <td>1.000000</td>\n",
       "      <td>-0.227017</td>\n",
       "      <td>-0.701365</td>\n",
       "      <td>0.055173</td>\n",
       "    </tr>\n",
       "    <tr>\n",
       "      <th>capitol</th>\n",
       "      <td>0.014191</td>\n",
       "      <td>-0.340855</td>\n",
       "      <td>-0.225678</td>\n",
       "      <td>-0.102401</td>\n",
       "      <td>0.189841</td>\n",
       "      <td>-0.198575</td>\n",
       "      <td>-0.902359</td>\n",
       "      <td>-0.309276</td>\n",
       "      <td>0.173713</td>\n",
       "      <td>-0.252287</td>\n",
       "      <td>-0.199176</td>\n",
       "      <td>0.423883</td>\n",
       "      <td>-0.227017</td>\n",
       "      <td>1.000000</td>\n",
       "      <td>-0.513060</td>\n",
       "      <td>0.926905</td>\n",
       "    </tr>\n",
       "    <tr>\n",
       "      <th>france</th>\n",
       "      <td>-0.041772</td>\n",
       "      <td>0.130399</td>\n",
       "      <td>-0.670229</td>\n",
       "      <td>0.014403</td>\n",
       "      <td>-0.127692</td>\n",
       "      <td>-0.669133</td>\n",
       "      <td>0.098196</td>\n",
       "      <td>0.692520</td>\n",
       "      <td>0.075431</td>\n",
       "      <td>0.141093</td>\n",
       "      <td>0.448695</td>\n",
       "      <td>-0.027820</td>\n",
       "      <td>-0.701365</td>\n",
       "      <td>-0.513060</td>\n",
       "      <td>1.000000</td>\n",
       "      <td>-0.750383</td>\n",
       "    </tr>\n",
       "    <tr>\n",
       "      <th>paris</th>\n",
       "      <td>0.221630</td>\n",
       "      <td>-0.115564</td>\n",
       "      <td>0.149100</td>\n",
       "      <td>0.113874</td>\n",
       "      <td>0.379368</td>\n",
       "      <td>0.180301</td>\n",
       "      <td>-0.714394</td>\n",
       "      <td>-0.626651</td>\n",
       "      <td>-0.089490</td>\n",
       "      <td>-0.427630</td>\n",
       "      <td>-0.488699</td>\n",
       "      <td>0.150183</td>\n",
       "      <td>0.055173</td>\n",
       "      <td>0.926905</td>\n",
       "      <td>-0.750383</td>\n",
       "      <td>1.000000</td>\n",
       "    </tr>\n",
       "  </tbody>\n",
       "</table>\n",
       "</div>"
      ],
      "text/plain": [
       "                   i      love   vanilla       ice     cream  strawberry  \\\n",
       "i           1.000000  0.935079  0.365734  0.993180  0.984401    0.424989   \n",
       "love        0.935079  1.000000  0.436434  0.970027  0.858142    0.482261   \n",
       "vanilla     0.365734  0.436434  1.000000  0.394156  0.315659    0.997702   \n",
       "ice         0.993180  0.970027  0.394156  1.000000  0.957177    0.449859   \n",
       "cream       0.984401  0.858142  0.315659  0.957177  1.000000    0.378693   \n",
       "strawberry  0.424989  0.482261  0.997702  0.449859  0.378693    1.000000   \n",
       "the        -0.067454  0.262205  0.568926  0.039940 -0.226747    0.532762   \n",
       "main       -0.748130 -0.602104 -0.738887 -0.710868 -0.786526   -0.779296   \n",
       "capital    -0.970317 -0.975875 -0.535881 -0.986225 -0.921565   -0.585420   \n",
       "of         -0.970804 -0.822944 -0.277154 -0.936280 -0.997722   -0.341448   \n",
       "germany    -0.911190 -0.791232 -0.621570 -0.884912 -0.928207   -0.673158   \n",
       "is         -0.880418 -0.980430 -0.589995 -0.926085 -0.789150   -0.627019   \n",
       "berlin     -0.166338 -0.062474  0.856719 -0.134750 -0.207264    0.821894   \n",
       "capitol     0.014191 -0.340855 -0.225678 -0.102401  0.189841   -0.198575   \n",
       "france     -0.041772  0.130399 -0.670229  0.014403 -0.127692   -0.669133   \n",
       "paris       0.221630 -0.115564  0.149100  0.113874  0.379368    0.180301   \n",
       "\n",
       "                 the      main   capital        of   germany        is  \\\n",
       "i          -0.067454 -0.748130 -0.970317 -0.970804 -0.911190 -0.880418   \n",
       "love        0.262205 -0.602104 -0.975875 -0.822944 -0.791232 -0.980430   \n",
       "vanilla     0.568926 -0.738887 -0.535881 -0.277154 -0.621570 -0.589995   \n",
       "ice         0.039940 -0.710868 -0.986225 -0.936280 -0.884912 -0.926085   \n",
       "cream      -0.226747 -0.786526 -0.921565 -0.997722 -0.928207 -0.789150   \n",
       "strawberry  0.532762 -0.779296 -0.585420 -0.341448 -0.673158 -0.627019   \n",
       "the         1.000000  0.066424 -0.168875  0.291345  0.072283 -0.413334   \n",
       "main        0.066424  1.000000  0.760419  0.782534  0.955062  0.638212   \n",
       "capital    -0.168875  0.760419  1.000000  0.893395  0.905346  0.964443   \n",
       "of          0.291345  0.782534  0.893395  1.000000  0.919715  0.745916   \n",
       "germany     0.072283  0.955062  0.905346  0.919715  1.000000  0.789097   \n",
       "is         -0.413334  0.638212  0.964443  0.745916  0.789097  1.000000   \n",
       "berlin      0.624228 -0.377350 -0.027374  0.239382 -0.159408 -0.129690   \n",
       "capitol    -0.902359 -0.309276  0.173713 -0.252287 -0.199176  0.423883   \n",
       "france      0.098196  0.692520  0.075431  0.141093  0.448695 -0.027820   \n",
       "paris      -0.714394 -0.626651 -0.089490 -0.427630 -0.488699  0.150183   \n",
       "\n",
       "              berlin   capitol    france     paris  \n",
       "i          -0.166338  0.014191 -0.041772  0.221630  \n",
       "love       -0.062474 -0.340855  0.130399 -0.115564  \n",
       "vanilla     0.856719 -0.225678 -0.670229  0.149100  \n",
       "ice        -0.134750 -0.102401  0.014403  0.113874  \n",
       "cream      -0.207264  0.189841 -0.127692  0.379368  \n",
       "strawberry  0.821894 -0.198575 -0.669133  0.180301  \n",
       "the         0.624228 -0.902359  0.098196 -0.714394  \n",
       "main       -0.377350 -0.309276  0.692520 -0.626651  \n",
       "capital    -0.027374  0.173713  0.075431 -0.089490  \n",
       "of          0.239382 -0.252287  0.141093 -0.427630  \n",
       "germany    -0.159408 -0.199176  0.448695 -0.488699  \n",
       "is         -0.129690  0.423883 -0.027820  0.150183  \n",
       "berlin      1.000000 -0.227017 -0.701365  0.055173  \n",
       "capitol    -0.227017  1.000000 -0.513060  0.926905  \n",
       "france     -0.701365 -0.513060  1.000000 -0.750383  \n",
       "paris       0.055173  0.926905 -0.750383  1.000000  "
      ]
     },
     "execution_count": 83,
     "metadata": {},
     "output_type": "execute_result"
    }
   ],
   "source": [
    "word_embeddings = w2w_sg.linear.weight.detach().numpy()\n",
    "word_embeddings_df = pd.DataFrame(cosine_similarity(word_embeddings), columns = list(word2index.keys()), index = list(word2index.keys()))\n",
    "word_embeddings_df"
   ]
  },
  {
   "cell_type": "markdown",
   "metadata": {},
   "source": [
    "### Practical considerations\n",
    "\n",
    "CBOW aggregates context by summing or averaging context word vectors. This has a smoothing effect which may be helpful for smaller data sets. On the other side, it does not take full advantage of granular text information. As a consequence, it can be beneficial to use CBOW for smaller corpora and SG for larger ones. The embedding dimension is an important hyperparameter for the model. Choosing higher values may improve the understanding of similarity, while, at the same time, more data is needed to learn this. Common choices for larger and pre-trained models are in the range $[100, 300]$, however, sometimes embedding sizes go even higher. Another hyperparameter is the window size of the context. Common choices are between $5$ and $10$. Very frequent words can dominate the training of word embeddings. A common technique is to down-sample these words or even completely ignore them. At the same time words which appear very rarely may also be ignored because general relationships are hard to identify. Furthermore, training the model as a common multi-class classification problem can become cumbersome as the target dimension is equal to the number unique terms in the corpus. In practice, the model is usually trained by hierarchical softmax or negative sampling. This is beyond the scope of this course which is about the intuition how similar word embeddings are created for words with similar meaning."
   ]
  },
  {
   "cell_type": "markdown",
   "metadata": {},
   "source": [
    "## Working with word vectors\n",
    "\n",
    "Once a Word2Vec model has been trained, we can generate numerical representations of words. An important side note is that a corpus usually is preprocessed before the model is trained. One central aspect of preprocessing is tokenization, i.e., the way each text is split into tokens which build the basis for creating a lexicon. Finally, each token in the lexicon will be mapped to a word embedding during the training process. This means, if we use, e.g., lower cases only, the word \"Germany\" will have no embedding because it is represented by the token \"germany\" after preprocessing. Consequently, if we process text in a different way than it has been done before training the model, we will receive many unknown token errors when we want to generate word embeddings. If we train our own model, this should be no problem because we can use the same tokenizer for handling text data after model training. However, if we use a pre-trained model and its embeddings, this may become a ciritical issue.\n",
    "\n",
    "### Common usage\n",
    "\n",
    "Nevertheless, let us start with a popular pre-trained model and its word embeddings: the [Google News embeddings](https://code.google.com/archive/p/word2vec/). They have been trained using the Google News dataset which includes about 100 billion words. The resulting model comes along with 300 dimensional vectors for 3 million words and phrases. What can we do with these vectors? The following common things come into mind:\n",
    "\n",
    "* examine word similarities\n",
    "* examine word analogies\n",
    "* determine document embeddings\n",
    "* visualize word embeddings\n",
    "\n",
    "To determine word similarities, we compute a vector based similarity measure. The most popular choice in the natural language processing domain is the cosine similarity which has been presented in an earlier chapter of this book. For instance, the cell below shows the top ten similar words to the word \"crisis\":"
   ]
  },
  {
   "cell_type": "code",
   "execution_count": 84,
   "metadata": {},
   "outputs": [
    {
     "data": {
      "text/plain": [
       "[('crises', 0.7838959693908691),\n",
       " ('turmoil', 0.6912833452224731),\n",
       " ('meltdown', 0.6789990067481995),\n",
       " ('credit_crunch', 0.6228187084197998),\n",
       " ('crisis.The', 0.6024228930473328),\n",
       " ('recession', 0.5982968211174011),\n",
       " ('downturn', 0.5976395010948181),\n",
       " ('subprime_mortgage_crisis', 0.5934383869171143),\n",
       " ('economic_downturn', 0.5829673409461975),\n",
       " ('liquidity_crunch', 0.5580255389213562)]"
      ]
     },
     "execution_count": 84,
     "metadata": {},
     "output_type": "execute_result"
    }
   ],
   "source": [
    "from gensim.models import KeyedVectors\n",
    "\n",
    "google_word_vectors = KeyedVectors.load_word2vec_format(\"../language_models/GoogleNews-vectors-negative300.bin.gz\", binary = True)\n",
    "google_word_vectors.most_similar(positive = \"crisis\")"
   ]
  },
  {
   "cell_type": "markdown",
   "metadata": {},
   "source": [
    "We observe cosine similarities in the range between $0.53$ and $0.63$. This brings up the question about the actual range of cosine similarities for all word embeddings. Due to the immense amount of words, we sample 10,000 words from the lexicon and determine their pairwise cosine similarities. The histogram below demonstrates that similarities seem to be roughly in the range $[-0.25, 0.80]$, even though values in the interval $[-1, 1]$ would be possible. This gives us a better understanding of common similarity levels for word pairs are. "
   ]
  },
  {
   "cell_type": "code",
   "execution_count": 86,
   "metadata": {},
   "outputs": [
    {
     "data": {
      "image/png": "[encoded data removed]",
      "text/plain": [
       "<Figure size 640x480 with 1 Axes>"
      ]
     },
     "metadata": {},
     "output_type": "display_data"
    }
   ],
   "source": [
    "import numpy as np\n",
    "from numpy.random import default_rng\n",
    "import matplotlib.pylab as plt\n",
    "from sklearn.metrics.pairwise import cosine_similarity\n",
    "\n",
    "# draw 10000 random vectors and determine their pairwise similarities to get an idea about the similarity range\n",
    "rng = default_rng(seed = 42)\n",
    "rnd_idx = rng.choice(len(google_word_vectors), size=10000, replace=False)\n",
    "pairwise_similarities = cosine_similarity(google_word_vectors[rnd_idx]) \n",
    "pairwise_similarities_flat = pairwise_similarities[np.tril_indices(pairwise_similarities.shape[0], k = -1)]\n",
    "plt.hist(pairwise_similarities_flat)\n",
    "plt.show()"
   ]
  },
  {
   "cell_type": "markdown",
   "metadata": {},
   "source": [
    "We also observe n-grams are included in the list of similar words. Usually, not all possible n-grams are taken into account, only very common combinations such as \"New York\". To identify common n-grams, one can, e.g., determine a score as suggested by [Mikolov et al. (2013)](https://arxiv.org/pdf/1310.4546):\n",
    "\n",
    "$$\n",
    "score(w_i, w_j) = \\frac{count(w_i, w_j) - \\delta}{count(w_i) \\cdot count(w_j)}\n",
    "$$\n",
    "\n",
    "With $count(w_i, w_j), count(w_i), count(w_j)$ representing the number of co-occurrence for word pair $i,j$ and individual occurrences, respectively, and, $\\delta$ a discounting coefficient. If a score exceeds a user-defined threshold, the pair is considered as a bi-gram. Repeating this counting process is also able to reveal n-grams of higher order.\n",
    "\n",
    "The next impressive aspect of word embeddings is that we can use vector calculus to examine similarities and dissimilarities between words. The most popular example is the word analogy of \"woman\" to \"man\" which should be similar to \"queen\" and \"king\". Given the vectors $\\boldsymbol{w}^{(woman)}, \\boldsymbol{w}^{(man)}, \\boldsymbol{w}^{(queen)}, \\boldsymbol{w}^{(king)}$, we can calculate the differences $\\boldsymbol{w}^{(woman)} - \\boldsymbol{w}^{(man)}$ and $\\boldsymbol{w}^{(queen)} - \\boldsymbol{w}^{(king)}$. If the relation of woman to man is similar as the relation of queen to king, we should get:\n",
    "\n",
    "$$\n",
    "\\boldsymbol{w}^{(woman)} - \\boldsymbol{w}^{(man)} \\approx \\boldsymbol{w}^{(queen)} - \\boldsymbol{w}^{(king)} \n",
    "$$\n",
    "\n",
    "thus, \n",
    "\n",
    "$$\n",
    "\\boldsymbol{w}^{(woman)} - \\boldsymbol{w}^{(man)} + \\boldsymbol{w}^{(king)} \n",
    "$$\n",
    "\n",
    "should be most similar to \n",
    "\n",
    "$$\n",
    "\\boldsymbol{w}^{(queen)}\n",
    "$$\n",
    "\n",
    "Let us find out:"
   ]
  },
  {
   "cell_type": "code",
   "execution_count": 87,
   "metadata": {},
   "outputs": [
    {
     "data": {
      "text/plain": [
       "[('king', 0.8449392318725586),\n",
       " ('queen', 0.7300516366958618),\n",
       " ('monarch', 0.6454660296440125),\n",
       " ('princess', 0.6156251430511475),\n",
       " ('crown_prince', 0.5818676948547363),\n",
       " ('prince', 0.5777117609977722),\n",
       " ('kings', 0.5613663792610168),\n",
       " ('sultan', 0.5376776456832886),\n",
       " ('Queen_Consort', 0.5344247817993164),\n",
       " ('queens', 0.5289887189865112)]"
      ]
     },
     "execution_count": 87,
     "metadata": {},
     "output_type": "execute_result"
    }
   ],
   "source": [
    "google_word_vectors.similar_by_vector(google_word_vectors[\"woman\"] - google_word_vectors[\"man\"] + google_word_vectors[\"king\"])"
   ]
  },
  {
   "cell_type": "markdown",
   "metadata": {},
   "source": [
    "Tadaa! This seems to work pretty good. Note, the calculation can also be done by the most_similar method, positive are the vectors with a positive sign, negative the ones with a negative sign:"
   ]
  },
  {
   "cell_type": "code",
   "execution_count": 27,
   "metadata": {},
   "outputs": [
    {
     "data": {
      "text/plain": [
       "[('queen', 0.7118192911148071),\n",
       " ('monarch', 0.6189674735069275),\n",
       " ('princess', 0.5902431011199951),\n",
       " ('crown_prince', 0.5499460697174072),\n",
       " ('prince', 0.5377321243286133),\n",
       " ('kings', 0.5236844420433044),\n",
       " ('Queen_Consort', 0.5235945582389832),\n",
       " ('queens', 0.5181134343147278),\n",
       " ('sultan', 0.5098593235015869),\n",
       " ('monarchy', 0.5087411403656006)]"
      ]
     },
     "execution_count": 27,
     "metadata": {},
     "output_type": "execute_result"
    }
   ],
   "source": [
    "google_word_vectors.most_similar(positive=['woman', 'king'], negative=['man'])"
   ]
  },
  {
   "cell_type": "markdown",
   "metadata": {},
   "source": [
    "If we can calculate with words, we can also average and sum word vectors. For instance, we can split a sentence into words and sum or average its word vectors to derive a sentence embedding. "
   ]
  },
  {
   "cell_type": "code",
   "execution_count": 90,
   "metadata": {},
   "outputs": [
    {
     "name": "stdout",
     "output_type": "stream",
     "text": [
      "Tokenized sentences:\n",
      "[['i', 'love', 'vanilla', 'ice', 'cream'], ['i', 'love', 'strawberry', 'ice', 'cream'], ['the', 'main', 'capital', 'of', 'germany', 'is', 'berlin'], ['the', 'main', 'capitol', 'of', 'france', 'is', 'paris']] \n",
      "\n",
      "Pairwise cosine similarities:\n"
     ]
    },
    {
     "data": {
      "text/html": [
       "<div>\n",
       "<style scoped>\n",
       "    .dataframe tbody tr th:only-of-type {\n",
       "        vertical-align: middle;\n",
       "    }\n",
       "\n",
       "    .dataframe tbody tr th {\n",
       "        vertical-align: top;\n",
       "    }\n",
       "\n",
       "    .dataframe thead th {\n",
       "        text-align: right;\n",
       "    }\n",
       "</style>\n",
       "<table border=\"1\" class=\"dataframe\">\n",
       "  <thead>\n",
       "    <tr style=\"text-align: right;\">\n",
       "      <th></th>\n",
       "      <th>s1</th>\n",
       "      <th>s2</th>\n",
       "      <th>s3</th>\n",
       "      <th>s4</th>\n",
       "    </tr>\n",
       "  </thead>\n",
       "  <tbody>\n",
       "    <tr>\n",
       "      <th>s1</th>\n",
       "      <td>1.0000</td>\n",
       "      <td>0.9274</td>\n",
       "      <td>0.2842</td>\n",
       "      <td>0.3435</td>\n",
       "    </tr>\n",
       "    <tr>\n",
       "      <th>s2</th>\n",
       "      <td>0.9274</td>\n",
       "      <td>1.0000</td>\n",
       "      <td>0.2752</td>\n",
       "      <td>0.3356</td>\n",
       "    </tr>\n",
       "    <tr>\n",
       "      <th>s3</th>\n",
       "      <td>0.2842</td>\n",
       "      <td>0.2752</td>\n",
       "      <td>1.0000</td>\n",
       "      <td>0.8298</td>\n",
       "    </tr>\n",
       "    <tr>\n",
       "      <th>s4</th>\n",
       "      <td>0.3435</td>\n",
       "      <td>0.3356</td>\n",
       "      <td>0.8298</td>\n",
       "      <td>1.0000</td>\n",
       "    </tr>\n",
       "  </tbody>\n",
       "</table>\n",
       "</div>"
      ],
      "text/plain": [
       "        s1      s2      s3      s4\n",
       "s1  1.0000  0.9274  0.2842  0.3435\n",
       "s2  0.9274  1.0000  0.2752  0.3356\n",
       "s3  0.2842  0.2752  1.0000  0.8298\n",
       "s4  0.3435  0.3356  0.8298  1.0000"
      ]
     },
     "execution_count": 90,
     "metadata": {},
     "output_type": "execute_result"
    }
   ],
   "source": [
    "print(\"Tokenized sentences:\")\n",
    "print(f\"{corpus} \\n\")\n",
    "sentence_embeddings = [google_word_vectors.get_mean_vector(sentence) for sentence in corpus]\n",
    "cosine_similarity_matrix = np.round(cosine_similarity(np.array(sentence_embeddings)), 4)\n",
    "print(\"Pairwise cosine similarities:\")\n",
    "pd.DataFrame(cosine_similarity_matrix, index = [f\"s{i+1}\" for i in range(4)], columns = [f\"s{i+1}\" for i in range(4)])"
   ]
  },
  {
   "cell_type": "markdown",
   "metadata": {},
   "source": [
    "Furthermore, we can build topic vectors which are calculated as the average of individual word vectors which represent a similar content. "
   ]
  },
  {
   "cell_type": "code",
   "execution_count": 95,
   "metadata": {},
   "outputs": [
    {
     "data": {
      "text/plain": [
       "[('ecological', 0.6291204690933228),\n",
       " ('corporate_governance_ESG', 0.6060682535171509),\n",
       " ('governance_ESG_issues', 0.6004064679145813),\n",
       " ('sustainablity', 0.5869180560112),\n",
       " ('environmental_sustainability', 0.5842981338500977),\n",
       " ('governance_ESG_factors', 0.5816299319267273),\n",
       " ('governance_ESG', 0.57416170835495),\n",
       " ('sustainability', 0.561872124671936),\n",
       " ('socio_economic', 0.5555124282836914),\n",
       " ('Melissa_McEver_covers', 0.5459955334663391)]"
      ]
     },
     "execution_count": 95,
     "metadata": {},
     "output_type": "execute_result"
    }
   ],
   "source": [
    "topic_words = [\"environmental\", \"social\", \"governance\"]\n",
    "google_word_vectors.most_similar(topic_words)"
   ]
  },
  {
   "cell_type": "markdown",
   "metadata": {},
   "source": [
    "The only thing which is a little unfortunate is that we are not able to visualize how close certain word vectors are to others. This can be overcome by combining dimensionality reduction techniques with word embeddings. Different models can be used for dimensionality reduction. In general, dimensionality reduction tries to find lower dimensional representations of the original word vectors which keep as much of the original behavior as possible. Below, we train the umap reduction model to a sample of 100,000 word vectors. "
   ]
  },
  {
   "cell_type": "code",
   "execution_count": 96,
   "metadata": {},
   "outputs": [],
   "source": [
    "import umap\n",
    "import pickle\n",
    "\n",
    "try:\n",
    "    with open(\"../language_models/w2v_10K/dim_reducer_google.pkl\", \"rb\") as handle:\n",
    "        dim_reducer = pickle.load(handle)\n",
    "except:\n",
    "    print(\"Train dimensionality reducer first...\")\n",
    "    dim_reducer = umap.UMAP(n_components=2, metric = \"cosine\")\n",
    "    rnd_idx = rng.choice(len(google_word_vectors), size=100000, replace=False)\n",
    "    dim_reducer.fit(google_word_vectors[rnd_idx])\n",
    "    with open(\"../language_models/w2v_10K/dim_reducer_google.pkl\", 'wb') as handle:\n",
    "        pickle.dump(dim_reducer, handle, protocol=pickle.HIGHEST_PROTOCOL)"
   ]
  },
  {
   "cell_type": "markdown",
   "metadata": {},
   "source": [
    "Now, we combine these techniques and plot two dimensional representations for similar and random words. In the example below, we look for the $20$ most similar words of the word \"crisis\". We generate two dimensional representations for the corresponding word vectors by transforming the original $300$ dimensional vectors with the umap dimensionality reduction model. The same thing is done for $100$ randomly selected words. The resulting vectors can be viszalized in the scatter plot below. "
   ]
  },
  {
   "cell_type": "code",
   "execution_count": 97,
   "metadata": {},
   "outputs": [
    {
     "name": "stderr",
     "output_type": "stream",
     "text": [
      "OMP: Info #276: omp_set_nested routine deprecated, please use omp_set_max_active_levels instead.\n",
      "/Users/ralf/Library/Mobile Documents/com~apple~CloudDocs/Kurse/DLTA/.venv/lib/python3.11/site-packages/plotly/express/_core.py:2065: FutureWarning:\n",
      "\n",
      "When grouping with a length-1 list-like, you will need to pass a length-1 tuple to get_group in a future version of pandas. Pass `(name,)` instead of `name` to silence this warning.\n",
      "\n"
     ]
    },
    {
     "data": {
      "application/vnd.plotly.v1+json": {
       "config": {
        "plotlyServerURL": "https://plot.ly"
       },
       "data": [
        {
         "hovertemplate": "<b>%{hovertext}</b><br><br>category=positive<br>u1=%{x}<br>u2=%{y}<extra></extra>",
         "hovertext": [
          "crises",
          "turmoil",
          "meltdown",
          "credit_crunch",
          "crisis.The",
          "recession",
          "downturn",
          "subprime_mortgage_crisis",
          "economic_downturn",
          "liquidity_crunch",
          "crisi",
          "upheaval",
          "turmoil_engulfing",
          "crunch",
          "calamity",
          "contagion",
          "malaise_gripping",
          "upheavals",
          "subprime_mortgage_meltdown",
          "recesssion"
         ],
         "legendgroup": "positive",
         "marker": {
          "color": "#636efa",
          "symbol": "circle"
         },
         "mode": "markers",
         "name": "positive",
         "orientation": "v",
         "showlegend": true,
         "type": "scatter",
         "x": [
          -1.6295630931854248,
          -1.6550116539001465,
          2.0671441555023193,
          1.9653671979904175,
          2.5588595867156982,
          2.0892724990844727,
          2.1307766437530518,
          2.1533896923065186,
          2.021991729736328,
          2.6297690868377686,
          -3.2704195976257324,
          -1.9732013940811157,
          -1.419840931892395,
          -0.3253459334373474,
          -0.38162335753440857,
          2.2919118404388428,
          1.8077495098114014,
          -1.958221435546875,
          2.105760335922241,
          2.2916719913482666
         ],
         "xaxis": "x",
         "y": [
          -0.6585023403167725,
          -0.5782803893089294,
          -1.71120285987854,
          -1.7493678331375122,
          -1.6167683601379395,
          -1.7139941453933716,
          -1.7624146938323975,
          -1.7023710012435913,
          -1.6721892356872559,
          -1.4402515888214111,
          1.1460248231887817,
          -0.49226436018943787,
          -0.4396750032901764,
          -0.7056562304496765,
          -1.0060298442840576,
          -1.5876834392547607,
          -1.662062406539917,
          -0.6354403495788574,
          -1.7885069847106934,
          -1.7183762788772583
         ],
         "yaxis": "y"
        },
        {
         "hovertemplate": "<b>%{hovertext}</b><br><br>category=negative<br>u1=%{x}<br>u2=%{y}<extra></extra>",
         "hovertext": [
          "Fertittas",
          "Susannah_Meadows",
          "General_Yoshio_Utsumi",
          "Kyonggi_Province",
          "Mansheim",
          "Macedonia_Nordonia",
          "operator_Angkasa_Pura",
          "Krambach",
          "Outright_secular",
          "Cook_Yourself_Thin",
          "Ganira_Pashayeva",
          "Peter_Whittall",
          "BFGoodrich_Baja",
          "Guernica_Picasso",
          "Gumtree",
          "striker_Stuart_Beavon",
          "Daughter_Remembers",
          "overbooked_flights",
          "Tito_Massoud",
          "Yong_Pyong",
          "Phebra",
          "Titlow",
          "Info_www.tops.org",
          "granola",
          "Vladimir_Obradovic",
          "Djang",
          "----------_-----------------------------------------------_unaudited",
          "ImageStation",
          "Cerro_Grande",
          "Auggie_Tantillo_executive",
          "ROLL_OUT_THE",
          "Combat_Infantryman_Badges",
          "Thousand_Cranes",
          "GREEN_PARTY",
          "##M####",
          "Toaff",
          "Clake",
          "Girbaud",
          "Solotomo",
          "Le_Cirque",
          "Sven_Bruss",
          "http://www.avanquest.com",
          "LI",
          "Zeta_Ophiuchi",
          "Patient_Monitoring_Market",
          "Rekong_Peo",
          "atopic_asthma",
          "Ocitti",
          "Zomi_Students_Federation",
          "Cyngor",
          "Alisha_Filmore",
          "heat_exchanger_ruptured",
          "Golden_Pin_Lanes",
          "Jillie",
          "Ti_Logistics_Briefing",
          "Noor_Azam",
          "BIAM_auditorium",
          "Drapers_features",
          "Anastazia_Kuzmina",
          "Throne_Holst",
          "Laura_Grevas_Worthington",
          "mantling",
          "WE_Thu",
          "Steve_Chealander",
          "TT_X_TRADER",
          "Be_Exhumed",
          "Picardi",
          "Daejeon",
          "Deluxe_Rooms",
          "Franco_Prussian_War",
          "ClearBlack_display",
          "shampoo_contraceptives",
          "Bukit_Payong",
          "Deborah_Jeon",
          "Raj_Thackerey",
          "Sub_Swara",
          "Quartermaster_Corps",
          "Dichello_Distributors",
          "Irawati",
          "MCF####",
          "Oquaye",
          "SFA_disciplinary",
          "GameZnFlix",
          "Rube_Waddell",
          "Sholom_Aleichem",
          "Engagement_Rumors",
          "wakame",
          "LVDS_transmitter",
          "director_Jesus_Puc",
          "Athletic_Bilbao_Atletico_Madrid",
          "Vijay_Kannan",
          "Group_JSE_NED",
          "Wellesley_Wenham_West",
          "Don_DeFord",
          "MAp_airports",
          "fecal_coli",
          "King_Athelstan",
          "Jorge_Mario_Bergoglio",
          "Tirumalasetti",
          "Airbus_A###/A###_aircraft"
         ],
         "legendgroup": "negative",
         "marker": {
          "color": "#EF553B",
          "symbol": "circle"
         },
         "mode": "markers",
         "name": "negative",
         "orientation": "v",
         "showlegend": true,
         "type": "scatter",
         "x": [
          -1.5863617658615112,
          -2.1337697505950928,
          2.534579038619995,
          4.153407573699951,
          -1.6268712282180786,
          -2.217667818069458,
          0.04326174780726433,
          1.4451345205307007,
          -0.12759281694889069,
          -2.981842041015625,
          2.078386068344116,
          2.493027687072754,
          2.1294026374816895,
          -2.940040349960327,
          1.3756681680679321,
          1.3097643852233887,
          -3.1161837577819824,
          0.9158422350883484,
          1.7194315195083618,
          -0.9642543196678162,
          2.2519493103027344,
          -1.5647670030593872,
          -0.6843198537826538,
          -2.521010398864746,
          -1.8240605592727661,
          -0.8353504538536072,
          -3.541898250579834,
          1.4092867374420166,
          -0.9834878444671631,
          1.5294076204299927,
          -5.318532943725586,
          0.7403103709220886,
          -3.65557861328125,
          -5.211651802062988,
          1.9429796934127808,
          1.3861730098724365,
          -0.29950544238090515,
          -2.8934361934661865,
          4.314633846282959,
          -2.8361704349517822,
          -3.281825065612793,
          0.2159077525138855,
          -1.3159602880477905,
          0.23580597341060638,
          0.8319994211196899,
          4.012992858886719,
          -0.6488664746284485,
          3.746605157852173,
          3.7438268661499023,
          -3.6817386150360107,
          -2.6292145252227783,
          0.06726088374853134,
          -1.43296480178833,
          0.08055571466684341,
          -0.3759668469429016,
          3.4578328132629395,
          3.453005075454712,
          -0.2786644697189331,
          -1.1167677640914917,
          -0.6489061713218689,
          -0.24426621198654175,
          0.22868676483631134,
          -0.6376659274101257,
          0.9241311550140381,
          1.6573309898376465,
          -1.0891867876052856,
          -1.6215155124664307,
          4.124882698059082,
          -1.8374559879302979,
          -2.7078568935394287,
          1.5294299125671387,
          -0.2946411371231079,
          3.6045162677764893,
          0.4888547956943512,
          3.7731475830078125,
          -4.51866340637207,
          0.9317381381988525,
          -2.3377811908721924,
          3.50154709815979,
          1.961668848991394,
          4.096929550170898,
          1.1554409265518188,
          1.6239241361618042,
          -3.814612865447998,
          -3.598581314086914,
          -2.4658570289611816,
          -2.7128429412841797,
          1.7963980436325073,
          0.31726834177970886,
          0.7605665922164917,
          -0.17653977870941162,
          -0.06207343190908432,
          -3.65163516998291,
          -0.05247770994901657,
          2.011692762374878,
          -0.7598558068275452,
          1.0252745151519775,
          -0.7093855142593384,
          3.5455572605133057,
          2.388704299926758
         ],
         "xaxis": "x",
         "y": [
          0.6294095516204834,
          -3.8162741661071777,
          0.3786625564098358,
          -0.44668978452682495,
          3.642216205596924,
          4.683899402618408,
          1.8783071041107178,
          3.311521291732788,
          -3.309048891067505,
          -2.23187518119812,
          0.36494767665863037,
          -0.9088192582130432,
          -5.117951393127441,
          -1.1062605381011963,
          -2.7919764518737793,
          5.128817081451416,
          -1.4448604583740234,
          -1.3025636672973633,
          1.0680543184280396,
          5.443899631500244,
          -3.646014451980591,
          3.5874571800231934,
          -3.47467303276062,
          -2.959475517272949,
          5.135435581207275,
          3.468695878982544,
          -5.943456172943115,
          -5.485111713409424,
          -0.4081672430038452,
          -0.9887734055519104,
          -3.7213709354400635,
          -0.0054221926257014275,
          -0.24636317789554596,
          -3.9866373538970947,
          -5.003626346588135,
          1.5191802978515625,
          4.007364749908447,
          -2.049720287322998,
          -2.946665048599243,
          -2.1126203536987305,
          2.6875147819519043,
          -3.3401546478271484,
          1.337100863456726,
          -3.9740724563598633,
          -2.8554999828338623,
          2.1565370559692383,
          -5.184419631958008,
          1.3023669719696045,
          2.2710659503936768,
          1.0281739234924316,
          5.188277721405029,
          -4.456394195556641,
          4.803278923034668,
          3.5459842681884766,
          -2.7550771236419678,
          0.592736005783081,
          2.3104543685913086,
          -2.341315746307373,
          5.511935234069824,
          1.901933193206787,
          -2.094285249710083,
          -4.185267925262451,
          -2.387373208999634,
          -0.5851617455482483,
          -4.478479862213135,
          -1.125557541847229,
          3.0463809967041016,
          -0.44860947132110596,
          0.08171660453081131,
          -0.9495848417282104,
          -5.566171169281006,
          -4.908933639526367,
          0.5280584692955017,
          0.7962444424629211,
          2.4184579849243164,
          -0.3817218542098999,
          -0.03545910865068436,
          -1.51811683177948,
          2.9585487842559814,
          -5.038650035858154,
          1.1569327116012573,
          5.206434726715088,
          -3.4739990234375,
          5.4852495193481445,
          -0.769108772277832,
          -1.6196554899215698,
          -2.9300734996795654,
          -5.185943603515625,
          0.15682239830493927,
          5.587137699127197,
          5.703453540802002,
          -2.0154776573181152,
          -4.079607963562012,
          1.46612548828125,
          -1.3560718297958374,
          -4.370297431945801,
          2.820296049118042,
          -0.10680621862411499,
          2.8373403549194336,
          -4.546268939971924
         ],
         "yaxis": "y"
        }
       ],
       "layout": {
        "height": 600,
        "legend": {
         "title": {
          "text": "category"
         },
         "tracegroupgap": 0
        },
        "template": {
         "data": {
          "bar": [
           {
            "error_x": {
             "color": "#2a3f5f"
            },
            "error_y": {
             "color": "#2a3f5f"
            },
            "marker": {
             "line": {
              "color": "#E5ECF6",
              "width": 0.5
             },
             "pattern": {
              "fillmode": "overlay",
              "size": 10,
              "solidity": 0.2
             }
            },
            "type": "bar"
           }
          ],
          "barpolar": [
           {
            "marker": {
             "line": {
              "color": "#E5ECF6",
              "width": 0.5
             },
             "pattern": {
              "fillmode": "overlay",
              "size": 10,
              "solidity": 0.2
             }
            },
            "type": "barpolar"
           }
          ],
          "carpet": [
           {
            "aaxis": {
             "endlinecolor": "#2a3f5f",
             "gridcolor": "white",
             "linecolor": "white",
             "minorgridcolor": "white",
             "startlinecolor": "#2a3f5f"
            },
            "baxis": {
             "endlinecolor": "#2a3f5f",
             "gridcolor": "white",
             "linecolor": "white",
             "minorgridcolor": "white",
             "startlinecolor": "#2a3f5f"
            },
            "type": "carpet"
           }
          ],
          "choropleth": [
           {
            "colorbar": {
             "outlinewidth": 0,
             "ticks": ""
            },
            "type": "choropleth"
           }
          ],
          "contour": [
           {
            "colorbar": {
             "outlinewidth": 0,
             "ticks": ""
            },
            "colorscale": [
             [
              0,
              "#0d0887"
             ],
             [
              0.1111111111111111,
              "#46039f"
             ],
             [
              0.2222222222222222,
              "#7201a8"
             ],
             [
              0.3333333333333333,
              "#9c179e"
             ],
             [
              0.4444444444444444,
              "#bd3786"
             ],
             [
              0.5555555555555556,
              "#d8576b"
             ],
             [
              0.6666666666666666,
              "#ed7953"
             ],
             [
              0.7777777777777778,
              "#fb9f3a"
             ],
             [
              0.8888888888888888,
              "#fdca26"
             ],
             [
              1,
              "#f0f921"
             ]
            ],
            "type": "contour"
           }
          ],
          "contourcarpet": [
           {
            "colorbar": {
             "outlinewidth": 0,
             "ticks": ""
            },
            "type": "contourcarpet"
           }
          ],
          "heatmap": [
           {
            "colorbar": {
             "outlinewidth": 0,
             "ticks": ""
            },
            "colorscale": [
             [
              0,
              "#0d0887"
             ],
             [
              0.1111111111111111,
              "#46039f"
             ],
             [
              0.2222222222222222,
              "#7201a8"
             ],
             [
              0.3333333333333333,
              "#9c179e"
             ],
             [
              0.4444444444444444,
              "#bd3786"
             ],
             [
              0.5555555555555556,
              "#d8576b"
             ],
             [
              0.6666666666666666,
              "#ed7953"
             ],
             [
              0.7777777777777778,
              "#fb9f3a"
             ],
             [
              0.8888888888888888,
              "#fdca26"
             ],
             [
              1,
              "#f0f921"
             ]
            ],
            "type": "heatmap"
           }
          ],
          "heatmapgl": [
           {
            "colorbar": {
             "outlinewidth": 0,
             "ticks": ""
            },
            "colorscale": [
             [
              0,
              "#0d0887"
             ],
             [
              0.1111111111111111,
              "#46039f"
             ],
             [
              0.2222222222222222,
              "#7201a8"
             ],
             [
              0.3333333333333333,
              "#9c179e"
             ],
             [
              0.4444444444444444,
              "#bd3786"
             ],
             [
              0.5555555555555556,
              "#d8576b"
             ],
             [
              0.6666666666666666,
              "#ed7953"
             ],
             [
              0.7777777777777778,
              "#fb9f3a"
             ],
             [
              0.8888888888888888,
              "#fdca26"
             ],
             [
              1,
              "#f0f921"
             ]
            ],
            "type": "heatmapgl"
           }
          ],
          "histogram": [
           {
            "marker": {
             "pattern": {
              "fillmode": "overlay",
              "size": 10,
              "solidity": 0.2
             }
            },
            "type": "histogram"
           }
          ],
          "histogram2d": [
           {
            "colorbar": {
             "outlinewidth": 0,
             "ticks": ""
            },
            "colorscale": [
             [
              0,
              "#0d0887"
             ],
             [
              0.1111111111111111,
              "#46039f"
             ],
             [
              0.2222222222222222,
              "#7201a8"
             ],
             [
              0.3333333333333333,
              "#9c179e"
             ],
             [
              0.4444444444444444,
              "#bd3786"
             ],
             [
              0.5555555555555556,
              "#d8576b"
             ],
             [
              0.6666666666666666,
              "#ed7953"
             ],
             [
              0.7777777777777778,
              "#fb9f3a"
             ],
             [
              0.8888888888888888,
              "#fdca26"
             ],
             [
              1,
              "#f0f921"
             ]
            ],
            "type": "histogram2d"
           }
          ],
          "histogram2dcontour": [
           {
            "colorbar": {
             "outlinewidth": 0,
             "ticks": ""
            },
            "colorscale": [
             [
              0,
              "#0d0887"
             ],
             [
              0.1111111111111111,
              "#46039f"
             ],
             [
              0.2222222222222222,
              "#7201a8"
             ],
             [
              0.3333333333333333,
              "#9c179e"
             ],
             [
              0.4444444444444444,
              "#bd3786"
             ],
             [
              0.5555555555555556,
              "#d8576b"
             ],
             [
              0.6666666666666666,
              "#ed7953"
             ],
             [
              0.7777777777777778,
              "#fb9f3a"
             ],
             [
              0.8888888888888888,
              "#fdca26"
             ],
             [
              1,
              "#f0f921"
             ]
            ],
            "type": "histogram2dcontour"
           }
          ],
          "mesh3d": [
           {
            "colorbar": {
             "outlinewidth": 0,
             "ticks": ""
            },
            "type": "mesh3d"
           }
          ],
          "parcoords": [
           {
            "line": {
             "colorbar": {
              "outlinewidth": 0,
              "ticks": ""
             }
            },
            "type": "parcoords"
           }
          ],
          "pie": [
           {
            "automargin": true,
            "type": "pie"
           }
          ],
          "scatter": [
           {
            "fillpattern": {
             "fillmode": "overlay",
             "size": 10,
             "solidity": 0.2
            },
            "type": "scatter"
           }
          ],
          "scatter3d": [
           {
            "line": {
             "colorbar": {
              "outlinewidth": 0,
              "ticks": ""
             }
            },
            "marker": {
             "colorbar": {
              "outlinewidth": 0,
              "ticks": ""
             }
            },
            "type": "scatter3d"
           }
          ],
          "scattercarpet": [
           {
            "marker": {
             "colorbar": {
              "outlinewidth": 0,
              "ticks": ""
             }
            },
            "type": "scattercarpet"
           }
          ],
          "scattergeo": [
           {
            "marker": {
             "colorbar": {
              "outlinewidth": 0,
              "ticks": ""
             }
            },
            "type": "scattergeo"
           }
          ],
          "scattergl": [
           {
            "marker": {
             "colorbar": {
              "outlinewidth": 0,
              "ticks": ""
             }
            },
            "type": "scattergl"
           }
          ],
          "scattermapbox": [
           {
            "marker": {
             "colorbar": {
              "outlinewidth": 0,
              "ticks": ""
             }
            },
            "type": "scattermapbox"
           }
          ],
          "scatterpolar": [
           {
            "marker": {
             "colorbar": {
              "outlinewidth": 0,
              "ticks": ""
             }
            },
            "type": "scatterpolar"
           }
          ],
          "scatterpolargl": [
           {
            "marker": {
             "colorbar": {
              "outlinewidth": 0,
              "ticks": ""
             }
            },
            "type": "scatterpolargl"
           }
          ],
          "scatterternary": [
           {
            "marker": {
             "colorbar": {
              "outlinewidth": 0,
              "ticks": ""
             }
            },
            "type": "scatterternary"
           }
          ],
          "surface": [
           {
            "colorbar": {
             "outlinewidth": 0,
             "ticks": ""
            },
            "colorscale": [
             [
              0,
              "#0d0887"
             ],
             [
              0.1111111111111111,
              "#46039f"
             ],
             [
              0.2222222222222222,
              "#7201a8"
             ],
             [
              0.3333333333333333,
              "#9c179e"
             ],
             [
              0.4444444444444444,
              "#bd3786"
             ],
             [
              0.5555555555555556,
              "#d8576b"
             ],
             [
              0.6666666666666666,
              "#ed7953"
             ],
             [
              0.7777777777777778,
              "#fb9f3a"
             ],
             [
              0.8888888888888888,
              "#fdca26"
             ],
             [
              1,
              "#f0f921"
             ]
            ],
            "type": "surface"
           }
          ],
          "table": [
           {
            "cells": {
             "fill": {
              "color": "#EBF0F8"
             },
             "line": {
              "color": "white"
             }
            },
            "header": {
             "fill": {
              "color": "#C8D4E3"
             },
             "line": {
              "color": "white"
             }
            },
            "type": "table"
           }
          ]
         },
         "layout": {
          "annotationdefaults": {
           "arrowcolor": "#2a3f5f",
           "arrowhead": 0,
           "arrowwidth": 1
          },
          "autotypenumbers": "strict",
          "coloraxis": {
           "colorbar": {
            "outlinewidth": 0,
            "ticks": ""
           }
          },
          "colorscale": {
           "diverging": [
            [
             0,
             "#8e0152"
            ],
            [
             0.1,
             "#c51b7d"
            ],
            [
             0.2,
             "#de77ae"
            ],
            [
             0.3,
             "#f1b6da"
            ],
            [
             0.4,
             "#fde0ef"
            ],
            [
             0.5,
             "#f7f7f7"
            ],
            [
             0.6,
             "#e6f5d0"
            ],
            [
             0.7,
             "#b8e186"
            ],
            [
             0.8,
             "#7fbc41"
            ],
            [
             0.9,
             "#4d9221"
            ],
            [
             1,
             "#276419"
            ]
           ],
           "sequential": [
            [
             0,
             "#0d0887"
            ],
            [
             0.1111111111111111,
             "#46039f"
            ],
            [
             0.2222222222222222,
             "#7201a8"
            ],
            [
             0.3333333333333333,
             "#9c179e"
            ],
            [
             0.4444444444444444,
             "#bd3786"
            ],
            [
             0.5555555555555556,
             "#d8576b"
            ],
            [
             0.6666666666666666,
             "#ed7953"
            ],
            [
             0.7777777777777778,
             "#fb9f3a"
            ],
            [
             0.8888888888888888,
             "#fdca26"
            ],
            [
             1,
             "#f0f921"
            ]
           ],
           "sequentialminus": [
            [
             0,
             "#0d0887"
            ],
            [
             0.1111111111111111,
             "#46039f"
            ],
            [
             0.2222222222222222,
             "#7201a8"
            ],
            [
             0.3333333333333333,
             "#9c179e"
            ],
            [
             0.4444444444444444,
             "#bd3786"
            ],
            [
             0.5555555555555556,
             "#d8576b"
            ],
            [
             0.6666666666666666,
             "#ed7953"
            ],
            [
             0.7777777777777778,
             "#fb9f3a"
            ],
            [
             0.8888888888888888,
             "#fdca26"
            ],
            [
             1,
             "#f0f921"
            ]
           ]
          },
          "colorway": [
           "#636efa",
           "#EF553B",
           "#00cc96",
           "#ab63fa",
           "#FFA15A",
           "#19d3f3",
           "#FF6692",
           "#B6E880",
           "#FF97FF",
           "#FECB52"
          ],
          "font": {
           "color": "#2a3f5f"
          },
          "geo": {
           "bgcolor": "white",
           "lakecolor": "white",
           "landcolor": "#E5ECF6",
           "showlakes": true,
           "showland": true,
           "subunitcolor": "white"
          },
          "hoverlabel": {
           "align": "left"
          },
          "hovermode": "closest",
          "mapbox": {
           "style": "light"
          },
          "paper_bgcolor": "white",
          "plot_bgcolor": "#E5ECF6",
          "polar": {
           "angularaxis": {
            "gridcolor": "white",
            "linecolor": "white",
            "ticks": ""
           },
           "bgcolor": "#E5ECF6",
           "radialaxis": {
            "gridcolor": "white",
            "linecolor": "white",
            "ticks": ""
           }
          },
          "scene": {
           "xaxis": {
            "backgroundcolor": "#E5ECF6",
            "gridcolor": "white",
            "gridwidth": 2,
            "linecolor": "white",
            "showbackground": true,
            "ticks": "",
            "zerolinecolor": "white"
           },
           "yaxis": {
            "backgroundcolor": "#E5ECF6",
            "gridcolor": "white",
            "gridwidth": 2,
            "linecolor": "white",
            "showbackground": true,
            "ticks": "",
            "zerolinecolor": "white"
           },
           "zaxis": {
            "backgroundcolor": "#E5ECF6",
            "gridcolor": "white",
            "gridwidth": 2,
            "linecolor": "white",
            "showbackground": true,
            "ticks": "",
            "zerolinecolor": "white"
           }
          },
          "shapedefaults": {
           "line": {
            "color": "#2a3f5f"
           }
          },
          "ternary": {
           "aaxis": {
            "gridcolor": "white",
            "linecolor": "white",
            "ticks": ""
           },
           "baxis": {
            "gridcolor": "white",
            "linecolor": "white",
            "ticks": ""
           },
           "bgcolor": "#E5ECF6",
           "caxis": {
            "gridcolor": "white",
            "linecolor": "white",
            "ticks": ""
           }
          },
          "title": {
           "x": 0.05
          },
          "xaxis": {
           "automargin": true,
           "gridcolor": "white",
           "linecolor": "white",
           "ticks": "",
           "title": {
            "standoff": 15
           },
           "zerolinecolor": "white",
           "zerolinewidth": 2
          },
          "yaxis": {
           "automargin": true,
           "gridcolor": "white",
           "linecolor": "white",
           "ticks": "",
           "title": {
            "standoff": 15
           },
           "zerolinecolor": "white",
           "zerolinewidth": 2
          }
         }
        },
        "title": {
         "text": "Similar and random words for the word: crisis in 2D"
        },
        "width": 800,
        "xaxis": {
         "anchor": "y",
         "domain": [
          0,
          1
         ],
         "title": {
          "text": "u1"
         }
        },
        "yaxis": {
         "anchor": "x",
         "domain": [
          0,
          1
         ],
         "title": {
          "text": "u2"
         }
        }
       }
      }
     },
     "metadata": {},
     "output_type": "display_data"
    }
   ],
   "source": [
    "import plotly.express as px\n",
    "\n",
    "def plot_similar_words_2d(word, n_words, word_vectors, reducer, rnd_state = 42):\n",
    "    most_sim_words = word_vectors.most_similar(word, topn = n_words)\n",
    "    positive_words = [element[0] for element in most_sim_words]\n",
    "    positive_words_2d = reducer.transform(word_vectors[positive_words])\n",
    "    positive_words_2d_df = pd.DataFrame(positive_words_2d, index = positive_words, columns = [\"u1\", \"u2\"])\n",
    "    positive_words_2d_df.loc[:, \"category\"] = \"positive\"\n",
    "\n",
    "    positive_indices = [word_vectors.key_to_index[positive_word] for positive_word in positive_words]\n",
    "    negative_indices = [i for i in range(len(word_vectors)) if not(i in positive_indices)]\n",
    "    np.random.seed(rnd_state)\n",
    "    negative_words_indices = np.random.choice(negative_indices, 5 * n_words, replace = False).tolist()\n",
    "    negative_words = [word_vectors.index_to_key[negative_words_index] for negative_words_index in negative_words_indices]\n",
    "    negative_words_2d = reducer.transform(word_vectors[negative_words_indices])\n",
    "    negative_words_2d_df = pd.DataFrame(negative_words_2d, index = negative_words, columns = [\"u1\", \"u2\"])\n",
    "    negative_words_2d_df.loc[:, \"category\"] = \"negative\"\n",
    "\n",
    "    words_2d = pd.concat((positive_words_2d_df, negative_words_2d_df))\n",
    "\n",
    "    fig = px.scatter(words_2d, x = \"u1\", y = \"u2\", color = \"category\", hover_name = words_2d.index, width = 800, height = 600, title = f\"Similar and random words for the word: {word} in 2D\")\n",
    "    return fig\n",
    "\n",
    "fig = plot_similar_words_2d(\"crisis\", 20, google_word_vectors, dim_reducer)\n",
    "fig.show()"
   ]
  },
  {
   "cell_type": "markdown",
   "metadata": {},
   "source": [
    "### Performance evaluation for Word2Vec models\n",
    "\n",
    "Two popular choices for evaluating the quality of word vectors are predefined analogy tasks as well as similarity tasks. The latter compute the correlation of pairwise word similarities made by humans and the ones derived by word embeddings. See below some examples for these tasks. In addition, another way to examine the quality of word embeddings is to use them for common natural language processing tasks and quantify the outcome. One of the most common sets of tasks is provided by the [General Language Understanding Evaluation (GLUE)](https://gluebenchmark.com/). However, if we are interested in domain specific performance, these considerations may not be most important to us. Given we train our word vectors mostly on, e.g., financial documents, it may be not surprising that these word embeddings may lack in their usage for general language understanding. However, they might be better in the representation of domain specific content. "
   ]
  },
  {
   "cell_type": "code",
   "execution_count": 32,
   "metadata": {},
   "outputs": [
    {
     "name": "stdout",
     "output_type": "stream",
     "text": [
      "--------------------------------------------------\n",
      "Examples for word analogy tasks:\n",
      "--------------------------------------------------\n",
      "Chisinau Moldova Ljubljana Slovenia\n",
      "\n",
      "father mother son daughter\n",
      "\n",
      "he she father mother\n",
      "\n",
      "smart smartest quick quickest\n",
      "\n",
      "Korea Korean Netherlands Dutch\n",
      "\n",
      "--------------------------------------------------\n",
      "Examples for human similarity:\n",
      "--------------------------------------------------\n",
      "unhappy\tmad\t5.95\n",
      "\n",
      "whiskey\tchampagne\t5.33\n",
      "\n",
      "liquor\tcentury\t0.4\n",
      "\n",
      "gun\tfur\t0.3\n",
      "\n",
      "attach\tjoin\t7.75\n",
      "\n"
     ]
    }
   ],
   "source": [
    "from gensim.test.utils import datapath\n",
    "\n",
    "with open(datapath(\"questions-words.txt\"), \"r\") as file:\n",
    "    lines = file.readlines()\n",
    "\n",
    "print(\"-\"*50)\n",
    "print(\"Examples for word analogy tasks:\")\n",
    "print(\"-\"*50)\n",
    "\n",
    "rng = default_rng(seed = 42)\n",
    "rnd_idx = rng.choice(len(lines), size=5, replace=False)\n",
    "for i, line in enumerate(lines):\n",
    "    if i in rnd_idx:\n",
    "        print(line)\n",
    "\n",
    "with open(datapath(\"simlex999.txt\"), \"r\") as file:\n",
    "    lines = file.readlines()\n",
    "\n",
    "print(\"-\"*50)\n",
    "print(\"Examples for human similarity:\")\n",
    "print(\"-\"*50)\n",
    "rnd_idx = rng.choice(len(lines), size=5, replace=False)\n",
    "for i, line in enumerate(lines):\n",
    "    if i in rnd_idx:\n",
    "        print(line)"
   ]
  },
  {
   "cell_type": "markdown",
   "metadata": {},
   "source": [
    "### Domain specific word embeddings\n",
    "\n",
    "If we are in need of domain specific word embeddings, we need to train a model by ourselves. Usually, this comes along with certain shortcomings. First, domain specific corpora usually are smaller which can have a negative impact on embedding quality as the vectors are trained on a lower number of samples. Second, the training of language models can come along with high computational needs. While this usually is no problem for Word2Vec, it certainly is for today's state of the art language models.\n",
    "\n",
    "For demonstrational purposes, let us compare the embeddings from the Google News corpus with embeddings that I trained. Our model has been trained on a corpus which includes around 115,000 annual 10-K form reports from US stock market companies between the years of 2002 until today. Each of the $49,434$ tokens in our lexicon is represented by a  $256$ dimensional vector."
   ]
  },
  {
   "cell_type": "code",
   "execution_count": 99,
   "metadata": {},
   "outputs": [
    {
     "data": {
      "text/plain": [
       "[('turmoil', 0.7795572280883789),\n",
       " ('recession', 0.7387425303459167),\n",
       " ('crises', 0.7312794327735901),\n",
       " ('downturn', 0.6833765506744385),\n",
       " ('pandemic', 0.6487988829612732),\n",
       " ('covid', 0.6147671341896057),\n",
       " ('slowdown', 0.6107375621795654),\n",
       " ('unprecedented', 0.6062895059585571),\n",
       " ('tightening', 0.6005370616912842),\n",
       " ('outbreak', 0.599168062210083)]"
      ]
     },
     "execution_count": 99,
     "metadata": {},
     "output_type": "execute_result"
    }
   ],
   "source": [
    "from gensim.models import KeyedVectors\n",
    "\n",
    "word_vectors = KeyedVectors.load(\"../language_models/w2v_10K/w2v_10K.kv\")\n",
    "word_vectors.most_similar(positive = \"crisis\")"
   ]
  },
  {
   "cell_type": "markdown",
   "metadata": {},
   "source": [
    "Even though the text data spans over a longer history which also includes the subprime mortgage crisis, the word embedding seems to be closely connected to the covid crisis. However, the first words seem to make perfect sense in a more general understanding of a crisis period. "
   ]
  },
  {
   "cell_type": "code",
   "execution_count": 100,
   "metadata": {},
   "outputs": [
    {
     "data": {
      "image/png": "[encoded data removed]",
      "text/plain": [
       "<Figure size 640x480 with 1 Axes>"
      ]
     },
     "metadata": {},
     "output_type": "display_data"
    }
   ],
   "source": [
    "from numpy.random import default_rng\n",
    "import matplotlib.pylab as plt\n",
    "from sklearn.metrics.pairwise import cosine_similarity\n",
    "\n",
    "# draw 10000 random vectors and determine their pairwise similarities to get an idea about the similarity range\n",
    "rng = default_rng(seed = 42)\n",
    "rnd_idx = rng.choice(len(word_vectors), size=10000, replace=False)\n",
    "pairwise_similarities = cosine_similarity(word_vectors[rnd_idx]) \n",
    "pairwise_similarities_flat = pairwise_similarities[np.tril_indices(pairwise_similarities.shape[0], k = -1)]\n",
    "plt.hist(pairwise_similarities_flat)\n",
    "plt.show()"
   ]
  },
  {
   "cell_type": "markdown",
   "metadata": {},
   "source": [
    "The range of similarities if very different to the Google News embeddings. This may be impacted by the similar dimensionality of embeddings. "
   ]
  },
  {
   "cell_type": "code",
   "execution_count": 101,
   "metadata": {},
   "outputs": [
    {
     "data": {
      "text/plain": [
       "[('women', 0.5575689673423767),\n",
       " ('babies', 0.5239009261131287),\n",
       " ('riding', 0.49364688992500305),\n",
       " ('walking', 0.48965153098106384),\n",
       " ('female', 0.48954012989997864),\n",
       " ('men', 0.48718249797821045),\n",
       " ('clothes', 0.48452329635620117),\n",
       " ('girls', 0.4834292232990265),\n",
       " ('pregnant', 0.48110231757164),\n",
       " ('kids', 0.47963348031044006)]"
      ]
     },
     "execution_count": 101,
     "metadata": {},
     "output_type": "execute_result"
    }
   ],
   "source": [
    "word_vectors.most_similar(positive=['woman', 'king'], negative=['man'])"
   ]
  },
  {
   "cell_type": "markdown",
   "metadata": {},
   "source": [
    "The domain specific vectors fail w.r.t. to this task. This is no big surprise, because it seems very unlikely that royal relationships are often discussed in financial reports. Nevertheless, as before the sentence embedding similarities seem to make sense. However, the distinction with Google News embeddings seems to be better. "
   ]
  },
  {
   "cell_type": "code",
   "execution_count": 106,
   "metadata": {},
   "outputs": [
    {
     "data": {
      "text/plain": [
       "[('esg', 0.5995034575462341),\n",
       " ('sustainability', 0.5876127481460571),\n",
       " ('workplace', 0.5621027946472168),\n",
       " ('cybersecurity', 0.5460812449455261),\n",
       " ('worker', 0.5370159149169922),\n",
       " ('health', 0.510663628578186),\n",
       " ('stewardship', 0.5101289749145508),\n",
       " ('pollution', 0.5056083798408508),\n",
       " ('remediation', 0.5013638138771057),\n",
       " ('committees', 0.5011717677116394)]"
      ]
     },
     "execution_count": 106,
     "metadata": {},
     "output_type": "execute_result"
    }
   ],
   "source": [
    "topic_words = [\"environmental\", \"social\", \"governance\"]\n",
    "word_vectors.most_similar(topic_words)"
   ]
  },
  {
   "cell_type": "markdown",
   "metadata": {},
   "source": [
    "Similar words to the environmental, social and governance topic make perfect sense. "
   ]
  },
  {
   "cell_type": "code",
   "execution_count": 107,
   "metadata": {},
   "outputs": [
    {
     "name": "stderr",
     "output_type": "stream",
     "text": [
      "/Users/ralf/Library/Mobile Documents/com~apple~CloudDocs/Kurse/DLTA/.venv/lib/python3.11/site-packages/plotly/express/_core.py:2065: FutureWarning:\n",
      "\n",
      "When grouping with a length-1 list-like, you will need to pass a length-1 tuple to get_group in a future version of pandas. Pass `(name,)` instead of `name` to silence this warning.\n",
      "\n"
     ]
    },
    {
     "data": {
      "application/vnd.plotly.v1+json": {
       "config": {
        "plotlyServerURL": "https://plot.ly"
       },
       "data": [
        {
         "hovertemplate": "<b>%{hovertext}</b><br><br>category=positive<br>u1=%{x}<br>u2=%{y}<extra></extra>",
         "hovertext": [
          "turmoil",
          "recession",
          "crises",
          "downturn",
          "pandemic",
          "covid",
          "slowdown",
          "unprecedented",
          "tightening",
          "outbreak",
          "economy",
          "recessionary",
          "lingering",
          "macroeconomic",
          "deteriorating",
          "instability",
          "worsening",
          "coronavirus",
          "dislocation",
          "dislocations"
         ],
         "legendgroup": "positive",
         "marker": {
          "color": "#636efa",
          "symbol": "circle"
         },
         "mode": "markers",
         "name": "positive",
         "orientation": "v",
         "showlegend": true,
         "type": "scatter",
         "x": [
          10.80595588684082,
          10.78457260131836,
          10.813929557800293,
          10.82498836517334,
          10.928094863891602,
          10.885117530822754,
          10.889124870300293,
          10.868974685668945,
          10.911226272583008,
          10.921464920043945,
          10.791775703430176,
          10.827836036682129,
          10.870598793029785,
          10.778287887573242,
          10.836459159851074,
          10.681783676147461,
          10.854347229003906,
          10.92496109008789,
          10.872766494750977,
          10.813474655151367
         ],
         "xaxis": "x",
         "y": [
          10.60330581665039,
          10.428186416625977,
          10.795228004455566,
          10.394495010375977,
          10.722065925598145,
          10.71463394165039,
          10.359487533569336,
          10.414254188537598,
          10.446734428405762,
          10.75853157043457,
          10.377359390258789,
          10.381629943847656,
          10.342016220092773,
          10.350104331970215,
          10.348396301269531,
          10.766874313354492,
          10.332633018493652,
          10.721814155578613,
          10.391350746154785,
          10.495828628540039
         ],
         "yaxis": "y"
        },
        {
         "hovertemplate": "<b>%{hovertext}</b><br><br>category=negative<br>u1=%{x}<br>u2=%{y}<extra></extra>",
         "hovertext": [
          "sched",
          "ugas",
          "collectibles",
          "salle",
          "plers",
          "disagreed",
          "biod",
          "dpler",
          "recruitment",
          "ldr",
          "umber",
          "nys",
          "reinsurers",
          "finisar",
          "amune",
          "golub",
          "adata",
          "galileo",
          "originators",
          "maidstone",
          "slee",
          "partners",
          "brazing",
          "usgovernmentsponsoredenterprises",
          "constric",
          "omniab",
          "shortfalls",
          "starting",
          "serviceable",
          "beings",
          "hur",
          "verastem",
          "shenandoah",
          "rox",
          "ndc",
          "trapped",
          "dissol",
          "gassegmentmember",
          "sior",
          "vpc",
          "constructionandlanddevelopment",
          "kog",
          "arena",
          "lihood",
          "cyx",
          "lomb",
          "lucer",
          "insec",
          "coalmember",
          "oncor",
          "resolved",
          "eco",
          "nuo",
          "pressur",
          "lloy",
          "docsis",
          "filippo",
          "acbb",
          "unlocking",
          "endow",
          "certiorari",
          "apu",
          "abatements",
          "stranded",
          "administrator",
          "strath",
          "ogen",
          "seriesofindividuallyimmaterial",
          "risperidone",
          "tv",
          "hne",
          "eafe",
          "talis",
          "vontier",
          "verint",
          "pwc",
          "oradur",
          "majo",
          "rated",
          "classb",
          "mccrea",
          "bux",
          "lf",
          "correction",
          "resem",
          "ameh",
          "albu",
          "wich",
          "confirmations",
          "part",
          "graduate",
          "adversaries",
          "foss",
          "championships",
          "occi",
          "gmac",
          "sellers",
          "behavi",
          "veneers",
          "asct"
         ],
         "legendgroup": "negative",
         "marker": {
          "color": "#EF553B",
          "symbol": "circle"
         },
         "mode": "markers",
         "name": "negative",
         "orientation": "v",
         "showlegend": true,
         "type": "scatter",
         "x": [
          10.398896217346191,
          6.905956268310547,
          10.13662338256836,
          8.664952278137207,
          12.325403213500977,
          8.859477043151855,
          14.689035415649414,
          8.425675392150879,
          9.784869194030762,
          13.361361503601074,
          9.201082229614258,
          7.4876580238342285,
          7.330723285675049,
          9.965697288513184,
          14.729912757873535,
          8.322449684143066,
          10.233603477478027,
          10.431305885314941,
          7.402926921844482,
          9.08319091796875,
          11.627030372619629,
          8.44540786743164,
          12.594868659973145,
          2.907443046569824,
          10.954572677612305,
          9.117940902709961,
          10.382355690002441,
          9.051957130432129,
          11.021075248718262,
          12.945158958435059,
          10.410442352294922,
          9.074812889099121,
          8.796102523803711,
          11.623921394348145,
          9.641444206237793,
          12.626511573791504,
          13.102238655090332,
          3.4525716304779053,
          9.645586013793945,
          10.863606452941895,
          2.742213487625122,
          11.11073112487793,
          10.364253044128418,
          10.673072814941406,
          5.89030122756958,
          9.547719955444336,
          5.522035121917725,
          6.249014854431152,
          3.1434953212738037,
          8.328442573547363,
          9.001077651977539,
          10.880328178405762,
          12.352105140686035,
          12.549297332763672,
          1.470129370689392,
          10.606895446777344,
          9.602438926696777,
          2.4416980743408203,
          10.680692672729492,
          12.885354042053223,
          8.693899154663086,
          11.141944885253906,
          8.26663589477539,
          13.59914493560791,
          7.949307918548584,
          9.246768951416016,
          12.909759521484375,
          2.8560378551483154,
          14.547933578491211,
          9.900385856628418,
          10.435367584228516,
          7.018976211547852,
          10.670448303222656,
          9.218128204345703,
          10.163601875305176,
          11.52794075012207,
          14.55375862121582,
          9.699196815490723,
          6.829361438751221,
          1.6167973279953003,
          10.242016792297363,
          10.159290313720703,
          10.968645095825195,
          12.679771423339844,
          12.237048149108887,
          1.738918662071228,
          14.325723648071289,
          9.000020980834961,
          9.15504264831543,
          7.661904811859131,
          9.327316284179688,
          10.207999229431152,
          10.661874771118164,
          10.164862632751465,
          7.656251430511475,
          7.447842597961426,
          8.321444511413574,
          10.88936996459961,
          12.649405479431152,
          14.786812782287598
         ],
         "xaxis": "x",
         "y": [
          7.482207775115967,
          6.9594831466674805,
          6.589237689971924,
          2.254242181777954,
          7.478822231292725,
          10.99257755279541,
          7.25663423538208,
          5.8283772468566895,
          8.408876419067383,
          7.50024938583374,
          1.6442289352416992,
          7.378863334655762,
          6.881366729736328,
          4.596205711364746,
          7.59630823135376,
          4.742269039154053,
          5.3078293800354,
          4.8998703956604,
          8.006562232971191,
          1.0902596712112427,
          7.256831169128418,
          8.356029510498047,
          6.458146572113037,
          5.815944194793701,
          10.279203414916992,
          4.211634159088135,
          10.488980293273926,
          9.928766250610352,
          7.610387325286865,
          8.652185440063477,
          0.9848807454109192,
          3.9707717895507812,
          1.8750357627868652,
          3.543308734893799,
          5.470471382141113,
          7.4987030029296875,
          6.7883758544921875,
          4.73293399810791,
          0.45734092593193054,
          5.68316650390625,
          6.491227626800537,
          1.265830636024475,
          8.639277458190918,
          8.599026679992676,
          4.286263942718506,
          3.859665870666504,
          3.5588202476501465,
          4.09675931930542,
          4.584651947021484,
          5.847139835357666,
          11.157052040100098,
          4.759315013885498,
          2.226541519165039,
          6.97781229019165,
          4.887486934661865,
          6.498775482177734,
          0.32918089628219604,
          6.041089057922363,
          9.003750801086426,
          7.366772174835205,
          11.121298789978027,
          6.180650234222412,
          8.475177764892578,
          8.18559741973877,
          8.017935752868652,
          1.56608247756958,
          6.576696395874023,
          4.669006824493408,
          7.429073810577393,
          6.450506210327148,
          0.8920437693595886,
          7.185530662536621,
          4.7762298583984375,
          4.715376377105713,
          5.207829475402832,
          0.5667363405227661,
          7.229207992553711,
          2.771120309829712,
          7.242565155029297,
          5.026369571685791,
          0.4739649295806885,
          0.8552717566490173,
          4.274562835693359,
          8.098379135131836,
          8.474088668823242,
          4.356623649597168,
          7.381005764007568,
          1.811427354812622,
          8.657241821289062,
          10.107878684997559,
          7.296713352203369,
          11.22762680053711,
          1.5280135869979858,
          6.331151485443115,
          3.447704553604126,
          5.275957107543945,
          8.106008529663086,
          8.749016761779785,
          6.005978107452393,
          8.245847702026367
         ],
         "yaxis": "y"
        }
       ],
       "layout": {
        "height": 600,
        "legend": {
         "title": {
          "text": "category"
         },
         "tracegroupgap": 0
        },
        "template": {
         "data": {
          "bar": [
           {
            "error_x": {
             "color": "#2a3f5f"
            },
            "error_y": {
             "color": "#2a3f5f"
            },
            "marker": {
             "line": {
              "color": "#E5ECF6",
              "width": 0.5
             },
             "pattern": {
              "fillmode": "overlay",
              "size": 10,
              "solidity": 0.2
             }
            },
            "type": "bar"
           }
          ],
          "barpolar": [
           {
            "marker": {
             "line": {
              "color": "#E5ECF6",
              "width": 0.5
             },
             "pattern": {
              "fillmode": "overlay",
              "size": 10,
              "solidity": 0.2
             }
            },
            "type": "barpolar"
           }
          ],
          "carpet": [
           {
            "aaxis": {
             "endlinecolor": "#2a3f5f",
             "gridcolor": "white",
             "linecolor": "white",
             "minorgridcolor": "white",
             "startlinecolor": "#2a3f5f"
            },
            "baxis": {
             "endlinecolor": "#2a3f5f",
             "gridcolor": "white",
             "linecolor": "white",
             "minorgridcolor": "white",
             "startlinecolor": "#2a3f5f"
            },
            "type": "carpet"
           }
          ],
          "choropleth": [
           {
            "colorbar": {
             "outlinewidth": 0,
             "ticks": ""
            },
            "type": "choropleth"
           }
          ],
          "contour": [
           {
            "colorbar": {
             "outlinewidth": 0,
             "ticks": ""
            },
            "colorscale": [
             [
              0,
              "#0d0887"
             ],
             [
              0.1111111111111111,
              "#46039f"
             ],
             [
              0.2222222222222222,
              "#7201a8"
             ],
             [
              0.3333333333333333,
              "#9c179e"
             ],
             [
              0.4444444444444444,
              "#bd3786"
             ],
             [
              0.5555555555555556,
              "#d8576b"
             ],
             [
              0.6666666666666666,
              "#ed7953"
             ],
             [
              0.7777777777777778,
              "#fb9f3a"
             ],
             [
              0.8888888888888888,
              "#fdca26"
             ],
             [
              1,
              "#f0f921"
             ]
            ],
            "type": "contour"
           }
          ],
          "contourcarpet": [
           {
            "colorbar": {
             "outlinewidth": 0,
             "ticks": ""
            },
            "type": "contourcarpet"
           }
          ],
          "heatmap": [
           {
            "colorbar": {
             "outlinewidth": 0,
             "ticks": ""
            },
            "colorscale": [
             [
              0,
              "#0d0887"
             ],
             [
              0.1111111111111111,
              "#46039f"
             ],
             [
              0.2222222222222222,
              "#7201a8"
             ],
             [
              0.3333333333333333,
              "#9c179e"
             ],
             [
              0.4444444444444444,
              "#bd3786"
             ],
             [
              0.5555555555555556,
              "#d8576b"
             ],
             [
              0.6666666666666666,
              "#ed7953"
             ],
             [
              0.7777777777777778,
              "#fb9f3a"
             ],
             [
              0.8888888888888888,
              "#fdca26"
             ],
             [
              1,
              "#f0f921"
             ]
            ],
            "type": "heatmap"
           }
          ],
          "heatmapgl": [
           {
            "colorbar": {
             "outlinewidth": 0,
             "ticks": ""
            },
            "colorscale": [
             [
              0,
              "#0d0887"
             ],
             [
              0.1111111111111111,
              "#46039f"
             ],
             [
              0.2222222222222222,
              "#7201a8"
             ],
             [
              0.3333333333333333,
              "#9c179e"
             ],
             [
              0.4444444444444444,
              "#bd3786"
             ],
             [
              0.5555555555555556,
              "#d8576b"
             ],
             [
              0.6666666666666666,
              "#ed7953"
             ],
             [
              0.7777777777777778,
              "#fb9f3a"
             ],
             [
              0.8888888888888888,
              "#fdca26"
             ],
             [
              1,
              "#f0f921"
             ]
            ],
            "type": "heatmapgl"
           }
          ],
          "histogram": [
           {
            "marker": {
             "pattern": {
              "fillmode": "overlay",
              "size": 10,
              "solidity": 0.2
             }
            },
            "type": "histogram"
           }
          ],
          "histogram2d": [
           {
            "colorbar": {
             "outlinewidth": 0,
             "ticks": ""
            },
            "colorscale": [
             [
              0,
              "#0d0887"
             ],
             [
              0.1111111111111111,
              "#46039f"
             ],
             [
              0.2222222222222222,
              "#7201a8"
             ],
             [
              0.3333333333333333,
              "#9c179e"
             ],
             [
              0.4444444444444444,
              "#bd3786"
             ],
             [
              0.5555555555555556,
              "#d8576b"
             ],
             [
              0.6666666666666666,
              "#ed7953"
             ],
             [
              0.7777777777777778,
              "#fb9f3a"
             ],
             [
              0.8888888888888888,
              "#fdca26"
             ],
             [
              1,
              "#f0f921"
             ]
            ],
            "type": "histogram2d"
           }
          ],
          "histogram2dcontour": [
           {
            "colorbar": {
             "outlinewidth": 0,
             "ticks": ""
            },
            "colorscale": [
             [
              0,
              "#0d0887"
             ],
             [
              0.1111111111111111,
              "#46039f"
             ],
             [
              0.2222222222222222,
              "#7201a8"
             ],
             [
              0.3333333333333333,
              "#9c179e"
             ],
             [
              0.4444444444444444,
              "#bd3786"
             ],
             [
              0.5555555555555556,
              "#d8576b"
             ],
             [
              0.6666666666666666,
              "#ed7953"
             ],
             [
              0.7777777777777778,
              "#fb9f3a"
             ],
             [
              0.8888888888888888,
              "#fdca26"
             ],
             [
              1,
              "#f0f921"
             ]
            ],
            "type": "histogram2dcontour"
           }
          ],
          "mesh3d": [
           {
            "colorbar": {
             "outlinewidth": 0,
             "ticks": ""
            },
            "type": "mesh3d"
           }
          ],
          "parcoords": [
           {
            "line": {
             "colorbar": {
              "outlinewidth": 0,
              "ticks": ""
             }
            },
            "type": "parcoords"
           }
          ],
          "pie": [
           {
            "automargin": true,
            "type": "pie"
           }
          ],
          "scatter": [
           {
            "fillpattern": {
             "fillmode": "overlay",
             "size": 10,
             "solidity": 0.2
            },
            "type": "scatter"
           }
          ],
          "scatter3d": [
           {
            "line": {
             "colorbar": {
              "outlinewidth": 0,
              "ticks": ""
             }
            },
            "marker": {
             "colorbar": {
              "outlinewidth": 0,
              "ticks": ""
             }
            },
            "type": "scatter3d"
           }
          ],
          "scattercarpet": [
           {
            "marker": {
             "colorbar": {
              "outlinewidth": 0,
              "ticks": ""
             }
            },
            "type": "scattercarpet"
           }
          ],
          "scattergeo": [
           {
            "marker": {
             "colorbar": {
              "outlinewidth": 0,
              "ticks": ""
             }
            },
            "type": "scattergeo"
           }
          ],
          "scattergl": [
           {
            "marker": {
             "colorbar": {
              "outlinewidth": 0,
              "ticks": ""
             }
            },
            "type": "scattergl"
           }
          ],
          "scattermapbox": [
           {
            "marker": {
             "colorbar": {
              "outlinewidth": 0,
              "ticks": ""
             }
            },
            "type": "scattermapbox"
           }
          ],
          "scatterpolar": [
           {
            "marker": {
             "colorbar": {
              "outlinewidth": 0,
              "ticks": ""
             }
            },
            "type": "scatterpolar"
           }
          ],
          "scatterpolargl": [
           {
            "marker": {
             "colorbar": {
              "outlinewidth": 0,
              "ticks": ""
             }
            },
            "type": "scatterpolargl"
           }
          ],
          "scatterternary": [
           {
            "marker": {
             "colorbar": {
              "outlinewidth": 0,
              "ticks": ""
             }
            },
            "type": "scatterternary"
           }
          ],
          "surface": [
           {
            "colorbar": {
             "outlinewidth": 0,
             "ticks": ""
            },
            "colorscale": [
             [
              0,
              "#0d0887"
             ],
             [
              0.1111111111111111,
              "#46039f"
             ],
             [
              0.2222222222222222,
              "#7201a8"
             ],
             [
              0.3333333333333333,
              "#9c179e"
             ],
             [
              0.4444444444444444,
              "#bd3786"
             ],
             [
              0.5555555555555556,
              "#d8576b"
             ],
             [
              0.6666666666666666,
              "#ed7953"
             ],
             [
              0.7777777777777778,
              "#fb9f3a"
             ],
             [
              0.8888888888888888,
              "#fdca26"
             ],
             [
              1,
              "#f0f921"
             ]
            ],
            "type": "surface"
           }
          ],
          "table": [
           {
            "cells": {
             "fill": {
              "color": "#EBF0F8"
             },
             "line": {
              "color": "white"
             }
            },
            "header": {
             "fill": {
              "color": "#C8D4E3"
             },
             "line": {
              "color": "white"
             }
            },
            "type": "table"
           }
          ]
         },
         "layout": {
          "annotationdefaults": {
           "arrowcolor": "#2a3f5f",
           "arrowhead": 0,
           "arrowwidth": 1
          },
          "autotypenumbers": "strict",
          "coloraxis": {
           "colorbar": {
            "outlinewidth": 0,
            "ticks": ""
           }
          },
          "colorscale": {
           "diverging": [
            [
             0,
             "#8e0152"
            ],
            [
             0.1,
             "#c51b7d"
            ],
            [
             0.2,
             "#de77ae"
            ],
            [
             0.3,
             "#f1b6da"
            ],
            [
             0.4,
             "#fde0ef"
            ],
            [
             0.5,
             "#f7f7f7"
            ],
            [
             0.6,
             "#e6f5d0"
            ],
            [
             0.7,
             "#b8e186"
            ],
            [
             0.8,
             "#7fbc41"
            ],
            [
             0.9,
             "#4d9221"
            ],
            [
             1,
             "#276419"
            ]
           ],
           "sequential": [
            [
             0,
             "#0d0887"
            ],
            [
             0.1111111111111111,
             "#46039f"
            ],
            [
             0.2222222222222222,
             "#7201a8"
            ],
            [
             0.3333333333333333,
             "#9c179e"
            ],
            [
             0.4444444444444444,
             "#bd3786"
            ],
            [
             0.5555555555555556,
             "#d8576b"
            ],
            [
             0.6666666666666666,
             "#ed7953"
            ],
            [
             0.7777777777777778,
             "#fb9f3a"
            ],
            [
             0.8888888888888888,
             "#fdca26"
            ],
            [
             1,
             "#f0f921"
            ]
           ],
           "sequentialminus": [
            [
             0,
             "#0d0887"
            ],
            [
             0.1111111111111111,
             "#46039f"
            ],
            [
             0.2222222222222222,
             "#7201a8"
            ],
            [
             0.3333333333333333,
             "#9c179e"
            ],
            [
             0.4444444444444444,
             "#bd3786"
            ],
            [
             0.5555555555555556,
             "#d8576b"
            ],
            [
             0.6666666666666666,
             "#ed7953"
            ],
            [
             0.7777777777777778,
             "#fb9f3a"
            ],
            [
             0.8888888888888888,
             "#fdca26"
            ],
            [
             1,
             "#f0f921"
            ]
           ]
          },
          "colorway": [
           "#636efa",
           "#EF553B",
           "#00cc96",
           "#ab63fa",
           "#FFA15A",
           "#19d3f3",
           "#FF6692",
           "#B6E880",
           "#FF97FF",
           "#FECB52"
          ],
          "font": {
           "color": "#2a3f5f"
          },
          "geo": {
           "bgcolor": "white",
           "lakecolor": "white",
           "landcolor": "#E5ECF6",
           "showlakes": true,
           "showland": true,
           "subunitcolor": "white"
          },
          "hoverlabel": {
           "align": "left"
          },
          "hovermode": "closest",
          "mapbox": {
           "style": "light"
          },
          "paper_bgcolor": "white",
          "plot_bgcolor": "#E5ECF6",
          "polar": {
           "angularaxis": {
            "gridcolor": "white",
            "linecolor": "white",
            "ticks": ""
           },
           "bgcolor": "#E5ECF6",
           "radialaxis": {
            "gridcolor": "white",
            "linecolor": "white",
            "ticks": ""
           }
          },
          "scene": {
           "xaxis": {
            "backgroundcolor": "#E5ECF6",
            "gridcolor": "white",
            "gridwidth": 2,
            "linecolor": "white",
            "showbackground": true,
            "ticks": "",
            "zerolinecolor": "white"
           },
           "yaxis": {
            "backgroundcolor": "#E5ECF6",
            "gridcolor": "white",
            "gridwidth": 2,
            "linecolor": "white",
            "showbackground": true,
            "ticks": "",
            "zerolinecolor": "white"
           },
           "zaxis": {
            "backgroundcolor": "#E5ECF6",
            "gridcolor": "white",
            "gridwidth": 2,
            "linecolor": "white",
            "showbackground": true,
            "ticks": "",
            "zerolinecolor": "white"
           }
          },
          "shapedefaults": {
           "line": {
            "color": "#2a3f5f"
           }
          },
          "ternary": {
           "aaxis": {
            "gridcolor": "white",
            "linecolor": "white",
            "ticks": ""
           },
           "baxis": {
            "gridcolor": "white",
            "linecolor": "white",
            "ticks": ""
           },
           "bgcolor": "#E5ECF6",
           "caxis": {
            "gridcolor": "white",
            "linecolor": "white",
            "ticks": ""
           }
          },
          "title": {
           "x": 0.05
          },
          "xaxis": {
           "automargin": true,
           "gridcolor": "white",
           "linecolor": "white",
           "ticks": "",
           "title": {
            "standoff": 15
           },
           "zerolinecolor": "white",
           "zerolinewidth": 2
          },
          "yaxis": {
           "automargin": true,
           "gridcolor": "white",
           "linecolor": "white",
           "ticks": "",
           "title": {
            "standoff": 15
           },
           "zerolinecolor": "white",
           "zerolinewidth": 2
          }
         }
        },
        "title": {
         "text": "Similar and random words for the word: crisis in 2D"
        },
        "width": 800,
        "xaxis": {
         "anchor": "y",
         "domain": [
          0,
          1
         ],
         "title": {
          "text": "u1"
         }
        },
        "yaxis": {
         "anchor": "x",
         "domain": [
          0,
          1
         ],
         "title": {
          "text": "u2"
         }
        }
       }
      }
     },
     "metadata": {},
     "output_type": "display_data"
    }
   ],
   "source": [
    "import umap\n",
    "import pickle\n",
    "\n",
    "try:\n",
    "    with open(\"../language_models/w2v_10K/dim_reducer_10K.pkl\", \"rb\") as handle:\n",
    "        dim_reducer = pickle.load(handle)\n",
    "except:\n",
    "    print(\"Train dimensionality reducer first...\")\n",
    "    dim_reducer = umap.UMAP(n_components=2, metric = \"cosine\")\n",
    "    dim_reducer.fit(word_vectors.get_normed_vectors())\n",
    "    with open(\"../language_models/w2v_10K/dim_reducer_10K.pkl\", 'wb') as handle:\n",
    "        pickle.dump(dim_reducer, handle, protocol=pickle.HIGHEST_PROTOCOL)\n",
    "\n",
    "fig = plot_similar_words_2d(\"crisis\", 20, word_vectors, dim_reducer)\n",
    "fig.show()"
   ]
  },
  {
   "cell_type": "markdown",
   "metadata": {},
   "source": [
    "This can also be a coinsidence, however, the similar words are closer to each other than in comparison to the Google News model. "
   ]
  },
  {
   "cell_type": "markdown",
   "metadata": {},
   "source": [
    "## Outlook \n",
    "\n",
    "In this chapter, we learned how meaningful word representations can be trained. For many applications, we are in need of meaningful representations for full documents or at least parts of them. For instance, a numerical representation of a financial news headline may be used to analyze stock market reactions to financial news. We have seen in this chapter that such representation can be derived by summing or averaging numerical representations for each word in a document. However, this approach may be not granular enough, especially for longer documents with different contents. Furthermore, it gives identical weights to each part of the document. Both shortcomings are tackled by other approaches. The first is how to derive more granular embeddings for documents and will be discussed in the next section. Afterwards, we head towards the self-attention mechanism of modern language models which deals among others with the challenge to focus on the important parts of documents."
   ]
  }
 ],
 "metadata": {
  "kernelspec": {
   "display_name": ".venv",
   "language": "python",
   "name": "python3"
  },
  "language_info": {
   "codemirror_mode": {
    "name": "ipython",
    "version": 3
   },
   "file_extension": ".py",
   "mimetype": "text/x-python",
   "name": "python",
   "nbconvert_exporter": "python",
   "pygments_lexer": "ipython3",
   "version": "3.11.7"
  }
 },
 "nbformat": 4,
 "nbformat_minor": 2
}
