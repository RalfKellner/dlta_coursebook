{
 "cells": [
  {
   "cell_type": "markdown",
   "metadata": {},
   "source": [
    "# Welcome\n",
    "\n",
    "Welcome to the course **Deep Learning and Text Analysis in Finance**. Originally, the value and risk of companies mainly has been assessed by financial factors, e.g., balance sheet, financial, income or cash flow statements. These numbers are used to assess the future income flows and risks of a company. Nowadays further information such as non-financial factors and textual information is more and more included when analyzing companies. Textual information for financial markets is spread via various channels, e.g., financial reports, news or transcripts of earning calls. \n",
    "\n",
    "Due to more advanced digitalization standards, textual data is easily available and can be processed computationally. This creates the need for text and language models which may be collected under the umbrella of text mining and natural language processing. With a very general point of view, the task of text and language models is to transform text into numerical representations which can be further processed by statistical models. Rather simple models try to summarize text by counting word frequencies, counting words from pre-defined dictionaries. However, the majority of text models are based on techniques from sub-fields of mathematics and statistics. Especially the last years revealed a tremendous increase in the capability of language based models. The majority of these models operate on the backbone of neural network architectures. This is why we are going to focus on these kind of models in this course. From a methodological point of view, you will learn in this course mostly about:\n",
    "\n",
    "* frequency and dictionary based text models\n",
    "* neural networks\n",
    "* distributional word and document embeddings\n",
    "* attention-based text models\n",
    "\n",
    "However, the methodological aspect is just one part for text analysis. The other part refers to the tasks and possibilities of text modeling in a certain domain such as business economics and finance. Especially in the area of financial markets a large number of different text types are available and of potential relevance. Examples are mandatory financial reports, voluntary environmental, social and corporate governance (ESG) reports as well as third party information such as financial news. Applications of text analysis are diverse and depend on the task itself. A few popular examples are:\n",
    "\n",
    "* sentiment analysis\n",
    "* topic modeling of financial reports\n",
    "* identification of theme specific disclosure in large texts, .e.g., risk management systems, ESG disclosure in mandatory reports\n",
    "* event-based analysis of investor reactions to certain text types and content\n",
    "* predictive market value modeling of companies based on reporting\n",
    "\n",
    "In this course, you are going to learn about both parts of financial text analysis. We are going to analyze:\n",
    "\n",
    "* Corporate filings (10K) of US companies which are listed at the Securities and Exchange Commission (SEC)\n",
    "* Earning call transcripts\n",
    "* Financial news\n",
    "* Voluntary ESG reports\n",
    "\n",
    "To achieve these goals, we learn about:\n",
    "\n",
    "* Text preprocessing \n",
    "* Frequency- and dictionary-based text analysis\n",
    "* Neural networks:\n",
    "    * Forward neural networks\n",
    "    * Gradient-based training of neural networks\n",
    "* Distributional word embeddings using Word2Vec\n",
    "* Distributional document embeddings using Doc2Vec\n",
    "* Topic analysis by distributional word and document embeddings\n",
    "* A glimpse into modern language modeling network architectures, i.e, the attention-based mechanism of the transformer model\n",
    "\n",
    "## Prerequisites for this course\n",
    "\n",
    "If you successfully passed the undergraduate exams in math and statistics you should be fine! We are going to dig a little deeper into the methodological aspects of some models, because I am convinced that this helps to create a more profound understanding of text modeling in general. However, from a technical point of view, all you need is to be able to conduct simple vector and matrix operations and understand what a (partial) derivative is. Furthermore, to work with text and text models, we are going to use python. However, even if you never heard about python before, you should be fine in this course. We have a little python introduction in the first week of the semester. Furthermore, all analysis are going to be presented with pre-written code examples. Your task is to understand and interpret the output, and, at a later stage in the course, to be able to copy+paste pre-written code and adjust it a little to make partly your individual analysis. For instance, you will learn about frequency-based text comprehensions and see a pre-written code example for a company filing of a company, e.g., Apple Inc. Later you may be asked to conduct a similar analysis for Microsoft. Therefore, you will receive text data from us. \n",
    "\n",
    "## Exam\n",
    "\n",
    "The exam of this course is a portfolio of a question and answer part (including some calculations) and an assignment part. Within the assignment part you will receive an individual notebook in which you are supposed to interpret some output and/or conduct a few self-made text analyses. Do not worry, we are going to practice this during the semester a lot and conduct a small mock exam before the exam. The exam will be conducted in presence with a time limitation of 90-120 minutes. The exam date will be organized during the semester.\n",
    "\n",
    "<br/><br/>\n",
    "**I hope you are as excited as I am about learning text based modeling and powerful methods which stand behind modern text models, either way, good luck for this course!**"
   ]
  }
 ],
 "metadata": {
  "kernelspec": {
   "display_name": ".dlta_help_venv",
   "language": "python",
   "name": "python3"
  },
  "language_info": {
   "codemirror_mode": {
    "name": "ipython",
    "version": 3
   },
   "file_extension": ".py",
   "mimetype": "text/x-python",
   "name": "python",
   "nbconvert_exporter": "python",
   "pygments_lexer": "ipython3",
   "version": "3.11.7"
  }
 },
 "nbformat": 4,
 "nbformat_minor": 2
}