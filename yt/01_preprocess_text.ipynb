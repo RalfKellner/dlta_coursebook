{
 "cells": [
  {
   "cell_type": "markdown",
   "metadata": {},
   "source": [
    "# Text preprocessing routines"
   ]
  },
  {
   "cell_type": "code",
   "execution_count": 13,
   "metadata": {},
   "outputs": [],
   "source": [
    "text = \"\"\"\n",
    "Apple (AAPL) ended the recent trading session at $231.30, demonstrating a +1.65% swing from the preceding day's closing price. The stock outpaced the S&P 500's daily gain of 0.77%. On the other hand, the Dow registered a gain of 0.47%, and the technology-centric Nasdaq increased by 0.87%.\n",
    "Coming into today, shares of the maker of iPhones, iPads and other products had gained 2.27% in the past month. In that same time, the Computer and Technology sector gained 6.36%, while the S&P 500 gained 4.87%.\n",
    "Investors will be eagerly watching for the performance of Apple in its upcoming earnings disclosure. The company's earnings report is set to be unveiled on October 31, 2024. The company is forecasted to report an EPS of $1.54, showcasing a 5.48% upward movement from the corresponding quarter of the prior year. At the same time, our most recent consensus estimate is projecting a revenue of $94.48 billion, reflecting a 5.57% rise from the equivalent quarter last year.\n",
    "Additionally, investors should keep an eye on any recent revisions to analyst forecasts for Apple. These recent revisions tend to reflect the evolving nature of short-term business trends. Therefore, positive revisions in estimates convey analysts' confidence in the company's business performance and profit potential.\n",
    "Our research suggests that these changes in estimates have a direct relationship with upcoming stock price performance. To capitalize on this, we've crafted the Zacks Rank, a unique model that incorporates these estimate changes and offers a practical rating system.\n",
    "Ranging from #1 (Strong Buy) to #5 (Strong Sell), the Zacks Rank system has a proven, outside-audited track record of outperformance, with #1 stocks returning an average of +25% annually since 1988. Over the last 30 days, the Zacks Consensus EPS estimate has witnessed a 0.12% decrease. Apple currently has a Zacks Rank of #3 (Hold).\n",
    "Investors should also note Apple's current valuation metrics, including its Forward P/E ratio of 30.17. This valuation marks a premium compared to its industry's average Forward P/E of 15.36.\n",
    "We can also see that AAPL currently has a PEG ratio of 2.38. The PEG ratio is similar to the widely-used P/E ratio, but this metric also takes the company's expected earnings growth rate into account. The Computer - Micro Computers was holding an average PEG ratio of 1.79 at yesterday's closing price.\n",
    "\"\"\"\n"
   ]
  },
  {
   "cell_type": "markdown",
   "metadata": {},
   "source": [
    "## Split longer documents into sentences\n",
    "\n",
    "This is not a necessary step, however, for a better readabilty, we start by splitting the filing into sentences."
   ]
  },
  {
   "cell_type": "code",
   "execution_count": 7,
   "metadata": {},
   "outputs": [
    {
     "name": "stdout",
     "output_type": "stream",
     "text": [
      "\n",
      "Apple (AAPL) ended the recent trading session at $231.30, demonstrating a +1.65% swing from the preceding day's closing price.\n",
      "The stock outpaced the S&P 500's daily gain of 0.77%.\n",
      "On the other hand, the Dow registered a gain of 0.47%, and the technology-centric Nasdaq increased by 0.87%.\n",
      "Coming into today, shares of the maker of iPhones, iPads and other products had gained 2.27% in the past month.\n",
      "In that same time, the Computer and Technology sector gained 6.36%, while the S&P 500 gained 4.87%.\n",
      "Investors will be eagerly watching for the performance of Apple in its upcoming earnings disclosure.\n",
      "The company's earnings report is set to be unveiled on October 31, 2024.\n",
      "The company is forecasted to report an EPS of $1.54, showcasing a 5.48% upward movement from the corresponding quarter of the prior year.\n",
      "At the same time, our most recent consensus estimate is projecting a revenue of $94.48 billion, reflecting a 5.57% rise from the equivalent quarter last year.\n",
      "Additionally, investors should keep an eye on any recent revisions to analyst forecasts for Apple.\n",
      "These recent revisions tend to reflect the evolving nature of short-term business trends.\n",
      "Therefore, positive revisions in estimates convey analysts' confidence in the company's business performance and profit potential.\n",
      "Our research suggests that these changes in estimates have a direct relationship with upcoming stock price performance.\n",
      "To capitalize on this, we've crafted the Zacks Rank, a unique model that incorporates these estimate changes and offers a practical rating system.\n",
      "Ranging from #1 (Strong Buy) to #5 (Strong Sell), the Zacks Rank system has a proven, outside-audited track record of outperformance, with #1 stocks returning an average of +25% annually since 1988.\n",
      "Over the last 30 days, the Zacks Consensus EPS estimate has witnessed a 0.12% decrease.\n",
      "Apple currently has a Zacks Rank of #3 (Hold).\n",
      "Investors should also note Apple's current valuation metrics, including its Forward P/E ratio of 30.17.\n",
      "This valuation marks a premium compared to its industry's average Forward P/E of 15.36.\n",
      "We can also see that AAPL currently has a PEG ratio of 2.38.\n",
      "The PEG ratio is similar to the widely-used P/E ratio, but this metric also takes the company's expected earnings growth rate into account.\n",
      "The Computer - Micro Computers was holding an average PEG ratio of 1.79 at yesterday's closing price.\n"
     ]
    }
   ],
   "source": [
    "import nltk.data\n",
    "\n",
    "sent_detector = nltk.data.load('tokenizers/punkt/english.pickle')\n",
    "sentences = sent_detector.tokenize(text)\n",
    "\n",
    "for sentence in sentences:\n",
    "    print(sentence)"
   ]
  },
  {
   "cell_type": "markdown",
   "metadata": {},
   "source": [
    "## Simple preprocessing routine\n",
    "\n",
    "* Remove punctuation and numbers\n",
    "* Lower casing \n",
    "* Split words by whitespaces"
   ]
  },
  {
   "cell_type": "code",
   "execution_count": 8,
   "metadata": {},
   "outputs": [
    {
     "name": "stdout",
     "output_type": "stream",
     "text": [
      "['apple', 'aapl', 'ended', 'the', 'recent', 'trading', 'session', 'at', 'demonstrating', 'swing', 'from', 'the', 'preceding', 'day', 'closing', 'price']\n",
      "['the', 'stock', 'outpaced', 'the', 'daily', 'gain', 'of']\n",
      "['on', 'the', 'other', 'hand', 'the', 'dow', 'registered', 'gain', 'of', 'and', 'the', 'technology', 'centric', 'nasdaq', 'increased', 'by']\n",
      "['coming', 'into', 'today', 'shares', 'of', 'the', 'maker', 'of', 'iphones', 'ipads', 'and', 'other', 'products', 'had', 'gained', 'in', 'the', 'past', 'month']\n",
      "['in', 'that', 'same', 'time', 'the', 'computer', 'and', 'technology', 'sector', 'gained', 'while', 'the', 'gained']\n",
      "['investors', 'will', 'be', 'eagerly', 'watching', 'for', 'the', 'performance', 'of', 'apple', 'in', 'its', 'upcoming', 'earnings', 'disclosure']\n",
      "['the', 'company', 'earnings', 'report', 'is', 'set', 'to', 'be', 'unveiled', 'on', 'october']\n",
      "['the', 'company', 'is', 'forecasted', 'to', 'report', 'an', 'eps', 'of', 'showcasing', 'upward', 'movement', 'from', 'the', 'corresponding', 'quarter', 'of', 'the', 'prior', 'year']\n",
      "['at', 'the', 'same', 'time', 'our', 'most', 'recent', 'consensus', 'estimate', 'is', 'projecting', 'revenue', 'of', 'billion', 'reflecting', 'rise', 'from', 'the', 'equivalent', 'quarter', 'last', 'year']\n",
      "['additionally', 'investors', 'should', 'keep', 'an', 'eye', 'on', 'any', 'recent', 'revisions', 'to', 'analyst', 'forecasts', 'for', 'apple']\n",
      "['these', 'recent', 'revisions', 'tend', 'to', 'reflect', 'the', 'evolving', 'nature', 'of', 'short', 'term', 'business', 'trends']\n",
      "['therefore', 'positive', 'revisions', 'in', 'estimates', 'convey', 'analysts', 'confidence', 'in', 'the', 'company', 'business', 'performance', 'and', 'profit', 'potential']\n",
      "['our', 'research', 'suggests', 'that', 'these', 'changes', 'in', 'estimates', 'have', 'direct', 'relationship', 'with', 'upcoming', 'stock', 'price', 'performance']\n",
      "['to', 'capitalize', 'on', 'this', 'we', 've', 'crafted', 'the', 'zacks', 'rank', 'unique', 'model', 'that', 'incorporates', 'these', 'estimate', 'changes', 'and', 'offers', 'practical', 'rating', 'system']\n",
      "['ranging', 'from', 'strong', 'buy', 'to', 'strong', 'sell', 'the', 'zacks', 'rank', 'system', 'has', 'proven', 'outside', 'audited', 'track', 'record', 'of', 'outperformance', 'with', 'stocks', 'returning', 'an', 'average', 'of', 'annually', 'since']\n",
      "['over', 'the', 'last', 'days', 'the', 'zacks', 'consensus', 'eps', 'estimate', 'has', 'witnessed', 'decrease']\n",
      "['apple', 'currently', 'has', 'zacks', 'rank', 'of', 'hold']\n",
      "['investors', 'should', 'also', 'note', 'apple', 'current', 'valuation', 'metrics', 'including', 'its', 'forward', 'ratio', 'of']\n",
      "['this', 'valuation', 'marks', 'premium', 'compared', 'to', 'its', 'industry', 'average', 'forward', 'of']\n",
      "['we', 'can', 'also', 'see', 'that', 'aapl', 'currently', 'has', 'peg', 'ratio', 'of']\n",
      "['the', 'peg', 'ratio', 'is', 'similar', 'to', 'the', 'widely', 'used', 'ratio', 'but', 'this', 'metric', 'also', 'takes', 'the', 'company', 'expected', 'earnings', 'growth', 'rate', 'into', 'account']\n",
      "['the', 'computer', 'micro', 'computers', 'was', 'holding', 'an', 'average', 'peg', 'ratio', 'of', 'at', 'yesterday', 'closing', 'price']\n"
     ]
    }
   ],
   "source": [
    "from gensim.utils import simple_preprocess\n",
    "\n",
    "for sentence in sentences:\n",
    "    preprocessed_sentenced = simple_preprocess(sentence)\n",
    "    print(preprocessed_sentenced)"
   ]
  },
  {
   "cell_type": "markdown",
   "metadata": {},
   "source": [
    "## Remove stopwords\n",
    "\n",
    "* Stopwords are words which appear many times in almost all texts\n",
    "* Usually their existence does not allow a user to retrieve content specific information"
   ]
  },
  {
   "cell_type": "code",
   "execution_count": 14,
   "metadata": {},
   "outputs": [
    {
     "name": "stdout",
     "output_type": "stream",
     "text": [
      "['apple', 'aapl', 'ended', 'recent', 'trading', 'session', 'demonstrating', 'swing', 'preceding', 'day', 'closing', 'price']\n",
      "['stock', 'outpaced', 'daily', 'gain']\n",
      "['hand', 'dow', 'registered', 'gain', 'technology', 'centric', 'nasdaq', 'increased']\n",
      "['coming', 'today', 'shares', 'maker', 'iphones', 'ipads', 'products', 'gained', 'past', 'month']\n",
      "['time', 'technology', 'sector', 'gained', 'gained']\n",
      "['investors', 'eagerly', 'watching', 'performance', 'apple', 'upcoming', 'earnings', 'disclosure']\n",
      "['company', 'earnings', 'report', 'set', 'unveiled', 'october']\n",
      "['company', 'forecasted', 'report', 'eps', 'showcasing', 'upward', 'movement', 'corresponding', 'quarter', 'prior', 'year']\n",
      "['time', 'recent', 'consensus', 'estimate', 'projecting', 'revenue', 'billion', 'reflecting', 'rise', 'equivalent', 'quarter', 'year']\n",
      "['additionally', 'investors', 'eye', 'recent', 'revisions', 'analyst', 'forecasts', 'apple']\n",
      "['recent', 'revisions', 'tend', 'reflect', 'evolving', 'nature', 'short', 'term', 'business', 'trends']\n",
      "['positive', 'revisions', 'estimates', 'convey', 'analysts', 'confidence', 'company', 'business', 'performance', 'profit', 'potential']\n",
      "['research', 'suggests', 'changes', 'estimates', 'direct', 'relationship', 'upcoming', 'stock', 'price', 'performance']\n",
      "['capitalize', 've', 'crafted', 'zacks', 'rank', 'unique', 'model', 'incorporates', 'estimate', 'changes', 'offers', 'practical', 'rating']\n",
      "['ranging', 'strong', 'buy', 'strong', 'sell', 'zacks', 'rank', 'proven', 'outside', 'audited', 'track', 'record', 'outperformance', 'stocks', 'returning', 'average', 'annually']\n",
      "['days', 'zacks', 'consensus', 'eps', 'estimate', 'witnessed', 'decrease']\n",
      "['apple', 'currently', 'zacks', 'rank', 'hold']\n",
      "['investors', 'note', 'apple', 'current', 'valuation', 'metrics', 'including', 'forward', 'ratio']\n",
      "['valuation', 'marks', 'premium', 'compared', 'industry', 'average', 'forward']\n",
      "['aapl', 'currently', 'peg', 'ratio']\n",
      "['peg', 'ratio', 'similar', 'widely', 'ratio', 'metric', 'takes', 'company', 'expected', 'earnings', 'growth', 'rate', 'account']\n",
      "['micro', 'computers', 'holding', 'average', 'peg', 'ratio', 'yesterday', 'closing', 'price']\n"
     ]
    }
   ],
   "source": [
    "from gensim.parsing.preprocessing import STOPWORDS\n",
    "from gensim.utils import simple_preprocess\n",
    "\n",
    "for sentence in sentences:\n",
    "    preprocessed_sentenced = simple_preprocess(sentence)\n",
    "    preprocessed_sentenced = [word for word in preprocessed_sentenced if not(word in STOPWORDS)]\n",
    "    print(preprocessed_sentenced)"
   ]
  },
  {
   "cell_type": "markdown",
   "metadata": {},
   "source": [
    "## Stemming\n",
    "\n",
    "* Especially frequency based algorithms may be improved if the number of different terms is low\n",
    "* Options to achieve this are given by stemming or lemmatization"
   ]
  },
  {
   "cell_type": "code",
   "execution_count": 10,
   "metadata": {},
   "outputs": [
    {
     "name": "stdout",
     "output_type": "stream",
     "text": [
      "['appl', 'aapl', 'end', 'the', 'recent', 'trade', 'session', 'at', 'demonstr', 'swing', 'from', 'the', 'preced', 'day', 'close', 'price']\n",
      "['the', 'stock', 'outpac', 'the', 'daili', 'gain', 'of']\n",
      "['on', 'the', 'other', 'hand', 'the', 'dow', 'regist', 'gain', 'of', 'and', 'the', 'technolog', 'centric', 'nasdaq', 'increas', 'by']\n",
      "['come', 'into', 'today', 'share', 'of', 'the', 'maker', 'of', 'iphon', 'ipad', 'and', 'other', 'product', 'had', 'gain', 'in', 'the', 'past', 'month']\n",
      "['in', 'that', 'same', 'time', 'the', 'comput', 'and', 'technolog', 'sector', 'gain', 'while', 'the', 'gain']\n",
      "['investor', 'will', 'be', 'eager', 'watch', 'for', 'the', 'perform', 'of', 'appl', 'in', 'it', 'upcom', 'earn', 'disclosur']\n",
      "['the', 'compani', 'earn', 'report', 'is', 'set', 'to', 'be', 'unveil', 'on', 'octob']\n",
      "['the', 'compani', 'is', 'forecast', 'to', 'report', 'an', 'ep', 'of', 'showcas', 'upward', 'movement', 'from', 'the', 'correspond', 'quarter', 'of', 'the', 'prior', 'year']\n",
      "['at', 'the', 'same', 'time', 'our', 'most', 'recent', 'consensus', 'estim', 'is', 'project', 'revenu', 'of', 'billion', 'reflect', 'rise', 'from', 'the', 'equival', 'quarter', 'last', 'year']\n",
      "['addit', 'investor', 'should', 'keep', 'an', 'eye', 'on', 'ani', 'recent', 'revis', 'to', 'analyst', 'forecast', 'for', 'appl']\n",
      "['these', 'recent', 'revis', 'tend', 'to', 'reflect', 'the', 'evolv', 'natur', 'of', 'short', 'term', 'busi', 'trend']\n",
      "['therefor', 'posit', 'revis', 'in', 'estim', 'convey', 'analyst', 'confid', 'in', 'the', 'compani', 'busi', 'perform', 'and', 'profit', 'potenti']\n",
      "['our', 'research', 'suggest', 'that', 'these', 'chang', 'in', 'estim', 'have', 'direct', 'relationship', 'with', 'upcom', 'stock', 'price', 'perform']\n",
      "['to', 'capit', 'on', 'this', 'we', 've', 'craft', 'the', 'zack', 'rank', 'uniqu', 'model', 'that', 'incorpor', 'these', 'estim', 'chang', 'and', 'offer', 'practic', 'rate', 'system']\n",
      "['rang', 'from', 'strong', 'buy', 'to', 'strong', 'sell', 'the', 'zack', 'rank', 'system', 'has', 'proven', 'outsid', 'audit', 'track', 'record', 'of', 'outperform', 'with', 'stock', 'return', 'an', 'averag', 'of', 'annual', 'sinc']\n",
      "['over', 'the', 'last', 'day', 'the', 'zack', 'consensus', 'ep', 'estim', 'has', 'wit', 'decreas']\n",
      "['appl', 'current', 'has', 'zack', 'rank', 'of', 'hold']\n",
      "['investor', 'should', 'also', 'note', 'appl', 'current', 'valuat', 'metric', 'includ', 'it', 'forward', 'ratio', 'of']\n",
      "['this', 'valuat', 'mark', 'premium', 'compar', 'to', 'it', 'industri', 'averag', 'forward', 'of']\n",
      "['we', 'can', 'also', 'see', 'that', 'aapl', 'current', 'has', 'peg', 'ratio', 'of']\n",
      "['the', 'peg', 'ratio', 'is', 'similar', 'to', 'the', 'wide', 'use', 'ratio', 'but', 'this', 'metric', 'also', 'take', 'the', 'compani', 'expect', 'earn', 'growth', 'rate', 'into', 'account']\n",
      "['the', 'comput', 'micro', 'comput', 'was', 'hold', 'an', 'averag', 'peg', 'ratio', 'of', 'at', 'yesterday', 'close', 'price']\n"
     ]
    }
   ],
   "source": [
    "from nltk.stem.snowball import SnowballStemmer\n",
    "from gensim.utils import simple_preprocess\n",
    "\n",
    "stemmer = SnowballStemmer(language = \"english\")\n",
    "\n",
    "for sentence in sentences:\n",
    "    preprocessed_sentenced = simple_preprocess(sentence)\n",
    "    preprocessed_sentenced = [stemmer.stem(word) for word in preprocessed_sentenced]\n",
    "    print(preprocessed_sentenced)"
   ]
  },
  {
   "cell_type": "markdown",
   "metadata": {},
   "source": [
    "## Using trained algorithms to preprocess text\n",
    "\n",
    "* Modern language models often include preprocessing routines which are combined with trained algorithms\n",
    "* Various algorithms exists which learn how to identify tokens, i.e., *an instance of a sequence of characters in some particular document that are grouped together as a useful semantic unit for processing*"
   ]
  },
  {
   "cell_type": "code",
   "execution_count": 11,
   "metadata": {},
   "outputs": [
    {
     "name": "stdout",
     "output_type": "stream",
     "text": [
      "['apple', '(', 'aa', '##pl', ')', 'ended', 'the', 'recent', 'trading', 'session', 'at', '$', '231', '.', '30', ',', 'demonstrating', 'a', '+', '1', '.', '65', '%', 'swing', 'from', 'the', 'preceding', 'day', \"'\", 's', 'closing', 'price', '.']\n",
      "['the', 'stock', 'out', '##pace', '##d', 'the', 's', '&', 'p', '500', \"'\", 's', 'daily', 'gain', 'of', '0', '.', '77', '%', '.']\n",
      "['on', 'the', 'other', 'hand', ',', 'the', 'dow', 'registered', 'a', 'gain', 'of', '0', '.', '47', '%', ',', 'and', 'the', 'technology', '-', 'cent', '##ric', 'nas', '##da', '##q', 'increased', 'by', '0', '.', '87', '%', '.']\n",
      "['coming', 'into', 'today', ',', 'shares', 'of', 'the', 'maker', 'of', 'iphone', '##s', ',', 'ipad', '##s', 'and', 'other', 'products', 'had', 'gained', '2', '.', '27', '%', 'in', 'the', 'past', 'month', '.']\n",
      "['in', 'that', 'same', 'time', ',', 'the', 'computer', 'and', 'technology', 'sector', 'gained', '6', '.', '36', '%', ',', 'while', 'the', 's', '&', 'p', '500', 'gained', '4', '.', '87', '%', '.']\n",
      "['investors', 'will', 'be', 'eagerly', 'watching', 'for', 'the', 'performance', 'of', 'apple', 'in', 'its', 'upcoming', 'earnings', 'disclosure', '.']\n",
      "['the', 'company', \"'\", 's', 'earnings', 'report', 'is', 'set', 'to', 'be', 'unveiled', 'on', 'october', '31', ',', '202', '##4', '.']\n",
      "['the', 'company', 'is', 'forecast', '##ed', 'to', 'report', 'an', 'eps', 'of', '$', '1', '.', '54', ',', 'showcasing', 'a', '5', '.', '48', '%', 'upward', 'movement', 'from', 'the', 'corresponding', 'quarter', 'of', 'the', 'prior', 'year', '.']\n",
      "['at', 'the', 'same', 'time', ',', 'our', 'most', 'recent', 'consensus', 'estimate', 'is', 'projecting', 'a', 'revenue', 'of', '$', '94', '.', '48', 'billion', ',', 'reflecting', 'a', '5', '.', '57', '%', 'rise', 'from', 'the', 'equivalent', 'quarter', 'last', 'year', '.']\n",
      "['additionally', ',', 'investors', 'should', 'keep', 'an', 'eye', 'on', 'any', 'recent', 'revisions', 'to', 'analyst', 'forecast', '##s', 'for', 'apple', '.']\n",
      "['these', 'recent', 'revisions', 'tend', 'to', 'reflect', 'the', 'evolving', 'nature', 'of', 'short', '-', 'term', 'business', 'trends', '.']\n",
      "['therefore', ',', 'positive', 'revisions', 'in', 'estimates', 'convey', 'analysts', \"'\", 'confidence', 'in', 'the', 'company', \"'\", 's', 'business', 'performance', 'and', 'profit', 'potential', '.']\n",
      "['our', 'research', 'suggests', 'that', 'these', 'changes', 'in', 'estimates', 'have', 'a', 'direct', 'relationship', 'with', 'upcoming', 'stock', 'price', 'performance', '.']\n",
      "['to', 'capital', '##ize', 'on', 'this', ',', 'we', \"'\", 've', 'crafted', 'the', 'zack', '##s', 'rank', ',', 'a', 'unique', 'model', 'that', 'incorporates', 'these', 'estimate', 'changes', 'and', 'offers', 'a', 'practical', 'rating', 'system', '.']\n",
      "['ranging', 'from', '#', '1', '(', 'strong', 'buy', ')', 'to', '#', '5', '(', 'strong', 'sell', ')', ',', 'the', 'zack', '##s', 'rank', 'system', 'has', 'a', 'proven', ',', 'outside', '-', 'audit', '##ed', 'track', 'record', 'of', 'out', '##per', '##form', '##ance', ',', 'with', '#', '1', 'stocks', 'returning', 'an', 'average', 'of', '+', '25', '%', 'annually', 'since', '1988', '.']\n",
      "['over', 'the', 'last', '30', 'days', ',', 'the', 'zack', '##s', 'consensus', 'eps', 'estimate', 'has', 'witnessed', 'a', '0', '.', '12', '%', 'decrease', '.']\n",
      "['apple', 'currently', 'has', 'a', 'zack', '##s', 'rank', 'of', '#', '3', '(', 'hold', ')', '.']\n",
      "['investors', 'should', 'also', 'note', 'apple', \"'\", 's', 'current', 'valuation', 'metric', '##s', ',', 'including', 'its', 'forward', 'p', '/', 'e', 'ratio', 'of', '30', '.', '17', '.']\n",
      "['this', 'valuation', 'marks', 'a', 'premium', 'compared', 'to', 'its', 'industry', \"'\", 's', 'average', 'forward', 'p', '/', 'e', 'of', '15', '.', '36', '.']\n",
      "['we', 'can', 'also', 'see', 'that', 'aa', '##pl', 'currently', 'has', 'a', 'peg', 'ratio', 'of', '2', '.', '38', '.']\n",
      "['the', 'peg', 'ratio', 'is', 'similar', 'to', 'the', 'widely', '-', 'used', 'p', '/', 'e', 'ratio', ',', 'but', 'this', 'metric', 'also', 'takes', 'the', 'company', \"'\", 's', 'expected', 'earnings', 'growth', 'rate', 'into', 'account', '.']\n",
      "['the', 'computer', '-', 'micro', 'computers', 'was', 'holding', 'an', 'average', 'peg', 'ratio', 'of', '1', '.', '79', 'at', 'yesterday', \"'\", 's', 'closing', 'price', '.']\n"
     ]
    }
   ],
   "source": [
    "from tokenizers import Tokenizer\n",
    "\n",
    "tokenizer = Tokenizer.from_pretrained(\"bert-base-uncased\")\n",
    "for sentence in sentences:\n",
    "    preprocessed_sentenced = tokenizer.encode(sentence).tokens\n",
    "    print(preprocessed_sentenced[1:-1])"
   ]
  }
 ],
 "metadata": {
  "kernelspec": {
   "display_name": ".venv",
   "language": "python",
   "name": "python3"
  },
  "language_info": {
   "codemirror_mode": {
    "name": "ipython",
    "version": 3
   },
   "file_extension": ".py",
   "mimetype": "text/x-python",
   "name": "python",
   "nbconvert_exporter": "python",
   "pygments_lexer": "ipython3",
   "version": "3.11.7"
  }
 },
 "nbformat": 4,
 "nbformat_minor": 2
}
