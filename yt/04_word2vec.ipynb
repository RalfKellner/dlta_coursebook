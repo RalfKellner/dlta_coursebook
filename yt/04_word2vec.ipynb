{
 "cells": [
  {
   "cell_type": "markdown",
   "metadata": {},
   "source": [
    "## Word2Vec\n",
    "\n",
    "A popular model which is able to learn word vectors (also called word embeddings) which capture semantic and syntactic meaning is Word2Vec. It is build upon a neural network architecture and has been presented by [Mikolov et al. (2013)](https://arxiv.org/abs/1301.3781) and [Mikolov et al. (2013)](https://arxiv.org/abs/1310.4546). The model represents every word by a $p$-dimensional vector. In comparison to our example, each real-valued number in a word vector does not have a specific meaning. However, after the model is trained, the vectors will be similar to each other if the words have similar meaning. Two versions of the Word2Vec model exist: (1) the continuous bag of words approach (CBOW), and, (2) the skip-gram (SG) model. For both approaches, we take a look at the surrounding words around a center word. Let us denote $w_j$ as the center word. The surrounding words, we may also call then feature words, are defined by the window size whose length $2 \\cdot t$ needs to be chosen by the user. The feature words are up to $t$ words to the left and up to $t$ words to the right of the center word: $w_{j-t}, w_{j-t+1}, ..., w_{j-1}, w_{j+1}, w_{j + t -1}, w_{j + t}$. For instance, given the sentence, \"the dog would like a piece of the sandwich\", setting the center word \"like\" and a window size of $4$, the context words are: \"dog, would, a, piece\". The CBOW model tries to predict the center word by the feature words, the SG model tries to predict feature words, given the center word. \n",
    "\n",
    "The easiest way to understand the model is to take a look at a minimal example. So, let's go: First, everything starts with a corpus. Ours consists of three sentences:\n"
   ]
  },
  {
   "cell_type": "code",
   "execution_count": 1,
   "metadata": {},
   "outputs": [
    {
     "data": {
      "text/plain": [
       "[['i', 'love', 'vanilla', 'ice', 'cream'],\n",
       " ['i', 'love', 'strawberry', 'ice', 'cream'],\n",
       " ['the', 'capitol', 'of', 'germany', 'is', 'berlin'],\n",
       " ['the', 'capitol', 'of', 'france', 'is', 'paris']]"
      ]
     },
     "execution_count": 1,
     "metadata": {},
     "output_type": "execute_result"
    }
   ],
   "source": [
    "from gensim.utils import simple_preprocess\n",
    "\n",
    "raw_corpus = [\n",
    "    \"I love vanilla ice cream\",\n",
    "    \"I love strawberry ice cream\",\n",
    "    \"The capitol of Germany is Berlin\",\n",
    "    \"The capitol of France is Paris\"\n",
    "]\n",
    "\n",
    "corpus = [simple_preprocess(doc, min_len = 1) for doc in raw_corpus]\n",
    "corpus"
   ]
  },
  {
   "cell_type": "markdown",
   "metadata": {},
   "source": [
    "Next, we build a vocabulary in which each word is mapped to an index."
   ]
  },
  {
   "cell_type": "code",
   "execution_count": 2,
   "metadata": {},
   "outputs": [
    {
     "data": {
      "text/plain": [
       "{'i': 0,\n",
       " 'love': 1,\n",
       " 'vanilla': 2,\n",
       " 'ice': 3,\n",
       " 'cream': 4,\n",
       " 'strawberry': 5,\n",
       " 'the': 6,\n",
       " 'capitol': 7,\n",
       " 'of': 8,\n",
       " 'germany': 9,\n",
       " 'is': 10,\n",
       " 'berlin': 11,\n",
       " 'france': 12,\n",
       " 'paris': 13}"
      ]
     },
     "execution_count": 2,
     "metadata": {},
     "output_type": "execute_result"
    }
   ],
   "source": [
    "word2index = dict()\n",
    "idx = 0\n",
    "for doc in corpus:\n",
    "    for word in doc:\n",
    "        if word in word2index.keys():\n",
    "            continue\n",
    "        else:\n",
    "            word2index[word] = idx\n",
    "            idx += 1\n",
    "\n",
    "word2index"
   ]
  },
  {
   "cell_type": "markdown",
   "metadata": {},
   "source": [
    "### CBOW\n",
    "\n",
    "The CBOW model is build around a multi-class classification task. One predicts the probabilities for the center word, given the words within the window size: $P \\left( w_i | w_{i-t}, w_{i-t+1}, ..., w_{i-1}, w_{i+1}, w_{i + t -1}, w_{i + t} \\right) $. Let us denote $\\boldsymbol{x}_{j}$ as the one-hot encoded vector for word $j$ where $j$ is the number of the index in the dictionary. The number of categories is equal to the number of words, e.g., $d = 16$. To generate probability predictions, we make use of two matrices $\\boldsymbol{W}, \\boldsymbol{V}$ whose elements are parameters which need to be trained. Assume a window size of $2$ (so one word to the left and one word to the right) and we start with the sequence \"I love vanilla\". The feature words and their one-hot encoded vectors, e.g., \"I\", \"vanilla\" is represented by $\\boldsymbol{x}_{0}, \\boldsymbol{x}_{2}$ which can be subsumed in a matrix:\n",
    "\n",
    "$$\\boldsymbol{C}^{(0, 2)} = \\begin{pmatrix} \\boldsymbol{x}_{0} \\\\ \\boldsymbol{x}_{2} \\end{pmatrix}$$\n",
    "\n",
    "See in the cell below how this looks like for our example:"
   ]
  },
  {
   "cell_type": "code",
   "execution_count": 3,
   "metadata": {},
   "outputs": [
    {
     "data": {
      "text/plain": [
       "tensor([[1, 0, 0, 0, 0, 0, 0, 0, 0, 0, 0, 0, 0, 0],\n",
       "        [0, 0, 1, 0, 0, 0, 0, 0, 0, 0, 0, 0, 0, 0]])"
      ]
     },
     "execution_count": 3,
     "metadata": {},
     "output_type": "execute_result"
    }
   ],
   "source": [
    "from torch.nn.functional import one_hot\n",
    "import torch\n",
    "\n",
    "# define the number of terms in the lexicon\n",
    "d = len(word2index.keys())\n",
    "\n",
    "C_02 = one_hot(torch.LongTensor([0, 2]), num_classes=d)\n",
    "C_02"
   ]
  },
  {
   "cell_type": "markdown",
   "metadata": {},
   "source": [
    "Next, we multiply this matrix with the context word embedding matrix $\\boldsymbol{W}$, its first dimension must be equal to $d$, its second dimension $p$ can be set by the user and will define the dimension of word embeddings. Let us set $p=3$ for our example and take a look at an example below whose parameters have been randomly initialized."
   ]
  },
  {
   "cell_type": "code",
   "execution_count": 4,
   "metadata": {},
   "outputs": [
    {
     "data": {
      "text/plain": [
       "Parameter containing:\n",
       "tensor([[-0.4914, -0.9289, -1.3964],\n",
       "        [-2.0368,  0.0378,  0.4758],\n",
       "        [-2.3017,  0.4616,  0.2371],\n",
       "        [ 0.2534,  0.0812, -0.8332],\n",
       "        [ 0.0471, -0.1035,  2.0873],\n",
       "        [ 0.1220,  1.1734,  0.9843],\n",
       "        [-1.1303,  0.0129,  0.7087],\n",
       "        [ 0.1469, -0.3384, -1.2746],\n",
       "        [ 0.8244,  0.4985, -0.3488],\n",
       "        [-1.0278, -1.7970,  1.2963],\n",
       "        [ 1.1974,  3.0013,  0.5727],\n",
       "        [ 0.2980,  0.4173, -0.3241],\n",
       "        [-0.5996, -2.4289,  0.3598],\n",
       "        [-0.7243, -0.2004,  1.6924]], requires_grad=True)"
      ]
     },
     "execution_count": 4,
     "metadata": {},
     "output_type": "execute_result"
    }
   ],
   "source": [
    "# embedding dimension\n",
    "p = 3\n",
    "\n",
    "W = torch.nn.Embedding(num_embeddings=d, embedding_dim=p)\n",
    "W.weight"
   ]
  },
  {
   "cell_type": "markdown",
   "metadata": {},
   "source": [
    "This can be seen as the weights from the first layer in a neural network whose input are the one-hot context word vectors with dimension $2t \\times d$. Each row of this matrix relates to the word embedding for one word if it is used in the window of a center word. Multiplying the one-hot vector input with this matrix basically transforms the one-hot encoded input into numerical representations of the feature words. Let us continue the example below:"
   ]
  },
  {
   "cell_type": "code",
   "execution_count": 5,
   "metadata": {},
   "outputs": [
    {
     "data": {
      "text/plain": [
       "tensor([[-0.4914, -0.9289, -1.3964],\n",
       "        [-2.3017,  0.4616,  0.2371]], grad_fn=<EmbeddingBackward0>)"
      ]
     },
     "execution_count": 5,
     "metadata": {},
     "output_type": "execute_result"
    }
   ],
   "source": [
    "c = W(torch.LongTensor([0, 2]))\n",
    "c"
   ]
  },
  {
   "cell_type": "markdown",
   "metadata": {},
   "source": [
    "Note that we observe row vectors with index numbers $0,2$ because these are the index numbers for our example \"I\", \"vanilla\". In order to condense the information of the context words into one vector, one can average or sum these vectors row-wise. Let us build the average and continue with this vector that we denote as the context vector $\\boldsymbol{c}$."
   ]
  },
  {
   "cell_type": "code",
   "execution_count": 6,
   "metadata": {},
   "outputs": [
    {
     "data": {
      "text/plain": [
       "tensor([-1.3966, -0.2336, -0.5797], grad_fn=<MeanBackward1>)"
      ]
     },
     "execution_count": 6,
     "metadata": {},
     "output_type": "execute_result"
    }
   ],
   "source": [
    "c = c.mean(axis = 0)\n",
    "c"
   ]
  },
  {
   "cell_type": "markdown",
   "metadata": {},
   "source": [
    "To determine the probabilities for the center words, we multiply this vector with the matrix $\\boldsymbol{V}$ which must have dimensionality $p \\times d$ and ..."
   ]
  },
  {
   "cell_type": "code",
   "execution_count": 7,
   "metadata": {},
   "outputs": [
    {
     "data": {
      "text/plain": [
       "tensor([-0.3393,  0.1479, -0.7807, -0.6148, -0.4243,  0.5064, -0.0057,  0.0852,\n",
       "         0.0182,  0.0483,  0.4994,  0.2462,  0.2117,  0.2278],\n",
       "       grad_fn=<SqueezeBackward4>)"
      ]
     },
     "execution_count": 7,
     "metadata": {},
     "output_type": "execute_result"
    }
   ],
   "source": [
    "V = torch.nn.Linear(in_features=p, out_features=d, bias = False)\n",
    "z = V(c)\n",
    "z"
   ]
  },
  {
   "cell_type": "markdown",
   "metadata": {},
   "source": [
    "...use the softmax function."
   ]
  },
  {
   "cell_type": "code",
   "execution_count": 8,
   "metadata": {},
   "outputs": [
    {
     "data": {
      "text/plain": [
       "tensor([0.0483, 0.0786, 0.0310, 0.0367, 0.0443, 0.1125, 0.0674, 0.0738, 0.0690,\n",
       "        0.0711, 0.1117, 0.0867, 0.0838, 0.0851], grad_fn=<SoftmaxBackward0>)"
      ]
     },
     "execution_count": 8,
     "metadata": {},
     "output_type": "execute_result"
    }
   ],
   "source": [
    "prob_w = torch.nn.functional.softmax(z, dim = 0)\n",
    "prob_w"
   ]
  },
  {
   "cell_type": "markdown",
   "metadata": {},
   "source": [
    "In our example, the true category would be the word \"love\" which is represented by the one-hot encoded vector $\\boldsymbol{w}_1$ with index $1$. Thus, in order to determine the value of the crossentropy loss function, we calculate the dot product and determine the negative log of this value. "
   ]
  },
  {
   "cell_type": "code",
   "execution_count": 9,
   "metadata": {},
   "outputs": [
    {
     "data": {
      "text/plain": [
       "array([2.5436094], dtype=float32)"
      ]
     },
     "execution_count": 9,
     "metadata": {},
     "output_type": "execute_result"
    }
   ],
   "source": [
    "import numpy as np\n",
    "\n",
    "-np.log((prob_w @ one_hot(torch.LongTensor([1]), num_classes=d).reshape(d, 1).float()).detach().numpy())"
   ]
  },
  {
   "cell_type": "markdown",
   "metadata": {},
   "source": [
    "Let us go through these steps formally:\n",
    "\n",
    "1. Generate a one-hot encoded context input, given a window length $2t$, $\\boldsymbol{C} \\in [0, 1]^{2t \\times d}$\n",
    "2. Multiply this with the feature word vector matrix, $\\boldsymbol{W} \\in \\mathbb{R}^{d \\times p}$ and aggregate the outcome to a single vector with dimension $p$\n",
    "3. Multiply this vector with the center word vector matrix $\\boldsymbol{V} \\in \\mathbb{R}^{p \\times d}$ and transform the output with the softmax function to probabilities\n",
    "4. Multiply the probability prediction with the one-hot vector of the center word to determine the loss\n",
    "\n",
    "This is done for all possible center word context word combinations and gradient descent can be used to update the parameters of $\\boldsymbol{W}$ and $\\boldsymbol{V}$. After training is finished one usually uses the columns of $\\boldsymbol{V}$ as word embeddings where word with index $0$ is represented by the first column, word with index $1$ is represented by the second column and so on. Let us take a look how we could do this by hand using pytorch for our example.\n",
    "\n",
    "First we generate the samples. Note that sample indices are used to derive the one-hot information for the center words. "
   ]
  },
  {
   "cell_type": "code",
   "execution_count": 10,
   "metadata": {},
   "outputs": [
    {
     "name": "stdout",
     "output_type": "stream",
     "text": [
      "This is how the training samples look like:\n",
      "[(['i', 'love', 'ice', 'cream'], 'vanilla'), (['i', 'love', 'ice', 'cream'], 'strawberry'), (['the', 'capitol', 'germany', 'is'], 'of'), (['capitol', 'of', 'is', 'berlin'], 'germany'), (['the', 'capitol', 'france', 'is'], 'of'), (['capitol', 'of', 'is', 'paris'], 'france')]\n",
      "\n",
      "This is how the training samples information is provided:\n",
      "[([0, 1, 3, 4], 2), ([0, 1, 3, 4], 5), ([6, 7, 9, 10], 8), ([7, 8, 10, 11], 9), ([6, 7, 12, 10], 8), ([7, 8, 10, 13], 12)]\n"
     ]
    }
   ],
   "source": [
    "# context length\n",
    "k = 2\n",
    "context_indices = [j for j in range(-k, k+1) if j != 0] # \n",
    "\n",
    "# generate training samples\n",
    "sample_words = []\n",
    "samples = []\n",
    "for doc in corpus:\n",
    "    for i in range(k, len(doc) - k):\n",
    "        center_word = doc[i]\n",
    "        center_word_idx = word2index[doc[i]]\n",
    "        context_words = [doc[i + idx] for idx in context_indices]\n",
    "        context_word_idx = [word2index[doc[i + idx]] for idx in context_indices]\n",
    "        sample_words.append((context_words, center_word))\n",
    "        samples.append((context_word_idx, center_word_idx))\n",
    "\n",
    "print(\"This is how the training samples look like:\")\n",
    "print(sample_words)\n",
    "print(\"\")\n",
    "print(\"This is how the training samples information is provided:\")\n",
    "print(samples)"
   ]
  },
  {
   "cell_type": "markdown",
   "metadata": {},
   "source": [
    "Next, we prepare these training samples such they can be inserted into a neural network."
   ]
  },
  {
   "cell_type": "code",
   "execution_count": 11,
   "metadata": {},
   "outputs": [
    {
     "name": "stdout",
     "output_type": "stream",
     "text": [
      "Input word index labels for the neural network:\n",
      "[[0, 1, 3, 4], [0, 1, 3, 4], [6, 7, 9, 10], [7, 8, 10, 11], [6, 7, 12, 10], [7, 8, 10, 13]]\n",
      "\n",
      "Target word labels for the neural network:\n",
      "[2, 5, 8, 9, 8, 12]\n"
     ]
    }
   ],
   "source": [
    "# prepare training examples for a neural network\n",
    "X = [sample[0] for sample in samples]\n",
    "y = [sample[1] for sample in samples]\n",
    "\n",
    "print(\"Input word index labels for the neural network:\")\n",
    "print(X)\n",
    "print(\"\")\n",
    "print(\"Target word labels for the neural network:\")\n",
    "print(y)"
   ]
  },
  {
   "cell_type": "markdown",
   "metadata": {},
   "source": [
    "Below we train the model. The embedding layer includes word vectors for the feature word embedding matrix $\\boldsymbol{W}$ and the linear layer includes word embeddings for center words which is matrix $\\boldsymbol{V}$. The model processes every sample as described in detail above and uses gradient descent for the crossentropy loss function. Basically this is a multi-class prediction problem if we define the model as below."
   ]
  },
  {
   "cell_type": "code",
   "execution_count": 12,
   "metadata": {},
   "outputs": [
    {
     "data": {
      "image/png": "[encoded data removed]",
      "text/plain": [
       "<Figure size 640x480 with 1 Axes>"
      ]
     },
     "metadata": {},
     "output_type": "display_data"
    }
   ],
   "source": [
    "import matplotlib.pylab as plt\n",
    "\n",
    "# define the neural network architecture\n",
    "class W2WCBow(torch.nn.Module):\n",
    "    def __init__(self):\n",
    "        super().__init__()\n",
    "        self.embedding = torch.nn.Embedding(num_embeddings=d, embedding_dim=p)\n",
    "        self.linear = torch.nn.Linear(in_features=p, out_features=d, bias = False)\n",
    "\n",
    "    def forward(self, x):\n",
    "        e = self.embedding(x)\n",
    "        e = e.mean(axis = 1)\n",
    "        z = self.linear(e)\n",
    "        return z\n",
    "    \n",
    "# define an instande of the model class\n",
    "w2w_cbow = W2WCBow()\n",
    "w2w_cbow(torch.LongTensor(X))\n",
    "\n",
    "# define an optimizer and loss\n",
    "optimizer = torch.optim.Adam(lr = 0.015, params = w2w_cbow.parameters())\n",
    "loss_fn = torch.nn.CrossEntropyLoss()\n",
    "\n",
    "losses = []\n",
    "epochs = 300\n",
    "for epoch in range(epochs):\n",
    "    w2w_cbow.train()\n",
    "    scores = w2w_cbow(torch.tensor(X))\n",
    "    batch_loss = loss_fn(scores, torch.tensor(y))\n",
    "    optimizer.zero_grad()\n",
    "    batch_loss.backward()\n",
    "    optimizer.step()\n",
    "\n",
    "    losses.append(batch_loss.detach().numpy())\n",
    "\n",
    "# visualize the training loss  \n",
    "plt.plot(losses)\n",
    "plt.title(\"Training loss\")\n",
    "plt.show()"
   ]
  },
  {
   "cell_type": "markdown",
   "metadata": {},
   "source": [
    "Once training is finished, it makes sense to use center word vectors $\\boldsymbol{V}$ as embeddings for our words. However, one may also experiment and can use feature word vectors $\\boldsymbol{W}$ or the average vectors of both matrices. Our example is too small to produce high quality embeddings. However if you take a look at the cosine similarity matrix below, you can observe that, e.g., the model learned \"vanilla\" has a similar meaning to \"strawberry\" or \"berlin\" is similar to \"paris\" which makes sense, given our corpus information."
   ]
  },
  {
   "cell_type": "code",
   "execution_count": 13,
   "metadata": {},
   "outputs": [
    {
     "data": {
      "text/html": [
       "<div>\n",
       "<style scoped>\n",
       "    .dataframe tbody tr th:only-of-type {\n",
       "        vertical-align: middle;\n",
       "    }\n",
       "\n",
       "    .dataframe tbody tr th {\n",
       "        vertical-align: top;\n",
       "    }\n",
       "\n",
       "    .dataframe thead th {\n",
       "        text-align: right;\n",
       "    }\n",
       "</style>\n",
       "<table border=\"1\" class=\"dataframe\">\n",
       "  <thead>\n",
       "    <tr style=\"text-align: right;\">\n",
       "      <th></th>\n",
       "      <th>i</th>\n",
       "      <th>love</th>\n",
       "      <th>vanilla</th>\n",
       "      <th>ice</th>\n",
       "      <th>cream</th>\n",
       "      <th>strawberry</th>\n",
       "      <th>the</th>\n",
       "      <th>capitol</th>\n",
       "      <th>of</th>\n",
       "      <th>germany</th>\n",
       "      <th>is</th>\n",
       "      <th>berlin</th>\n",
       "      <th>france</th>\n",
       "      <th>paris</th>\n",
       "    </tr>\n",
       "  </thead>\n",
       "  <tbody>\n",
       "    <tr>\n",
       "      <th>i</th>\n",
       "      <td>1.000000</td>\n",
       "      <td>0.996721</td>\n",
       "      <td>-0.471677</td>\n",
       "      <td>0.997312</td>\n",
       "      <td>0.993165</td>\n",
       "      <td>-0.427868</td>\n",
       "      <td>0.999743</td>\n",
       "      <td>0.997098</td>\n",
       "      <td>-0.498924</td>\n",
       "      <td>0.019026</td>\n",
       "      <td>0.999614</td>\n",
       "      <td>0.994592</td>\n",
       "      <td>0.178360</td>\n",
       "      <td>0.998903</td>\n",
       "    </tr>\n",
       "    <tr>\n",
       "      <th>love</th>\n",
       "      <td>0.996721</td>\n",
       "      <td>1.000000</td>\n",
       "      <td>-0.401183</td>\n",
       "      <td>0.999741</td>\n",
       "      <td>0.999127</td>\n",
       "      <td>-0.368418</td>\n",
       "      <td>0.994650</td>\n",
       "      <td>0.988388</td>\n",
       "      <td>-0.495784</td>\n",
       "      <td>-0.061360</td>\n",
       "      <td>0.998103</td>\n",
       "      <td>0.999686</td>\n",
       "      <td>0.155644</td>\n",
       "      <td>0.999254</td>\n",
       "    </tr>\n",
       "    <tr>\n",
       "      <th>vanilla</th>\n",
       "      <td>-0.471677</td>\n",
       "      <td>-0.401183</td>\n",
       "      <td>1.000000</td>\n",
       "      <td>-0.414964</td>\n",
       "      <td>-0.377122</td>\n",
       "      <td>0.937806</td>\n",
       "      <td>-0.491446</td>\n",
       "      <td>-0.519509</td>\n",
       "      <td>0.054633</td>\n",
       "      <td>-0.881882</td>\n",
       "      <td>-0.448989</td>\n",
       "      <td>-0.378606</td>\n",
       "      <td>-0.102790</td>\n",
       "      <td>-0.436041</td>\n",
       "    </tr>\n",
       "    <tr>\n",
       "      <th>ice</th>\n",
       "      <td>0.997312</td>\n",
       "      <td>0.999741</td>\n",
       "      <td>-0.414964</td>\n",
       "      <td>1.000000</td>\n",
       "      <td>0.999032</td>\n",
       "      <td>-0.387280</td>\n",
       "      <td>0.995546</td>\n",
       "      <td>0.988961</td>\n",
       "      <td>-0.478787</td>\n",
       "      <td>-0.048545</td>\n",
       "      <td>0.998119</td>\n",
       "      <td>0.998966</td>\n",
       "      <td>0.139539</td>\n",
       "      <td>0.999649</td>\n",
       "    </tr>\n",
       "    <tr>\n",
       "      <th>cream</th>\n",
       "      <td>0.993165</td>\n",
       "      <td>0.999127</td>\n",
       "      <td>-0.377122</td>\n",
       "      <td>0.999032</td>\n",
       "      <td>1.000000</td>\n",
       "      <td>-0.357149</td>\n",
       "      <td>0.990443</td>\n",
       "      <td>0.981717</td>\n",
       "      <td>-0.471428</td>\n",
       "      <td>-0.091181</td>\n",
       "      <td>0.994834</td>\n",
       "      <td>0.999274</td>\n",
       "      <td>0.122015</td>\n",
       "      <td>0.997526</td>\n",
       "    </tr>\n",
       "    <tr>\n",
       "      <th>strawberry</th>\n",
       "      <td>-0.427868</td>\n",
       "      <td>-0.368418</td>\n",
       "      <td>0.937806</td>\n",
       "      <td>-0.387280</td>\n",
       "      <td>-0.357149</td>\n",
       "      <td>1.000000</td>\n",
       "      <td>-0.445751</td>\n",
       "      <td>-0.455241</td>\n",
       "      <td>-0.249579</td>\n",
       "      <td>-0.785825</td>\n",
       "      <td>-0.402592</td>\n",
       "      <td>-0.345331</td>\n",
       "      <td>0.247153</td>\n",
       "      <td>-0.402701</td>\n",
       "    </tr>\n",
       "    <tr>\n",
       "      <th>the</th>\n",
       "      <td>0.999743</td>\n",
       "      <td>0.994650</td>\n",
       "      <td>-0.491446</td>\n",
       "      <td>0.995546</td>\n",
       "      <td>0.990443</td>\n",
       "      <td>-0.445751</td>\n",
       "      <td>1.000000</td>\n",
       "      <td>0.998225</td>\n",
       "      <td>-0.496201</td>\n",
       "      <td>0.041690</td>\n",
       "      <td>0.998807</td>\n",
       "      <td>0.991982</td>\n",
       "      <td>0.181160</td>\n",
       "      <td>0.997688</td>\n",
       "    </tr>\n",
       "    <tr>\n",
       "      <th>capitol</th>\n",
       "      <td>0.997098</td>\n",
       "      <td>0.988388</td>\n",
       "      <td>-0.519509</td>\n",
       "      <td>0.988961</td>\n",
       "      <td>0.981717</td>\n",
       "      <td>-0.455241</td>\n",
       "      <td>0.998225</td>\n",
       "      <td>1.000000</td>\n",
       "      <td>-0.529649</td>\n",
       "      <td>0.081465</td>\n",
       "      <td>0.995858</td>\n",
       "      <td>0.985162</td>\n",
       "      <td>0.229967</td>\n",
       "      <td>0.992506</td>\n",
       "    </tr>\n",
       "    <tr>\n",
       "      <th>of</th>\n",
       "      <td>-0.498924</td>\n",
       "      <td>-0.495784</td>\n",
       "      <td>0.054633</td>\n",
       "      <td>-0.478787</td>\n",
       "      <td>-0.471428</td>\n",
       "      <td>-0.249579</td>\n",
       "      <td>-0.496201</td>\n",
       "      <td>-0.529649</td>\n",
       "      <td>1.000000</td>\n",
       "      <td>0.075361</td>\n",
       "      <td>-0.513205</td>\n",
       "      <td>-0.503996</td>\n",
       "      <td>-0.913026</td>\n",
       "      <td>-0.485786</td>\n",
       "    </tr>\n",
       "    <tr>\n",
       "      <th>germany</th>\n",
       "      <td>0.019026</td>\n",
       "      <td>-0.061360</td>\n",
       "      <td>-0.881882</td>\n",
       "      <td>-0.048545</td>\n",
       "      <td>-0.091181</td>\n",
       "      <td>-0.785825</td>\n",
       "      <td>0.041690</td>\n",
       "      <td>0.081465</td>\n",
       "      <td>0.075361</td>\n",
       "      <td>1.000000</td>\n",
       "      <td>-0.004710</td>\n",
       "      <td>-0.084911</td>\n",
       "      <td>0.162211</td>\n",
       "      <td>-0.023875</td>\n",
       "    </tr>\n",
       "    <tr>\n",
       "      <th>is</th>\n",
       "      <td>0.999614</td>\n",
       "      <td>0.998103</td>\n",
       "      <td>-0.448989</td>\n",
       "      <td>0.998119</td>\n",
       "      <td>0.994834</td>\n",
       "      <td>-0.402592</td>\n",
       "      <td>0.998807</td>\n",
       "      <td>0.995858</td>\n",
       "      <td>-0.513205</td>\n",
       "      <td>-0.004710</td>\n",
       "      <td>1.000000</td>\n",
       "      <td>0.996655</td>\n",
       "      <td>0.188549</td>\n",
       "      <td>0.999263</td>\n",
       "    </tr>\n",
       "    <tr>\n",
       "      <th>berlin</th>\n",
       "      <td>0.994592</td>\n",
       "      <td>0.999686</td>\n",
       "      <td>-0.378606</td>\n",
       "      <td>0.998966</td>\n",
       "      <td>0.999274</td>\n",
       "      <td>-0.345331</td>\n",
       "      <td>0.991982</td>\n",
       "      <td>0.985162</td>\n",
       "      <td>-0.503996</td>\n",
       "      <td>-0.084911</td>\n",
       "      <td>0.996655</td>\n",
       "      <td>1.000000</td>\n",
       "      <td>0.159724</td>\n",
       "      <td>0.997977</td>\n",
       "    </tr>\n",
       "    <tr>\n",
       "      <th>france</th>\n",
       "      <td>0.178360</td>\n",
       "      <td>0.155644</td>\n",
       "      <td>-0.102790</td>\n",
       "      <td>0.139539</td>\n",
       "      <td>0.122015</td>\n",
       "      <td>0.247153</td>\n",
       "      <td>0.181160</td>\n",
       "      <td>0.229967</td>\n",
       "      <td>-0.913026</td>\n",
       "      <td>0.162211</td>\n",
       "      <td>0.188549</td>\n",
       "      <td>0.159724</td>\n",
       "      <td>1.000000</td>\n",
       "      <td>0.153078</td>\n",
       "    </tr>\n",
       "    <tr>\n",
       "      <th>paris</th>\n",
       "      <td>0.998903</td>\n",
       "      <td>0.999254</td>\n",
       "      <td>-0.436041</td>\n",
       "      <td>0.999649</td>\n",
       "      <td>0.997526</td>\n",
       "      <td>-0.402701</td>\n",
       "      <td>0.997688</td>\n",
       "      <td>0.992506</td>\n",
       "      <td>-0.485786</td>\n",
       "      <td>-0.023875</td>\n",
       "      <td>0.999263</td>\n",
       "      <td>0.997977</td>\n",
       "      <td>0.153078</td>\n",
       "      <td>1.000000</td>\n",
       "    </tr>\n",
       "  </tbody>\n",
       "</table>\n",
       "</div>"
      ],
      "text/plain": [
       "                   i      love   vanilla       ice     cream  strawberry  \\\n",
       "i           1.000000  0.996721 -0.471677  0.997312  0.993165   -0.427868   \n",
       "love        0.996721  1.000000 -0.401183  0.999741  0.999127   -0.368418   \n",
       "vanilla    -0.471677 -0.401183  1.000000 -0.414964 -0.377122    0.937806   \n",
       "ice         0.997312  0.999741 -0.414964  1.000000  0.999032   -0.387280   \n",
       "cream       0.993165  0.999127 -0.377122  0.999032  1.000000   -0.357149   \n",
       "strawberry -0.427868 -0.368418  0.937806 -0.387280 -0.357149    1.000000   \n",
       "the         0.999743  0.994650 -0.491446  0.995546  0.990443   -0.445751   \n",
       "capitol     0.997098  0.988388 -0.519509  0.988961  0.981717   -0.455241   \n",
       "of         -0.498924 -0.495784  0.054633 -0.478787 -0.471428   -0.249579   \n",
       "germany     0.019026 -0.061360 -0.881882 -0.048545 -0.091181   -0.785825   \n",
       "is          0.999614  0.998103 -0.448989  0.998119  0.994834   -0.402592   \n",
       "berlin      0.994592  0.999686 -0.378606  0.998966  0.999274   -0.345331   \n",
       "france      0.178360  0.155644 -0.102790  0.139539  0.122015    0.247153   \n",
       "paris       0.998903  0.999254 -0.436041  0.999649  0.997526   -0.402701   \n",
       "\n",
       "                 the   capitol        of   germany        is    berlin  \\\n",
       "i           0.999743  0.997098 -0.498924  0.019026  0.999614  0.994592   \n",
       "love        0.994650  0.988388 -0.495784 -0.061360  0.998103  0.999686   \n",
       "vanilla    -0.491446 -0.519509  0.054633 -0.881882 -0.448989 -0.378606   \n",
       "ice         0.995546  0.988961 -0.478787 -0.048545  0.998119  0.998966   \n",
       "cream       0.990443  0.981717 -0.471428 -0.091181  0.994834  0.999274   \n",
       "strawberry -0.445751 -0.455241 -0.249579 -0.785825 -0.402592 -0.345331   \n",
       "the         1.000000  0.998225 -0.496201  0.041690  0.998807  0.991982   \n",
       "capitol     0.998225  1.000000 -0.529649  0.081465  0.995858  0.985162   \n",
       "of         -0.496201 -0.529649  1.000000  0.075361 -0.513205 -0.503996   \n",
       "germany     0.041690  0.081465  0.075361  1.000000 -0.004710 -0.084911   \n",
       "is          0.998807  0.995858 -0.513205 -0.004710  1.000000  0.996655   \n",
       "berlin      0.991982  0.985162 -0.503996 -0.084911  0.996655  1.000000   \n",
       "france      0.181160  0.229967 -0.913026  0.162211  0.188549  0.159724   \n",
       "paris       0.997688  0.992506 -0.485786 -0.023875  0.999263  0.997977   \n",
       "\n",
       "              france     paris  \n",
       "i           0.178360  0.998903  \n",
       "love        0.155644  0.999254  \n",
       "vanilla    -0.102790 -0.436041  \n",
       "ice         0.139539  0.999649  \n",
       "cream       0.122015  0.997526  \n",
       "strawberry  0.247153 -0.402701  \n",
       "the         0.181160  0.997688  \n",
       "capitol     0.229967  0.992506  \n",
       "of         -0.913026 -0.485786  \n",
       "germany     0.162211 -0.023875  \n",
       "is          0.188549  0.999263  \n",
       "berlin      0.159724  0.997977  \n",
       "france      1.000000  0.153078  \n",
       "paris       0.153078  1.000000  "
      ]
     },
     "execution_count": 13,
     "metadata": {},
     "output_type": "execute_result"
    }
   ],
   "source": [
    "from sklearn.metrics.pairwise import cosine_similarity\n",
    "import pandas as pd\n",
    "\n",
    "word_embeddings = w2w_cbow.linear.weight.detach().numpy() #w2v_cbow.get_layer(\"center_vectors\").get_weights()[0].transpose()\n",
    "word_embeddings_df = pd.DataFrame(cosine_similarity(word_embeddings), columns = list(word2index.keys()), index = list(word2index.keys()))\n",
    "word_embeddings_df"
   ]
  },
  {
   "cell_type": "markdown",
   "metadata": {},
   "source": [
    "Note that words in the beginning and end of the sentences are ignored in our example which causes problems for such a small corpus but usually is not problematic for a large corpus. Given a large collection of documents, common embedding dimension $p$ are rather in the hundreds as in comparison to our example.\n",
    "\n",
    "**How does the model learn similar meaning?**\n",
    "\n",
    "The description from above explains the technical process, however, to understand how words with similar meaning get similar word vectors it may help to explain this in a more intuitive (and slightly technical) way. \n",
    "\n",
    "Let us take a look at the two sentences:\n",
    "\n",
    "* I love vanilla ice cream\n",
    "* I love strawberry ice cream\n",
    "\n",
    "Using two words to the left and to the right, we would generate a vector which represents the surrounding \"I, love\" and \"ice cream\". Let us denote this vector by $\\mathbf{w}$. This vector is going to be multiplied with every possible word vector $\\mathbf{v}^{(I)}, \\mathbf{v}^{(love)}, \\mathbf{v}^{(vanilla)}, \\mathbf{v}^{(strawberry)}, \\mathbf{v}^{(ice)}, \\mathbf{v}^{(cream)}$. Each multiplication is the dot product of $\\mathbf{w}$ and one of the word vectors. The result is a real-valued number, if it helps denote it as a score. The higher the score the higher the probability prediction for the word. In our example the true categories are \"vanilla\" and \"strawberry\". This means after some training, the vectors for the corresponding words create high values for their dot products: $\\mathbf{w}^T \\mathbf{v}^{(vanilla)}$ and $\\mathbf{w}^T \\mathbf{v}^{(strawberry)}$. As the vector from the words in the window around the center words $\\mathbf{w}$ is the same for both calculations. High values for both dot products can only be generated if $\\mathbf{v}^{(vanilla)}$ and $\\mathbf{v}^{(strawberry)}$ are similar...and this is how the magic happens.\n",
    "\n",
    "Take a look below. For our trained model the aggregated vector for the window \"I love --- ice cream\", is given by:"
   ]
  },
  {
   "cell_type": "code",
   "execution_count": 38,
   "metadata": {},
   "outputs": [
    {
     "data": {
      "text/plain": [
       "array([-2.2831728,  0.9735688, -2.3843215], dtype=float32)"
      ]
     },
     "execution_count": 38,
     "metadata": {},
     "output_type": "execute_result"
    }
   ],
   "source": [
    "feature_vector = w2w_cbow.embedding(torch.tensor([[0, 1, 3, 4]])).mean(axis = 1).detach().numpy()[0]\n",
    "feature_vector"
   ]
  },
  {
   "cell_type": "markdown",
   "metadata": {},
   "source": [
    "The trained vanilla vector (from the center word matrix) is:"
   ]
  },
  {
   "cell_type": "code",
   "execution_count": 15,
   "metadata": {},
   "outputs": [
    {
     "data": {
      "text/plain": [
       "array([-1.2944906 ,  0.33643892, -1.095367  ], dtype=float32)"
      ]
     },
     "execution_count": 15,
     "metadata": {},
     "output_type": "execute_result"
    }
   ],
   "source": [
    "vanilla_vector = w2w_cbow.linear.weight[2].detach().numpy()\n",
    "vanilla_vector"
   ]
  },
  {
   "cell_type": "markdown",
   "metadata": {},
   "source": [
    "The one for strawberry is:"
   ]
  },
  {
   "cell_type": "code",
   "execution_count": 16,
   "metadata": {},
   "outputs": [
    {
     "data": {
      "text/plain": [
       "array([-0.8498976,  0.3234474, -1.527666 ], dtype=float32)"
      ]
     },
     "execution_count": 16,
     "metadata": {},
     "output_type": "execute_result"
    }
   ],
   "source": [
    "strawberry_vector = w2w_cbow.linear.weight[5].detach().numpy()\n",
    "strawberry_vector"
   ]
  },
  {
   "cell_type": "markdown",
   "metadata": {},
   "source": [
    "All three vectors share similarity in sign and value. The scores (dot products) are:\n"
   ]
  },
  {
   "cell_type": "code",
   "execution_count": 17,
   "metadata": {},
   "outputs": [
    {
     "data": {
      "text/plain": [
       "5.894799"
      ]
     },
     "execution_count": 17,
     "metadata": {},
     "output_type": "execute_result"
    }
   ],
   "source": [
    "feature_vector @ vanilla_vector"
   ]
  },
  {
   "cell_type": "code",
   "execution_count": 18,
   "metadata": {},
   "outputs": [
    {
     "data": {
      "text/plain": [
       "5.897808"
      ]
     },
     "execution_count": 18,
     "metadata": {},
     "output_type": "execute_result"
    }
   ],
   "source": [
    "feature_vector @ strawberry_vector"
   ]
  },
  {
   "cell_type": "markdown",
   "metadata": {},
   "source": [
    "If we change the similarity between the \"vanilla\" and \"strawberry\" representation by, e.g., changing the sign for the last number of the strawberry vector."
   ]
  },
  {
   "cell_type": "code",
   "execution_count": 19,
   "metadata": {},
   "outputs": [
    {
     "data": {
      "text/plain": [
       "array([-0.8498976,  0.3234474,  1.527666 ], dtype=float32)"
      ]
     },
     "execution_count": 19,
     "metadata": {},
     "output_type": "execute_result"
    }
   ],
   "source": [
    "strawberry_vector[2] = -strawberry_vector[2]\n",
    "strawberry_vector"
   ]
  },
  {
   "cell_type": "markdown",
   "metadata": {},
   "source": [
    "The score for it is decreased which would reduce the probability prediction for seeing the word \"strawberry\", given the window \"I love --- ice cream\"."
   ]
  },
  {
   "cell_type": "code",
   "execution_count": 20,
   "metadata": {},
   "outputs": [
    {
     "data": {
      "text/plain": [
       "-1.3870852"
      ]
     },
     "execution_count": 20,
     "metadata": {},
     "output_type": "execute_result"
    }
   ],
   "source": [
    "feature_vector @ strawberry_vector"
   ]
  },
  {
   "cell_type": "markdown",
   "metadata": {},
   "source": [
    "This does not make sense as \"vanilla\" and \"strawberry\" are equally likely in our example. Thus, the more similar vector after training is more reasonable and more in line with the observed corpus."
   ]
  },
  {
   "cell_type": "markdown",
   "metadata": {},
   "source": [
    "### SG\n",
    "The figure below visualizes the CBOW and the SG model. While CBOW uses words in the window arount the center word to predict the center word, SG uses the center word to predict words within the window size. Thus, the prediction simplifies to $P \\left( w_l | w_i \\right)$ for any feature word $w_l \\in \\lbrace w_{i-t}, w_{i-t+1}, ..., w_{i-1}, w_{i+1}, w_{i + t -1}, w_{i + t}  \\rbrace$. As before, we use train two parameter matrices $\\boldsymbol{W}, \\boldsymbol{V}$, however, this time $\\boldsymbol{W}$ represents word embeddings for center words and $\\boldsymbol{V}$ word embeddings for context words."
   ]
  },
  {
   "cell_type": "code",
   "execution_count": 21,
   "metadata": {},
   "outputs": [
    {
     "data": {
      "image/png": "[encoded data removed]",
      "text/plain": [
       "<IPython.core.display.Image object>"
      ]
     },
     "execution_count": 21,
     "metadata": {},
     "output_type": "execute_result"
    }
   ],
   "source": [
    "from IPython.display import Image\n",
    "Image(filename='cbow_sg.png') "
   ]
  },
  {
   "cell_type": "markdown",
   "metadata": {},
   "source": [
    "Furthermore, training samples are reduced to one center word and one context word at a time (note this could also be transformed to a multi-label classifiction which should lead to the same or very similar results). Besides these differences, the training process is rather similar. First, we build training samples:"
   ]
  },
  {
   "cell_type": "code",
   "execution_count": 22,
   "metadata": {},
   "outputs": [
    {
     "name": "stdout",
     "output_type": "stream",
     "text": [
      "This is how the training samples look like:\n",
      "[('vanilla', 'i'), ('vanilla', 'love'), ('vanilla', 'ice'), ('vanilla', 'cream'), ('strawberry', 'i'), ('strawberry', 'love'), ('strawberry', 'ice'), ('strawberry', 'cream'), ('of', 'the'), ('of', 'capitol'), ('of', 'germany'), ('of', 'is'), ('germany', 'capitol'), ('germany', 'of'), ('germany', 'is'), ('germany', 'berlin'), ('of', 'the'), ('of', 'capitol'), ('of', 'france'), ('of', 'is'), ('france', 'capitol'), ('france', 'of'), ('france', 'is'), ('france', 'paris')]\n",
      "\n",
      "This is how the training samples information is provided:\n",
      "[(2, 0), (2, 1), (2, 3), (2, 4), (5, 0), (5, 1), (5, 3), (5, 4), (8, 6), (8, 7), (8, 9), (8, 10), (9, 7), (9, 8), (9, 10), (9, 11), (8, 6), (8, 7), (8, 12), (8, 10), (12, 7), (12, 8), (12, 10), (12, 13)]\n"
     ]
    }
   ],
   "source": [
    "# number of terms in the lexicon\n",
    "d = len(word2index.keys())\n",
    "# embedding dimension\n",
    "p = 3\n",
    "\n",
    "# context length\n",
    "k = 2\n",
    "context_indices = [j for j in range(-k, k+1) if j != 0]\n",
    "\n",
    "# generate training samples\n",
    "sample_words = []\n",
    "samples = []\n",
    "for doc in corpus:\n",
    "    for i in range(k, len(doc) - k):\n",
    "        center_word = doc[i]\n",
    "        center_word_idx = word2index[doc[i]]\n",
    "        context_words = [doc[i + idx] for idx in context_indices]\n",
    "        context_word_idx = [word2index[doc[i + idx]] for idx in context_indices]\n",
    "        for context, context_word in zip(context_word_idx, context_words):\n",
    "            sample_words.append((center_word, context_word))\n",
    "            samples.append((center_word_idx, context))\n",
    "\n",
    "print(\"This is how the training samples look like:\")\n",
    "print(sample_words)\n",
    "print(\"\")\n",
    "print(\"This is how the training samples information is provided:\")\n",
    "print(samples)"
   ]
  },
  {
   "cell_type": "markdown",
   "metadata": {},
   "source": [
    "Next, we prepare the target labels and input features:"
   ]
  },
  {
   "cell_type": "code",
   "execution_count": 23,
   "metadata": {},
   "outputs": [
    {
     "name": "stdout",
     "output_type": "stream",
     "text": [
      "Input for the neural network:\n",
      "[2, 2, 2, 2, 5, 5, 5, 5, 8, 8, 8, 8, 9, 9, 9, 9, 8, 8, 8, 8, 12, 12, 12, 12]\n",
      "\n",
      "Target values for the neural network:\n",
      "[0, 1, 3, 4, 0, 1, 3, 4, 6, 7, 9, 10, 7, 8, 10, 11, 6, 7, 12, 10, 7, 8, 10, 13]\n"
     ]
    }
   ],
   "source": [
    "# prepare training examples for a neural network\n",
    "X = [sample[0] for sample in samples]\n",
    "y = [sample[1] for sample in samples]\n",
    "#y_one_hot = tf.keras.utils.to_categorical(y, num_classes = d)\n",
    "\n",
    "print(\"Input for the neural network:\")\n",
    "print(X)\n",
    "print(\"\")\n",
    "print(\"Target values for the neural network:\")\n",
    "print(y)"
   ]
  },
  {
   "cell_type": "markdown",
   "metadata": {},
   "source": [
    "Define and train the neural network."
   ]
  },
  {
   "cell_type": "code",
   "execution_count": 24,
   "metadata": {},
   "outputs": [
    {
     "data": {
      "image/png": "[encoded data removed]",
      "text/plain": [
       "<Figure size 640x480 with 1 Axes>"
      ]
     },
     "metadata": {},
     "output_type": "display_data"
    }
   ],
   "source": [
    "# define the neural network architecture\n",
    "class W2WSG(torch.nn.Module):\n",
    "    def __init__(self):\n",
    "        super().__init__()\n",
    "        self.embedding = torch.nn.Embedding(num_embeddings=d, embedding_dim=p)\n",
    "        self.linear = torch.nn.Linear(in_features=p, out_features=d, bias = False)\n",
    "\n",
    "    def forward(self, x):\n",
    "        e = self.embedding(x)\n",
    "        z = self.linear(e)\n",
    "        return z\n",
    "    \n",
    "# define an instande of the model class\n",
    "w2w_sg = W2WSG()\n",
    "\n",
    "# define an optimizer and loss\n",
    "optimizer = torch.optim.Adam(lr = 0.02, params = w2w_sg.parameters())\n",
    "loss_fn = torch.nn.CrossEntropyLoss()\n",
    "\n",
    "losses = []\n",
    "epochs = 300\n",
    "for epoch in range(epochs):\n",
    "    w2w_sg.train()\n",
    "    scores = w2w_sg(torch.tensor(X))\n",
    "    batch_loss = loss_fn(scores, torch.tensor(y))\n",
    "    optimizer.zero_grad()\n",
    "    batch_loss.backward()\n",
    "    optimizer.step()\n",
    "\n",
    "    losses.append(batch_loss.detach().numpy())\n",
    "\n",
    "# visualize the training loss  \n",
    "plt.plot(losses)\n",
    "plt.title(\"Training loss\")\n",
    "plt.show()"
   ]
  },
  {
   "cell_type": "code",
   "execution_count": 25,
   "metadata": {},
   "outputs": [
    {
     "data": {
      "text/html": [
       "<div>\n",
       "<style scoped>\n",
       "    .dataframe tbody tr th:only-of-type {\n",
       "        vertical-align: middle;\n",
       "    }\n",
       "\n",
       "    .dataframe tbody tr th {\n",
       "        vertical-align: top;\n",
       "    }\n",
       "\n",
       "    .dataframe thead th {\n",
       "        text-align: right;\n",
       "    }\n",
       "</style>\n",
       "<table border=\"1\" class=\"dataframe\">\n",
       "  <thead>\n",
       "    <tr style=\"text-align: right;\">\n",
       "      <th></th>\n",
       "      <th>i</th>\n",
       "      <th>love</th>\n",
       "      <th>vanilla</th>\n",
       "      <th>ice</th>\n",
       "      <th>cream</th>\n",
       "      <th>strawberry</th>\n",
       "      <th>the</th>\n",
       "      <th>capitol</th>\n",
       "      <th>of</th>\n",
       "      <th>germany</th>\n",
       "      <th>is</th>\n",
       "      <th>berlin</th>\n",
       "      <th>france</th>\n",
       "      <th>paris</th>\n",
       "    </tr>\n",
       "  </thead>\n",
       "  <tbody>\n",
       "    <tr>\n",
       "      <th>i</th>\n",
       "      <td>1.000000</td>\n",
       "      <td>0.980305</td>\n",
       "      <td>0.930899</td>\n",
       "      <td>0.999677</td>\n",
       "      <td>0.993644</td>\n",
       "      <td>0.961790</td>\n",
       "      <td>-0.157483</td>\n",
       "      <td>-0.993273</td>\n",
       "      <td>-0.377603</td>\n",
       "      <td>-0.132472</td>\n",
       "      <td>-0.993250</td>\n",
       "      <td>-0.055175</td>\n",
       "      <td>-0.070472</td>\n",
       "      <td>-0.045694</td>\n",
       "    </tr>\n",
       "    <tr>\n",
       "      <th>love</th>\n",
       "      <td>0.980305</td>\n",
       "      <td>1.000000</td>\n",
       "      <td>0.874670</td>\n",
       "      <td>0.985004</td>\n",
       "      <td>0.996305</td>\n",
       "      <td>0.889969</td>\n",
       "      <td>-0.345257</td>\n",
       "      <td>-0.996560</td>\n",
       "      <td>-0.191275</td>\n",
       "      <td>-0.323553</td>\n",
       "      <td>-0.996574</td>\n",
       "      <td>0.074752</td>\n",
       "      <td>-0.262292</td>\n",
       "      <td>0.028139</td>\n",
       "    </tr>\n",
       "    <tr>\n",
       "      <th>vanilla</th>\n",
       "      <td>0.930899</td>\n",
       "      <td>0.874670</td>\n",
       "      <td>1.000000</td>\n",
       "      <td>0.925877</td>\n",
       "      <td>0.903142</td>\n",
       "      <td>0.964473</td>\n",
       "      <td>0.101835</td>\n",
       "      <td>-0.900989</td>\n",
       "      <td>-0.465627</td>\n",
       "      <td>0.109433</td>\n",
       "      <td>-0.900807</td>\n",
       "      <td>-0.411485</td>\n",
       "      <td>0.182647</td>\n",
       "      <td>0.175095</td>\n",
       "    </tr>\n",
       "    <tr>\n",
       "      <th>ice</th>\n",
       "      <td>0.999677</td>\n",
       "      <td>0.985004</td>\n",
       "      <td>0.925877</td>\n",
       "      <td>1.000000</td>\n",
       "      <td>0.996181</td>\n",
       "      <td>0.954708</td>\n",
       "      <td>-0.181877</td>\n",
       "      <td>-0.995889</td>\n",
       "      <td>-0.354385</td>\n",
       "      <td>-0.157265</td>\n",
       "      <td>-0.995870</td>\n",
       "      <td>-0.038958</td>\n",
       "      <td>-0.095197</td>\n",
       "      <td>-0.035850</td>\n",
       "    </tr>\n",
       "    <tr>\n",
       "      <th>cream</th>\n",
       "      <td>0.993644</td>\n",
       "      <td>0.996305</td>\n",
       "      <td>0.903142</td>\n",
       "      <td>0.996181</td>\n",
       "      <td>1.000000</td>\n",
       "      <td>0.925492</td>\n",
       "      <td>-0.265436</td>\n",
       "      <td>-0.999987</td>\n",
       "      <td>-0.273383</td>\n",
       "      <td>-0.242143</td>\n",
       "      <td>-0.999985</td>\n",
       "      <td>0.019196</td>\n",
       "      <td>-0.180301</td>\n",
       "      <td>-0.004547</td>\n",
       "    </tr>\n",
       "    <tr>\n",
       "      <th>strawberry</th>\n",
       "      <td>0.961790</td>\n",
       "      <td>0.889969</td>\n",
       "      <td>0.964473</td>\n",
       "      <td>0.954708</td>\n",
       "      <td>0.925492</td>\n",
       "      <td>1.000000</td>\n",
       "      <td>0.118904</td>\n",
       "      <td>-0.924075</td>\n",
       "      <td>-0.594737</td>\n",
       "      <td>0.143388</td>\n",
       "      <td>-0.923981</td>\n",
       "      <td>-0.270951</td>\n",
       "      <td>0.205302</td>\n",
       "      <td>-0.089781</td>\n",
       "    </tr>\n",
       "    <tr>\n",
       "      <th>the</th>\n",
       "      <td>-0.157483</td>\n",
       "      <td>-0.345257</td>\n",
       "      <td>0.101835</td>\n",
       "      <td>-0.181877</td>\n",
       "      <td>-0.265436</td>\n",
       "      <td>0.118904</td>\n",
       "      <td>1.000000</td>\n",
       "      <td>0.269192</td>\n",
       "      <td>-0.777113</td>\n",
       "      <td>0.997830</td>\n",
       "      <td>0.269447</td>\n",
       "      <td>-0.775008</td>\n",
       "      <td>0.996113</td>\n",
       "      <td>-0.161679</td>\n",
       "    </tr>\n",
       "    <tr>\n",
       "      <th>capitol</th>\n",
       "      <td>-0.993273</td>\n",
       "      <td>-0.996560</td>\n",
       "      <td>-0.900989</td>\n",
       "      <td>-0.995889</td>\n",
       "      <td>-0.999987</td>\n",
       "      <td>-0.924075</td>\n",
       "      <td>0.269192</td>\n",
       "      <td>1.000000</td>\n",
       "      <td>0.271152</td>\n",
       "      <td>0.245723</td>\n",
       "      <td>1.000000</td>\n",
       "      <td>-0.024195</td>\n",
       "      <td>0.184096</td>\n",
       "      <td>0.006977</td>\n",
       "    </tr>\n",
       "    <tr>\n",
       "      <th>of</th>\n",
       "      <td>-0.377603</td>\n",
       "      <td>-0.191275</td>\n",
       "      <td>-0.465627</td>\n",
       "      <td>-0.354385</td>\n",
       "      <td>-0.273383</td>\n",
       "      <td>-0.594737</td>\n",
       "      <td>-0.777113</td>\n",
       "      <td>0.271152</td>\n",
       "      <td>1.000000</td>\n",
       "      <td>-0.810850</td>\n",
       "      <td>0.271055</td>\n",
       "      <td>0.466613</td>\n",
       "      <td>-0.822184</td>\n",
       "      <td>0.530057</td>\n",
       "    </tr>\n",
       "    <tr>\n",
       "      <th>germany</th>\n",
       "      <td>-0.132472</td>\n",
       "      <td>-0.323553</td>\n",
       "      <td>0.109433</td>\n",
       "      <td>-0.157265</td>\n",
       "      <td>-0.242143</td>\n",
       "      <td>0.143388</td>\n",
       "      <td>0.997830</td>\n",
       "      <td>0.245723</td>\n",
       "      <td>-0.810850</td>\n",
       "      <td>1.000000</td>\n",
       "      <td>0.245957</td>\n",
       "      <td>-0.740893</td>\n",
       "      <td>0.996756</td>\n",
       "      <td>-0.223090</td>\n",
       "    </tr>\n",
       "    <tr>\n",
       "      <th>is</th>\n",
       "      <td>-0.993250</td>\n",
       "      <td>-0.996574</td>\n",
       "      <td>-0.900807</td>\n",
       "      <td>-0.995870</td>\n",
       "      <td>-0.999985</td>\n",
       "      <td>-0.923981</td>\n",
       "      <td>0.269447</td>\n",
       "      <td>1.000000</td>\n",
       "      <td>0.271055</td>\n",
       "      <td>0.245957</td>\n",
       "      <td>1.000000</td>\n",
       "      <td>-0.024621</td>\n",
       "      <td>0.184352</td>\n",
       "      <td>0.007284</td>\n",
       "    </tr>\n",
       "    <tr>\n",
       "      <th>berlin</th>\n",
       "      <td>-0.055175</td>\n",
       "      <td>0.074752</td>\n",
       "      <td>-0.411485</td>\n",
       "      <td>-0.038958</td>\n",
       "      <td>0.019196</td>\n",
       "      <td>-0.270951</td>\n",
       "      <td>-0.775008</td>\n",
       "      <td>-0.024195</td>\n",
       "      <td>0.466613</td>\n",
       "      <td>-0.740893</td>\n",
       "      <td>-0.024621</td>\n",
       "      <td>1.000000</td>\n",
       "      <td>-0.781548</td>\n",
       "      <td>-0.458132</td>\n",
       "    </tr>\n",
       "    <tr>\n",
       "      <th>france</th>\n",
       "      <td>-0.070472</td>\n",
       "      <td>-0.262292</td>\n",
       "      <td>0.182647</td>\n",
       "      <td>-0.095197</td>\n",
       "      <td>-0.180301</td>\n",
       "      <td>0.205302</td>\n",
       "      <td>0.996113</td>\n",
       "      <td>0.184096</td>\n",
       "      <td>-0.822184</td>\n",
       "      <td>0.996756</td>\n",
       "      <td>0.184352</td>\n",
       "      <td>-0.781548</td>\n",
       "      <td>1.000000</td>\n",
       "      <td>-0.177343</td>\n",
       "    </tr>\n",
       "    <tr>\n",
       "      <th>paris</th>\n",
       "      <td>-0.045694</td>\n",
       "      <td>0.028139</td>\n",
       "      <td>0.175095</td>\n",
       "      <td>-0.035850</td>\n",
       "      <td>-0.004547</td>\n",
       "      <td>-0.089781</td>\n",
       "      <td>-0.161679</td>\n",
       "      <td>0.006977</td>\n",
       "      <td>0.530057</td>\n",
       "      <td>-0.223090</td>\n",
       "      <td>0.007284</td>\n",
       "      <td>-0.458132</td>\n",
       "      <td>-0.177343</td>\n",
       "      <td>1.000000</td>\n",
       "    </tr>\n",
       "  </tbody>\n",
       "</table>\n",
       "</div>"
      ],
      "text/plain": [
       "                   i      love   vanilla       ice     cream  strawberry  \\\n",
       "i           1.000000  0.980305  0.930899  0.999677  0.993644    0.961790   \n",
       "love        0.980305  1.000000  0.874670  0.985004  0.996305    0.889969   \n",
       "vanilla     0.930899  0.874670  1.000000  0.925877  0.903142    0.964473   \n",
       "ice         0.999677  0.985004  0.925877  1.000000  0.996181    0.954708   \n",
       "cream       0.993644  0.996305  0.903142  0.996181  1.000000    0.925492   \n",
       "strawberry  0.961790  0.889969  0.964473  0.954708  0.925492    1.000000   \n",
       "the        -0.157483 -0.345257  0.101835 -0.181877 -0.265436    0.118904   \n",
       "capitol    -0.993273 -0.996560 -0.900989 -0.995889 -0.999987   -0.924075   \n",
       "of         -0.377603 -0.191275 -0.465627 -0.354385 -0.273383   -0.594737   \n",
       "germany    -0.132472 -0.323553  0.109433 -0.157265 -0.242143    0.143388   \n",
       "is         -0.993250 -0.996574 -0.900807 -0.995870 -0.999985   -0.923981   \n",
       "berlin     -0.055175  0.074752 -0.411485 -0.038958  0.019196   -0.270951   \n",
       "france     -0.070472 -0.262292  0.182647 -0.095197 -0.180301    0.205302   \n",
       "paris      -0.045694  0.028139  0.175095 -0.035850 -0.004547   -0.089781   \n",
       "\n",
       "                 the   capitol        of   germany        is    berlin  \\\n",
       "i          -0.157483 -0.993273 -0.377603 -0.132472 -0.993250 -0.055175   \n",
       "love       -0.345257 -0.996560 -0.191275 -0.323553 -0.996574  0.074752   \n",
       "vanilla     0.101835 -0.900989 -0.465627  0.109433 -0.900807 -0.411485   \n",
       "ice        -0.181877 -0.995889 -0.354385 -0.157265 -0.995870 -0.038958   \n",
       "cream      -0.265436 -0.999987 -0.273383 -0.242143 -0.999985  0.019196   \n",
       "strawberry  0.118904 -0.924075 -0.594737  0.143388 -0.923981 -0.270951   \n",
       "the         1.000000  0.269192 -0.777113  0.997830  0.269447 -0.775008   \n",
       "capitol     0.269192  1.000000  0.271152  0.245723  1.000000 -0.024195   \n",
       "of         -0.777113  0.271152  1.000000 -0.810850  0.271055  0.466613   \n",
       "germany     0.997830  0.245723 -0.810850  1.000000  0.245957 -0.740893   \n",
       "is          0.269447  1.000000  0.271055  0.245957  1.000000 -0.024621   \n",
       "berlin     -0.775008 -0.024195  0.466613 -0.740893 -0.024621  1.000000   \n",
       "france      0.996113  0.184096 -0.822184  0.996756  0.184352 -0.781548   \n",
       "paris      -0.161679  0.006977  0.530057 -0.223090  0.007284 -0.458132   \n",
       "\n",
       "              france     paris  \n",
       "i          -0.070472 -0.045694  \n",
       "love       -0.262292  0.028139  \n",
       "vanilla     0.182647  0.175095  \n",
       "ice        -0.095197 -0.035850  \n",
       "cream      -0.180301 -0.004547  \n",
       "strawberry  0.205302 -0.089781  \n",
       "the         0.996113 -0.161679  \n",
       "capitol     0.184096  0.006977  \n",
       "of         -0.822184  0.530057  \n",
       "germany     0.996756 -0.223090  \n",
       "is          0.184352  0.007284  \n",
       "berlin     -0.781548 -0.458132  \n",
       "france      1.000000 -0.177343  \n",
       "paris      -0.177343  1.000000  "
      ]
     },
     "execution_count": 25,
     "metadata": {},
     "output_type": "execute_result"
    }
   ],
   "source": [
    "word_embeddings = w2w_sg.linear.weight.detach().numpy()\n",
    "word_embeddings_df = pd.DataFrame(cosine_similarity(word_embeddings), columns = list(word2index.keys()), index = list(word2index.keys()))\n",
    "word_embeddings_df"
   ]
  },
  {
   "cell_type": "markdown",
   "metadata": {},
   "source": [
    "### Practical considerations\n",
    "\n",
    "CBOW aggregates context by summing or averaging context word vectors. This has a smoothing effect which may be helpful for smaller data sets. On the other side, it does not take full advantage of granular text information. As a consequence, it can be beneficial to use CBOW for smaller corpora and SG for larger ones. The embedding dimension is an important hyperparameter for the model. Choosing higher values may improve the understanding of similarity, while, at the same time, more data is needed to learn this. Common choices for larger and pre-trained models are in the range $[100, 300]$, however, sometimes embedding sizes go even higher. Another hyperparameter is the window size of the context. Common choices are between $5$ and $10$. Very frequent words can dominate the training of word embeddings. A common technique is to down-sample these words or even completely ignore them. At the same time words which appear very rarely may also be ignored because general relationships are hard to identify. Furthermore, training the model as a common multi-class classification problem can become cumbersome as the target dimension is equal to the number unique terms in the corpus. In practice, the model is usually trained by hierarchical softmax or negative sampling. This is beyond the scope of this course which is about the intuition how similar word embeddings are created for words with similar meaning."
   ]
  },
  {
   "cell_type": "markdown",
   "metadata": {},
   "source": [
    "## Working with word vectors\n",
    "\n",
    "Once a Word2Vec model has been trained, we can generate numerical representations of words. An important side note is that a corpus usually is preprocessed before the model is trained. One central aspect of preprocessing is tokenization, i.e., the way each text is split into tokens which build the basis for creating a lexicon. Finally, each token in the lexicon will be mapped to a word embedding during the training process. This means, if we use, e.g., lower cases only, the word \"Germany\" will have no embedding because it is represented by the token \"germany\" after preprocessing. Consequently, if we process text in a different way than it has been done before training the model, we will receive many unknown token errors when we want to generate word embeddings. If we train our own model, this should be no problem because we can use the same tokenizer for handling text data after model training. However, if we use a pre-trained model and its embeddings, this may become a ciritical issue.\n",
    "\n",
    "### Common usage\n",
    "\n",
    "Nevertheless, let us start with a popular pre-trained model and its word embeddings: the [Google News embeddings](https://code.google.com/archive/p/word2vec/). They have been trained using the Google News dataset which includes about 100 billion words. The resulting model comes along with 300 dimensional vectors for 3 million words and phrases. What can we do with these vectors? The following common things come into mind:\n",
    "\n",
    "* examine word similarities\n",
    "* examine word analogies\n",
    "* determine document embeddings\n",
    "* visualize word embeddings\n",
    "\n",
    "To determine word similarities, we compute a vector based similarity measure. The most popular choice in the natural language processing domain is the cosine similarity which has been presented in an earlier chapter of this book. For instance, the cell below shows the top ten similar words to the word \"crisis\":"
   ]
  },
  {
   "cell_type": "code",
   "execution_count": 26,
   "metadata": {},
   "outputs": [
    {
     "data": {
      "text/plain": [
       "[('crises', 0.7838959693908691),\n",
       " ('turmoil', 0.6912833452224731),\n",
       " ('meltdown', 0.6789990067481995),\n",
       " ('credit_crunch', 0.6228187084197998),\n",
       " ('crisis.The', 0.6024228930473328),\n",
       " ('recession', 0.5982968211174011),\n",
       " ('downturn', 0.5976395010948181),\n",
       " ('subprime_mortgage_crisis', 0.5934383869171143),\n",
       " ('economic_downturn', 0.5829673409461975),\n",
       " ('liquidity_crunch', 0.5580255389213562)]"
      ]
     },
     "execution_count": 26,
     "metadata": {},
     "output_type": "execute_result"
    }
   ],
   "source": [
    "import gensim.downloader\n",
    "\n",
    "google_word_vectors = gensim.downloader.load('word2vec-google-news-300')\n",
    "google_word_vectors.most_similar(positive = \"crisis\")"
   ]
  },
  {
   "cell_type": "markdown",
   "metadata": {},
   "source": [
    "We observe cosine similarities in the range between $0.53$ and $0.63$. This brings up the question about the actual range of cosine similarities for all word embeddings. Due to the immense amount of words, we sample 10,000 words from the lexicon and determine their pairwise cosine similarities. The histogram below demonstrates that similarities seem to be roughly in the range $[-0.25, 0.80]$, even though values in the interval $[-1, 1]$ would be possible. This gives us a better understanding of common similarity levels for word pairs are. "
   ]
  },
  {
   "cell_type": "code",
   "execution_count": 27,
   "metadata": {},
   "outputs": [
    {
     "data": {
      "image/png": "[encoded data removed]",
      "text/plain": [
       "<Figure size 640x480 with 1 Axes>"
      ]
     },
     "metadata": {},
     "output_type": "display_data"
    }
   ],
   "source": [
    "import numpy as np\n",
    "from numpy.random import default_rng\n",
    "import matplotlib.pylab as plt\n",
    "from sklearn.metrics.pairwise import cosine_similarity\n",
    "\n",
    "# draw 10000 random vectors and determine their pairwise similarities to get an idea about the similarity range\n",
    "rng = default_rng(seed = 42)\n",
    "rnd_idx = rng.choice(len(google_word_vectors), size=10000, replace=False)\n",
    "pairwise_similarities = cosine_similarity(google_word_vectors[rnd_idx]) \n",
    "pairwise_similarities_flat = pairwise_similarities[np.tril_indices(pairwise_similarities.shape[0], k = -1)]\n",
    "plt.hist(pairwise_similarities_flat)\n",
    "plt.show()"
   ]
  },
  {
   "cell_type": "markdown",
   "metadata": {},
   "source": [
    "We also observe n-grams are included in the list of similar words. Usually, not all possible n-grams are taken into account, only very common combinations such as \"New York\". To identify common n-grams, one can, e.g., determine a score as suggested by [Mikolov et al. (2013)](https://arxiv.org/pdf/1310.4546):\n",
    "\n",
    "$$\n",
    "score(w_i, w_j) = \\frac{count(w_i, w_j) - \\delta}{count(w_i) \\cdot count(w_j)}\n",
    "$$\n",
    "\n",
    "With $count(w_i, w_j), count(w_i), count(w_j)$ representing the number of co-occurrences for word pair $i,j$ and individual occurrences, respectively, and, $\\delta$ a discounting coefficient. If a score exceeds a user-defined threshold, the pair is considered as a bi-gram. Repeating this counting process is also able to reveal n-grams of higher order.\n",
    "\n",
    "The next impressive aspect of word embeddings is that we can use vector calculus to examine similarities and dissimilarities between words. The most popular example is the word analogy of \"woman\" to \"man\" which should be similar to \"queen\" and \"king\". Given the vectors $\\boldsymbol{w}^{(woman)}, \\boldsymbol{w}^{(man)}, \\boldsymbol{w}^{(queen)}, \\boldsymbol{w}^{(king)}$, we can calculate the differences $\\boldsymbol{w}^{(woman)} - \\boldsymbol{w}^{(man)}$ and $\\boldsymbol{w}^{(queen)} - \\boldsymbol{w}^{(king)}$. If the relation of woman to man is similar as the relation of queen to king, we should get:\n",
    "\n",
    "$$\n",
    "\\boldsymbol{w}^{(woman)} - \\boldsymbol{w}^{(man)} \\approx \\boldsymbol{w}^{(queen)} - \\boldsymbol{w}^{(king)} \n",
    "$$\n",
    "\n",
    "thus, \n",
    "\n",
    "$$\n",
    "\\boldsymbol{w}^{(woman)} - \\boldsymbol{w}^{(man)} + \\boldsymbol{w}^{(king)} \n",
    "$$\n",
    "\n",
    "should be most similar to \n",
    "\n",
    "$$\n",
    "\\boldsymbol{w}^{(queen)}\n",
    "$$\n",
    "\n",
    "Let us find out:"
   ]
  },
  {
   "cell_type": "code",
   "execution_count": 28,
   "metadata": {},
   "outputs": [
    {
     "data": {
      "text/plain": [
       "[('king', 0.8449392318725586),\n",
       " ('queen', 0.7300516366958618),\n",
       " ('monarch', 0.6454660296440125),\n",
       " ('princess', 0.6156251430511475),\n",
       " ('crown_prince', 0.5818676948547363),\n",
       " ('prince', 0.5777117609977722),\n",
       " ('kings', 0.5613663792610168),\n",
       " ('sultan', 0.5376776456832886),\n",
       " ('Queen_Consort', 0.5344247817993164),\n",
       " ('queens', 0.5289887189865112)]"
      ]
     },
     "execution_count": 28,
     "metadata": {},
     "output_type": "execute_result"
    }
   ],
   "source": [
    "google_word_vectors.similar_by_vector(google_word_vectors[\"woman\"] - google_word_vectors[\"man\"] + google_word_vectors[\"king\"])"
   ]
  },
  {
   "cell_type": "markdown",
   "metadata": {},
   "source": [
    "Tadaa! This seems to work pretty good. Note, the calculation can also be done by the most_similar method, positive are the vectors with a positive sign, negative the ones with a negative sign:"
   ]
  },
  {
   "cell_type": "code",
   "execution_count": 29,
   "metadata": {},
   "outputs": [
    {
     "data": {
      "text/plain": [
       "[('queen', 0.7118192911148071),\n",
       " ('monarch', 0.6189674735069275),\n",
       " ('princess', 0.5902431011199951),\n",
       " ('crown_prince', 0.5499460697174072),\n",
       " ('prince', 0.5377321243286133),\n",
       " ('kings', 0.5236844420433044),\n",
       " ('Queen_Consort', 0.5235945582389832),\n",
       " ('queens', 0.5181134343147278),\n",
       " ('sultan', 0.5098593235015869),\n",
       " ('monarchy', 0.5087411403656006)]"
      ]
     },
     "execution_count": 29,
     "metadata": {},
     "output_type": "execute_result"
    }
   ],
   "source": [
    "google_word_vectors.most_similar(positive=['woman', 'king'], negative=['man'])"
   ]
  },
  {
   "cell_type": "markdown",
   "metadata": {},
   "source": [
    "If we can calculate with words, we can also average and sum word vectors. For instance, we can split a sentence into words and sum or average its word vectors to derive a sentence embedding. "
   ]
  },
  {
   "cell_type": "code",
   "execution_count": 30,
   "metadata": {},
   "outputs": [
    {
     "name": "stdout",
     "output_type": "stream",
     "text": [
      "Tokenized sentences:\n",
      "[['i', 'love', 'vanilla', 'ice', 'cream'], ['i', 'love', 'strawberry', 'ice', 'cream'], ['the', 'capitol', 'of', 'germany', 'is', 'berlin'], ['the', 'capitol', 'of', 'france', 'is', 'paris']] \n",
      "\n",
      "Pairwise cosine similarities:\n"
     ]
    },
    {
     "data": {
      "text/html": [
       "<div>\n",
       "<style scoped>\n",
       "    .dataframe tbody tr th:only-of-type {\n",
       "        vertical-align: middle;\n",
       "    }\n",
       "\n",
       "    .dataframe tbody tr th {\n",
       "        vertical-align: top;\n",
       "    }\n",
       "\n",
       "    .dataframe thead th {\n",
       "        text-align: right;\n",
       "    }\n",
       "</style>\n",
       "<table border=\"1\" class=\"dataframe\">\n",
       "  <thead>\n",
       "    <tr style=\"text-align: right;\">\n",
       "      <th></th>\n",
       "      <th>s1</th>\n",
       "      <th>s2</th>\n",
       "      <th>s3</th>\n",
       "      <th>s4</th>\n",
       "    </tr>\n",
       "  </thead>\n",
       "  <tbody>\n",
       "    <tr>\n",
       "      <th>s1</th>\n",
       "      <td>1.0000</td>\n",
       "      <td>0.9274</td>\n",
       "      <td>0.3028</td>\n",
       "      <td>0.3652</td>\n",
       "    </tr>\n",
       "    <tr>\n",
       "      <th>s2</th>\n",
       "      <td>0.9274</td>\n",
       "      <td>1.0000</td>\n",
       "      <td>0.3039</td>\n",
       "      <td>0.3514</td>\n",
       "    </tr>\n",
       "    <tr>\n",
       "      <th>s3</th>\n",
       "      <td>0.3028</td>\n",
       "      <td>0.3039</td>\n",
       "      <td>1.0000</td>\n",
       "      <td>0.8732</td>\n",
       "    </tr>\n",
       "    <tr>\n",
       "      <th>s4</th>\n",
       "      <td>0.3652</td>\n",
       "      <td>0.3514</td>\n",
       "      <td>0.8732</td>\n",
       "      <td>1.0000</td>\n",
       "    </tr>\n",
       "  </tbody>\n",
       "</table>\n",
       "</div>"
      ],
      "text/plain": [
       "        s1      s2      s3      s4\n",
       "s1  1.0000  0.9274  0.3028  0.3652\n",
       "s2  0.9274  1.0000  0.3039  0.3514\n",
       "s3  0.3028  0.3039  1.0000  0.8732\n",
       "s4  0.3652  0.3514  0.8732  1.0000"
      ]
     },
     "execution_count": 30,
     "metadata": {},
     "output_type": "execute_result"
    }
   ],
   "source": [
    "import pandas as pd\n",
    "\n",
    "print(\"Tokenized sentences:\")\n",
    "print(f\"{corpus} \\n\")\n",
    "sentence_embeddings = [google_word_vectors.get_mean_vector(sentence) for sentence in corpus]\n",
    "cosine_similarity_matrix = np.round(cosine_similarity(np.array(sentence_embeddings)), 4)\n",
    "print(\"Pairwise cosine similarities:\")\n",
    "pd.DataFrame(cosine_similarity_matrix, index = [f\"s{i+1}\" for i in range(4)], columns = [f\"s{i+1}\" for i in range(4)])"
   ]
  },
  {
   "cell_type": "markdown",
   "metadata": {},
   "source": [
    "Furthermore, we can build topic vectors which are calculated as the average of individual word vectors which represent a similar content. "
   ]
  },
  {
   "cell_type": "code",
   "execution_count": 31,
   "metadata": {},
   "outputs": [
    {
     "data": {
      "text/plain": [
       "[('ecological', 0.6291204690933228),\n",
       " ('corporate_governance_ESG', 0.6060682535171509),\n",
       " ('governance_ESG_issues', 0.6004064679145813),\n",
       " ('sustainablity', 0.5869180560112),\n",
       " ('environmental_sustainability', 0.5842981338500977),\n",
       " ('governance_ESG_factors', 0.5816299319267273),\n",
       " ('governance_ESG', 0.57416170835495),\n",
       " ('sustainability', 0.561872124671936),\n",
       " ('socio_economic', 0.5555124282836914),\n",
       " ('Melissa_McEver_covers', 0.5459955334663391)]"
      ]
     },
     "execution_count": 31,
     "metadata": {},
     "output_type": "execute_result"
    }
   ],
   "source": [
    "topic_words = [\"environmental\", \"social\", \"governance\"]\n",
    "google_word_vectors.most_similar(topic_words)"
   ]
  },
  {
   "cell_type": "markdown",
   "metadata": {},
   "source": [
    "The only thing which is a little unfortunate is that we are not able to visualize how close certain word vectors are to others. This can be overcome by combining dimensionality reduction techniques with word embeddings. Different models can be used for dimensionality reduction. In general, dimensionality reduction tries to find lower dimensional representations of the original word vectors which keep as much of the original behavior as possible. \n",
    "\n",
    "*What dimensionality reduction techniques do*\n",
    "\n",
    "We dot not discuss in this course how these methods work, however, the figure below demonstrates the functionality. In the left are observations from a fictional data set with 100 observations of two variables $x_1, x_2$. Three arbitrary observations are marked by the colors red, blue and green. Green and red are more close to each other than to blue. Thus, according to euclidean distance, green and red are more similar to each other than to blue. In the right, we observe a single variable which has been created out of the original two variables using a dimensionality reduction technique. Also in this one dimensional representation, the red and green observation are more close to each other than to the blue observations. Thus, this characteristic is not the same as before, but, kept as similar as possible. "
   ]
  },
  {
   "cell_type": "code",
   "execution_count": 32,
   "metadata": {},
   "outputs": [
    {
     "data": {
      "image/png": "[encoded data removed]",
      "text/plain": [
       "<Figure size 1200x500 with 2 Axes>"
      ]
     },
     "metadata": {},
     "output_type": "display_data"
    }
   ],
   "source": [
    "import numpy as np\n",
    "import matplotlib.pylab as plt\n",
    "from sklearn.decomposition import PCA\n",
    "\n",
    "np.random.seed(42)\n",
    "X = np.random.normal(size = 200).reshape(100, 2)\n",
    "pca = PCA(n_components=1)\n",
    "x = pca.fit_transform(X)\n",
    "colors = {i: \"lightgray\" for i in range(X.shape[0])}\n",
    "colors[0] = \"red\"\n",
    "colors[1] = \"blue\"\n",
    "colors[2] = \"green\"\n",
    "\n",
    "fig, axs = plt.subplots(1, 2, figsize = (12, 5))\n",
    "for i in range(X.shape[0]):\n",
    "    axs[0].scatter(X[i, 0], X[i, 1], c = colors[i])\n",
    "    axs[1].scatter(i, x[i], c = colors[i])\n",
    "axs[0].set_title(\"Original observations\")\n",
    "axs[0].set_xlabel(r\"$x_1$\")\n",
    "axs[0].set_ylabel(r\"$X_2$\")\n",
    "axs[1].set_title(\"One dimensional representation\")\n",
    "axs[1].set_xlabel(r\"Observation number\")\n",
    "axs[1].set_ylabel(r\"Variable representing reduced dimension\")\n",
    "plt.show()"
   ]
  },
  {
   "cell_type": "markdown",
   "metadata": {},
   "source": [
    "Below, we train the umap reduction model to a sample of 100,000 word vectors. "
   ]
  },
  {
   "cell_type": "code",
   "execution_count": 33,
   "metadata": {},
   "outputs": [
    {
     "name": "stderr",
     "output_type": "stream",
     "text": [
      "OMP: Info #276: omp_set_nested routine deprecated, please use omp_set_max_active_levels instead.\n"
     ]
    },
    {
     "data": {
      "text/html": [
       "<style>#sk-container-id-1 {\n",
       "  /* Definition of color scheme common for light and dark mode */\n",
       "  --sklearn-color-text: black;\n",
       "  --sklearn-color-line: gray;\n",
       "  /* Definition of color scheme for unfitted estimators */\n",
       "  --sklearn-color-unfitted-level-0: #fff5e6;\n",
       "  --sklearn-color-unfitted-level-1: #f6e4d2;\n",
       "  --sklearn-color-unfitted-level-2: #ffe0b3;\n",
       "  --sklearn-color-unfitted-level-3: chocolate;\n",
       "  /* Definition of color scheme for fitted estimators */\n",
       "  --sklearn-color-fitted-level-0: #f0f8ff;\n",
       "  --sklearn-color-fitted-level-1: #d4ebff;\n",
       "  --sklearn-color-fitted-level-2: #b3dbfd;\n",
       "  --sklearn-color-fitted-level-3: cornflowerblue;\n",
       "\n",
       "  /* Specific color for light theme */\n",
       "  --sklearn-color-text-on-default-background: var(--sg-text-color, var(--theme-code-foreground, var(--jp-content-font-color1, black)));\n",
       "  --sklearn-color-background: var(--sg-background-color, var(--theme-background, var(--jp-layout-color0, white)));\n",
       "  --sklearn-color-border-box: var(--sg-text-color, var(--theme-code-foreground, var(--jp-content-font-color1, black)));\n",
       "  --sklearn-color-icon: #696969;\n",
       "\n",
       "  @media (prefers-color-scheme: dark) {\n",
       "    /* Redefinition of color scheme for dark theme */\n",
       "    --sklearn-color-text-on-default-background: var(--sg-text-color, var(--theme-code-foreground, var(--jp-content-font-color1, white)));\n",
       "    --sklearn-color-background: var(--sg-background-color, var(--theme-background, var(--jp-layout-color0, #111)));\n",
       "    --sklearn-color-border-box: var(--sg-text-color, var(--theme-code-foreground, var(--jp-content-font-color1, white)));\n",
       "    --sklearn-color-icon: #878787;\n",
       "  }\n",
       "}\n",
       "\n",
       "#sk-container-id-1 {\n",
       "  color: var(--sklearn-color-text);\n",
       "}\n",
       "\n",
       "#sk-container-id-1 pre {\n",
       "  padding: 0;\n",
       "}\n",
       "\n",
       "#sk-container-id-1 input.sk-hidden--visually {\n",
       "  border: 0;\n",
       "  clip: rect(1px 1px 1px 1px);\n",
       "  clip: rect(1px, 1px, 1px, 1px);\n",
       "  height: 1px;\n",
       "  margin: -1px;\n",
       "  overflow: hidden;\n",
       "  padding: 0;\n",
       "  position: absolute;\n",
       "  width: 1px;\n",
       "}\n",
       "\n",
       "#sk-container-id-1 div.sk-dashed-wrapped {\n",
       "  border: 1px dashed var(--sklearn-color-line);\n",
       "  margin: 0 0.4em 0.5em 0.4em;\n",
       "  box-sizing: border-box;\n",
       "  padding-bottom: 0.4em;\n",
       "  background-color: var(--sklearn-color-background);\n",
       "}\n",
       "\n",
       "#sk-container-id-1 div.sk-container {\n",
       "  /* jupyter's `normalize.less` sets `[hidden] { display: none; }`\n",
       "     but bootstrap.min.css set `[hidden] { display: none !important; }`\n",
       "     so we also need the `!important` here to be able to override the\n",
       "     default hidden behavior on the sphinx rendered scikit-learn.org.\n",
       "     See: https://github.com/scikit-learn/scikit-learn/issues/21755 */\n",
       "  display: inline-block !important;\n",
       "  position: relative;\n",
       "}\n",
       "\n",
       "#sk-container-id-1 div.sk-text-repr-fallback {\n",
       "  display: none;\n",
       "}\n",
       "\n",
       "div.sk-parallel-item,\n",
       "div.sk-serial,\n",
       "div.sk-item {\n",
       "  /* draw centered vertical line to link estimators */\n",
       "  background-image: linear-gradient(var(--sklearn-color-text-on-default-background), var(--sklearn-color-text-on-default-background));\n",
       "  background-size: 2px 100%;\n",
       "  background-repeat: no-repeat;\n",
       "  background-position: center center;\n",
       "}\n",
       "\n",
       "/* Parallel-specific style estimator block */\n",
       "\n",
       "#sk-container-id-1 div.sk-parallel-item::after {\n",
       "  content: \"\";\n",
       "  width: 100%;\n",
       "  border-bottom: 2px solid var(--sklearn-color-text-on-default-background);\n",
       "  flex-grow: 1;\n",
       "}\n",
       "\n",
       "#sk-container-id-1 div.sk-parallel {\n",
       "  display: flex;\n",
       "  align-items: stretch;\n",
       "  justify-content: center;\n",
       "  background-color: var(--sklearn-color-background);\n",
       "  position: relative;\n",
       "}\n",
       "\n",
       "#sk-container-id-1 div.sk-parallel-item {\n",
       "  display: flex;\n",
       "  flex-direction: column;\n",
       "}\n",
       "\n",
       "#sk-container-id-1 div.sk-parallel-item:first-child::after {\n",
       "  align-self: flex-end;\n",
       "  width: 50%;\n",
       "}\n",
       "\n",
       "#sk-container-id-1 div.sk-parallel-item:last-child::after {\n",
       "  align-self: flex-start;\n",
       "  width: 50%;\n",
       "}\n",
       "\n",
       "#sk-container-id-1 div.sk-parallel-item:only-child::after {\n",
       "  width: 0;\n",
       "}\n",
       "\n",
       "/* Serial-specific style estimator block */\n",
       "\n",
       "#sk-container-id-1 div.sk-serial {\n",
       "  display: flex;\n",
       "  flex-direction: column;\n",
       "  align-items: center;\n",
       "  background-color: var(--sklearn-color-background);\n",
       "  padding-right: 1em;\n",
       "  padding-left: 1em;\n",
       "}\n",
       "\n",
       "\n",
       "/* Toggleable style: style used for estimator/Pipeline/ColumnTransformer box that is\n",
       "clickable and can be expanded/collapsed.\n",
       "- Pipeline and ColumnTransformer use this feature and define the default style\n",
       "- Estimators will overwrite some part of the style using the `sk-estimator` class\n",
       "*/\n",
       "\n",
       "/* Pipeline and ColumnTransformer style (default) */\n",
       "\n",
       "#sk-container-id-1 div.sk-toggleable {\n",
       "  /* Default theme specific background. It is overwritten whether we have a\n",
       "  specific estimator or a Pipeline/ColumnTransformer */\n",
       "  background-color: var(--sklearn-color-background);\n",
       "}\n",
       "\n",
       "/* Toggleable label */\n",
       "#sk-container-id-1 label.sk-toggleable__label {\n",
       "  cursor: pointer;\n",
       "  display: block;\n",
       "  width: 100%;\n",
       "  margin-bottom: 0;\n",
       "  padding: 0.5em;\n",
       "  box-sizing: border-box;\n",
       "  text-align: center;\n",
       "}\n",
       "\n",
       "#sk-container-id-1 label.sk-toggleable__label-arrow:before {\n",
       "  /* Arrow on the left of the label */\n",
       "  content: \"▸\";\n",
       "  float: left;\n",
       "  margin-right: 0.25em;\n",
       "  color: var(--sklearn-color-icon);\n",
       "}\n",
       "\n",
       "#sk-container-id-1 label.sk-toggleable__label-arrow:hover:before {\n",
       "  color: var(--sklearn-color-text);\n",
       "}\n",
       "\n",
       "/* Toggleable content - dropdown */\n",
       "\n",
       "#sk-container-id-1 div.sk-toggleable__content {\n",
       "  max-height: 0;\n",
       "  max-width: 0;\n",
       "  overflow: hidden;\n",
       "  text-align: left;\n",
       "  /* unfitted */\n",
       "  background-color: var(--sklearn-color-unfitted-level-0);\n",
       "}\n",
       "\n",
       "#sk-container-id-1 div.sk-toggleable__content.fitted {\n",
       "  /* fitted */\n",
       "  background-color: var(--sklearn-color-fitted-level-0);\n",
       "}\n",
       "\n",
       "#sk-container-id-1 div.sk-toggleable__content pre {\n",
       "  margin: 0.2em;\n",
       "  border-radius: 0.25em;\n",
       "  color: var(--sklearn-color-text);\n",
       "  /* unfitted */\n",
       "  background-color: var(--sklearn-color-unfitted-level-0);\n",
       "}\n",
       "\n",
       "#sk-container-id-1 div.sk-toggleable__content.fitted pre {\n",
       "  /* unfitted */\n",
       "  background-color: var(--sklearn-color-fitted-level-0);\n",
       "}\n",
       "\n",
       "#sk-container-id-1 input.sk-toggleable__control:checked~div.sk-toggleable__content {\n",
       "  /* Expand drop-down */\n",
       "  max-height: 200px;\n",
       "  max-width: 100%;\n",
       "  overflow: auto;\n",
       "}\n",
       "\n",
       "#sk-container-id-1 input.sk-toggleable__control:checked~label.sk-toggleable__label-arrow:before {\n",
       "  content: \"▾\";\n",
       "}\n",
       "\n",
       "/* Pipeline/ColumnTransformer-specific style */\n",
       "\n",
       "#sk-container-id-1 div.sk-label input.sk-toggleable__control:checked~label.sk-toggleable__label {\n",
       "  color: var(--sklearn-color-text);\n",
       "  background-color: var(--sklearn-color-unfitted-level-2);\n",
       "}\n",
       "\n",
       "#sk-container-id-1 div.sk-label.fitted input.sk-toggleable__control:checked~label.sk-toggleable__label {\n",
       "  background-color: var(--sklearn-color-fitted-level-2);\n",
       "}\n",
       "\n",
       "/* Estimator-specific style */\n",
       "\n",
       "/* Colorize estimator box */\n",
       "#sk-container-id-1 div.sk-estimator input.sk-toggleable__control:checked~label.sk-toggleable__label {\n",
       "  /* unfitted */\n",
       "  background-color: var(--sklearn-color-unfitted-level-2);\n",
       "}\n",
       "\n",
       "#sk-container-id-1 div.sk-estimator.fitted input.sk-toggleable__control:checked~label.sk-toggleable__label {\n",
       "  /* fitted */\n",
       "  background-color: var(--sklearn-color-fitted-level-2);\n",
       "}\n",
       "\n",
       "#sk-container-id-1 div.sk-label label.sk-toggleable__label,\n",
       "#sk-container-id-1 div.sk-label label {\n",
       "  /* The background is the default theme color */\n",
       "  color: var(--sklearn-color-text-on-default-background);\n",
       "}\n",
       "\n",
       "/* On hover, darken the color of the background */\n",
       "#sk-container-id-1 div.sk-label:hover label.sk-toggleable__label {\n",
       "  color: var(--sklearn-color-text);\n",
       "  background-color: var(--sklearn-color-unfitted-level-2);\n",
       "}\n",
       "\n",
       "/* Label box, darken color on hover, fitted */\n",
       "#sk-container-id-1 div.sk-label.fitted:hover label.sk-toggleable__label.fitted {\n",
       "  color: var(--sklearn-color-text);\n",
       "  background-color: var(--sklearn-color-fitted-level-2);\n",
       "}\n",
       "\n",
       "/* Estimator label */\n",
       "\n",
       "#sk-container-id-1 div.sk-label label {\n",
       "  font-family: monospace;\n",
       "  font-weight: bold;\n",
       "  display: inline-block;\n",
       "  line-height: 1.2em;\n",
       "}\n",
       "\n",
       "#sk-container-id-1 div.sk-label-container {\n",
       "  text-align: center;\n",
       "}\n",
       "\n",
       "/* Estimator-specific */\n",
       "#sk-container-id-1 div.sk-estimator {\n",
       "  font-family: monospace;\n",
       "  border: 1px dotted var(--sklearn-color-border-box);\n",
       "  border-radius: 0.25em;\n",
       "  box-sizing: border-box;\n",
       "  margin-bottom: 0.5em;\n",
       "  /* unfitted */\n",
       "  background-color: var(--sklearn-color-unfitted-level-0);\n",
       "}\n",
       "\n",
       "#sk-container-id-1 div.sk-estimator.fitted {\n",
       "  /* fitted */\n",
       "  background-color: var(--sklearn-color-fitted-level-0);\n",
       "}\n",
       "\n",
       "/* on hover */\n",
       "#sk-container-id-1 div.sk-estimator:hover {\n",
       "  /* unfitted */\n",
       "  background-color: var(--sklearn-color-unfitted-level-2);\n",
       "}\n",
       "\n",
       "#sk-container-id-1 div.sk-estimator.fitted:hover {\n",
       "  /* fitted */\n",
       "  background-color: var(--sklearn-color-fitted-level-2);\n",
       "}\n",
       "\n",
       "/* Specification for estimator info (e.g. \"i\" and \"?\") */\n",
       "\n",
       "/* Common style for \"i\" and \"?\" */\n",
       "\n",
       ".sk-estimator-doc-link,\n",
       "a:link.sk-estimator-doc-link,\n",
       "a:visited.sk-estimator-doc-link {\n",
       "  float: right;\n",
       "  font-size: smaller;\n",
       "  line-height: 1em;\n",
       "  font-family: monospace;\n",
       "  background-color: var(--sklearn-color-background);\n",
       "  border-radius: 1em;\n",
       "  height: 1em;\n",
       "  width: 1em;\n",
       "  text-decoration: none !important;\n",
       "  margin-left: 1ex;\n",
       "  /* unfitted */\n",
       "  border: var(--sklearn-color-unfitted-level-1) 1pt solid;\n",
       "  color: var(--sklearn-color-unfitted-level-1);\n",
       "}\n",
       "\n",
       ".sk-estimator-doc-link.fitted,\n",
       "a:link.sk-estimator-doc-link.fitted,\n",
       "a:visited.sk-estimator-doc-link.fitted {\n",
       "  /* fitted */\n",
       "  border: var(--sklearn-color-fitted-level-1) 1pt solid;\n",
       "  color: var(--sklearn-color-fitted-level-1);\n",
       "}\n",
       "\n",
       "/* On hover */\n",
       "div.sk-estimator:hover .sk-estimator-doc-link:hover,\n",
       ".sk-estimator-doc-link:hover,\n",
       "div.sk-label-container:hover .sk-estimator-doc-link:hover,\n",
       ".sk-estimator-doc-link:hover {\n",
       "  /* unfitted */\n",
       "  background-color: var(--sklearn-color-unfitted-level-3);\n",
       "  color: var(--sklearn-color-background);\n",
       "  text-decoration: none;\n",
       "}\n",
       "\n",
       "div.sk-estimator.fitted:hover .sk-estimator-doc-link.fitted:hover,\n",
       ".sk-estimator-doc-link.fitted:hover,\n",
       "div.sk-label-container:hover .sk-estimator-doc-link.fitted:hover,\n",
       ".sk-estimator-doc-link.fitted:hover {\n",
       "  /* fitted */\n",
       "  background-color: var(--sklearn-color-fitted-level-3);\n",
       "  color: var(--sklearn-color-background);\n",
       "  text-decoration: none;\n",
       "}\n",
       "\n",
       "/* Span, style for the box shown on hovering the info icon */\n",
       ".sk-estimator-doc-link span {\n",
       "  display: none;\n",
       "  z-index: 9999;\n",
       "  position: relative;\n",
       "  font-weight: normal;\n",
       "  right: .2ex;\n",
       "  padding: .5ex;\n",
       "  margin: .5ex;\n",
       "  width: min-content;\n",
       "  min-width: 20ex;\n",
       "  max-width: 50ex;\n",
       "  color: var(--sklearn-color-text);\n",
       "  box-shadow: 2pt 2pt 4pt #999;\n",
       "  /* unfitted */\n",
       "  background: var(--sklearn-color-unfitted-level-0);\n",
       "  border: .5pt solid var(--sklearn-color-unfitted-level-3);\n",
       "}\n",
       "\n",
       ".sk-estimator-doc-link.fitted span {\n",
       "  /* fitted */\n",
       "  background: var(--sklearn-color-fitted-level-0);\n",
       "  border: var(--sklearn-color-fitted-level-3);\n",
       "}\n",
       "\n",
       ".sk-estimator-doc-link:hover span {\n",
       "  display: block;\n",
       "}\n",
       "\n",
       "/* \"?\"-specific style due to the `<a>` HTML tag */\n",
       "\n",
       "#sk-container-id-1 a.estimator_doc_link {\n",
       "  float: right;\n",
       "  font-size: 1rem;\n",
       "  line-height: 1em;\n",
       "  font-family: monospace;\n",
       "  background-color: var(--sklearn-color-background);\n",
       "  border-radius: 1rem;\n",
       "  height: 1rem;\n",
       "  width: 1rem;\n",
       "  text-decoration: none;\n",
       "  /* unfitted */\n",
       "  color: var(--sklearn-color-unfitted-level-1);\n",
       "  border: var(--sklearn-color-unfitted-level-1) 1pt solid;\n",
       "}\n",
       "\n",
       "#sk-container-id-1 a.estimator_doc_link.fitted {\n",
       "  /* fitted */\n",
       "  border: var(--sklearn-color-fitted-level-1) 1pt solid;\n",
       "  color: var(--sklearn-color-fitted-level-1);\n",
       "}\n",
       "\n",
       "/* On hover */\n",
       "#sk-container-id-1 a.estimator_doc_link:hover {\n",
       "  /* unfitted */\n",
       "  background-color: var(--sklearn-color-unfitted-level-3);\n",
       "  color: var(--sklearn-color-background);\n",
       "  text-decoration: none;\n",
       "}\n",
       "\n",
       "#sk-container-id-1 a.estimator_doc_link.fitted:hover {\n",
       "  /* fitted */\n",
       "  background-color: var(--sklearn-color-fitted-level-3);\n",
       "}\n",
       "</style><div id=\"sk-container-id-1\" class=\"sk-top-container\"><div class=\"sk-text-repr-fallback\"><pre>UMAP(angular_rp_forest=True, metric=&#x27;cosine&#x27;, tqdm_kwds={&#x27;bar_format&#x27;: &#x27;{desc}: {percentage:3.0f}%| {bar} {n_fmt}/{total_fmt} [{elapsed}]&#x27;, &#x27;desc&#x27;: &#x27;Epochs completed&#x27;, &#x27;disable&#x27;: True})</pre><b>In a Jupyter environment, please rerun this cell to show the HTML representation or trust the notebook. <br />On GitHub, the HTML representation is unable to render, please try loading this page with nbviewer.org.</b></div><div class=\"sk-container\" hidden><div class=\"sk-item\"><div class=\"sk-estimator fitted sk-toggleable\"><input class=\"sk-toggleable__control sk-hidden--visually\" id=\"sk-estimator-id-1\" type=\"checkbox\" checked><label for=\"sk-estimator-id-1\" class=\"sk-toggleable__label fitted sk-toggleable__label-arrow fitted\">&nbsp;UMAP<span class=\"sk-estimator-doc-link fitted\">i<span>Fitted</span></span></label><div class=\"sk-toggleable__content fitted\"><pre>UMAP(angular_rp_forest=True, metric=&#x27;cosine&#x27;, tqdm_kwds={&#x27;bar_format&#x27;: &#x27;{desc}: {percentage:3.0f}%| {bar} {n_fmt}/{total_fmt} [{elapsed}]&#x27;, &#x27;desc&#x27;: &#x27;Epochs completed&#x27;, &#x27;disable&#x27;: True})</pre></div> </div></div></div></div>"
      ],
      "text/plain": [
       "UMAP(angular_rp_forest=True, metric='cosine', tqdm_kwds={'bar_format': '{desc}: {percentage:3.0f}%| {bar} {n_fmt}/{total_fmt} [{elapsed}]', 'desc': 'Epochs completed', 'disable': True})"
      ]
     },
     "execution_count": 33,
     "metadata": {},
     "output_type": "execute_result"
    }
   ],
   "source": [
    "import umap\n",
    "\n",
    "dim_reducer = umap.UMAP(n_components=2, metric = \"cosine\")\n",
    "rnd_idx = rng.choice(len(google_word_vectors), size=25000, replace=False)\n",
    "dim_reducer.fit(google_word_vectors[rnd_idx])"
   ]
  },
  {
   "cell_type": "markdown",
   "metadata": {},
   "source": [
    "Now, we combine these techniques and plot two dimensional representations for similar and random words. In the example below, we look for the $20$ most similar words of the word \"crisis\". We generate two dimensional representations for the corresponding word vectors by transforming the original $300$ dimensional vectors with the umap dimensionality reduction model. The same thing is done for $100$ randomly selected words. The resulting vectors can be viszalized in the scatter plot below. "
   ]
  },
  {
   "cell_type": "code",
   "execution_count": 34,
   "metadata": {},
   "outputs": [
    {
     "data": {
      "application/vnd.plotly.v1+json": {
       "config": {
        "plotlyServerURL": "https://plot.ly"
       },
       "data": [
        {
         "hovertemplate": "<b>%{hovertext}</b><br><br>category=positive<br>u1=%{x}<br>u2=%{y}<extra></extra>",
         "hovertext": [
          "crisis",
          "crises",
          "turmoil",
          "meltdown",
          "credit_crunch",
          "crisis.The",
          "recession",
          "downturn",
          "subprime_mortgage_crisis",
          "economic_downturn",
          "liquidity_crunch",
          "crisi",
          "upheaval",
          "turmoil_engulfing",
          "crunch",
          "calamity",
          "contagion",
          "malaise_gripping",
          "upheavals",
          "subprime_mortgage_meltdown",
          "recesssion"
         ],
         "legendgroup": "positive",
         "marker": {
          "color": "#636efa",
          "symbol": "circle"
         },
         "mode": "markers",
         "name": "positive",
         "orientation": "v",
         "showlegend": true,
         "type": "scatter",
         "x": [
          -0.5702245831489563,
          -0.5594944953918457,
          -0.7189828753471375,
          -0.8851380944252014,
          -0.8695115447044373,
          -0.9187304377555847,
          -0.45977452397346497,
          -0.6555964946746826,
          -0.8928110599517822,
          -0.587687075138092,
          -1.0555057525634766,
          2.606391668319702,
          -0.5173157453536987,
          2.0963637828826904,
          0.07800426334142685,
          1.9970817565917969,
          -0.7689065933227539,
          -0.5279037952423096,
          2.0402982234954834,
          -1.0525104999542236,
          -0.7534018158912659
         ],
         "xaxis": "x",
         "y": [
          -1.2289804220199585,
          -1.1467944383621216,
          -1.5446672439575195,
          -1.3180246353149414,
          -1.3236035108566284,
          -1.4110900163650513,
          -1.2908265590667725,
          -1.4207874536514282,
          -1.3972615003585815,
          -1.2546573877334595,
          -1.4397996664047241,
          3.2235324382781982,
          -1.134957194328308,
          1.76181161403656,
          -0.370574951171875,
          1.3308370113372803,
          -1.5749969482421875,
          -1.4063246250152588,
          1.8435066938400269,
          -1.4924657344818115,
          -1.5482341051101685
         ],
         "yaxis": "y"
        },
        {
         "hovertemplate": "<b>%{hovertext}</b><br><br>category=negative<br>u1=%{x}<br>u2=%{y}<extra></extra>",
         "hovertext": [
          "Orji_Kalu",
          "By_SHELLY_JANKE",
          "#,##,###.##_crore",
          "postfight",
          "Empics",
          "faux_paus",
          "adductor_groin",
          "atmospheric_oceanic",
          "www.jccc.edu",
          "Chairman_Jhala_Nath",
          "Pakistanis_Bangladeshis",
          "Bravest",
          "Minister_Raghuraj_Pratap",
          "Frustration_Grows",
          "aahed",
          "Banilad_Cebu_City",
          "dictator_Muammar_Qaddafi",
          "J._Ezra_Merkin",
          "lowlying_areas",
          "Yong_Pyong",
          "FiberGel",
          "spokesman_Reach_Sambath",
          "Tommy_D'_Alesandro",
          "Golub",
          "Cadillac_Coupe_DeVille",
          "Wunsche",
          "Ranjit_Kamble",
          "Deserves_Better",
          "Park_Kultury_metro",
          "Stephen_Spender",
          "ROLL_OUT_THE",
          "Yubileynaya_mine",
          "Bare_root",
          "Viral_Campaign",
          "Felting",
          "dnf",
          "adverbial",
          "Rob_Morosi",
          "Minister_Rhona_Brankin",
          "Inc._NYSE_PFE",
          "Kraft_Foods_Ray_Stubblebine",
          "Franzén",
          "Fung",
          "Joseph_Altuzarra_Prabal_Gurung",
          "FOR_BUILDING",
          "Dobroth",
          "clerestories",
          "Sabra_Shatila",
          "Erhai_Lake",
          "WiFi_###.##b",
          "Alisha_Filmore",
          "Yamao",
          "FROM_PRISON",
          "acquits_herself",
          "Bluetooth_GPRS",
          "Parkside_Gardens",
          "Outreach_Colorado_www.EnergyOutreach.org",
          "Adam_Vinatieri_kicked",
          "Don_Vito_Margera",
          "DE_Aaron_Schobel",
          "Ao_Chalong_Yacht_Club",
          "CARY_NC_EON_Enhanced",
          "mortuary_attendants",
          "Hikkaduwa",
          "Currently_INV",
          "Arvind_Pandya",
          "NVISION",
          "Yugoslavian",
          "Anthony_Congi",
          "Industrialinfo.com_Industrial_Information",
          "ClearBlack_display",
          "Moulders",
          "Bukit_Payong",
          "record_holder_Khanafeyeva",
          "Clontarf_Garda_Station",
          "Seibert_Pappas",
          "Dipo_Dina",
          "Mocrocks_beaches",
          "WR_Ernest_Wilford",
          "Daniela_Petrova",
          "mayne",
          "Upper_Bann",
          "ID_nN######",
          "Rabiu_Ibrahim",
          "HALFORD",
          "Sofia_Moutsou",
          "AVAYA",
          "investor_Sharon_Lissauer",
          "PLA_polylactic_acid",
          "Daddy_Yankee_Orishas",
          "Doros",
          "Gen._Raoul_Cedras",
          "Jancis_Robinson_MW",
          "Sandra_Westlund_Deenihan",
          "Bishop_Miege_HS",
          "LOWLAND_FLOODING",
          "mortgagebacked_securities",
          "Seth_Loman",
          "Tirumalasetti",
          "Airbus_A###/A###_aircraft"
         ],
         "legendgroup": "negative",
         "marker": {
          "color": "#EF553B",
          "symbol": "circle"
         },
         "mode": "markers",
         "name": "negative",
         "orientation": "v",
         "showlegend": true,
         "type": "scatter",
         "x": [
          5.393397331237793,
          1.6408315896987915,
          -1.1520684957504272,
          8.323165893554688,
          1.8352327346801758,
          1.5414557456970215,
          6.754939556121826,
          -1.9655357599258423,
          0.3478662967681885,
          0.6556635499000549,
          2.3606388568878174,
          1.484481930732727,
          1.2588088512420654,
          -0.12441097944974899,
          0.6436024308204651,
          3.334984540939331,
          3.554778814315796,
          -1.0518625974655151,
          4.2416582107543945,
          6.658475875854492,
          -1.481713891029358,
          3.8666915893554688,
          2.883769989013672,
          4.134393215179443,
          -1.589436411857605,
          4.530961036682129,
          5.149688243865967,
          -0.17554281651973724,
          3.3133349418640137,
          1.3366953134536743,
          -0.5532860159873962,
          2.1473336219787598,
          -0.37492862343788147,
          -0.1283382773399353,
          -0.7098400592803955,
          7.628917217254639,
          -1.5431697368621826,
          3.0992701053619385,
          4.197100639343262,
          -2.446434497833252,
          2.05527400970459,
          4.480529308319092,
          3.4702014923095703,
          0.01572704128921032,
          -0.4469584822654724,
          4.192137718200684,
          -0.3010128140449524,
          2.9606552124023438,
          3.409864902496338,
          -2.5740420818328857,
          6.76054573059082,
          2.9990110397338867,
          -0.4349506199359894,
          1.3931032419204712,
          -2.4243955612182617,
          4.956586837768555,
          0.46868011355400085,
          7.319162845611572,
          2.866990804672241,
          7.284380912780762,
          7.423162460327148,
          1.5584830045700073,
          5.13889741897583,
          4.395886421203613,
          -2.4737355709075928,
          5.005425930023193,
          -2.228008985519409,
          4.437917232513428,
          1.9903340339660645,
          0.9721344113349915,
          -2.424907922744751,
          -1.240569829940796,
          4.079431056976318,
          1.254973292350769,
          3.264190673828125,
          -0.8107696175575256,
          5.387118816375732,
          1.4083168506622314,
          7.229623794555664,
          2.258965015411377,
          1.8655364513397217,
          4.334245681762695,
          -1.9551820755004883,
          6.841528415679932,
          1.2398592233657837,
          2.6499345302581787,
          -2.044431209564209,
          1.3515442609786987,
          -1.4387868642807007,
          1.0741639137268066,
          4.611883640289307,
          2.8345534801483154,
          -0.6703363656997681,
          -0.7518986463546753,
          6.449248790740967,
          -0.5076051950454712,
          -1.3477381467819214,
          6.096150875091553,
          4.817656993865967,
          -1.3768333196640015
         ],
         "xaxis": "x",
         "y": [
          1.9428247213363647,
          -1.5254981517791748,
          -1.624802589416504,
          0.05754639208316803,
          -1.4406572580337524,
          2.8602824211120605,
          -3.6026620864868164,
          1.9113808870315552,
          -1.7172375917434692,
          -1.8125275373458862,
          1.1217293739318848,
          0.37735986709594727,
          -0.5797237753868103,
          1.5144870281219482,
          2.3615469932556152,
          2.461435079574585,
          1.1842342615127563,
          -0.8400330543518066,
          3.1338183879852295,
          1.1246434450149536,
          2.9975171089172363,
          0.7302694916725159,
          -1.45171320438385,
          -2.2614057064056396,
          2.6507015228271484,
          -1.7887883186340332,
          3.1911816596984863,
          1.488526701927185,
          0.872999906539917,
          2.817873477935791,
          -4.007659912109375,
          0.34827911853790283,
          2.589754819869995,
          1.787142276763916,
          2.7063558101654053,
          1.8332966566085815,
          1.8756136894226074,
          -0.0937725380063057,
          0.29487916827201843,
          -0.9541506767272949,
          -0.9374294877052307,
          -0.8568984270095825,
          3.1744744777679443,
          2.828793525695801,
          -3.4799747467041016,
          -2.1479451656341553,
          2.504366636276245,
          1.547329068183899,
          2.834425210952759,
          1.564461350440979,
          -2.2606935501098633,
          4.5559983253479,
          -3.339956760406494,
          3.742393732070923,
          1.9072052240371704,
          -0.10265722870826721,
          -1.8365442752838135,
          -2.9155781269073486,
          -0.40279895067214966,
          -3.377561092376709,
          1.7673380374908447,
          -1.5935132503509521,
          2.2418980598449707,
          3.0035839080810547,
          0.6741183996200562,
          2.8347537517547607,
          0.8208140134811401,
          0.5682798624038696,
          -2.730367422103882,
          -1.1411492824554443,
          1.9882550239562988,
          1.616729497909546,
          2.5655517578125,
          -0.6324664354324341,
          -0.08910004794597626,
          3.722238540649414,
          1.928395390510559,
          0.9513595700263977,
          -3.318962574005127,
          -1.725653052330017,
          2.883396625518799,
          0.07088272273540497,
          -1.0285379886627197,
          0.23820947110652924,
          4.96926212310791,
          0.7467595934867859,
          0.8716434240341187,
          -1.5028009414672852,
          3.208378314971924,
          -0.22946852445602417,
          0.5481879115104675,
          0.6578591465950012,
          3.651775360107422,
          -0.23764267563819885,
          -2.111600160598755,
          -3.3987507820129395,
          -1.5768793821334839,
          -3.259809970855713,
          3.5084612369537354,
          1.4618419408798218
         ],
         "yaxis": "y"
        }
       ],
       "layout": {
        "height": 600,
        "legend": {
         "title": {
          "text": "category"
         },
         "tracegroupgap": 0
        },
        "template": {
         "data": {
          "bar": [
           {
            "error_x": {
             "color": "#2a3f5f"
            },
            "error_y": {
             "color": "#2a3f5f"
            },
            "marker": {
             "line": {
              "color": "#E5ECF6",
              "width": 0.5
             },
             "pattern": {
              "fillmode": "overlay",
              "size": 10,
              "solidity": 0.2
             }
            },
            "type": "bar"
           }
          ],
          "barpolar": [
           {
            "marker": {
             "line": {
              "color": "#E5ECF6",
              "width": 0.5
             },
             "pattern": {
              "fillmode": "overlay",
              "size": 10,
              "solidity": 0.2
             }
            },
            "type": "barpolar"
           }
          ],
          "carpet": [
           {
            "aaxis": {
             "endlinecolor": "#2a3f5f",
             "gridcolor": "white",
             "linecolor": "white",
             "minorgridcolor": "white",
             "startlinecolor": "#2a3f5f"
            },
            "baxis": {
             "endlinecolor": "#2a3f5f",
             "gridcolor": "white",
             "linecolor": "white",
             "minorgridcolor": "white",
             "startlinecolor": "#2a3f5f"
            },
            "type": "carpet"
           }
          ],
          "choropleth": [
           {
            "colorbar": {
             "outlinewidth": 0,
             "ticks": ""
            },
            "type": "choropleth"
           }
          ],
          "contour": [
           {
            "colorbar": {
             "outlinewidth": 0,
             "ticks": ""
            },
            "colorscale": [
             [
              0,
              "#0d0887"
             ],
             [
              0.1111111111111111,
              "#46039f"
             ],
             [
              0.2222222222222222,
              "#7201a8"
             ],
             [
              0.3333333333333333,
              "#9c179e"
             ],
             [
              0.4444444444444444,
              "#bd3786"
             ],
             [
              0.5555555555555556,
              "#d8576b"
             ],
             [
              0.6666666666666666,
              "#ed7953"
             ],
             [
              0.7777777777777778,
              "#fb9f3a"
             ],
             [
              0.8888888888888888,
              "#fdca26"
             ],
             [
              1,
              "#f0f921"
             ]
            ],
            "type": "contour"
           }
          ],
          "contourcarpet": [
           {
            "colorbar": {
             "outlinewidth": 0,
             "ticks": ""
            },
            "type": "contourcarpet"
           }
          ],
          "heatmap": [
           {
            "colorbar": {
             "outlinewidth": 0,
             "ticks": ""
            },
            "colorscale": [
             [
              0,
              "#0d0887"
             ],
             [
              0.1111111111111111,
              "#46039f"
             ],
             [
              0.2222222222222222,
              "#7201a8"
             ],
             [
              0.3333333333333333,
              "#9c179e"
             ],
             [
              0.4444444444444444,
              "#bd3786"
             ],
             [
              0.5555555555555556,
              "#d8576b"
             ],
             [
              0.6666666666666666,
              "#ed7953"
             ],
             [
              0.7777777777777778,
              "#fb9f3a"
             ],
             [
              0.8888888888888888,
              "#fdca26"
             ],
             [
              1,
              "#f0f921"
             ]
            ],
            "type": "heatmap"
           }
          ],
          "heatmapgl": [
           {
            "colorbar": {
             "outlinewidth": 0,
             "ticks": ""
            },
            "colorscale": [
             [
              0,
              "#0d0887"
             ],
             [
              0.1111111111111111,
              "#46039f"
             ],
             [
              0.2222222222222222,
              "#7201a8"
             ],
             [
              0.3333333333333333,
              "#9c179e"
             ],
             [
              0.4444444444444444,
              "#bd3786"
             ],
             [
              0.5555555555555556,
              "#d8576b"
             ],
             [
              0.6666666666666666,
              "#ed7953"
             ],
             [
              0.7777777777777778,
              "#fb9f3a"
             ],
             [
              0.8888888888888888,
              "#fdca26"
             ],
             [
              1,
              "#f0f921"
             ]
            ],
            "type": "heatmapgl"
           }
          ],
          "histogram": [
           {
            "marker": {
             "pattern": {
              "fillmode": "overlay",
              "size": 10,
              "solidity": 0.2
             }
            },
            "type": "histogram"
           }
          ],
          "histogram2d": [
           {
            "colorbar": {
             "outlinewidth": 0,
             "ticks": ""
            },
            "colorscale": [
             [
              0,
              "#0d0887"
             ],
             [
              0.1111111111111111,
              "#46039f"
             ],
             [
              0.2222222222222222,
              "#7201a8"
             ],
             [
              0.3333333333333333,
              "#9c179e"
             ],
             [
              0.4444444444444444,
              "#bd3786"
             ],
             [
              0.5555555555555556,
              "#d8576b"
             ],
             [
              0.6666666666666666,
              "#ed7953"
             ],
             [
              0.7777777777777778,
              "#fb9f3a"
             ],
             [
              0.8888888888888888,
              "#fdca26"
             ],
             [
              1,
              "#f0f921"
             ]
            ],
            "type": "histogram2d"
           }
          ],
          "histogram2dcontour": [
           {
            "colorbar": {
             "outlinewidth": 0,
             "ticks": ""
            },
            "colorscale": [
             [
              0,
              "#0d0887"
             ],
             [
              0.1111111111111111,
              "#46039f"
             ],
             [
              0.2222222222222222,
              "#7201a8"
             ],
             [
              0.3333333333333333,
              "#9c179e"
             ],
             [
              0.4444444444444444,
              "#bd3786"
             ],
             [
              0.5555555555555556,
              "#d8576b"
             ],
             [
              0.6666666666666666,
              "#ed7953"
             ],
             [
              0.7777777777777778,
              "#fb9f3a"
             ],
             [
              0.8888888888888888,
              "#fdca26"
             ],
             [
              1,
              "#f0f921"
             ]
            ],
            "type": "histogram2dcontour"
           }
          ],
          "mesh3d": [
           {
            "colorbar": {
             "outlinewidth": 0,
             "ticks": ""
            },
            "type": "mesh3d"
           }
          ],
          "parcoords": [
           {
            "line": {
             "colorbar": {
              "outlinewidth": 0,
              "ticks": ""
             }
            },
            "type": "parcoords"
           }
          ],
          "pie": [
           {
            "automargin": true,
            "type": "pie"
           }
          ],
          "scatter": [
           {
            "fillpattern": {
             "fillmode": "overlay",
             "size": 10,
             "solidity": 0.2
            },
            "type": "scatter"
           }
          ],
          "scatter3d": [
           {
            "line": {
             "colorbar": {
              "outlinewidth": 0,
              "ticks": ""
             }
            },
            "marker": {
             "colorbar": {
              "outlinewidth": 0,
              "ticks": ""
             }
            },
            "type": "scatter3d"
           }
          ],
          "scattercarpet": [
           {
            "marker": {
             "colorbar": {
              "outlinewidth": 0,
              "ticks": ""
             }
            },
            "type": "scattercarpet"
           }
          ],
          "scattergeo": [
           {
            "marker": {
             "colorbar": {
              "outlinewidth": 0,
              "ticks": ""
             }
            },
            "type": "scattergeo"
           }
          ],
          "scattergl": [
           {
            "marker": {
             "colorbar": {
              "outlinewidth": 0,
              "ticks": ""
             }
            },
            "type": "scattergl"
           }
          ],
          "scattermapbox": [
           {
            "marker": {
             "colorbar": {
              "outlinewidth": 0,
              "ticks": ""
             }
            },
            "type": "scattermapbox"
           }
          ],
          "scatterpolar": [
           {
            "marker": {
             "colorbar": {
              "outlinewidth": 0,
              "ticks": ""
             }
            },
            "type": "scatterpolar"
           }
          ],
          "scatterpolargl": [
           {
            "marker": {
             "colorbar": {
              "outlinewidth": 0,
              "ticks": ""
             }
            },
            "type": "scatterpolargl"
           }
          ],
          "scatterternary": [
           {
            "marker": {
             "colorbar": {
              "outlinewidth": 0,
              "ticks": ""
             }
            },
            "type": "scatterternary"
           }
          ],
          "surface": [
           {
            "colorbar": {
             "outlinewidth": 0,
             "ticks": ""
            },
            "colorscale": [
             [
              0,
              "#0d0887"
             ],
             [
              0.1111111111111111,
              "#46039f"
             ],
             [
              0.2222222222222222,
              "#7201a8"
             ],
             [
              0.3333333333333333,
              "#9c179e"
             ],
             [
              0.4444444444444444,
              "#bd3786"
             ],
             [
              0.5555555555555556,
              "#d8576b"
             ],
             [
              0.6666666666666666,
              "#ed7953"
             ],
             [
              0.7777777777777778,
              "#fb9f3a"
             ],
             [
              0.8888888888888888,
              "#fdca26"
             ],
             [
              1,
              "#f0f921"
             ]
            ],
            "type": "surface"
           }
          ],
          "table": [
           {
            "cells": {
             "fill": {
              "color": "#EBF0F8"
             },
             "line": {
              "color": "white"
             }
            },
            "header": {
             "fill": {
              "color": "#C8D4E3"
             },
             "line": {
              "color": "white"
             }
            },
            "type": "table"
           }
          ]
         },
         "layout": {
          "annotationdefaults": {
           "arrowcolor": "#2a3f5f",
           "arrowhead": 0,
           "arrowwidth": 1
          },
          "autotypenumbers": "strict",
          "coloraxis": {
           "colorbar": {
            "outlinewidth": 0,
            "ticks": ""
           }
          },
          "colorscale": {
           "diverging": [
            [
             0,
             "#8e0152"
            ],
            [
             0.1,
             "#c51b7d"
            ],
            [
             0.2,
             "#de77ae"
            ],
            [
             0.3,
             "#f1b6da"
            ],
            [
             0.4,
             "#fde0ef"
            ],
            [
             0.5,
             "#f7f7f7"
            ],
            [
             0.6,
             "#e6f5d0"
            ],
            [
             0.7,
             "#b8e186"
            ],
            [
             0.8,
             "#7fbc41"
            ],
            [
             0.9,
             "#4d9221"
            ],
            [
             1,
             "#276419"
            ]
           ],
           "sequential": [
            [
             0,
             "#0d0887"
            ],
            [
             0.1111111111111111,
             "#46039f"
            ],
            [
             0.2222222222222222,
             "#7201a8"
            ],
            [
             0.3333333333333333,
             "#9c179e"
            ],
            [
             0.4444444444444444,
             "#bd3786"
            ],
            [
             0.5555555555555556,
             "#d8576b"
            ],
            [
             0.6666666666666666,
             "#ed7953"
            ],
            [
             0.7777777777777778,
             "#fb9f3a"
            ],
            [
             0.8888888888888888,
             "#fdca26"
            ],
            [
             1,
             "#f0f921"
            ]
           ],
           "sequentialminus": [
            [
             0,
             "#0d0887"
            ],
            [
             0.1111111111111111,
             "#46039f"
            ],
            [
             0.2222222222222222,
             "#7201a8"
            ],
            [
             0.3333333333333333,
             "#9c179e"
            ],
            [
             0.4444444444444444,
             "#bd3786"
            ],
            [
             0.5555555555555556,
             "#d8576b"
            ],
            [
             0.6666666666666666,
             "#ed7953"
            ],
            [
             0.7777777777777778,
             "#fb9f3a"
            ],
            [
             0.8888888888888888,
             "#fdca26"
            ],
            [
             1,
             "#f0f921"
            ]
           ]
          },
          "colorway": [
           "#636efa",
           "#EF553B",
           "#00cc96",
           "#ab63fa",
           "#FFA15A",
           "#19d3f3",
           "#FF6692",
           "#B6E880",
           "#FF97FF",
           "#FECB52"
          ],
          "font": {
           "color": "#2a3f5f"
          },
          "geo": {
           "bgcolor": "white",
           "lakecolor": "white",
           "landcolor": "#E5ECF6",
           "showlakes": true,
           "showland": true,
           "subunitcolor": "white"
          },
          "hoverlabel": {
           "align": "left"
          },
          "hovermode": "closest",
          "mapbox": {
           "style": "light"
          },
          "paper_bgcolor": "white",
          "plot_bgcolor": "#E5ECF6",
          "polar": {
           "angularaxis": {
            "gridcolor": "white",
            "linecolor": "white",
            "ticks": ""
           },
           "bgcolor": "#E5ECF6",
           "radialaxis": {
            "gridcolor": "white",
            "linecolor": "white",
            "ticks": ""
           }
          },
          "scene": {
           "xaxis": {
            "backgroundcolor": "#E5ECF6",
            "gridcolor": "white",
            "gridwidth": 2,
            "linecolor": "white",
            "showbackground": true,
            "ticks": "",
            "zerolinecolor": "white"
           },
           "yaxis": {
            "backgroundcolor": "#E5ECF6",
            "gridcolor": "white",
            "gridwidth": 2,
            "linecolor": "white",
            "showbackground": true,
            "ticks": "",
            "zerolinecolor": "white"
           },
           "zaxis": {
            "backgroundcolor": "#E5ECF6",
            "gridcolor": "white",
            "gridwidth": 2,
            "linecolor": "white",
            "showbackground": true,
            "ticks": "",
            "zerolinecolor": "white"
           }
          },
          "shapedefaults": {
           "line": {
            "color": "#2a3f5f"
           }
          },
          "ternary": {
           "aaxis": {
            "gridcolor": "white",
            "linecolor": "white",
            "ticks": ""
           },
           "baxis": {
            "gridcolor": "white",
            "linecolor": "white",
            "ticks": ""
           },
           "bgcolor": "#E5ECF6",
           "caxis": {
            "gridcolor": "white",
            "linecolor": "white",
            "ticks": ""
           }
          },
          "title": {
           "x": 0.05
          },
          "xaxis": {
           "automargin": true,
           "gridcolor": "white",
           "linecolor": "white",
           "ticks": "",
           "title": {
            "standoff": 15
           },
           "zerolinecolor": "white",
           "zerolinewidth": 2
          },
          "yaxis": {
           "automargin": true,
           "gridcolor": "white",
           "linecolor": "white",
           "ticks": "",
           "title": {
            "standoff": 15
           },
           "zerolinecolor": "white",
           "zerolinewidth": 2
          }
         }
        },
        "title": {
         "text": "Similar and random words for the word(s): ['crisis'] in 2D"
        },
        "width": 800,
        "xaxis": {
         "anchor": "y",
         "domain": [
          0,
          1
         ],
         "title": {
          "text": "u1"
         }
        },
        "yaxis": {
         "anchor": "x",
         "domain": [
          0,
          1
         ],
         "title": {
          "text": "u2"
         }
        }
       }
      }
     },
     "metadata": {},
     "output_type": "display_data"
    }
   ],
   "source": [
    "import plotly.express as px\n",
    "\n",
    "def plot_similar_words_2d(word, n_words, word_vectors, reducer, rnd_state = 42):\n",
    "    most_sim_words = word_vectors.most_similar(word, topn = n_words)\n",
    "    positive_words = word + [element[0] for element in most_sim_words]\n",
    "    positive_words_2d = reducer.transform(word_vectors[positive_words])\n",
    "    positive_words_2d_df = pd.DataFrame(positive_words_2d, index = positive_words, columns = [\"u1\", \"u2\"])\n",
    "    positive_words_2d_df.loc[:, \"category\"] = \"positive\"\n",
    "\n",
    "    positive_indices = [word_vectors.key_to_index[positive_word] for positive_word in positive_words]\n",
    "    negative_indices = [i for i in range(len(word_vectors)) if not(i in positive_indices)]\n",
    "    np.random.seed(rnd_state)\n",
    "    negative_words_indices = np.random.choice(negative_indices, 5 * n_words, replace = False).tolist()\n",
    "    negative_words = [word_vectors.index_to_key[negative_words_index] for negative_words_index in negative_words_indices]\n",
    "    negative_words_2d = reducer.transform(word_vectors[negative_words_indices])\n",
    "    negative_words_2d_df = pd.DataFrame(negative_words_2d, index = negative_words, columns = [\"u1\", \"u2\"])\n",
    "    negative_words_2d_df.loc[:, \"category\"] = \"negative\"\n",
    "\n",
    "    words_2d = pd.concat((positive_words_2d_df, negative_words_2d_df))\n",
    "\n",
    "    fig = px.scatter(words_2d, x = \"u1\", y = \"u2\", color = \"category\", hover_name = words_2d.index, width = 800, height = 600, title = f\"Similar and random words for the word(s): {word} in 2D\")\n",
    "    return fig\n",
    "\n",
    "fig = plot_similar_words_2d([\"crisis\"], 20, google_word_vectors, dim_reducer)\n",
    "fig.show()"
   ]
  },
  {
   "cell_type": "markdown",
   "metadata": {},
   "source": [
    "### Performance evaluation for Word2Vec models\n",
    "\n",
    "Two popular choices for evaluating the quality of word vectors are predefined analogy tasks as well as similarity tasks. The latter compute the correlation of pairwise word similarities made by humans and the ones derived by word embeddings. See below some examples for these tasks. In addition, another way to examine the quality of word embeddings is to use them for common natural language processing tasks and quantify the outcome. One of the most common sets of tasks is provided by the [General Language Understanding Evaluation (GLUE)](https://gluebenchmark.com/). However, if we are interested in domain specific performance, these considerations may not be most important to us. Given we train our word vectors mostly on, e.g., financial documents, it may be not surprising that these word embeddings may lack in their usage for general language understanding. However, they might be better in the representation of domain specific content. "
   ]
  },
  {
   "cell_type": "code",
   "execution_count": 35,
   "metadata": {},
   "outputs": [
    {
     "name": "stdout",
     "output_type": "stream",
     "text": [
      "--------------------------------------------------\n",
      "Examples for word analogy tasks:\n",
      "--------------------------------------------------\n",
      "Chisinau Moldova Ljubljana Slovenia\n",
      "\n",
      "father mother son daughter\n",
      "\n",
      "he she father mother\n",
      "\n",
      "smart smartest quick quickest\n",
      "\n",
      "Korea Korean Netherlands Dutch\n",
      "\n",
      "--------------------------------------------------\n",
      "Examples for human similarity:\n",
      "--------------------------------------------------\n",
      "unhappy\tmad\t5.95\n",
      "\n",
      "whiskey\tchampagne\t5.33\n",
      "\n",
      "liquor\tcentury\t0.4\n",
      "\n",
      "gun\tfur\t0.3\n",
      "\n",
      "attach\tjoin\t7.75\n",
      "\n"
     ]
    }
   ],
   "source": [
    "from gensim.test.utils import datapath\n",
    "\n",
    "with open(datapath(\"questions-words.txt\"), \"r\") as file:\n",
    "    lines = file.readlines()\n",
    "\n",
    "print(\"-\"*50)\n",
    "print(\"Examples for word analogy tasks:\")\n",
    "print(\"-\"*50)\n",
    "\n",
    "rng = default_rng(seed = 42)\n",
    "rnd_idx = rng.choice(len(lines), size=5, replace=False)\n",
    "for i, line in enumerate(lines):\n",
    "    if i in rnd_idx:\n",
    "        print(line)\n",
    "\n",
    "with open(datapath(\"simlex999.txt\"), \"r\") as file:\n",
    "    lines = file.readlines()\n",
    "\n",
    "print(\"-\"*50)\n",
    "print(\"Examples for human similarity:\")\n",
    "print(\"-\"*50)\n",
    "rnd_idx = rng.choice(len(lines), size=5, replace=False)\n",
    "for i, line in enumerate(lines):\n",
    "    if i in rnd_idx:\n",
    "        print(line)"
   ]
  }
 ],
 "metadata": {
  "kernelspec": {
   "display_name": ".venv",
   "language": "python",
   "name": "python3"
  },
  "language_info": {
   "codemirror_mode": {
    "name": "ipython",
    "version": 3
   },
   "file_extension": ".py",
   "mimetype": "text/x-python",
   "name": "python",
   "nbconvert_exporter": "python",
   "pygments_lexer": "ipython3",
   "version": "3.11.7"
  }
 },
 "nbformat": 4,
 "nbformat_minor": 2
}
